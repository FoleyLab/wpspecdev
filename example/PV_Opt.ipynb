{
 "cells": [
  {
   "cell_type": "markdown",
   "metadata": {
    "colab_type": "text",
    "id": "view-in-github"
   },
   "source": [
    "<a href=\"https://colab.research.google.com/github/FoleyLab/wptherml/blob/master/PV_Opt.ipynb\" target=\"_parent\"><img src=\"https://colab.research.google.com/assets/colab-badge.svg\" alt=\"Open In Colab\"/></a>"
   ]
  },
  {
   "cell_type": "markdown",
   "metadata": {
    "colab_type": "text",
    "id": "WJ1RdTo8UzHq"
   },
   "source": [
    "This notebook demonstrates the global optimization of a 2-layer AR coating for a 2 $\\mu m$ silicon\n",
    "solar cell and should reproduce the efficiency reported in Table III ($L = 2$) in \"Accelerating the discovery of multi-layer nanostructures with analytic differentiation of the transfer matrix equations\" by J. F. Varner, D. Wert, A. Matari, R. Nofal, and J. J. Foley IV."
   ]
  },
  {
   "cell_type": "code",
   "execution_count": null,
   "metadata": {
    "colab": {
     "base_uri": "https://localhost:8080/",
     "height": 121
    },
    "colab_type": "code",
    "id": "JIcj9SajU0yh",
    "outputId": "c7f39bdf-ea71-43ae-e21c-9bd5dc7a5775"
   },
   "outputs": [],
   "source": [
    "!pip install wptherml==1.11b0"
   ]
  },
  {
   "cell_type": "code",
   "execution_count": 2,
   "metadata": {
    "colab": {
     "base_uri": "https://localhost:8080/",
     "height": 67
    },
    "colab_type": "code",
    "id": "ZCKQmOp4VBgX",
    "outputId": "c305d69c-e98b-4c2b-8644-8d3362dc9a79"
   },
   "outputs": [
    {
     "name": "stdout",
     "output_type": "stream",
     "text": [
      "  Gradient will be taken with respect to all layers! \n",
      " Temperature not specified!\n",
      " Proceeding with default T = 300 K\n"
     ]
    },
    {
     "data": {
      "text/plain": [
       "<matplotlib.legend.Legend at 0x7fb8f949f210>"
      ]
     },
     "execution_count": 2,
     "metadata": {},
     "output_type": "execute_result"
    },
    {
     "data": {
      "image/png": "[encoded data removed]",
      "text/plain": [
       "<Figure size 432x288 with 1 Axes>"
      ]
     },
     "metadata": {
      "needs_background": "light"
     },
     "output_type": "display_data"
    }
   ],
   "source": [
    "from wptherml.wpml import multilayer\n",
    "from wptherml.datalib import datalib\n",
    "from matplotlib import pyplot as plt\n",
    "from scipy.optimize import minimize\n",
    "from scipy.optimize import basinhopping\n",
    "import numpy as np\n",
    "import time\n",
    "\n",
    "### Define a 2 micron silicon slab with a SiO2 and AlN coating...\n",
    "### we will optimize over the SiO2 and AlN coatings only.\n",
    "### Si with 2-layer AR coating\n",
    "dof2_structure = {\n",
    "        'Material_List' : ['Air', 'AlN','SiO2', 'Si','Air'],\n",
    "        ### Thicknesses just chosen arbitrarily, replace with \"optimal\" values\n",
    "        'Thickness_List': [0, 10.14e-9, 35.70e-9, 2000e-9, 0],\n",
    "        'Lambda_List': [300e-9, 4000e-9, 1000]\n",
    "        }\n",
    "\n",
    "pv_2l = multilayer(dof2_structure)\n",
    "plt.plot(pv_2l.lambda_array*1e9, pv_2l.emissivity_array, 'blue', label='Si + 2L')\n",
    "plt.xlim(300,900)\n",
    "plt.ylabel('Absorptivity (%)')\n",
    "plt.xlabel('Wavelength ($nm$)')\n",
    "plt.legend()"
   ]
  },
  {
   "cell_type": "code",
   "execution_count": 3,
   "metadata": {},
   "outputs": [
    {
     "name": "stdout",
     "output_type": "stream",
     "text": [
      "  Conversion efficiency of bare Si+2L 7.878227632216832\n"
     ]
    }
   ],
   "source": [
    "pv_2l.pv_conversion_efficiency()\n",
    "\n",
    "print(\"  Conversion efficiency of bare Si+2L\",pv_2l.conversion_efficiency_val*100)"
   ]
  },
  {
   "cell_type": "code",
   "execution_count": null,
   "metadata": {},
   "outputs": [],
   "source": [
    "l1 = np.linspace(1e-9, 400e-9, 10)\n",
    "l2 = np.linspace(1e-9, 400e-9, 20)\n",
    "\n",
    "for la in l1:\n",
    "    for lb in l2:\n",
    "        pv_2l"
   ]
  },
  {
   "cell_type": "code",
   "execution_count": null,
   "metadata": {
    "colab": {
     "base_uri": "https://localhost:8080/",
     "height": 1000
    },
    "colab_type": "code",
    "id": "ma01f7npUzHt",
    "outputId": "9abe5177-f4ce-4de2-f2be-7cbd39f58c7c"
   },
   "outputs": [],
   "source": [
    "\n",
    "### given an array of thicknesses of the AR layers, update\n",
    "### the structure and compute its conversion efficiency\n",
    "def update_multilayer(x):\n",
    "    for i in range(0,len(x)):\n",
    "        cc.d[i+1] = x[i]*1e-9\n",
    "    ### now we have the new structure, update fresnel quantities\n",
    "    cc.fresnel()\n",
    "    ### now we have new emissivity, update thermal emission\n",
    "    cc.pv_conversion_efficiency()\n",
    "\n",
    "    ### return negative of luminous efficiency\n",
    "    return -cc.conversion_efficiency_val*100\n",
    "\n",
    "### given an array of thicknesses of the AR layers, update\n",
    "### the structure and compute the gradient vector of conversion efficiency wrt AR layer thicknesses\n",
    "def analytic_grad(x0):\n",
    "    cur = update_multilayer(x0)\n",
    "    cc.fresnel_prime()\n",
    "    cc.pv_conversion_efficiency_prime()\n",
    "    g = cc.conversion_efficiency_grad\n",
    "    ### return the negative of the gradient scaled by 10^-9 \n",
    "    ### will make step-size more reasonable\n",
    "    return -g*1e-9\n",
    "\n",
    "### This is a finite-difference version of the gradient\n",
    "### which may be called by SuperFunc if one wants to compare it\n",
    "### to analytic_grad\n",
    "def BuildGradient(x0):\n",
    "    dim = len(x0)\n",
    "    h0 = 0.1e-9*np.ones(dim)\n",
    "    g = np.zeros(dim)\n",
    "    for i in range(0,dim):\n",
    "        xpass = np.copy(x0)\n",
    "        fx = x0[i] + h0[i]\n",
    "        bx = x0[i] - h0[i]\n",
    "        xpass[i] = fx\n",
    "        efx = update_multilayer(xpass)\n",
    "        xpass[i] = bx\n",
    "        ebx = update_multilayer(xpass)\n",
    "\n",
    "        run = 2*h0[i]\n",
    "        g[i] = (efx-ebx)/run\n",
    "    return g\n",
    "\n",
    "### function that gets efficiency and gradient given an array \n",
    "### of AR layer thicknesses\n",
    "def SuperFunc(x):\n",
    "    en = update_multilayer(x)\n",
    "    gr = analytic_grad(x)\n",
    "    return en, gr\n",
    "\n",
    "### prints efficiency and time\n",
    "def print_fun(x, f, accepted):\n",
    "    c_time = time.time()\n",
    "    print(f,\",\",c_time)\n",
    "\n",
    "### called by the basin hopping algorithm to initiate new\n",
    "### local optimizations\n",
    "def my_take_step(x):\n",
    "    xnew = np.copy(x)\n",
    "    dim = len(xnew)\n",
    "    for i in range(0,dim):\n",
    "        rn = 50.*np.abs(np.random.randn())\n",
    "        xnew[i] = rn\n",
    "    return xnew\n",
    "\n",
    "### bounds on basin hopping solutions\n",
    "class MyBounds(object):\n",
    "      ### note xmax and xmin need to have as many elements as there are thicknesses that are varied\n",
    "    def __init__(self, xmax=49.01*np.ones(length), xmin=0.01*np.ones(length)):\n",
    "        self.xmax = np.array(xmax)\n",
    "        self.xmin = np.array(xmin)\n",
    "    def __call__(self, **kwargs):\n",
    "        x = kwargs[\"x_new\"]\n",
    "        tmax = bool(np.all(x <= self.xmax))\n",
    "        tmin = bool(np.all(x >= self.xmin))\n",
    "        return tmax and tmin\n",
    "\n",
    "# the bounds for L-BFGS-B updates!\n",
    "bfgs_xmin = 0.01*np.ones(length)\n",
    "bfgs_xmax = 49.01*np.ones(length)\n",
    "\n",
    "# rewrite the bounds in the way required by L-BFGS-B\n",
    "bfgs_bounds = [(low, high) for low, high in zip(bfgs_xmin, bfgs_xmax)]\n",
    "\n",
    "### arguments for basin hopping algorithm\n",
    "minimizer_kwargs = {\"method\": \"L-BFGS-B\", \"jac\": True, \"bounds\": bfgs_bounds}\n",
    "mybounds = MyBounds()\n",
    "\n",
    "### initial guess for AR layer thicknesses!\n",
    "xs = np.ones(length)*20.\n",
    "\n",
    "### call basin hopping!\n",
    "ret = basinhopping(SuperFunc, xs, minimizer_kwargs=minimizer_kwargs, niter=100, take_step=my_take_step, callback=print_fun, accept_test=mybounds)\n",
    "\n",
    "### print optimimal result!\n",
    "print(ret.x)\n",
    "print(update_multilayer(ret.x))\n",
    "\n"
   ]
  },
  {
   "cell_type": "code",
   "execution_count": null,
   "metadata": {
    "colab": {},
    "colab_type": "code",
    "id": "RT8iIR5LUzHz"
   },
   "outputs": [],
   "source": []
  }
 ],
 "metadata": {
  "colab": {
   "include_colab_link": true,
   "name": "PV_Opt.ipynb",
   "provenance": []
  },
  "kernelspec": {
   "display_name": "Python 3 (ipykernel)",
   "language": "python",
   "name": "python3"
  },
  "language_info": {
   "codemirror_mode": {
    "name": "ipython",
    "version": 3
   },
   "file_extension": ".py",
   "mimetype": "text/x-python",
   "name": "python",
   "nbconvert_exporter": "python",
   "pygments_lexer": "ipython3",
   "version": "3.7.12"
  }
 },
 "nbformat": 4,
 "nbformat_minor": 1
}
