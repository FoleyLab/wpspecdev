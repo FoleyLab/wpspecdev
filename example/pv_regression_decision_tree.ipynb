{
 "cells": [
  {
   "cell_type": "code",
   "execution_count": 1,
   "id": "c8563119",
   "metadata": {},
   "outputs": [
    {
     "data": {
      "text/plain": [
       "DecisionTreeRegressor()"
      ]
     },
     "execution_count": 1,
     "metadata": {},
     "output_type": "execute_result"
    }
   ],
   "source": [
    "from numpy import sqrt\n",
    "from numpy import loadtxt\n",
    "import numpy as np\n",
    "from pandas import read_csv\n",
    "from sklearn.model_selection import train_test_split\n",
    "from tensorflow.keras import Sequential\n",
    "from tensorflow.keras.layers import Dense\n",
    "import matplotlib.pyplot as plt\n",
    "\n",
    "\n",
    "dataset = loadtxt('pv_large_4d_sample.csv', delimiter=',')\n",
    "feature_names = ['d1', 'd2', 'd3', 'd4', 'eta']\n",
    "\n",
    "\n",
    "#df.columns = feature_names\n",
    "#print(df.head())\n",
    "\n",
    "#df = df.rename(columns={'eta': 'efficiency'})\n",
    "#print(df.describe())\n",
    "\n",
    "\n",
    "#Split into features and target (Price)\n",
    "#X = df.drop('efficiency', axis = 1)\n",
    "#y = df['efficiency']\n",
    "X = dataset[:,0:4]\n",
    "y = dataset[:,4]\n",
    "\n",
    "# split into train and test datasets\n",
    "X_train, X_test, y_train, y_test = train_test_split(X, y, test_size=0.33)\n",
    "######################################################################\n",
    "\n",
    "from sklearn.tree import DecisionTreeRegressor\n",
    "from sklearn.metrics import mean_squared_error, mean_absolute_error\n",
    "\n",
    "############################################################\n",
    "### Decision tree\n",
    "tree = DecisionTreeRegressor()\n",
    "tree.fit(X_train, y_train)\n",
    "\n",
    "\n"
   ]
  },
  {
   "cell_type": "code",
   "execution_count": 3,
   "id": "096250a9",
   "metadata": {},
   "outputs": [
    {
     "name": "stdout",
     "output_type": "stream",
     "text": [
      "40000\n",
      "1.1522938367723938\n"
     ]
    }
   ],
   "source": [
    "dataset2 = loadtxt('pv_4_layer.csv', delimiter=',')\n",
    "\n",
    "X_test = dataset2[:,0:4]/200.\n",
    "y_expected = dataset2[:,4]\n",
    "\n",
    "predictions = tree.predict(X_test)\n",
    "error=0.\n",
    "print(len(y_expected))\n",
    "idx = 0\n",
    "for i in range(1, 199):\n",
    "    for j in range(1, 199):\n",
    "        idx_i_f = (i+1)*200 + j\n",
    "        idx_i_b = (i-1)*200 + j\n",
    "        idx_j_f = i*200 + j + 1\n",
    "        idx_j_b = i*200 + j - 1\n",
    "        real_grad_j = (y_expected[idx_j_f] - y_expected[idx_j_b])/2e-9\n",
    "        real_grad_i = (y_expected[idx_i_f] - y_expected[idx_i_b])/2e-9\n",
    "        norm = np.sqrt(real_grad_j **2 + real_grad_i ** 2)\n",
    "        nn_grad_j = (predictions[idx_j_f] - predictions[idx_j_b])/2e-9\n",
    "        nn_grad_i = (predictions[idx_i_f] - predictions[idx_i_b])/2e-9\n",
    "        error += np.sqrt( (real_grad_j - nn_grad_j)**2 + (real_grad_i - nn_grad_i)**2 ) / norm\n",
    "        \n",
    "#print(len(y_expected))\n",
    "#for i in range(0, len(y_expected)):\n",
    "#    error += np.abs(predictions[i]-y_expected[i])\n",
    "print(error/len(y_expected))\n"
   ]
  },
  {
   "cell_type": "code",
   "execution_count": 135,
   "id": "34c0c616",
   "metadata": {},
   "outputs": [],
   "source": [
    "##############################################\n",
    "#Random forest.\n",
    "#Increase number of tress and see the effect\n",
    "from sklearn.ensemble import RandomForestRegressor\n",
    "model = RandomForestRegressor(n_estimators = 30, random_state=30)\n",
    "model.fit(X_train, y_train)\n",
    "\n",
    "#y_pred_RF = model.predict(X_test)\n",
    "predictions = model.predict(X_test)\n",
    "base_str = \"4 49 \"\n",
    "f = open('rf_pv_4_layer_4d.dat', 'w')\n",
    "for i in range(0, 200):\n",
    "    for j in range(0, 200):\n",
    "        idx = i*200+j\n",
    "        print_str = base_str + str(X_test[idx,2]*200) + \" \" + str(X_test[idx,3]*200) + \" \" \n",
    "        p_str = str(predictions[idx])\n",
    "        print_str += p_str[1:8] + \"\\n\"\n",
    "        f.write(print_str)\n",
    "    f.write(\"\\n\")\n",
    "    \n",
    "f.close()\n",
    "#mse_RF = mean_squared_error(y_test, y_pred_RF)\n",
    "#mae_RF = mean_absolute_error(y_test, y_pred_RF)\n",
    "#print('Mean squared error using Random Forest: ', mse_RF)\n",
    "#print('Mean absolute error Using Random Forest: ', mae_RF)\n",
    "\n",
    "\n",
    "\n",
    "##Feature ranking...\n",
    "#import pandas as pd\n",
    "#feature_list = list(X.columns)\n",
    "#feature_imp = pd.Series(model.feature_importances_, index=feature_list).sort_values(ascending=False)\n",
    "#print(feature_imp)"
   ]
  },
  {
   "cell_type": "code",
   "execution_count": null,
   "id": "a23c730d",
   "metadata": {},
   "outputs": [],
   "source": []
  }
 ],
 "metadata": {
  "kernelspec": {
   "display_name": "Python 3 (ipykernel)",
   "language": "python",
   "name": "python3"
  },
  "language_info": {
   "codemirror_mode": {
    "name": "ipython",
    "version": 3
   },
   "file_extension": ".py",
   "mimetype": "text/x-python",
   "name": "python",
   "nbconvert_exporter": "python",
   "pygments_lexer": "ipython3",
   "version": "3.7.12"
  }
 },
 "nbformat": 4,
 "nbformat_minor": 5
}
