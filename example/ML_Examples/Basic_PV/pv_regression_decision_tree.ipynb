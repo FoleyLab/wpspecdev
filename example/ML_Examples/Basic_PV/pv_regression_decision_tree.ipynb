{
 "cells": [
  {
   "cell_type": "code",
   "execution_count": 15,
   "id": "c8563119",
   "metadata": {},
   "outputs": [
    {
     "data": {
      "text/plain": [
       "DecisionTreeRegressor()"
      ]
     },
     "execution_count": 15,
     "metadata": {},
     "output_type": "execute_result"
    }
   ],
   "source": [
    "from numpy import sqrt\n",
    "from numpy import loadtxt\n",
    "import numpy as np\n",
    "from pandas import read_csv\n",
    "from sklearn.model_selection import train_test_split\n",
    "from tensorflow.keras import Sequential\n",
    "from tensorflow.keras.layers import Dense\n",
    "import matplotlib.pyplot as plt\n",
    "\n",
    "\n",
    "dataset = loadtxt('pv_large_4d_sample.csv', delimiter=',')\n",
    "feature_names = ['d1', 'd2', 'd3', 'd4', 'd5', 'd6', 'd7', 'd8','d9', 'd10', 'd11', 'd12', 'd13', 'd14', 'd1eta']\n",
    "\n",
    "\n",
    "#df.columns = feature_names\n",
    "#print(df.head())\n",
    "\n",
    "#df = df.rename(columns={'eta': 'efficiency'})\n",
    "#print(df.describe())\n",
    "\n",
    "\n",
    "#Split into features and target (Price)\n",
    "#X = df.drop('efficiency', axis = 1)\n",
    "#y = df['efficiency']\n",
    "X = dataset[:,0:4]\n",
    "y = dataset[:,4]\n",
    "\n",
    "# split into train and test datasets\n",
    "X_train, X_test, y_train, y_test = train_test_split(X, y, test_size=0.33)\n",
    "######################################################################\n",
    "\n",
    "from sklearn.tree import DecisionTreeRegressor\n",
    "from sklearn.metrics import mean_squared_error, mean_absolute_error\n",
    "\n",
    "############################################################\n",
    "### Decision tree\n",
    "tree = DecisionTreeRegressor()\n",
    "tree.fit(X_train, y_train)\n",
    "\n",
    "\n"
   ]
  },
  {
   "cell_type": "code",
   "execution_count": 16,
   "id": "096250a9",
   "metadata": {},
   "outputs": [
    {
     "name": "stdout",
     "output_type": "stream",
     "text": [
      "40000\n"
     ]
    }
   ],
   "source": [
    "dataset2 = loadtxt('pv_4_layer.csv', delimiter=',')\n",
    "\n",
    "X_test = dataset2[:,0:4]/200.\n",
    "y_expected = dataset2[:,4]\n",
    "\n",
    "predictions = tree.predict(X_test)\n",
    "\n",
    "print(len(y_expected))\n",
    "#for i in range(0, len(y_expected)):\n",
    "#    error += np.abs(predictions[i]-y_expected[i])\n"
   ]
  },
  {
   "cell_type": "code",
   "execution_count": 3,
   "id": "548aed4b",
   "metadata": {},
   "outputs": [
    {
     "name": "stdout",
     "output_type": "stream",
     "text": [
      "1.73 ms ± 12.4 µs per loop (mean ± std. dev. of 7 runs, 1000 loops each)\n"
     ]
    }
   ],
   "source": [
    "import timeit\n",
    "%timeit tree.predict(X_test)\n"
   ]
  },
  {
   "cell_type": "code",
   "execution_count": 4,
   "id": "2732d295",
   "metadata": {},
   "outputs": [
    {
     "name": "stdout",
     "output_type": "stream",
     "text": [
      "4.35e-08\n",
      "7.675e-10\n"
     ]
    }
   ],
   "source": [
    "print(1.74e-3/40000)\n",
    "print(30.7e-6/40000)"
   ]
  },
  {
   "cell_type": "code",
   "execution_count": 17,
   "id": "df67d8b2",
   "metadata": {},
   "outputs": [
    {
     "name": "stdout",
     "output_type": "stream",
     "text": [
      "40000\n",
      "0.8958659623012598\n"
     ]
    }
   ],
   "source": [
    "error=0.\n",
    "print(len(y_expected))\n",
    "idx = 0\n",
    "for i in range(1, 199):\n",
    "    for j in range(1, 199):\n",
    "        idx_i_f = (i+1)*200 + j\n",
    "        idx_i_b = (i-1)*200 + j\n",
    "        idx_j_f = i*200 + j + 1\n",
    "        idx_j_b = i*200 + j - 1\n",
    "        real_grad_j = (y_expected[idx_j_f] - y_expected[idx_j_b])/2e-9\n",
    "        real_grad_i = (y_expected[idx_i_f] - y_expected[idx_i_b])/2e-9\n",
    "        norm = np.sqrt(real_grad_j **2 + real_grad_i ** 2)\n",
    "        nn_grad_j = (predictions[idx_j_f] - predictions[idx_j_b])/2e-9\n",
    "        nn_grad_i = (predictions[idx_i_f] - predictions[idx_i_b])/2e-9\n",
    "        error += (real_grad_j * nn_grad_j + real_grad_i * nn_grad_i) / norm ** 2\n",
    "        #error +=  (np.abs(real_grad_j - nn_grad_j) + np.abs(real_grad_i - nn_grad_i))  / norm\n",
    "print(error/len(y_expected))\n",
    "     "
   ]
  },
  {
   "cell_type": "code",
   "execution_count": 11,
   "id": "a23c730d",
   "metadata": {},
   "outputs": [],
   "source": [
    "exact_max = [0, 0, 0,0,0]\n",
    "rf_max = [0, 0, 0, 0, 0]\n",
    "idx=0\n",
    "for i in range(0, len(y_expected)):\n",
    "    if y_expected[idx]>exact_max[4]:\n",
    "        exact_max[:4] = X_test[idx]*200\n",
    "        exact_max[4] = y_expected[idx]\n",
    "    if predictions[idx]>rf_max[4]:\n",
    "        rf_max[:4] = X_test[idx]*200\n",
    "        rf_max[4] = predictions[idx]\n",
    "    idx += 1\n",
    "\n"
   ]
  },
  {
   "cell_type": "code",
   "execution_count": 14,
   "id": "70708aec",
   "metadata": {},
   "outputs": [
    {
     "name": "stdout",
     "output_type": "stream",
     "text": [
      "[ 0.00000000e+00  0.00000000e+00  1.10000000e+01 -3.00000000e+00\n",
      "  5.74994505e-05]\n",
      "[4.0, 49.0, 14.000000000000002, 10.0, 0.08602758389050577]\n"
     ]
    }
   ],
   "source": [
    "print(np.array(exact_max)-np.array(rf_max))\n",
    "print(rf_max)"
   ]
  },
  {
   "cell_type": "code",
   "execution_count": null,
   "id": "ca128cf8",
   "metadata": {},
   "outputs": [],
   "source": []
  }
 ],
 "metadata": {
  "kernelspec": {
   "display_name": "Python 3 (ipykernel)",
   "language": "python",
   "name": "python3"
  },
  "language_info": {
   "codemirror_mode": {
    "name": "ipython",
    "version": 3
   },
   "file_extension": ".py",
   "mimetype": "text/x-python",
   "name": "python",
   "nbconvert_exporter": "python",
   "pygments_lexer": "ipython3",
   "version": "3.7.11"
  }
 },
 "nbformat": 4,
 "nbformat_minor": 5
}
