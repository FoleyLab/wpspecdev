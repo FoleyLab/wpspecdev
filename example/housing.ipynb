{
 "cells": [
  {
   "cell_type": "code",
   "execution_count": 1,
   "id": "1a70169e",
   "metadata": {},
   "outputs": [],
   "source": [
    "import pandas\n",
    "from keras.models import Sequential\n",
    "from keras.layers import Dense\n",
    "#from scikeras.wrappers import KerasRegressor\n",
    "from keras.wrappers.scikit_learn import KerasRegressor\n",
    "from sklearn.model_selection import cross_val_score\n",
    "from sklearn.model_selection import KFold\n",
    "from sklearn.preprocessing import StandardScaler\n",
    "from sklearn.pipeline import Pipeline"
   ]
  },
  {
   "cell_type": "code",
   "execution_count": null,
   "id": "aa1a65e2",
   "metadata": {},
   "outputs": [],
   "source": [
    "#load dataset\n",
    "dataframe = pandas.read_csv(\"housing.csv\", delim_whitespace=True, header=None)\n",
    "dataset = dataframe.values\n",
    "# split into input (X) and output (Y) variables\n",
    "X = dataset[:,0:13]\n",
    "Y = dataset[:,13]"
   ]
  },
  {
   "cell_type": "code",
   "execution_count": null,
   "id": "13b78287",
   "metadata": {},
   "outputs": [],
   "source": [
    "# define base model\n",
    "def baseline_model():\n",
    "    # create model\n",
    "    model = Sequential()\n",
    "    model.add(Dense(13, input_dim=13, kernel_initializer='normal', activation='relu'))\n",
    "    model.add(Dense(1, kernel_initializer='normal'))\n",
    "    # Compile model\n",
    "    model.compile(loss='mean_squared_error', optimizer='adam')\n",
    "    return model"
   ]
  },
  {
   "cell_type": "code",
   "execution_count": null,
   "id": "8dac23e6",
   "metadata": {},
   "outputs": [],
   "source": [
    "estimator = KerasRegressor(build_fn=baseline_model, epochs=100, batch_size=5, verbose=0)\n",
    "kfold = KFold(n_splits=10)\n",
    "results = cross_val_score(estimator, X, Y, cv=kfold)\n",
    "print(\"Baseline: %.2f (%.2f) MSE\" % (results.mean(), results.std()))"
   ]
  },
  {
   "cell_type": "code",
   "execution_count": null,
   "id": "7c483502",
   "metadata": {},
   "outputs": [],
   "source": [
    "%store -r pv_eff"
   ]
  },
  {
   "cell_type": "code",
   "execution_count": null,
   "id": "7afc0f97",
   "metadata": {},
   "outputs": [],
   "source": [
    "print(X[:2,:])\n",
    "print(Y[:2])\n",
    "print(len(pv_eff))"
   ]
  },
  {
   "cell_type": "code",
   "execution_count": 40,
   "id": "61e277f6",
   "metadata": {},
   "outputs": [
    {
     "name": "stdout",
     "output_type": "stream",
     "text": [
      "  Gradient will be taken with respect to all layers! \n",
      " Temperature not specified!\n",
      " Proceeding with default T = 300 K\n"
     ]
    },
    {
     "data": {
      "image/png": "[encoded data removed]",
      "text/plain": [
       "<Figure size 432x288 with 1 Axes>"
      ]
     },
     "metadata": {
      "needs_background": "light"
     },
     "output_type": "display_data"
    }
   ],
   "source": [
    "from numpy import random\n",
    "from wptherml.wpml import multilayer\n",
    "from wptherml.datalib import datalib\n",
    "from matplotlib import pyplot as plt\n",
    "from scipy.optimize import minimize\n",
    "from scipy.optimize import basinhopping\n",
    "import numpy as np\n",
    "import time\n",
    "\n",
    "### Define a 2 micron silicon slab with a SiO2 and AlN coating...\n",
    "### we will optimize over the SiO2 and AlN coatings only.\n",
    "### Si with 2-layer AR coating\n",
    "dof2_structure = {\n",
    "        'Material_List' : ['Air', 'AlN', 'SiO2', 'AlN', 'SiO2', 'AlN', 'SiO2', 'AlN','SiO2', 'Si','Air'],\n",
    "        ### Thicknesses just chosen arbitrarily, replace with \"optimal\" values\n",
    "        'Thickness_List': [0,10.14e-9, 35.70e-9, 10.14e-9, 10.14e-9, 35.70e-9, 20e-9, 5e-9, 3e-9, 2000e-9, 0],\n",
    "        'Lambda_List': [300e-9, 4000e-9, 1000]\n",
    "        }\n",
    "\n",
    "pv_2l = multilayer(dof2_structure)\n",
    "plt.plot(pv_2l.lambda_array*1e9, pv_2l.emissivity_array, 'blue', label='Si + 2L')\n",
    "plt.xlim(300,900)\n",
    "plt.ylabel('Absorptivity (%)')\n",
    "plt.xlabel('Wavelength ($nm$)')\n",
    "plt.legend()\n",
    "\n",
    "dim = 789\n",
    "\n",
    "PV_X = np.zeros((dim,8))\n",
    "PV_Y = np.zeros(dim)\n",
    "idx = 0\n",
    "f = open('pv.csv', 'w')\n",
    "for i in range(0, dim):\n",
    "    d1 = random.uniform(1, 400)\n",
    "    d2 = random.uniform(1, 400)\n",
    "    d3 = random.uniform(1, 400)\n",
    "    d4 = random.uniform(1, 400)\n",
    "    d5 = random.uniform(1, 400)\n",
    "    d6 = random.uniform(1, 400)\n",
    "    d7 = random.uniform(1, 400)\n",
    "    d8 = random.uniform(1, 400)\n",
    "    # do two more random number draws\n",
    "    # two more set widths\n",
    "    pv_2l.d[1] = d1 * 1e-9\n",
    "    pv_2l.d[2] = d2 * 1e-9\n",
    "    pv_2l.d[3] = d3 * 1e-9\n",
    "    pv_2l.d[4] = d4 * 1e-9\n",
    "    pv_2l.d[5] = d5 * 1e-9\n",
    "    pv_2l.d[6] = d6 * 1e-9\n",
    "    pv_2l.d[7] = d7 * 1e-9\n",
    "    pv_2l.d[8] = d8 * 1e-9\n",
    "    pv_2l.fresnel()\n",
    "    pv_2l.pv_conversion_efficiency()\n",
    "    PV_X[idx,0] = d1 / 400.\n",
    "    PV_X[idx,1] = d2 / 400.\n",
    "    PV_X[idx,2] = d3 / 400.\n",
    "    PV_X[idx,3] = d4 / 400.\n",
    "    PV_X[idx,4] = d5 / 400.\n",
    "    PV_X[idx,5] = d6 / 400.\n",
    "    PV_X[idx,6] = d7 / 400.\n",
    "    PV_X[idx,7] = d8 / 400.\n",
    "    PV_Y[idx] = pv_2l.conversion_efficiency_val\n",
    "    pr_str = str(d1/400) + \",\" + str(d2/400) + \",\" + str(d3/400) + \",\"\n",
    "    pr_str += str(d4/400) + \",\" + str(d5/400) + \",\" + str(d6/400) + \",\"\n",
    "    pr_str += str(d7/400) + \",\" + str(d8/400) + \",\" + str(pv_2l.conversion_efficiency_val)\n",
    "    pr_str += \"\\n\"\n",
    "    f.write(pr_str)\n",
    "    #f.write(str(d1/400),\",\",str(d2/400),\",\",str(d3/400),\",\",str(d4/400),\",\",\n",
    "    #       str(d5/400),\",\",str(d6/400),\",\",\n",
    "    #       str(d6/400),\",\",str(d8/400),\",\",\n",
    "    #       str(pv_2l.conversion_efficiency_val))\n",
    "    idx += 1\n",
    "    \n",
    "f.close()\n",
    "        "
   ]
  },
  {
   "cell_type": "code",
   "execution_count": 15,
   "id": "4307ea32",
   "metadata": {},
   "outputs": [
    {
     "name": "stdout",
     "output_type": "stream",
     "text": [
      "[3.77450717 4.79812547 4.76017384 ... 5.729187   5.48454298 6.51403188]\n"
     ]
    }
   ],
   "source": [
    "print(PV_Y*100)"
   ]
  },
  {
   "cell_type": "code",
   "execution_count": 29,
   "id": "06e9366e",
   "metadata": {},
   "outputs": [
    {
     "name": "stdout",
     "output_type": "stream",
     "text": [
      "Epoch 1/20\n",
      "40/40 [==============================] - 0s 724us/step - loss: 0.5384 - accuracy: 0.0000e+00\n",
      "Epoch 2/20\n",
      "40/40 [==============================] - 0s 754us/step - loss: 0.4383 - accuracy: 0.0000e+00\n",
      "Epoch 3/20\n",
      "40/40 [==============================] - 0s 758us/step - loss: 0.3436 - accuracy: 0.0000e+00\n",
      "Epoch 4/20\n",
      "40/40 [==============================] - 0s 726us/step - loss: 0.2671 - accuracy: 0.0000e+00\n",
      "Epoch 5/20\n",
      "40/40 [==============================] - 0s 691us/step - loss: 0.2214 - accuracy: 0.0000e+00\n",
      "Epoch 6/20\n",
      "40/40 [==============================] - 0s 688us/step - loss: 0.2043 - accuracy: 0.0000e+00\n",
      "Epoch 7/20\n",
      "40/40 [==============================] - 0s 687us/step - loss: 0.2004 - accuracy: 0.0000e+00\n",
      "Epoch 8/20\n",
      "40/40 [==============================] - 0s 674us/step - loss: 0.1997 - accuracy: 0.0000e+00\n",
      "Epoch 9/20\n",
      "40/40 [==============================] - 0s 656us/step - loss: 0.1994 - accuracy: 0.0000e+00\n",
      "Epoch 10/20\n",
      "40/40 [==============================] - 0s 668us/step - loss: 0.1992 - accuracy: 0.0000e+00\n",
      "Epoch 11/20\n",
      "40/40 [==============================] - 0s 688us/step - loss: 0.1990 - accuracy: 0.0000e+00\n",
      "Epoch 12/20\n",
      "40/40 [==============================] - 0s 717us/step - loss: 0.1989 - accuracy: 0.0000e+00\n",
      "Epoch 13/20\n",
      "40/40 [==============================] - 0s 718us/step - loss: 0.1987 - accuracy: 0.0000e+00\n",
      "Epoch 14/20\n",
      "40/40 [==============================] - 0s 674us/step - loss: 0.1986 - accuracy: 0.0000e+00\n",
      "Epoch 15/20\n",
      "40/40 [==============================] - 0s 654us/step - loss: 0.1984 - accuracy: 0.0000e+00\n",
      "Epoch 16/20\n",
      "40/40 [==============================] - 0s 658us/step - loss: 0.1982 - accuracy: 0.0000e+00\n",
      "Epoch 17/20\n",
      "40/40 [==============================] - 0s 631us/step - loss: 0.1981 - accuracy: 0.0000e+00\n",
      "Epoch 18/20\n",
      "40/40 [==============================] - 0s 692us/step - loss: 0.1980 - accuracy: 0.0000e+00\n",
      "Epoch 19/20\n",
      "40/40 [==============================] - 0s 713us/step - loss: 0.1978 - accuracy: 0.0000e+00\n",
      "Epoch 20/20\n",
      "40/40 [==============================] - 0s 729us/step - loss: 0.1977 - accuracy: 0.0000e+00\n",
      "13/13 [==============================] - 0s 826us/step - loss: 0.1976 - accuracy: 0.0000e+00\n",
      "Accuracy: 0.00\n"
     ]
    }
   ],
   "source": [
    "# define the keras model\n",
    "model = Sequential()\n",
    "model.add(Dense(5, input_dim=5, activation='relu'))\n",
    "model.add(Dense(5, activation='relu'))\n",
    "model.add(Dense(1, activation='sigmoid'))\n",
    "# compile the keras model\n",
    "model.compile(loss='binary_crossentropy', optimizer='adam', metrics=['accuracy'])\n",
    "# fit the keras model on the dataset\n",
    "model.fit(PV_X, PV_Y, epochs=20, batch_size=10)\n",
    "# evaluate the keras model\n",
    "_, accuracy = model.evaluate(PV_X, PV_Y)\n",
    "print('Accuracy: %.2f' % (accuracy*100))"
   ]
  },
  {
   "cell_type": "code",
   "execution_count": 30,
   "id": "fb9e15ef",
   "metadata": {},
   "outputs": [
    {
     "name": "stdout",
     "output_type": "stream",
     "text": [
      "0.00022936344798122984\n"
     ]
    }
   ],
   "source": [
    "d1 = random.uniform(1, 400)\n",
    "d2 = random.uniform(1, 400)\n",
    "pv_2l.d[1] = d1 * 1e-9\n",
    "pv_2l.d[2] = d2 * 1e-9\n",
    "pv_2l.fresnel()\n",
    "pv_2l.pv_conversion_efficiency()\n",
    "X_TEST = np.array([d1 / 400., d2 / 400.])\n",
    "Y_TEST = np.array([pv_2l.conversion_efficiency_val])\n",
    "\n",
    "\n",
    "Y_GUESS = model.predict(PV_X)\n",
    "mse = (np.square(Y_GUESS - PV_Y)).mean(axis=None)\n",
    "print(mse)"
   ]
  },
  {
   "cell_type": "code",
   "execution_count": null,
   "id": "4c9ae34b",
   "metadata": {},
   "outputs": [],
   "source": [
    "# define base model\n",
    "def pv_model():\n",
    "    # create model\n",
    "    model = Sequential()\n",
    "    model.add(Dense(2, input_dim=2, kernel_initializer='normal', activation='relu'))\n",
    "    model.add(Dense(1, kernel_initializer='normal'))\n",
    "    # Compile model\n",
    "    model.compile(loss='mean_squared_error', optimizer='adam')\n",
    "    return model"
   ]
  },
  {
   "cell_type": "code",
   "execution_count": null,
   "id": "750091d9",
   "metadata": {},
   "outputs": [],
   "source": [
    "estimator = KerasRegressor(build_fn=pv_model, epochs=100, batch_size=5, verbose=0)\n",
    "kfold = KFold(n_splits=10)\n",
    "results = cross_val_score(estimator, PV_X, PV_Y, cv=kfold)\n",
    "print(\"Baseline: %.2f (%.2f) MSE\" % (results.mean(), results.std()))"
   ]
  },
  {
   "cell_type": "code",
   "execution_count": null,
   "id": "5eea4a64",
   "metadata": {},
   "outputs": [],
   "source": []
  }
 ],
 "metadata": {
  "kernelspec": {
   "display_name": "Python 3 (ipykernel)",
   "language": "python",
   "name": "python3"
  },
  "language_info": {
   "codemirror_mode": {
    "name": "ipython",
    "version": 3
   },
   "file_extension": ".py",
   "mimetype": "text/x-python",
   "name": "python",
   "nbconvert_exporter": "python",
   "pygments_lexer": "ipython3",
   "version": "3.7.12"
  }
 },
 "nbformat": 4,
 "nbformat_minor": 5
}
