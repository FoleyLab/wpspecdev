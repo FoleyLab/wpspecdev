{
 "cells": [
  {
   "cell_type": "code",
   "execution_count": 1,
   "id": "61e277f6",
   "metadata": {},
   "outputs": [
    {
     "name": "stdout",
     "output_type": "stream",
     "text": [
      "  Gradient will be taken with respect to all layers! \n",
      " Temperature not specified!\n",
      " Proceeding with default T = 300 K\n",
      "efficiency: 0.08226633443390167\n"
     ]
    },
    {
     "data": {
      "image/png": "[encoded data removed]",
      "text/plain": [
       "<Figure size 432x288 with 1 Axes>"
      ]
     },
     "metadata": {
      "needs_background": "light"
     },
     "output_type": "display_data"
    }
   ],
   "source": [
    "from numpy import random\n",
    "from wptherml.wpml import multilayer\n",
    "from wptherml.datalib import datalib\n",
    "from matplotlib import pyplot as plt\n",
    "from scipy.optimize import minimize\n",
    "from scipy.optimize import basinhopping\n",
    "import numpy as np\n",
    "import time\n",
    "\n",
    "### Define a 2 micron silicon slab with a SiO2 and AlN coating...\n",
    "### we will optimize over the SiO2 and AlN coatings only.\n",
    "### Si with 2-layer AR coating\n",
    "dof2_structure = {\n",
    "        'Material_List' : ['Air', 'AlN', 'SiO2', 'AlN','SiO2', 'Si','Air'],\n",
    "        ### Thicknesses just chosen arbitrarily, replace with \"optimal\" values\n",
    "        'Thickness_List': [0, 4e-9, 49e-9, 38e-9, 10e-9, 2000e-9, 0],\n",
    "        'Lambda_List': [300e-9, 4000e-9, 1000]\n",
    "        }\n",
    "#4nmaluminumnitride,49nmsilicondioxide,38nmaluminumnitride,10nmsilicondioxide,2000nmsilicon.\n",
    "pv_2l = multilayer(dof2_structure)\n",
    "pv_2l.pv_conversion_efficiency()\n",
    "print(\"efficiency:\",pv_2l.conversion_efficiency_val)\n",
    "plt.plot(pv_2l.lambda_array*1e9, pv_2l.emissivity_array, 'blue', label='Si + 2L')\n",
    "plt.xlim(300,900)\n",
    "plt.ylabel('Absorptivity (%)')\n",
    "plt.xlabel('Wavelength ($nm$)')\n",
    "plt.legend()\n",
    "\n",
    "def update_pv_efficiency(d1, d2, d3, d4):\n",
    "    pv_2l.d[1] = d1 * 1e-9\n",
    "    pv_2l.d[2] = d2 * 1e-9\n",
    "    pv_2l.d[3] = d3 * 1e-9\n",
    "    pv_2l.d[4] = d4 * 1e-9\n",
    "    pv_2l.fresnel()\n",
    "    pv_2l.pv_conversion_efficiency()\n",
    "    return pv_2l.conversion_efficiency_val\n"
   ]
  },
  {
   "cell_type": "code",
   "execution_count": 14,
   "id": "8fd1a571",
   "metadata": {},
   "outputs": [
    {
     "name": "stdout",
     "output_type": "stream",
     "text": [
      "0.08226633443390167\n"
     ]
    }
   ],
   "source": [
    "print(update_pv_efficiency(4, 49, 38, 10))"
   ]
  },
  {
   "cell_type": "code",
   "execution_count": 2,
   "id": "1900d909",
   "metadata": {},
   "outputs": [],
   "source": [
    "dl = np.linspace(1,200,200)\n",
    "f = open('pv_4_layer.csv', 'w')\n",
    "g = open('pv_4_layer.dat', 'w')\n",
    "base_str = \"4, 49, \"\n",
    "for da in dl:\n",
    "    for db in dl:\n",
    "        val = update_pv_efficiency(4, 49, da, db)\n",
    "        csv_str = base_str + str(da) + \", \" + str(db) + \", \" + str(val) + \"\\n\"\n",
    "        f.write(csv_str)\n",
    "        g.write(csv_str)\n",
    "    g.write(\"\\n\")\n",
    "    \n",
    "f.close()\n",
    "g.close()"
   ]
  },
  {
   "cell_type": "code",
   "execution_count": null,
   "id": "f43b9cad",
   "metadata": {},
   "outputs": [],
   "source": [
    "\n",
    "dim = 10000\n",
    "\n",
    "f = open('pv_large.csv', 'w')\n",
    "for i in range(0, dim):\n",
    "    d1, d2, d3, d4, pv_2l.conversion_efficiency_val = update_pv_efficiency(1.0, 2.0, 3.0, 4.0, rand=True)\n",
    "    #print(d1, d2, d3, d4, pv_2l.conversion_efficiency_val)\n",
    "    pr_str = str(d1) + \", \" + str(d2) + \", \" + str(d3) + \", \"\n",
    "    pr_str += str(d4) + \", \" + str(pv_2l.conversion_efficiency_val)\n",
    "    pr_str += \"\\n\"\n",
    "    f.write(pr_str)\n",
    "    \n",
    "f.close()\n",
    "        "
   ]
  }
 ],
 "metadata": {
  "kernelspec": {
   "display_name": "Python 3 (ipykernel)",
   "language": "python",
   "name": "python3"
  },
  "language_info": {
   "codemirror_mode": {
    "name": "ipython",
    "version": 3
   },
   "file_extension": ".py",
   "mimetype": "text/x-python",
   "name": "python",
   "nbconvert_exporter": "python",
   "pygments_lexer": "ipython3",
   "version": "3.7.11"
  }
 },
 "nbformat": 4,
 "nbformat_minor": 5
}
