{
 "cells": [
  {
   "cell_type": "code",
   "execution_count": 2,
   "id": "057904b7",
   "metadata": {},
   "outputs": [
    {
     "name": "stdout",
     "output_type": "stream",
     "text": [
      "read from  /Users/jonathanfoley/Code/wpspecdev/wpspecdev/data/Au_JC_RI_f.txt\n",
      " Your spectra have been computed! 😎 \n"
     ]
    },
    {
     "data": {
      "image/png": "[encoded data removed]",
      "text/plain": [
       "<Figure size 432x288 with 1 Axes>"
      ]
     },
     "metadata": {},
     "output_type": "display_data"
    },
    {
     "data": {
      "image/png": "[encoded data removed]",
      "text/plain": [
       "<Figure size 432x288 with 1 Axes>"
      ]
     },
     "metadata": {},
     "output_type": "display_data"
    },
    {
     "data": {
      "image/png": "[encoded data removed]",
      "text/plain": [
       "<Figure size 432x288 with 1 Axes>"
      ]
     },
     "metadata": {},
     "output_type": "display_data"
    },
    {
     "data": {
      "image/png": "[encoded data removed]",
      "text/plain": [
       "<Figure size 432x288 with 1 Axes>"
      ]
     },
     "metadata": {},
     "output_type": "display_data"
    }
   ],
   "source": [
    "import wpspecdev\n",
    "import numpy as np\n",
    "\n",
    "test_1_args = {\n",
    "    \"wavelength_list\": [400e-9, 800e-9, 1000],\n",
    "    \"material_list\": [\"Air\",\"Au\",\"Air\"],\n",
    "    \"thickness_list\": [0, 200e-9, 0],\n",
    "}\n",
    "\n",
    "sf = wpspecdev.SpectrumFactory()  \n",
    "test = sf.spectrum_factory('Tmm', test_1_args)\n",
    "\n",
    "test.render_color(\"Tritanopia\", colorblindness=\"Tritanopia\")\n",
    "test.render_color(\"Deuteranopia\", colorblindness=\"Deuteranopia\")\n",
    "test.render_color(\"Protanopia\", colorblindness=\"Protanopia\")\n",
    "test.render_color(\"Full Color Vision\", colorblindness=\"False\")\n"
   ]
  },
  {
   "cell_type": "code",
   "execution_count": 2,
   "id": "3aeabcd8",
   "metadata": {},
   "outputs": [],
   "source": [
    "thickness = 100e-9\n"
   ]
  },
  {
   "cell_type": "code",
   "execution_count": 4,
   "id": "40055cc3",
   "metadata": {},
   "outputs": [
    {
     "name": "stdout",
     "output_type": "stream",
     "text": [
      "[4.00000000e-07 4.44444444e-07 4.88888889e-07 5.33333333e-07\n",
      " 5.77777778e-07 6.22222222e-07 6.66666667e-07 7.11111111e-07\n",
      " 7.55555556e-07 8.00000000e-07]\n",
      "[2.4+0.j 2.4+0.j 2.4+0.j 2.4+0.j 2.4+0.j 2.4+0.j 2.4+0.j 2.4+0.j 2.4+0.j\n",
      " 2.4+0.j]\n"
     ]
    }
   ],
   "source": [
    "sf = wpspecdev.SpectrumFactory()\n",
    "mt = sf.spectrum_factory('Tmm', thickness)\n",
    "print(mt.wavelength_array)\n",
    "print(mt.TiO2())"
   ]
  },
  {
   "cell_type": "code",
   "execution_count": null,
   "id": "3ac3cfaa",
   "metadata": {},
   "outputs": [],
   "source": [
    "# row index specifies wavelength, column index specifies layer\n",
    "mt._refractive_index_array[0, 2]\n",
    "\n",
    "def compute_dm(wl_idx, layer_idx, angle, polarization, _refractive_index_array):\n",
    "        \n",
    "    \"\"\" compute the D and D_inv matrices for each layer and wavelength\n",
    "        \n",
    "            Attributes\n",
    "            ----------\n",
    "                refractive_index_array\n",
    "                \n",
    "                polarization\n",
    "                \n",
    "                _cos_of_refraction_angle_array\n",
    "                \n",
    "                _dm\n",
    "                \n",
    "                _dim\n",
    "                \n",
    "                \n",
    "            Returns\n",
    "            -------\n",
    "            None\n",
    "    \"\"\"\n",
    "    D = np.zeros((2,2),dtype=complex)\n",
    "    if (polarization == \"s\"):\n",
    "        D[0][0] = 1.+0j\n",
    "        D[0][1] = 1.+0j\n",
    "        D[1][0] = np.cos(angle)*_refractive_index_array[wl_idx, layer_idx]\n",
    "        D[1][1] = -1*np.cos(angle)*_refractive_index_array[wl_idx, layer_idx]\n",
    "\n",
    "\n",
    "    elif (polarization == \"p\"):\n",
    "        D[0][0] = np.cos(angle)+0j\n",
    "        D[0][1] = np.cos(angle)+0j\n",
    "        D[1][0] = _refractive_index_array[wl_idx, layer_idx]\n",
    "        D[1][1] = -1*_refractive_index_array[wl_idx, layer_idx]\n",
    "\n",
    "    else:\n",
    "            \n",
    "        print(\"needs polarization s or p\")\n",
    "\n",
    "    print(D)\n",
    "    if layer_idx == 0:\n",
    "        return np.linalg.inv(D)\n",
    "    elif layer_idx == 2:\n",
    "        return D\n",
    "    else:\n",
    "        D = np.matmul(D,np.linalg.inv(D))\n",
    "        return D\n"
   ]
  },
  {
   "cell_type": "code",
   "execution_count": null,
   "id": "08de497b",
   "metadata": {},
   "outputs": [],
   "source": [
    "D = compute_dm(0, 2, 0,'s', mt._refractive_index_array)"
   ]
  },
  {
   "cell_type": "code",
   "execution_count": null,
   "id": "88da74d9",
   "metadata": {},
   "outputs": [],
   "source": [
    "class A:\n",
    "    def sayhi():\n",
    "        print(\"A\")                          \n",
    "\n",
    "class B:\n",
    "    def saylo(arg):\n",
    "        print(arg)                         \n",
    "\n",
    "        \n",
    "class M(A,B):\n",
    "    pass\n",
    "\n",
    "M.sayhi()\n",
    "M.saylo(\"bbbb\")\n"
   ]
  },
  {
   "cell_type": "code",
   "execution_count": null,
   "id": "3ac587c9",
   "metadata": {},
   "outputs": [],
   "source": [
    "print(mt._an)\n",
    "        # pre-compute terms that will be used numerous times in computing coefficients\n",
    "#        _jnx = spherical_jn(1 , x)\n",
    "#        _jnmx = spherical_jn(1 , m * x)\n",
    "\n",
    "expected_an = np.array([1.51561398e-07-3.89308843e-04j, \n",
    "                            1.20867988e-13-3.47660737e-07j,\n",
    "                            2.12941403e-20-1.45925119e-10j, \n",
    "                            1.23296734e-27-3.51136346e-14j,\n",
    "                            2.97642974e-35-5.45566654e-18j, \n",
    "                            3.49894198e-43-5.91518553e-22j,\n",
    "                            2.23336769e-51-4.72585198e-26j])\n",
    "\n",
    "print(expected_an)"
   ]
  },
  {
   "cell_type": "code",
   "execution_count": null,
   "id": "d085f45d",
   "metadata": {},
   "outputs": [],
   "source": [
    "lam_array = np.linspace(500e-9, 800e-9, 10)\n",
    "for lamb in lam_array:\n",
    "    x = 2 * np.pi * r / lamb\n",
    "    mt._compute_mie_coeffients(ri, mu, x)\n",
    "    print(f'Lambda: {lamb}, len {len(mt._an)} a_n {np.real(mt._an)}')\n",
    "    "
   ]
  },
  {
   "cell_type": "code",
   "execution_count": null,
   "id": "bd0c3049",
   "metadata": {},
   "outputs": [],
   "source": []
  }
 ],
 "metadata": {
  "kernelspec": {
   "display_name": "Python 3",
   "language": "python",
   "name": "python3"
  },
  "language_info": {
   "codemirror_mode": {
    "name": "ipython",
    "version": 3
   },
   "file_extension": ".py",
   "mimetype": "text/x-python",
   "name": "python",
   "nbconvert_exporter": "python",
   "pygments_lexer": "ipython3",
   "version": "3.7.10"
  }
 },
 "nbformat": 4,
 "nbformat_minor": 5
}
