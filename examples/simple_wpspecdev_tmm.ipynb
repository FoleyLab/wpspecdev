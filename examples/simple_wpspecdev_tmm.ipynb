{
 "cells": [
  {
   "cell_type": "code",
   "execution_count": 17,
   "id": "057904b7",
   "metadata": {},
   "outputs": [],
   "source": [
    "import wpspecdev\n",
    "import numpy as np"
   ]
  },
  {
   "cell_type": "code",
   "execution_count": 18,
   "id": "3aeabcd8",
   "metadata": {},
   "outputs": [],
   "source": [
    "thickness = 100e-9\n"
   ]
  },
  {
   "cell_type": "code",
   "execution_count": 19,
   "id": "40055cc3",
   "metadata": {},
   "outputs": [],
   "source": [
    "sf = wpspecdev.SpectrumFactory()\n",
    "mt = sf.spectrum_factory('Tmm', thickness)"
   ]
  },
  {
   "cell_type": "code",
   "execution_count": 30,
   "id": "3ac3cfaa",
   "metadata": {},
   "outputs": [],
   "source": [
    "# row index specifies wavelength, column index specifies layer\n",
    "mt._refractive_index_array[0, 2]\n",
    "\n",
    "def compute_dm(wl_idx, layer_idx, angle, polarization, _refractive_index_array):\n",
    "        \n",
    "    \"\"\" compute the D and D_inv matrices for each layer and wavelength\n",
    "        \n",
    "            Attributes\n",
    "            ----------\n",
    "                refractive_index_array\n",
    "                \n",
    "                polarization\n",
    "                \n",
    "                _cos_of_refraction_angle_array\n",
    "                \n",
    "                _dm\n",
    "                \n",
    "                _dim\n",
    "                \n",
    "                \n",
    "            Returns\n",
    "            -------\n",
    "            None\n",
    "    \"\"\"\n",
    "    D = np.zeros((2,2),dtype=complex)\n",
    "    if (polarization == \"s\"):\n",
    "        D[0][0] = 1.+0j\n",
    "        D[0][1] = 1.+0j\n",
    "        D[1][0] = np.cos(angle)*_refractive_index_array[wl_idx, layer_idx]\n",
    "        D[1][1] = -1*np.cos(angle)*_refractive_index_array[wl_idx, layer_idx]\n",
    "\n",
    "\n",
    "    elif (polarization == \"p\"):\n",
    "        D[0][0] = np.cos(angle)+0j\n",
    "        D[0][1] = np.cos(angle)+0j\n",
    "        D[1][0] = _refractive_index_array[wl_idx, layer_idx]\n",
    "        D[1][1] = -1*_refractive_index_array[wl_idx, layer_idx]\n",
    "\n",
    "    else:\n",
    "            \n",
    "        print(\"needs polarization s or p\")\n",
    "\n",
    "    print(D)\n",
    "    if layer_idx == 0:\n",
    "        return np.linalg.inv(D)\n",
    "    elif layer_idx == 2:\n",
    "        return D\n",
    "    else:\n",
    "        D = np.matmul(D,np.linalg.inv(D))\n",
    "        return D\n"
   ]
  },
  {
   "cell_type": "code",
   "execution_count": 39,
   "id": "08de497b",
   "metadata": {},
   "outputs": [
    {
     "ename": "IndexError",
     "evalue": "index 3 is out of bounds for axis 1 with size 3",
     "output_type": "error",
     "traceback": [
      "\u001b[0;31m---------------------------------------------------------------------------\u001b[0m",
      "\u001b[0;31mIndexError\u001b[0m                                Traceback (most recent call last)",
      "\u001b[0;32m<ipython-input-39-1f6b0494a1c6>\u001b[0m in \u001b[0;36m<module>\u001b[0;34m\u001b[0m\n\u001b[0;32m----> 1\u001b[0;31m \u001b[0mD\u001b[0m \u001b[0;34m=\u001b[0m \u001b[0mcompute_dm\u001b[0m\u001b[0;34m(\u001b[0m\u001b[0;36m0\u001b[0m\u001b[0;34m,\u001b[0m \u001b[0;36m3\u001b[0m\u001b[0;34m,\u001b[0m \u001b[0;36m0\u001b[0m\u001b[0;34m,\u001b[0m\u001b[0;34m's'\u001b[0m\u001b[0;34m,\u001b[0m \u001b[0mmt\u001b[0m\u001b[0;34m.\u001b[0m\u001b[0m_refractive_index_array\u001b[0m\u001b[0;34m)\u001b[0m\u001b[0;34m\u001b[0m\u001b[0;34m\u001b[0m\u001b[0m\n\u001b[0m",
      "\u001b[0;32m<ipython-input-30-f842e5c82412>\u001b[0m in \u001b[0;36mcompute_dm\u001b[0;34m(wl_idx, layer_idx, angle, polarization, _refractive_index_array)\u001b[0m\n\u001b[1;32m     27\u001b[0m         \u001b[0mD\u001b[0m\u001b[0;34m[\u001b[0m\u001b[0;36m0\u001b[0m\u001b[0;34m]\u001b[0m\u001b[0;34m[\u001b[0m\u001b[0;36m0\u001b[0m\u001b[0;34m]\u001b[0m \u001b[0;34m=\u001b[0m \u001b[0;36m1.\u001b[0m\u001b[0;34m+\u001b[0m\u001b[0;36m0j\u001b[0m\u001b[0;34m\u001b[0m\u001b[0;34m\u001b[0m\u001b[0m\n\u001b[1;32m     28\u001b[0m         \u001b[0mD\u001b[0m\u001b[0;34m[\u001b[0m\u001b[0;36m0\u001b[0m\u001b[0;34m]\u001b[0m\u001b[0;34m[\u001b[0m\u001b[0;36m1\u001b[0m\u001b[0;34m]\u001b[0m \u001b[0;34m=\u001b[0m \u001b[0;36m1.\u001b[0m\u001b[0;34m+\u001b[0m\u001b[0;36m0j\u001b[0m\u001b[0;34m\u001b[0m\u001b[0;34m\u001b[0m\u001b[0m\n\u001b[0;32m---> 29\u001b[0;31m         \u001b[0mD\u001b[0m\u001b[0;34m[\u001b[0m\u001b[0;36m1\u001b[0m\u001b[0;34m]\u001b[0m\u001b[0;34m[\u001b[0m\u001b[0;36m0\u001b[0m\u001b[0;34m]\u001b[0m \u001b[0;34m=\u001b[0m \u001b[0mnp\u001b[0m\u001b[0;34m.\u001b[0m\u001b[0mcos\u001b[0m\u001b[0;34m(\u001b[0m\u001b[0mangle\u001b[0m\u001b[0;34m)\u001b[0m\u001b[0;34m*\u001b[0m\u001b[0m_refractive_index_array\u001b[0m\u001b[0;34m[\u001b[0m\u001b[0mwl_idx\u001b[0m\u001b[0;34m,\u001b[0m \u001b[0mlayer_idx\u001b[0m\u001b[0;34m]\u001b[0m\u001b[0;34m\u001b[0m\u001b[0;34m\u001b[0m\u001b[0m\n\u001b[0m\u001b[1;32m     30\u001b[0m         \u001b[0mD\u001b[0m\u001b[0;34m[\u001b[0m\u001b[0;36m1\u001b[0m\u001b[0;34m]\u001b[0m\u001b[0;34m[\u001b[0m\u001b[0;36m1\u001b[0m\u001b[0;34m]\u001b[0m \u001b[0;34m=\u001b[0m \u001b[0;34m-\u001b[0m\u001b[0;36m1\u001b[0m\u001b[0;34m*\u001b[0m\u001b[0mnp\u001b[0m\u001b[0;34m.\u001b[0m\u001b[0mcos\u001b[0m\u001b[0;34m(\u001b[0m\u001b[0mangle\u001b[0m\u001b[0;34m)\u001b[0m\u001b[0;34m*\u001b[0m\u001b[0m_refractive_index_array\u001b[0m\u001b[0;34m[\u001b[0m\u001b[0mwl_idx\u001b[0m\u001b[0;34m,\u001b[0m \u001b[0mlayer_idx\u001b[0m\u001b[0;34m]\u001b[0m\u001b[0;34m\u001b[0m\u001b[0;34m\u001b[0m\u001b[0m\n\u001b[1;32m     31\u001b[0m \u001b[0;34m\u001b[0m\u001b[0m\n",
      "\u001b[0;31mIndexError\u001b[0m: index 3 is out of bounds for axis 1 with size 3"
     ]
    }
   ],
   "source": [
    "D = compute_dm(0, 2, 0,'s', mt._refractive_index_array)"
   ]
  },
  {
   "cell_type": "code",
   "execution_count": 12,
   "id": "3ac587c9",
   "metadata": {},
   "outputs": [
    {
     "name": "stdout",
     "output_type": "stream",
     "text": [
      "[5.56835934e-02-3.22675146e-01j 3.65514613e-04-2.95499887e-02j\n",
      " 5.89559040e-07-1.25526586e-03j 3.32087808e-10-3.08259516e-05j\n",
      " 7.92731926e-14-4.87313584e-07j 9.26799251e-18-5.35650985e-09j\n",
      " 5.89835012e-22-4.32641196e-11j]\n",
      "[1.51561398e-07-3.89308843e-04j 1.20867988e-13-3.47660737e-07j\n",
      " 2.12941403e-20-1.45925119e-10j 1.23296734e-27-3.51136346e-14j\n",
      " 2.97642974e-35-5.45566654e-18j 3.49894198e-43-5.91518553e-22j\n",
      " 2.23336769e-51-4.72585198e-26j]\n"
     ]
    }
   ],
   "source": [
    "print(mt._an)\n",
    "        # pre-compute terms that will be used numerous times in computing coefficients\n",
    "#        _jnx = spherical_jn(1 , x)\n",
    "#        _jnmx = spherical_jn(1 , m * x)\n",
    "\n",
    "expected_an = np.array([1.51561398e-07-3.89308843e-04j, \n",
    "                            1.20867988e-13-3.47660737e-07j,\n",
    "                            2.12941403e-20-1.45925119e-10j, \n",
    "                            1.23296734e-27-3.51136346e-14j,\n",
    "                            2.97642974e-35-5.45566654e-18j, \n",
    "                            3.49894198e-43-5.91518553e-22j,\n",
    "                            2.23336769e-51-4.72585198e-26j])\n",
    "\n",
    "print(expected_an)"
   ]
  },
  {
   "cell_type": "code",
   "execution_count": 10,
   "id": "d085f45d",
   "metadata": {},
   "outputs": [
    {
     "name": "stdout",
     "output_type": "stream",
     "text": [
      "[1 2 3 4 5 6 7]\n",
      "Lambda: 5e-07, len 7 a_n [5.56835934e-02 3.65514613e-04 5.89559040e-07 3.32087808e-10\n",
      " 7.92731926e-14 9.26799251e-18 5.89835012e-22]\n",
      "[1 2 3 4 5 6 7]\n",
      "Lambda: 5.333333333333333e-07, len 7 a_n [4.98352128e-02 2.74677468e-04 3.56673083e-07 1.59394805e-10\n",
      " 2.99361221e-14 2.73989957e-18 1.36071683e-22]\n",
      "[1 2 3 4 5 6 7]\n",
      "Lambda: 5.666666666666666e-07, len 7 a_n [4.42360959e-02 1.98571607e-04 2.06100472e-07 7.30761377e-11\n",
      " 1.08456492e-14 7.82729808e-19 3.06121991e-23]\n",
      "[1 2 3 4 5 6 7]\n",
      "Lambda: 6e-07, len 7 a_n [3.89902519e-02 1.41174627e-04 1.17665465e-07 3.33639245e-11\n",
      " 3.95157827e-15 2.27348110e-19 7.08409871e-24]\n",
      "[1 2 3 4 5 6]\n",
      "Lambda: 6.333333333333333e-07, len 6 a_n [3.41785595e-02 9.98087978e-05 6.73495684e-08 1.54207077e-11\n",
      " 1.47303889e-15 6.83170793e-20]\n",
      "[1 2 3 4 5 6]\n",
      "Lambda: 6.666666666666667e-07, len 6 a_n [2.98406997e-02 7.05990770e-05 3.89192651e-08 7.26646962e-12\n",
      " 5.65591800e-16 2.13687666e-20]\n",
      "[1 2 3 4 5 6]\n",
      "Lambda: 7e-07, len 6 a_n [2.59816895e-02 5.01371655e-05 2.27834090e-08 3.50122469e-12\n",
      " 2.24200245e-16 6.96787165e-21]\n",
      "[1 2 3 4 5 6]\n",
      "Lambda: 7.333333333333333e-07, len 6 a_n [2.25828320e-02 3.58201295e-05 1.35327470e-08 1.72670250e-12\n",
      " 9.17748050e-17 2.36734019e-21]\n",
      "[1 2 3 4 5 6]\n",
      "Lambda: 7.666666666666666e-07, len 6 a_n [1.96113227e-02 2.57750780e-05 8.16068377e-09 8.71565266e-13\n",
      " 3.87655768e-17 8.36804918e-22]\n",
      "[1 2 3 4 5 6]\n",
      "Lambda: 8e-07, len 6 a_n [1.70273421e-02 1.86915496e-05 4.99643748e-09 4.50010199e-13\n",
      " 1.68763885e-17 3.07169057e-22]\n"
     ]
    }
   ],
   "source": [
    "lam_array = np.linspace(500e-9, 800e-9, 10)\n",
    "for lamb in lam_array:\n",
    "    x = 2 * np.pi * r / lamb\n",
    "    mt._compute_mie_coeffients(ri, mu, x)\n",
    "    print(f'Lambda: {lamb}, len {len(mt._an)} a_n {np.real(mt._an)}')\n",
    "    "
   ]
  },
  {
   "cell_type": "code",
   "execution_count": null,
   "id": "bd0c3049",
   "metadata": {},
   "outputs": [],
   "source": []
  }
 ],
 "metadata": {
  "kernelspec": {
   "display_name": "Python 3",
   "language": "python",
   "name": "python3"
  },
  "language_info": {
   "codemirror_mode": {
    "name": "ipython",
    "version": 3
   },
   "file_extension": ".py",
   "mimetype": "text/x-python",
   "name": "python",
   "nbconvert_exporter": "python",
   "pygments_lexer": "ipython3",
   "version": "3.7.10"
  }
 },
 "nbformat": 4,
 "nbformat_minor": 5
}
