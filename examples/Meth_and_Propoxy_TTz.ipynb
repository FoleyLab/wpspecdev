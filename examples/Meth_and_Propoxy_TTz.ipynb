{
 "cells": [
  {
   "cell_type": "code",
   "execution_count": null,
   "id": "5157dbb8",
   "metadata": {},
   "outputs": [],
   "source": [
    "import wptherml\n",
    "from matplotlib import pyplot as plt\n",
    "import numpy as np\n",
    "import os\n",
    "from scipy import interpolate\n",
    "import glob\n",
    "import colour\n",
    "from colour.plotting import *\n",
    "\n",
    "# create a tungsten incandescent object at 1700 K\n",
    "tungsten_values = {\n",
    "    \"wavelength_list\": [400e-9, 700e-9, 200],\n",
    "    \"Material_List\": [\"Air\",  \"W\", \"Air\"],\n",
    "    \"Thickness_List\": [0, 900e-9, 0],\n",
    "    \"temperature\": 1700,\n",
    "    \"therml\": True\n",
    "}\n",
    "\n",
    "\n",
    "sf = wptherml.SpectrumFactory()\n",
    "w = sf.spectrum_factory('Tmm', tungsten_values)\n"
   ]
  },
  {
   "cell_type": "markdown",
   "id": "a9d0df74",
   "metadata": {},
   "source": [
    "Read in the emission spectra data from the Meth_and_Propoxy_TTz folder!"
   ]
  },
  {
   "cell_type": "code",
   "execution_count": null,
   "id": "733a0d2f",
   "metadata": {},
   "outputs": [],
   "source": [
    "file_location = os.path.join('Meth_and_Propoxy_TTz','*.txt')\n",
    "filenames = glob.glob(file_location)\n",
    "print(filenames)"
   ]
  },
  {
   "cell_type": "markdown",
   "id": "b3fb7449",
   "metadata": {},
   "source": [
    "Now read in the emission spectra from each file, compute the CIE and RGB values for each spectrum, print\n",
    "the filename and CIE values, and store the RGB values to a list.  We will use that RGB list subsequently to plot the values on the CIE color gamut."
   ]
  },
  {
   "cell_type": "code",
   "execution_count": null,
   "id": "3d546aa0",
   "metadata": {},
   "outputs": [],
   "source": [
    "\n",
    "rgb_list = []\n",
    "for file in filenames:\n",
    "    data = np.loadtxt(file)\n",
    "    emission_spline = interpolate.interp1d(data[:,0], data[:,1])\n",
    "    emission_prediction = emission_spline(w.wavelength_array * 1e9)   \n",
    "    cie = w.compute_cie(emission_prediction)\n",
    "    rgb = w.compute_rgb(emission_prediction)\n",
    "    rgb_list.append(rgb)\n",
    "    print(F\"{file[21:]}, {cie[0]}, {cie[1]}, {cie[2]}\")"
   ]
  },
  {
   "cell_type": "code",
   "execution_count": null,
   "id": "063304fc",
   "metadata": {},
   "outputs": [],
   "source": [
    "plot_RGB_chromaticities_in_chromaticity_diagram_CIE1931(rgb_list, c='black')"
   ]
  },
  {
   "cell_type": "code",
   "execution_count": null,
   "id": "9a7b08ae",
   "metadata": {},
   "outputs": [],
   "source": []
  }
 ],
 "metadata": {
  "kernelspec": {
   "display_name": "Python 3 (ipykernel)",
   "language": "python",
   "name": "python3"
  },
  "language_info": {
   "codemirror_mode": {
    "name": "ipython",
    "version": 3
   },
   "file_extension": ".py",
   "mimetype": "text/x-python",
   "name": "python",
   "nbconvert_exporter": "python",
   "pygments_lexer": "ipython3",
   "version": "3.8.13"
  }
 },
 "nbformat": 4,
 "nbformat_minor": 5
}
