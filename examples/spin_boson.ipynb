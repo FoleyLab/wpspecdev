{
 "cells": [
  {
   "cell_type": "code",
   "execution_count": 1,
   "id": "d5979e95",
   "metadata": {},
   "outputs": [
    {
     "name": "stdout",
     "output_type": "stream",
     "text": [
      "Energy Eigenvalues in atomic units are\n",
      "[0.25       0.67928932 0.75       0.82071068 1.17928932 1.25\n",
      " 1.32071068 1.75      ]\n",
      "Energy eigenvalues in eV are\n",
      "[ 6.80284656 18.48440411 20.40853968 22.33267526 32.09009723 34.01423281\n",
      " 35.93836838 47.61992593]\n"
     ]
    }
   ],
   "source": [
    "import wptherml\n",
    "from matplotlib import pyplot as plt\n",
    "import numpy as np\n",
    "\n",
    "# dictionaries for case 1\n",
    "args_1 = {\n",
    "     \"Number_of_Excitons\": 2,\n",
    "     \"number_of_boson_levels\": 2,\n",
    "     \"boson_energy_ev\": 0.5 / 3.6749322175665e-2,\n",
    "     \"exciton_energy_ev\" : 0.5 / 3.6749322175665e-2,\n",
    "     \"exciton_boson_coupling_ev\" : 0.05 / 3.6749322175665e-2,\n",
    "     \"exciton_transition_dipole_magnitude_au\" : 1.0,\n",
    "     \"exciton_ground_state_dipole_magnitude_au\" : 0.0,\n",
    "     \"exciton_excited_state_dipole_magnitude_au\" : 0.0\n",
    "}\n",
    "\n",
    "sf = wptherml.SpectrumFactory()\n",
    "\n",
    "# instantiate cases\n",
    "test_1 = sf.spectrum_factory(\"Spin-Boson\", args_1)\n"
   ]
  },
  {
   "cell_type": "code",
   "execution_count": 3,
   "id": "c5a2965e",
   "metadata": {},
   "outputs": [
    {
     "name": "stdout",
     "output_type": "stream",
     "text": [
      "8\n",
      "8\n"
     ]
    }
   ],
   "source": [
    "lent = len(test_1.energy_eigenvectors[:,0])\n",
    "print(lent)\n",
    "_dim = test_1.exciton_boson_basis.shape[0]\n",
    "print(_dim)\n",
    "bra = test_1.energy_eigenvectors[:,3].reshape(8,1).T.conj()\n",
    "ket = test_1.energy_eigenvectors[:,3].reshape(8,1)\n",
    "H = test_1.hamiltonian_matrix\n",
    "\n",
    "rho = ket @ bra\n",
    "\n",
    "test_1.build_rho_from_eigenstate(3)\n",
    "\n",
    "assert np.allclose(rho, test_1.rho)"
   ]
  },
  {
   "cell_type": "code",
   "execution_count": null,
   "id": "f450ec82",
   "metadata": {},
   "outputs": [],
   "source": [
    "expected_eigenvalues_in_au = np.array([0.25,       0.67928932, 0.75,       0.82071068, 1.17928932, 1.25,\n",
    " 1.32071068, 1.75])\n",
    "\n",
    "assert np.allclose(expected_eigenvalues_in_au, test_1.energy_eigenvalues)"
   ]
  },
  {
   "cell_type": "code",
   "execution_count": null,
   "id": "572f959d",
   "metadata": {},
   "outputs": [],
   "source": [
    "test_1.build_dipole_squared_operator()\n",
    "\n",
    "print(test_1.mu_squared_operator)"
   ]
  },
  {
   "cell_type": "code",
   "execution_count": null,
   "id": "4e612074",
   "metadata": {},
   "outputs": [],
   "source": [
    "print(test_1.exciton_boson_coupling_operator)\n"
   ]
  },
  {
   "cell_type": "code",
   "execution_count": null,
   "id": "fbef07ba",
   "metadata": {},
   "outputs": [],
   "source": [
    "expected_coupling_matrix = np.array([[0.,   0.,   0.,   0.,   0.,   0.,   0.,   0.,  ],\n",
    " [0.,   0.,   0.,   0.,   0.05, 0.,   0.,   0.,  ],\n",
    " [0.,   0.,   0.,   0.,   0.05, 0.,   0.,   0.,  ],\n",
    " [0.,   0.,   0.,   0.,   0.,   0.05, 0.05, 0.,  ],\n",
    " [0.,   0.05, 0.05, 0.,   0.,   0.,   0.,   0.,  ],\n",
    " [0.,   0.,   0.,   0.05, 0.,   0.,   0.,   0.,  ],\n",
    " [0.,   0.,   0.,   0.05, 0.,   0.,   0.,   0.,  ],\n",
    " [0.,   0.,   0.,   0.,   0.,   0.,   0.,   0.,  ]])\n",
    "\n",
    "assert np.allclose(expected_coupling_matrix, test_1.exciton_boson_coupling_operator)"
   ]
  },
  {
   "cell_type": "code",
   "execution_count": null,
   "id": "51ac7252",
   "metadata": {},
   "outputs": [],
   "source": [
    "g_array = np.linspace(0, 0.05, 51)\n",
    "\n",
    "gs_list = []\n",
    "lp_list = []\n",
    "ds_list = []\n",
    "up_list = []\n",
    "\n",
    "for g in g_array:\n",
    "    test_1.exciton_boson_coupling_ev = g\n",
    "    test_1.exciton_boson_coupling_au = test_1.exciton_boson_coupling_ev * test_1.ev_to_au\n",
    "    test_1.compute_spectrum()\n",
    "    gs_list.append(test_1.energy_eigenvalues[0] / test_1.ev_to_au)\n",
    "    lp_list.append(test_1.energy_eigenvalues[1] / test_1.ev_to_au)\n",
    "    ds_list.append(test_1.energy_eigenvalues[2] / test_1.ev_to_au)\n",
    "    up_list.append(test_1.energy_eigenvalues[3] / test_1.ev_to_au)\n",
    "    \n"
   ]
  },
  {
   "cell_type": "code",
   "execution_count": null,
   "id": "8c3c89ca",
   "metadata": {},
   "outputs": [],
   "source": [
    "plt.plot(g_array, gs_list)\n",
    "plt.plot(g_array, lp_list)\n",
    "plt.plot(g_array, ds_list)\n",
    "plt.plot(g_array, up_list)\n",
    "plt.show()\n"
   ]
  },
  {
   "cell_type": "code",
   "execution_count": null,
   "id": "4cc4ebfa",
   "metadata": {},
   "outputs": [],
   "source": []
  }
 ],
 "metadata": {
  "kernelspec": {
   "display_name": "Python 3 (ipykernel)",
   "language": "python",
   "name": "python3"
  },
  "language_info": {
   "codemirror_mode": {
    "name": "ipython",
    "version": 3
   },
   "file_extension": ".py",
   "mimetype": "text/x-python",
   "name": "python",
   "nbconvert_exporter": "python",
   "pygments_lexer": "ipython3",
   "version": "3.8.13"
  }
 },
 "nbformat": 4,
 "nbformat_minor": 5
}
