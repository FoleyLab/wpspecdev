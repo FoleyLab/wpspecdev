{
 "cells": [
  {
   "cell_type": "code",
   "execution_count": 1,
   "id": "d5979e95",
   "metadata": {},
   "outputs": [
    {
     "name": "stdout",
     "output_type": "stream",
     "text": [
      "Energy Eigenvalues in atomic units are\n",
      "[0.03766806 0.11248445 0.11300417 0.11352388 0.18744011 0.18834028\n",
      " 0.18834028 0.18924045 0.26251427 0.26367639 0.26367639 0.2648385\n",
      " 0.33763746 0.3390125  0.3390125  0.34038753 0.41330918 0.41434861\n",
      " 0.41538804 0.48968472]\n",
      "Energy eigenvalues in eV are\n",
      "[ 1.025       3.06085786  3.075       3.08914214  5.1005051   5.125\n",
      "  5.125       5.1494949   7.14337722  7.175       7.175       7.20662278\n",
      "  9.18758343  9.225       9.225       9.26241657 11.24671573 11.275\n",
      " 11.30328427 13.325     ]\n"
     ]
    }
   ],
   "source": [
    "import wptherml\n",
    "from matplotlib import pyplot as plt\n",
    "import numpy as np\n",
    "\n",
    "# dictionaries for case 1\n",
    "args_1 = {\n",
    "     \"Number_of_Excitons\": 2,\n",
    "     \"number_of_boson_levels\": 2,\n",
    "     \"boson_energy_ev\": 0.5 / 3.6749322175665e-2,\n",
    "     \"exciton_energy_ev\" : 0.5 / 3.6749322175665e-2,\n",
    "     \"exciton_boson_coupling_ev\" : 0.05 / 3.6749322175665e-2,\n",
    "     \"exciton_transition_dipole_magnitude_au\" : 1.0,\n",
    "     \"exciton_ground_state_dipole_magnitude_au\" : 0.0,\n",
    "     \"exciton_excited_state_dipole_magnitude_au\" : 0.0\n",
    "}\n",
    "\n",
    "# from this paper https://journals.aps.org/prb/pdf/10.1103/PhysRevB.92.125432\n",
    "qd_args = {\n",
    "     \"Number_of_Excitons\": 2,\n",
    "     \"number_of_boson_levels\": 5,\n",
    "     \"boson_energy_ev\": 2.05,\n",
    "     \"exciton_energy_ev\" : 2.05,\n",
    "     \"exciton_boson_coupling_ev\" : 0.01,\n",
    "     \"boson_spontaneous_emission_rate_mev\" : 0.15e-3,\n",
    "     \"exciton_spontaneous_emission_rate_mev\" : 190e-6,\n",
    "     \"exciton_dephasing_rate_mev\" : 2,\n",
    "    \n",
    "}\n",
    "\n",
    "sf = wptherml.SpectrumFactory()\n",
    "\n",
    "# instantiate cases\n",
    "test_1 = sf.spectrum_factory(\"Spin-Boson\", qd_args)\n"
   ]
  },
  {
   "cell_type": "code",
   "execution_count": null,
   "id": "e8c6f2a8",
   "metadata": {},
   "outputs": [],
   "source": []
  },
  {
   "cell_type": "code",
   "execution_count": null,
   "id": "f450ec82",
   "metadata": {},
   "outputs": [],
   "source": [
    "expected_eigenvalues_in_au = np.array([0.25,       0.67928932, 0.75,       0.82071068, 1.17928932, 1.25,\n",
    " 1.32071068, 1.75])\n",
    "\n",
    "#assert np.allclose(expected_eigenvalues_in_au, test_1.energy_eigenvalues)"
   ]
  },
  {
   "cell_type": "code",
   "execution_count": null,
   "id": "572f959d",
   "metadata": {},
   "outputs": [],
   "source": [
    "test_1.build_dipole_squared_operator()\n",
    "\n",
    "print(test_1.mu_squared_operator)"
   ]
  },
  {
   "cell_type": "code",
   "execution_count": null,
   "id": "4e612074",
   "metadata": {},
   "outputs": [],
   "source": [
    "print(test_1.exciton_boson_coupling_operator)\n"
   ]
  },
  {
   "cell_type": "code",
   "execution_count": null,
   "id": "fbef07ba",
   "metadata": {},
   "outputs": [],
   "source": [
    "expected_coupling_matrix = np.array([[0.,   0.,   0.,   0.,   0.,   0.,   0.,   0.,  ],\n",
    " [0.,   0.,   0.,   0.,   0.05, 0.,   0.,   0.,  ],\n",
    " [0.,   0.,   0.,   0.,   0.05, 0.,   0.,   0.,  ],\n",
    " [0.,   0.,   0.,   0.,   0.,   0.05, 0.05, 0.,  ],\n",
    " [0.,   0.05, 0.05, 0.,   0.,   0.,   0.,   0.,  ],\n",
    " [0.,   0.,   0.,   0.05, 0.,   0.,   0.,   0.,  ],\n",
    " [0.,   0.,   0.,   0.05, 0.,   0.,   0.,   0.,  ],\n",
    " [0.,   0.,   0.,   0.,   0.,   0.,   0.,   0.,  ]])\n",
    "\n",
    "assert np.allclose(expected_coupling_matrix, test_1.exciton_boson_coupling_operator)"
   ]
  },
  {
   "cell_type": "code",
   "execution_count": null,
   "id": "51ac7252",
   "metadata": {},
   "outputs": [],
   "source": [
    "g_array = np.linspace(0, 0.05, 51)\n",
    "\n",
    "gs_list = []\n",
    "lp_list = []\n",
    "ds_list = []\n",
    "up_list = []\n",
    "\n",
    "for g in g_array:\n",
    "    test_1.exciton_boson_coupling_ev = g\n",
    "    test_1.exciton_boson_coupling_au = test_1.exciton_boson_coupling_ev * test_1.ev_to_au\n",
    "    test_1.compute_spectrum()\n",
    "    gs_list.append(test_1.energy_eigenvalues[0] / test_1.ev_to_au)\n",
    "    lp_list.append(test_1.energy_eigenvalues[1] / test_1.ev_to_au)\n",
    "    ds_list.append(test_1.energy_eigenvalues[2] / test_1.ev_to_au)\n",
    "    up_list.append(test_1.energy_eigenvalues[3] / test_1.ev_to_au)\n",
    "    \n"
   ]
  },
  {
   "cell_type": "code",
   "execution_count": null,
   "id": "8c3c89ca",
   "metadata": {},
   "outputs": [],
   "source": [
    "plt.plot(g_array, gs_list)\n",
    "plt.plot(g_array, lp_list)\n",
    "plt.plot(g_array, ds_list)\n",
    "plt.plot(g_array, up_list)\n",
    "plt.show()\n"
   ]
  },
  {
   "cell_type": "code",
   "execution_count": null,
   "id": "4cc4ebfa",
   "metadata": {},
   "outputs": [],
   "source": []
  }
 ],
 "metadata": {
  "kernelspec": {
   "display_name": "Python 3 (ipykernel)",
   "language": "python",
   "name": "python3"
  },
  "language_info": {
   "codemirror_mode": {
    "name": "ipython",
    "version": 3
   },
   "file_extension": ".py",
   "mimetype": "text/x-python",
   "name": "python",
   "nbconvert_exporter": "python",
   "pygments_lexer": "ipython3",
   "version": "3.8.13"
  }
 },
 "nbformat": 4,
 "nbformat_minor": 5
}
