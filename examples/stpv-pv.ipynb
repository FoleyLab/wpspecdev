{
 "cells": [
  {
   "cell_type": "code",
   "execution_count": 3,
   "id": "0021cd6a",
   "metadata": {},
   "outputs": [],
   "source": [
    "import wpspecdev\n",
    "from matplotlib import pyplot as plt\n",
    "import numpy as np\n",
    "\n",
    "# define a test structure\n",
    "test_args = {\n",
    "    \"therml\": True,\n",
    "    'TeMperature' : 440,\n",
    "    \"wavelength_list\": [300e-9, 20300e-9, 5001],\n",
    "    \"material_list\": ['Air', 'SiO2', 'Al', 'SiO2', 'Ta2O5', 'SiO2', 'Ta2O5', 'SiO2', 'Ta2O5', 'SiO2', 'polystyrene', 'SiO2', 'Al', 'SiO2', 'Ta2O5', 'SiO2', 'Ta2O5', 'SiO2', 'Ta2O5', 'SiO2', 'Air'], \n",
    "    \"thickness_list\": [0, 2.6422605026007024e-07, 1.5e-09, 2.6422605026007024e-07, 3.733648095151694e-07, 5.284521005201405e-07, 3.733648095151694e-07, 5.284521005201405e-07, 3.733648095151694e-07, 0.0001, 0.001, 3.8014616788692957e-07, 1.5e-09, 3.8014616788692957e-07, 5.311796118517261e-07, 7.602923357738591e-07, 5.311796118517261e-07, 7.602923357738591e-07, 5.311796118517261e-07, 0.0001, 0]\n",
    "}\n",
    "\n",
    "\n"
   ]
  },
  {
   "cell_type": "markdown",
   "id": "f08cf09e",
   "metadata": {},
   "source": [
    "We are going to compute the transmissivity of the above structure to the AM1.5 solar spectrum that falls below the bandgap wavelength (assumed to be $\\lambda_{bg} = 760$ nm (see [here](https://journals.aps.org/prb/abstract/10.1103/PhysRevB.92.045414)\n",
    "and [here](https://pubs.acs.org/doi/10.1021/acs.nanolett.6b03114))\n",
    "and the thermal emission in the SWIR ($\\lambda_{min} = 1000$ nm  and $\\lambda_{max} =  3500$ nm) assuming an emitter temperature of $T_E = 440 K$.\n",
    "\n",
    "In particular, we will compute\n",
    "\n",
    "$$ T_{AM1.5} = \\int_0^{\\lambda_{bg}} I_{AM1.5}(\\lambda) T(\\lambda) d\\lambda $$\n",
    "\n",
    "and\n",
    "\n",
    "$$ \\epsilon_{SWIR} = \\int_{\\lambda_{min}}^{\\lambda_{max}} B(\\lambda, T_E) \\epsilon(\\lambda) d\\lambda $$"
   ]
  },
  {
   "cell_type": "code",
   "execution_count": 6,
   "id": "2865e48f",
   "metadata": {},
   "outputs": [
    {
     "name": "stdout",
     "output_type": "stream",
     "text": [
      "getting solar spectrum\n",
      " Your spectra have been computed! 😎 \n",
      " Your spectra have been computed! 🔥 \n",
      "175\n",
      "800\n",
      "time required\n",
      "1.4325051307678223\n",
      "6.585462586251555  W / s / m^2 emitted\n",
      "284.7632468333843  W / s / m^2 transmitted\n"
     ]
    }
   ],
   "source": [
    "import time\n",
    "start = time.time()\n",
    "\n",
    "sf = wpspecdev.SpectrumFactory()  \n",
    "# create instance of class\n",
    "ts = sf.spectrum_factory(\"Tmm\", test_args)\n",
    "\n",
    "# want to create a step function so that we can only integrate\n",
    "# a subinterval of the entire reflectivity function up to 760 nm\n",
    "target_pv = 760e-9 * np.ones_like(ts.wavelength_array)\n",
    "stop_idx = np.argmin(np.abs( target_pv - ts.wavelength_array) )\n",
    "\n",
    "# step function to cut off at \\lambda_bg of the PV\n",
    "step_pv = np.zeros_like(ts.wavelength_array)\n",
    "step_pv[:stop_idx] = 1.\n",
    "\n",
    "# do the same for the to create a step function between 1000 and 3500 nm\n",
    "target_min = 1000e-9 * np.ones_like(ts.wavelength_array)\n",
    "target_max = 3500e-9 * np.ones_like(ts.wavelength_array)\n",
    "\n",
    "min_idx = np.argmin(np.abs( target_min - ts.wavelength_array))\n",
    "max_idx = np.argmin(np.abs( target_max - ts.wavelength_array))\n",
    "\n",
    "step_swir = np.zeros_like(ts.wavelength_array)\n",
    "step_swir[min_idx:max_idx] = 1.\n",
    "\n",
    "\n",
    "### Integrate the above-gap solar flux transmitted through optic\n",
    "AM_transmit_power = np.trapz(ts._solar_spectrum * step_pv *  ts.transmissivity_array, ts.wavelength_array)\n",
    "SWIR_emit_power = np.trapz(ts.thermal_emission_array * step_swir, ts.wavelength_array)\n",
    "\n",
    "end = time.time()\n",
    "print(\"time required\")\n",
    "print(end-start)\n",
    "print(SWIR_emit_power,  \" W / s / m^2 emitted\")\n",
    "print(AM_transmit_power,\" W / s / m^2 transmitted\")\n",
    "\n"
   ]
  },
  {
   "cell_type": "code",
   "execution_count": null,
   "id": "b93e560c",
   "metadata": {},
   "outputs": [],
   "source": []
  }
 ],
 "metadata": {
  "kernelspec": {
   "display_name": "Python 3",
   "language": "python",
   "name": "python3"
  },
  "language_info": {
   "codemirror_mode": {
    "name": "ipython",
    "version": 3
   },
   "file_extension": ".py",
   "mimetype": "text/x-python",
   "name": "python",
   "nbconvert_exporter": "python",
   "pygments_lexer": "ipython3",
   "version": "3.7.10"
  }
 },
 "nbformat": 4,
 "nbformat_minor": 5
}
