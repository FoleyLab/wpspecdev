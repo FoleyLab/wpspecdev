{
 "cells": [
  {
   "cell_type": "code",
   "execution_count": 14,
   "id": "0021cd6a",
   "metadata": {},
   "outputs": [],
   "source": [
    "import wpspecdev\n",
    "from matplotlib import pyplot as plt\n",
    "import numpy as np\n",
    "\n",
    "# define a test structure\n",
    "test_args = {\n",
    "    \"therml\": True,\n",
    "    'TeMperature' : 440,\n",
    "    \"wavelength_list\": [300e-9, 20300e-9, 1001],\n",
    "    \"material_list\": ['Air', 'SiO2', 'Al', 'SiO2', 'Ta2O5', 'SiO2', 'Ta2O5', 'SiO2', 'Ta2O5', 'SiO2', 'polystyrene', 'SiO2', 'Al', 'SiO2', 'Ta2O5', 'SiO2', 'Ta2O5', 'SiO2', 'Ta2O5', 'SiO2', 'Air'], \n",
    "    \"thickness_list\": [0, 2.6422605026007024e-07, 1.5e-09, 2.6422605026007024e-07, 3.733648095151694e-07, 5.284521005201405e-07, 3.733648095151694e-07, 5.284521005201405e-07, 3.733648095151694e-07, 0.0001, 0.001, 3.8014616788692957e-07, 1.5e-09, 3.8014616788692957e-07, 5.311796118517261e-07, 7.602923357738591e-07, 5.311796118517261e-07, 7.602923357738591e-07, 5.311796118517261e-07, 0.0001, 0]\n",
    "}\n",
    "\n",
    "\n"
   ]
  },
  {
   "cell_type": "markdown",
   "id": "f08cf09e",
   "metadata": {},
   "source": [
    "We are going to compute the transmissivity of the above structure to the AM1.5 solar spectrum that falls below the bandgap wavelength (assumed to be $\\lambda_{bg} = 760$ nm (see [here](https://journals.aps.org/prb/abstract/10.1103/PhysRevB.92.045414)\n",
    "and [here](https://pubs.acs.org/doi/10.1021/acs.nanolett.6b03114))\n",
    "and the thermal emission in the SWIR ($\\lambda_{min} = 1000$ nm  and $\\lambda_{max} =  3500$ nm) assuming an emitter temperature of $T_E = 440 K$.\n",
    "\n",
    "In particular, we will compute\n",
    "\n",
    "$$ T_{AM1.5} = \\int_0^{\\lambda_{bg}} I_{AM1.5}(\\lambda) T(\\lambda) d\\lambda $$\n",
    "\n",
    "and\n",
    "\n",
    "$$ \\epsilon_{SWIR} = \\int_{\\lambda_{min}}^{\\lambda_{max}} B(\\lambda, T_E) \\epsilon(\\lambda) d\\lambda $$"
   ]
  },
  {
   "cell_type": "code",
   "execution_count": 15,
   "id": "2865e48f",
   "metadata": {},
   "outputs": [
    {
     "name": "stdout",
     "output_type": "stream",
     "text": [
      "getting solar spectrum\n",
      " Your spectra have been computed! 😎 \n",
      " Your spectra have been computed! 🔥 \n",
      "time required\n",
      "0.32423901557922363\n",
      "6.515110457093807  W / s / m^2 emitted\n",
      "272.6925093400928  W / s / m^2 transmitted\n",
      "10.200643508913217  W / s / m^2 emitted\n",
      "461.7291630999993  W / s / m^2 transmitted\n"
     ]
    }
   ],
   "source": [
    "import time\n",
    "start = time.time()\n",
    "\n",
    "sf = wpspecdev.SpectrumFactory()  \n",
    "# create instance of class\n",
    "ts = sf.spectrum_factory(\"Tmm\", test_args)\n",
    "\n",
    "# want to create a step function so that we can only integrate\n",
    "# a subinterval of the entire reflectivity function up to 760 nm\n",
    "target_pv = 760e-9 * np.ones_like(ts.wavelength_array)\n",
    "stop_idx = np.argmin(np.abs( target_pv - ts.wavelength_array) )\n",
    "\n",
    "# step function to cut off at \\lambda_bg of the PV\n",
    "step_pv = np.zeros_like(ts.wavelength_array)\n",
    "step_pv[:stop_idx] = 1.\n",
    "\n",
    "# do the same for the to create a step function between 1000 and 3500 nm\n",
    "target_min = 1000e-9 * np.ones_like(ts.wavelength_array)\n",
    "target_max = 3500e-9 * np.ones_like(ts.wavelength_array)\n",
    "\n",
    "min_idx = np.argmin(np.abs( target_min - ts.wavelength_array))\n",
    "max_idx = np.argmin(np.abs( target_max - ts.wavelength_array))\n",
    "\n",
    "step_swir = np.zeros_like(ts.wavelength_array)\n",
    "step_swir[min_idx:max_idx] = 1.\n",
    "\n",
    "\n",
    "### Integrate the above-gap solar flux transmitted through optic\n",
    "AM_transmit_power = np.trapz(ts._solar_spectrum * step_pv *  ts.transmissivity_array, ts.wavelength_array)\n",
    "### Integrate the thermal emission of the optic in the SWIR\n",
    "SWIR_emit_power = np.trapz(ts.thermal_emission_array * step_swir, ts.wavelength_array)\n",
    "\n",
    "### Integrate the total above-gap solar flux\n",
    "AM_above_gap = np.trapz(ts._solar_spectrum * step_pv, ts.wavelength_array)\n",
    "### Integrate the total BB emission at 440 K in the SWIR\n",
    "SWIR_power = np.trapz(ts.blackbody_spectrum * step_swir, ts.wavelength_array)\n",
    "\n",
    "end = time.time()\n",
    "print(\"time required\")\n",
    "print(end-start)\n",
    "print(SWIR_emit_power,  \" W / s / m^2 emitted\")\n",
    "print(AM_transmit_power,\" W / s / m^2 transmitted\")\n",
    "\n",
    "print(SWIR_power,  \" W / s / m^2 emitted\")\n",
    "print(AM_above_gap,\" W / s / m^2 transmitted\")\n",
    "\n",
    "\n"
   ]
  },
  {
   "cell_type": "code",
   "execution_count": 17,
   "id": "b93e560c",
   "metadata": {},
   "outputs": [],
   "source": [
    "import random\n",
    "def update_multilayer(SP, AP):\n",
    "    d1 = random.uniform(1, 700)\n",
    "    d3 = random.uniform(1, 700)\n",
    "    d4 = random.uniform(1, 700)\n",
    "    d5 = random.uniform(1, 700)\n",
    "    d6 = random.uniform(1, 700)\n",
    "    d7 = random.uniform(1, 700)\n",
    "    d8 = random.uniform(1, 700)\n",
    "    d9 = random.uniform(1, 700)\n",
    "    d11 = random.uniform(1, 700)\n",
    "    d13 = random.uniform(1, 700)\n",
    "    d14 = random.uniform(1, 700)\n",
    "    d15 = random.uniform(1, 700)\n",
    "    d16 = random.uniform(1, 700)\n",
    "    d17 = random.uniform(1, 700)\n",
    "    d18 = random.uniform(1, 700)\n",
    "    d19 = random.uniform(1, 700)\n",
    "    ts.thickness_array[1] = d1 * 1e-9\n",
    "    ts.thickness_array[3] = d3 * 1e-9\n",
    "    ts.thickness_array[4] = d4 * 1e-9\n",
    "    ts.thickness_array[5] = d5 * 1e-9\n",
    "    ts.thickness_array[6] = d6 * 1e-9\n",
    "    ts.thickness_array[7] = d7 * 1e-9\n",
    "    ts.thickness_array[8] = d8 * 1e-9\n",
    "    ts.thickness_array[9] = d9 * 1e-9\n",
    "    ts.thickness_array[11] = d11 * 1e-9\n",
    "    ts.thickness_array[13] = d13 * 1e-9\n",
    "    ts.thickness_array[14] = d14 * 1e-9\n",
    "    ts.thickness_array[15] = d15 * 1e-9\n",
    "    ts.thickness_array[16] = d16 * 1e-9\n",
    "    ts.thickness_array[17] = d17 * 1e-9\n",
    "    ts.thickness_array[18] = d18 * 1e-9\n",
    "    ts.thickness_array[19] = d19 * 1e-9\n",
    "    ts.compute_spectrum()\n",
    "    ts._compute_therml_spectrum(ts.wavelength_array, ts.emissivity_array)\n",
    "    AM_transmit_power = np.trapz(ts._solar_spectrum * step_pv *  ts.transmissivity_array, ts.wavelength_array)\n",
    "    ### Integrate the thermal emission of the optic in the SWIR\n",
    "    SWIR_emit_power = np.trapz(ts.thermal_emission_array * step_swir, ts.wavelength_array)\n",
    "    d = np.array([d1, d3, d4, d5, d6, d7, d8, d9, d11, d13, d14, d15, d16, d17, d18, d19])\n",
    "    return d/700, AM_transmit_power/AP, SWIR_emit_power/SP\n",
    "    "
   ]
  },
  {
   "cell_type": "code",
   "execution_count": 18,
   "id": "e8a841a5",
   "metadata": {},
   "outputs": [
    {
     "name": "stdout",
     "output_type": "stream",
     "text": [
      "(array([0.33837002, 0.36224788, 0.25551074, 0.81844444, 0.88902973,\n",
      "       0.88146853, 0.88173216, 0.53846364, 0.60043869, 0.81371411,\n",
      "       0.28026424, 0.24944759, 0.99657176, 0.9590689 , 0.70324175,\n",
      "       0.91002265]), 0.6011332177906895, 0.6238581123825727)\n"
     ]
    }
   ],
   "source": [
    "print(update_multilayer(SWIR_power,AM_above_gap ))"
   ]
  },
  {
   "cell_type": "markdown",
   "id": "9339a186",
   "metadata": {},
   "source": [
    "Want to call update_multilayer() 100,000 times, print each thicnkess / 700 (so that is maxes out at 1), and print AM_transmit_power / AM_above_gap, SWIR_emit_power / SWIR_power to a file."
   ]
  },
  {
   "cell_type": "code",
   "execution_count": 23,
   "id": "65385710",
   "metadata": {},
   "outputs": [],
   "source": [
    "dim = 50000\n",
    "\n",
    "f = open('stpv_pv_50k.csv', 'w')\n",
    "for i in range(0, dim):\n",
    "    d, T_AM, E_SWIR = update_multilayer(SWIR_power, AM_above_gap)\n",
    "    #print(d1, d2, d3, d4, pv_2l.conversion_efficiency_val)\n",
    "    pr_str = str(d[0]) + \", \" + str(d[1]) + \", \" + str(d[2]) + \", \"\n",
    "    pr_str += str(d[3]) + \", \" + str(d[4]) + \", \" + str(d[5]) + \", \"\n",
    "    pr_str += str(d[6]) + \", \" + str(d[7]) + \", \" + str(d[8]) + \", \"\n",
    "    pr_str += str(d[9]) + \", \" + str(d[10]) + \", \" + str(d[11]) + \", \"\n",
    "    pr_str += str(d[12]) + \", \" + str(d[13]) + \", \" + str(d[14]) + \", \"\n",
    "    pr_str += str(d[15]) + \", \" +  str(T_AM) + \", \" + str(E_SWIR)\n",
    "    pr_str += \"\\n\"\n",
    "    f.write(pr_str)\n",
    "    \n",
    "f.close()\n",
    "        "
   ]
  },
  {
   "cell_type": "code",
   "execution_count": null,
   "id": "e8b360c9",
   "metadata": {},
   "outputs": [],
   "source": []
  },
  {
   "cell_type": "code",
   "execution_count": null,
   "id": "6792f3ad",
   "metadata": {},
   "outputs": [],
   "source": []
  }
 ],
 "metadata": {
  "kernelspec": {
   "display_name": "Python 3 (ipykernel)",
   "language": "python",
   "name": "python3"
  },
  "language_info": {
   "codemirror_mode": {
    "name": "ipython",
    "version": 3
   },
   "file_extension": ".py",
   "mimetype": "text/x-python",
   "name": "python",
   "nbconvert_exporter": "python",
   "pygments_lexer": "ipython3",
   "version": "3.9.7"
  }
 },
 "nbformat": 4,
 "nbformat_minor": 5
}
