{
 "cells": [
  {
   "cell_type": "markdown",
   "id": "3e591e7e",
   "metadata": {},
   "source": [
    "## Quantum Dynamical Model for a Frenkel Exciton \n",
    "[Jay Foley and Lane Tolley, University of North Carolina Charlotte](https://foleylab.github.io/)\n",
    "\n",
    "#### objectives\n",
    "-Implement function that will build the Hamiltonian for a Frenkel Exciton within a 2D film\n",
    "\n",
    "#### Summary\n",
    "The time evolution of energy transferred within a 2D crystalline organic film can be described with excitonic degrees of freedom; the purpose of this notebook is to implement a function that will build the hamiltonian for such a system.\n",
    "    "
   ]
  },
  {
   "cell_type": "markdown",
   "id": "7a81af45",
   "metadata": {},
   "source": [
    "## Import libraries"
   ]
  },
  {
   "cell_type": "code",
   "execution_count": 1,
   "id": "b3999d65",
   "metadata": {},
   "outputs": [],
   "source": [
    "import numpy as np\n",
    "import scipy\n",
    "import math\n",
    "\n",
    "# Will come back and create a vizualization "
   ]
  },
  {
   "cell_type": "markdown",
   "id": "019736e3",
   "metadata": {},
   "source": [
    "## Theory\n",
    "\n",
    "The time evolution of energy transfer within a crystalline 2D film of a few organic monomers can be described with excitonic degrees of freedom. \n",
    "\n",
    "Quantum dynamical systems can be described with the time dependent Schrodinger equation (TDSE):\n",
    "\n",
    "$$ i\\hbar \\frac{d}{dt}\\Psi(x,t) = \\hat{H} \\Psi(x,t) \\tag{1} $$\n",
    "\n",
    "The Hamiltonian $\\hat{H}$ of this system is comprised of three changeable parameters: the number of basis sets, the exciton energy, and interparticle coupling. The number of basis sets will change based upon the number of monomers included within the system, the exciton energy is a value that will be approximated and chosen for the system, and the coupling term will require the use of another function, $\\hat{V}_{nm}$:\n",
    "\n",
    "$$ V_{nm} = \\frac{1}{{n^2}{r^3}} \\left( \\mu_n\\cdot \\mu_m - 3\\frac{(\\mu_n \\cdot {\\bf r})({\\bf r} \\cdot \\mu_m)}{r^2}\\right) \\tag{2} $$\n",
    "where $\\mu_n$ is the transition dipole moment associated with the exciton on site $n$, ${\\bf r}$ denotes the separation vector between site $n$ and $m$, and $r$ denotes the scalar separation between $n$ and $m$. \n"
   ]
  },
  {
   "cell_type": "code",
   "execution_count": 2,
   "id": "5d6825c4",
   "metadata": {},
   "outputs": [
    {
     "name": "stdout",
     "output_type": "stream",
     "text": [
      "1.0\n"
     ]
    }
   ],
   "source": [
    "def compute_dd_coupling(mu_d, mu_a, r_vector, n):\n",
    "    \"\"\" Function that computes the dipole dipole coupling contribution of the total energy of a system based upon mu_d,\n",
    "        the transition dipole moment of the donor, mu_a, the transition dipole moment of the acceptor, r_vector, the \n",
    "        distance separating the donor and acceptor, and the refractive index, a paremeter that describes the effect of \n",
    "        the system on light.\n",
    "    \n",
    "    Arguments\n",
    "    ---------\n",
    "    mu_d : numpy array of floats\n",
    "        the transition dipole mooment of the donor\n",
    "    mu_a : numpy array of floats\n",
    "        the transition dipole moment of the acceptor\n",
    "    r : numpy array of floats\n",
    "        the distance separating the donor and acceptor\n",
    "    n : float\n",
    "        refractive index of the medium\n",
    "    \"\"\"\n",
    "\n",
    "    r_scalar = np.sqrt(np.dot(r_vector, r_vector))\n",
    "    \n",
    "    return (1 / (n ** 2 * r_scalar ** 3)) * (np.dot(mu_d, mu_a) - 3 * (np.dot(mu_d, r_vector) * np.dot(r_vector, mu_a)) / r_scalar ** 2)\n",
    "\n",
    "mu_d1 = np.array([0,0,1]) \n",
    "mu_a1 = np.array([0,0,1])\n",
    "r_1 = [1,0,0] \n",
    "n_1 = 1.0\n",
    "\n",
    "dd_1 = compute_dd_coupling(mu_d1, mu_a1, r_1, n_1)\n",
    "print(dd_1)\n",
    "\n",
    "# only change x and z designation for mu_a and mu_d (2D)\n",
    "    "
   ]
  },
  {
   "cell_type": "markdown",
   "id": "bbad4dbe",
   "metadata": {},
   "source": [
    "## The Hamiltonian\n",
    "The Hamiltonian of this system can be tentatively described by eqation 3:\n",
    "\n",
    "$$ \\hat{H} = \\hat{H}_0 + \\hat{V}. \\tag{3} $$\n",
    "\n",
    "Using the notation from [Willard and co-workers](https://pubs.acs.org/doi/10.1021/acs.jpcc.8b11504)  \n",
    "\n",
    "\\begin{equation}\n",
    "\\hat{H}_0 = \\sum_n \\epsilon_n |n \\rangle \\langle n | \n",
    "\\end{equation}\n",
    "and \n",
    "\\begin{equation}\n",
    "\\hat{V} = \\sum_{nm} V_{nm} |n\\rangle \\langle m|\n",
    "\\end{equation}\n",
    "\n",
    "Here the projection operators will lead to diagonal contributions for $\\hat{H}_0$ \n",
    "\\begin{align}\n",
    "\\langle p | \\hat{H}_0 | q \\rangle &= \\langle p | \\sum_n \\epsilon_n |n \\rangle \\langle n |  q \\rangle \\\\\n",
    "&= \\langle p | \\epsilon_q |q \\rangle \\langle q |  q \\rangle \\\\ \n",
    "& = \\langle p | \\epsilon_q |q \\rangle \\cdot 1 \\\\\n",
    "&= \\epsilon_q \\langle p | q \\rangle \\\\\n",
    "&= \\epsilon_q \\delta_{pq}    \n",
    "\\end{align}\n",
    "and off-diagonal contributions for $\\hat{V}$:\n",
    "\\begin{align}\n",
    "\\langle p | \\hat{V} | q \\rangle &= \\langle p | \\sum_{nm} V_{nm} |n \\rangle \\langle m |  q \\rangle \\\\\n",
    "&= \\langle p | \\sum_{n} V_{nq} |n \\rangle \\langle q |  q \\rangle \\\\ \n",
    "& = \\langle p | \\sum_{n} V_{nq} |n \\rangle \\cdot 1 \\\\\n",
    "& =  \\sum_{n} V_{nq} \\langle p | n \\rangle  \\\\\n",
    "&= \\sum_{n} V_{nq}\\delta_{pn}  \\\\ \n",
    "&= V_{pq}\n",
    "\\end{align}\n",
    "where we note that an exciton does not interact with itself through this potential, so elements $V_{qq}$ are necessarily zero."
   ]
  },
  {
   "cell_type": "code",
   "execution_count": 15,
   "id": "e58fbb63",
   "metadata": {},
   "outputs": [
    {
     "data": {
      "text/plain": [
       "array([[2., 0.],\n",
       "       [0., 2.]])"
      ]
     },
     "execution_count": 15,
     "metadata": {},
     "output_type": "execute_result"
    }
   ],
   "source": [
    "def H0_matrix_element(n, m, epsilon_m):\n",
    "    \"\"\" Helper function to take two indices (n, m) and return the H_0 matrix element H_{n,m}, \n",
    "        which is <n|H_0|m> in Dirac's Bra-Ket notation.\n",
    "    \n",
    "    Arguments\n",
    "    ---------\n",
    "    n : int\n",
    "        the index corresponding to the bra state\n",
    "    m : int\n",
    "        the index corresponding to the ket state \n",
    "        \n",
    "    epsilon_m : float\n",
    "        the exciton energy of site m\n",
    "    \n",
    "    Returns\n",
    "    -------\n",
    "    H_nm : float \n",
    "        Hamiltonian matrix element <n|H_0 | m> = \\epsilon_m <n|m>\n",
    "    \n",
    "    \"\"\"\n",
    "    H_nm = (1 + dd_1) * (n == m)\n",
    "    return H_nm\n",
    "\n",
    "def build_hamiltonian(n_basis, exciton_energy, V_AD):\n",
    "    \"\"\" Function that builds the Hamailtonian which models the time evolution of an excitonic system based upon the\n",
    "        field free energy of the system and the dipole dipole coupling of the sysetem\n",
    "        \n",
    "    Arguments\n",
    "    ---------\n",
    "    H_o : numpy array of floats\n",
    "        a numpy array of spectral data fed to the function\n",
    "    V_AD : Float\n",
    "        dipole dipole coupling term that is given by the compute_dd_coupling() functionFunction that builds the Hamailtonian which models the time evolution of an excitonic system based upon the\n",
    "        field free energy of the system and the dipole dipole coupling of the sysetem\n",
    "        \n",
    "    \"\"\"\n",
    "    \n",
    "    H = np.zeros((n_basis, n_basis))\n",
    "    \n",
    "    for i in range(n_basis):\n",
    "        n = i \n",
    "        for j in range(n_basis):\n",
    "            m = j \n",
    "            H[i, j] = H_matrix_element(n, m)\n",
    "    return H\n",
    "\n",
    "build_hamiltonian(2, 1, dd_1)\n",
    "\n",
    "# Do I need to build a function that will parse a spectral data file and turn it into a matrix for exciton_energy?\n"
   ]
  },
  {
   "cell_type": "code",
   "execution_count": null,
   "id": "5b147405",
   "metadata": {},
   "outputs": [],
   "source": []
  },
  {
   "cell_type": "code",
   "execution_count": null,
   "id": "d91980ea",
   "metadata": {},
   "outputs": [],
   "source": []
  }
 ],
 "metadata": {
  "kernelspec": {
   "display_name": "Python 3 (ipykernel)",
   "language": "python",
   "name": "python3"
  },
  "language_info": {
   "codemirror_mode": {
    "name": "ipython",
    "version": 3
   },
   "file_extension": ".py",
   "mimetype": "text/x-python",
   "name": "python",
   "nbconvert_exporter": "python",
   "pygments_lexer": "ipython3",
   "version": "3.8.13"
  }
 },
 "nbformat": 4,
 "nbformat_minor": 5
}
