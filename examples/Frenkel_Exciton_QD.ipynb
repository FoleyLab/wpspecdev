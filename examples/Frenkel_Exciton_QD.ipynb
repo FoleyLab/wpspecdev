{
 "cells": [
  {
   "cell_type": "markdown",
   "id": "3e591e7e",
   "metadata": {},
   "source": [
    "## Quantum Dynamical Model for a Frenkel Exciton \n",
    "[Jay Foley and Lane Tolley, University of North Carolina Charlotte](https://foleylab.github.io/)\n",
    "\n",
    "#### objectives\n",
    "-Implement function that will build the Hamiltonian for a Frenkel Exciton within a 2D film\n",
    "\n",
    "#### Summary\n",
    "The time evolution of energy transferred within a 2D crystalline organic film can be described with excitonic degrees of freedom; the purpose of this notebook is to implement a function that will build the hamiltonian for such a system.\n",
    "    "
   ]
  },
  {
   "cell_type": "markdown",
   "id": "7a81af45",
   "metadata": {},
   "source": [
    "## Import libraries"
   ]
  },
  {
   "cell_type": "code",
   "execution_count": 1,
   "id": "b3999d65",
   "metadata": {},
   "outputs": [],
   "source": [
    "import numpy as np\n",
    "import scipy\n",
    "import math\n",
    "from matplotlib import pyplot as plt\n",
    "# Will come back and create a vizualization "
   ]
  },
  {
   "cell_type": "markdown",
   "id": "019736e3",
   "metadata": {},
   "source": [
    "## Theory\n",
    "\n",
    "The time evolution of energy transfer within a crystalline 2D film of a few organic monomers can be described with excitonic degrees of freedom. \n",
    "\n",
    "Quantum dynamical systems can be described with the time dependent Schrodinger equation (TDSE):\n",
    "\n",
    "$$ i\\hbar \\frac{d}{dt}\\Psi(x,t) = \\hat{H} \\Psi(x,t) \\tag{1} $$\n",
    "\n",
    "The Hamiltonian $\\hat{H}$ of this system is comprised of three changeable parameters: the number of basis sets, the exciton energy, and interparticle coupling. The number of basis sets will change based upon the number of monomers included within the system, the exciton energy is a value that will be approximated and chosen for the system, and the coupling term will require the use of another function, $\\hat{V}_{nm}$:\n",
    "\n",
    "$$ V_{nm} = \\frac{1}{{n^2}{r^3}} \\left( \\mu_n\\cdot \\mu_m - 3\\frac{(\\mu_n \\cdot {\\bf r})({\\bf r} \\cdot \\mu_m)}{r^2}\\right) \\tag{2} $$\n",
    "where $\\mu_n$ is the transition dipole moment associated with the exciton on site $n$, ${\\bf r}$ denotes the separation vector between site $n$ and $m$, and $r$ denotes the scalar separation between $n$ and $m$. \n"
   ]
  },
  {
   "cell_type": "markdown",
   "id": "8130484a",
   "metadata": {},
   "source": [
    "# Realistic Paramters for TTz Dyes \n",
    "### 2D Spacing\n",
    "$ [i, j, k] = [18.77, 10.39, 0] \\space \\text{Angstrom} =  \\textbf{[35.47, 19.63, 0] au}   $\n",
    "### Exciton Energy Parameters\n",
    "$ \\lambda = \\textbf{460 nm} $\n",
    "\n",
    "$E = 4.318*10^{-19} \\space J = 2.695  eV = \\textbf{0.099 au} $\n",
    "    \n",
    "    "
   ]
  },
  {
   "cell_type": "code",
   "execution_count": 2,
   "id": "5d6825c4",
   "metadata": {},
   "outputs": [
    {
     "name": "stdout",
     "output_type": "stream",
     "text": [
      "0.25\n"
     ]
    }
   ],
   "source": [
    "def compute_dd_coupling(mu_d, mu_a, r_vector, n):\n",
    "    \"\"\" Function that computes the dipole dipole coupling contribution of the total energy of a system based upon mu_d,\n",
    "        the transition dipole moment of the donor, mu_a, the transition dipole moment of the acceptor, r_vector, the \n",
    "        distance separating the donor and acceptor, and the refractive index, a paremeter that describes the effect of \n",
    "        the system on light.\n",
    "    \n",
    "    Arguments\n",
    "    ---------\n",
    "    mu_d : numpy array of floats\n",
    "        the transition dipole mooment of the donor\n",
    "    mu_a : numpy array of floats\n",
    "        the transition dipole moment of the acceptor\n",
    "    r : numpy array of floats\n",
    "        the distance separating the donor and acceptor\n",
    "    n : float\n",
    "        refractive index of the medium\n",
    "    \"\"\"\n",
    "\n",
    "    r_scalar = np.sqrt(np.dot(r_vector, r_vector))\n",
    "    \n",
    "    return (1 / (n ** 2 * r_scalar ** 3)) * (np.dot(mu_d, mu_a) - 3 * (np.dot(mu_d, r_vector) * np.dot(r_vector, mu_a)) / r_scalar ** 2)\n",
    "\n",
    "mu_d1 = np.array([0,0,0.5]) \n",
    "mu_a1 = np.array([0,0,0.5])\n",
    "r_1 = [1,0,0] \n",
    "n_1 = 1.0\n",
    "\n",
    "dd_1 = compute_dd_coupling(mu_d1, mu_a1, r_1, n_1)\n",
    "print(dd_1)\n",
    "\n",
    "# only change x and z designation for mu_a and mu_d (2D)\n",
    "    "
   ]
  },
  {
   "cell_type": "markdown",
   "id": "5c8b4cd2",
   "metadata": {},
   "source": [
    "We will add test cell here for the compute_dd_coupling function.  The scaling of the $V$ as a function of $r$ should go as $\\frac{1}{r^3}$.  "
   ]
  },
  {
   "cell_type": "code",
   "execution_count": 3,
   "id": "c95d7f81",
   "metadata": {},
   "outputs": [
    {
     "data": {
      "image/png": "[encoded data removed]",
      "text/plain": [
       "<Figure size 432x288 with 1 Axes>"
      ]
     },
     "metadata": {
      "needs_background": "light"
     },
     "output_type": "display_data"
    }
   ],
   "source": [
    "# mu_1\n",
    "mu_1 = np.array([0,0,1]) \n",
    "\n",
    "# mu_2\n",
    "mu_2 = np.array([0,0,1])\n",
    "\n",
    "# refractive index\n",
    "n = 1.0\n",
    "\n",
    "# create an array of scalar separation values ranging from 0.5 - 2.5\n",
    "r_vals = np.linspace(0.5, 4, 7)\n",
    "\n",
    "# get shortest separation vector\n",
    "r_i = [r_vals[0],0,0] \n",
    "\n",
    "# get the potential corresponding to shortest separation vector\n",
    "V_i = compute_dd_coupling(mu_1, mu_2, r_i, n)\n",
    "\n",
    "# expected V as a function of r\n",
    "expected_V_of_r = V_i * (r_vals[0] / r_vals) ** 3\n",
    "\n",
    "# now calculate V of r using the function\n",
    "V_of_r = np.zeros_like(r_vals)\n",
    "\n",
    "# now call compute_dd_coupling for each separation vector\n",
    "for i in range(len(r_vals)):\n",
    "    r_i = [r_vals[i], 0, 0]\n",
    "    V_r = compute_dd_coupling(mu_1, mu_2, r_i, n)\n",
    "    V_of_r[i] = V_r\n",
    "\n",
    "\n",
    "plt.plot(r_vals, expected_V_of_r, \"bo-\", label=\"Expected\")\n",
    "plt.plot(r_vals, V_of_r, 'r--', label=\"Calculated\")\n",
    "plt.xlabel(\"Separation (atomic units)\")\n",
    "plt.ylabel(\"Potential (atomic units)\")\n",
    "plt.legend()\n",
    "plt.show()\n",
    "\n",
    "assert np.allclose(V_of_r, expected_V_of_r)"
   ]
  },
  {
   "cell_type": "markdown",
   "id": "bbad4dbe",
   "metadata": {},
   "source": [
    "## The Frenkle Exciton Hamiltonian\n",
    "The Hamiltonian of this system can be tentatively described by eqation 3:\n",
    "\n",
    "$$ \\hat{H}_F = \\hat{H}_0 + \\hat{V}. \\tag{3} $$\n",
    "\n",
    "Using the notation from [Willard and co-workers](https://pubs.acs.org/doi/10.1021/acs.jpcc.8b11504)  \n",
    "\n",
    "\\begin{equation}\n",
    "\\hat{H}_0 = \\sum_n \\epsilon_n |n \\rangle \\langle n | \n",
    "\\end{equation}\n",
    "and \n",
    "\\begin{equation}\n",
    "\\hat{V} = \\sum_{nm} V_{nm} |n\\rangle \\langle m|\n",
    "\\end{equation}\n",
    "\n",
    "Here the projection operators will lead to diagonal contributions for $\\hat{H}_0$ \n",
    "\\begin{align}\n",
    "\\langle p | \\hat{H}_0 | q \\rangle &= \\langle p | \\sum_n \\epsilon_n |n \\rangle \\langle n |  q \\rangle \\\\\n",
    "&= \\langle p | \\epsilon_q |q \\rangle \\langle q |  q \\rangle \\\\ \n",
    "& = \\langle p | \\epsilon_q |q \\rangle \\cdot 1 \\\\\n",
    "&= \\epsilon_q \\langle p | q \\rangle \\\\\n",
    "&= \\epsilon_q \\delta_{pq}    \n",
    "\\end{align}\n",
    "and off-diagonal contributions for $\\hat{V}$:\n",
    "\\begin{align}\n",
    "\\langle p | \\hat{V} | q \\rangle &= \\langle p | \\sum_{nm} V_{nm} |n \\rangle \\langle m |  q \\rangle \\\\\n",
    "&= \\langle p | \\sum_{n} V_{nq} |n \\rangle \\langle q |  q \\rangle \\\\ \n",
    "& = \\langle p | \\sum_{n} V_{nq} |n \\rangle \\cdot 1 \\\\\n",
    "& =  \\sum_{n} V_{nq} \\langle p | n \\rangle  \\\\\n",
    "&= \\sum_{n} V_{nq}\\delta_{pn}  \\\\ \n",
    "&= V_{pq}\n",
    "\\end{align}\n",
    "where we note that an exciton does not interact with itself through this potential, so elements $V_{qq}$ are necessarily zero."
   ]
  },
  {
   "cell_type": "markdown",
   "id": "93549a0d",
   "metadata": {},
   "source": [
    "## Photon-Exciton Coupling\n",
    "The total Hamiltonian for the system also necessarily includes terms for photons emmitted by relaxation of excitons, and coupling between thew two. The total Hamiltonian will take the form of equation 4:\n",
    "\n",
    "$$ \\hat{H}_T = \\hat{H}_F + \\hat{H}_P + \\hat{H}_I  \\tag{4}$$ \n",
    "\n",
    "where $ \\hat{H}_F $ is the Frenkel exciton hamiltonian described above, $ \\hat{H}_P $ is the hamiltonian of a photon emitted by exciton relaxation, and $ \\hat{H}_I $ is the coupling between an exciton and its associated photon, and are described by the following equations:\n",
    "\n",
    "$$ \\hat{H}_P | n \\rangle = \\hbar \\omega (n + \\frac{1}{2}) \\tag{5} $$\n",
    "$$ \\hat{H}_I = \\color{blue}{g a^\\dagger_g a_e b^\\dagger} + \\color{red}{g a^\\dagger_e a_g b} \\tag{6} $$\n",
    "\n",
    "Where $ b^\\dagger $ and  $ b $ are raising and lowering operators, respectively, I.E.:\n",
    "\n",
    "$$ b^\\dagger | 0 \\rangle = \\sqrt{1} | 1 \\rangle $$\n",
    "$$ b | 1 \\rangle = \\sqrt{1} | 0 \\rangle $$\n",
    "\n",
    "In other words:\n",
    "\n",
    "$ \\color{blue}{g a^\\dagger_g a_e b^\\dagger} $ describes the emission of photons to increase population of the ground state\n",
    "\n",
    "$ \\color{red}{g a^\\dagger_e a_g b} $ decsribes the absorption of photons to increase the population of the excited state\n",
    "\n",
    "and g is the exciton-photon coupling strength:\n",
    "\n",
    "$$ g \\space \\propto \\space \\sqrt{\\frac{1}{V}} * \\mu $$\n",
    "\n",
    "Where V is the volume of the cavity and $ \\mu $ is the transition dipole moment"
   ]
  },
  {
   "cell_type": "code",
   "execution_count": 4,
   "id": "e58fbb63",
   "metadata": {},
   "outputs": [
    {
     "data": {
      "text/plain": [
       "array([[1.25, 1.25],\n",
       "       [1.25, 1.25]])"
      ]
     },
     "execution_count": 4,
     "metadata": {},
     "output_type": "execute_result"
    }
   ],
   "source": [
    "def H0_matrix_element(n, m, epsilon_m):\n",
    "    \"\"\" Helper function to take two indices (n, m) and return the H_0 matrix element H_{n,m}, \n",
    "        which is <n|H_0|m> in Dirac's Bra-Ket notation.\n",
    "    \n",
    "    Arguments\n",
    "    ---------\n",
    "    n : int\n",
    "        the index corresponding to the bra state\n",
    "    m : int\n",
    "        the index corresponding to the ket state \n",
    "        \n",
    "    epsilon_m : float\n",
    "        the exciton energy of site m\n",
    "    \n",
    "    Returns\n",
    "    -------\n",
    "    H_nm : float \n",
    "        Hamiltonian matrix element <n|H_0 | m> = \\epsilon_m <n|m>\n",
    "    \n",
    "    \"\"\"\n",
    "    H_nm = epsilon_m * (n == m)\n",
    "    \n",
    "    return H_nm\n",
    "\n",
    "def V_matrix_elements(n, m, V_AD):\n",
    "    \"\"\" Helper function to take two indices (n, m) and return the V matrix element V_{n,m}, \n",
    "        which is <n|V|m> in Dirac's Bra-Ket notation.\n",
    "    \n",
    "    Arguments\n",
    "    ---------\n",
    "    n : int\n",
    "        the index corresponding to the bra state\n",
    "    m : int\n",
    "        the index corresponding to the ket state \n",
    "        \n",
    "    mu_n : float (vector with x, y, and z components)\n",
    "        transition dipole moment for site n\n",
    "        \n",
    "    mu_m : float (vector with x, y, and z components)\n",
    "        transition dipole moment for site m\n",
    "        \n",
    "    r_nm : float (vector with x, y, and z components)\n",
    "        separation vector between sites n and m\n",
    "    \n",
    "    Returns\n",
    "    -------\n",
    "    V : float \n",
    "        Hamiltonian matrix element <n|V | m> = V_nm\n",
    "    \n",
    "    \"\"\"\n",
    "    pass\n",
    "\n",
    "\n",
    "def build_hamiltonian(n_basis, exciton_energy, V_AD):\n",
    "    \"\"\" Function that builds the Hamailtonian which models the time evolution of an excitonic system based upon the\n",
    "        field free energy of the system and the dipole dipole coupling of the sysetem\n",
    "        \n",
    "    Arguments\n",
    "    ---------\n",
    "    H_o : numpy array of floats\n",
    "        a numpy array of spectral data fed to the function\n",
    "    V_AD : Float\n",
    "        dipole dipole coupling term that is given by the compute_dd_coupling() functionFunction that builds the Hamailtonian which models the time evolution of an excitonic system based upon the\n",
    "        field free energy of the system and the dipole dipole coupling of the sysetem\n",
    "        \n",
    "    \"\"\"\n",
    "    \n",
    "    H = np.zeros((n_basis, n_basis))\n",
    "    \n",
    "    for i in range(n_basis):\n",
    "        n = i \n",
    "        for j in range(n_basis):\n",
    "            m = j \n",
    "            H[i, j] = exciton_energy + V_AD\n",
    "    return H\n",
    "\n",
    "build_hamiltonian(2, 1, dd_1)\n"
   ]
  },
  {
   "cell_type": "markdown",
   "id": "13ac8b10",
   "metadata": {},
   "source": [
    "Test cell for the Hamiltonian functions"
   ]
  },
  {
   "cell_type": "code",
   "execution_count": 5,
   "id": "d91980ea",
   "metadata": {},
   "outputs": [],
   "source": [
    "# let's pick a reasonable value for epsilon based on a 2.0 eV exciton\n",
    "epsilon_eV = 2.0\n",
    "\n",
    "# convert to atomic units\n",
    "epsilon = epsilon_eV / 27.211\n",
    "\n",
    "# define some expected H0 matrix values\n",
    "expected_H_11 = epsilon\n",
    "expected_H_12 = 0\n",
    "expected_H_22 = epsilon\n",
    "expected_H_21 = 0\n",
    "\n",
    "H_11 = H0_matrix_element(1, 1, epsilon)\n",
    "H_12 = H0_matrix_element(1, 2, epsilon)\n",
    "H_22 = H0_matrix_element(2, 2, epsilon)\n",
    "H_21 = H0_matrix_element(2, 1, epsilon)\n",
    "\n",
    "# now check to make sure these check out\n",
    "assert np.isclose(H_11, expected_H_11)\n",
    "assert np.isclose(H_12, expected_H_12)\n",
    "assert np.isclose(H_22, expected_H_22)\n",
    "assert np.isclose(H_21, expected_H_21)\n",
    "\n"
   ]
  },
  {
   "cell_type": "code",
   "execution_count": 7,
   "id": "d8c5266f",
   "metadata": {},
   "outputs": [
    {
     "name": "stdout",
     "output_type": "stream",
     "text": [
      "(array([0.  , 5.89]), array([[-0.70710678,  0.70710678],\n",
      "       [ 0.70710678,  0.70710678]]))\n"
     ]
    }
   ],
   "source": [
    "hamiltonian_matrix = build_hamiltonian(2, 2.695, dd_1)\n",
    "E_spec = np.linalg.eigh(hamiltonian_matrix)\n",
    "print(E_spec)"
   ]
  },
  {
   "cell_type": "markdown",
   "id": "05474484",
   "metadata": {},
   "source": [
    "One note about the build_hamiltonian function:\n",
    "\n",
    "I imagine we will want to pass information about the geometry of the thin film as an array of cartesian coordinates that gives the center of mass for each monomer.  Therefore, the site basis can be thought of as a real-space basis so that state $|n\\rangle$ sits at coordinates ${\\bf x}_n = (x_n, y_n, z_n)$.  When we evauate the potential between states $|n\\rangle$ and $|m\\rangle$, we will define the displacement vector as\n",
    "${\\bf r}_{nm} = ((x_m - x_n), (y_m - y_n), (z_m - z_n))$.\n",
    "\n",
    "So, I think we will want to have the build_hamiltonian to accept an array of cartesian coordinates for all monomoers.  We can do a first test with a dimer along the lines of \n",
    "\n",
    "${\\bf x} = ((0, 0, 0), (1, 0, 0))$ which would have a displacement vector ${\\bf r} = (1, 0, 0)$."
   ]
  }
 ],
 "metadata": {
  "kernelspec": {
   "display_name": "Python 3 (ipykernel)",
   "language": "python",
   "name": "python3"
  },
  "language_info": {
   "codemirror_mode": {
    "name": "ipython",
    "version": 3
   },
   "file_extension": ".py",
   "mimetype": "text/x-python",
   "name": "python",
   "nbconvert_exporter": "python",
   "pygments_lexer": "ipython3",
   "version": "3.9.12"
  }
 },
 "nbformat": 4,
 "nbformat_minor": 5
}
