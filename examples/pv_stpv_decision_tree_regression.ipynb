{
 "cells": [
  {
   "cell_type": "code",
   "execution_count": 12,
   "id": "01aefdab",
   "metadata": {},
   "outputs": [
    {
     "data": {
      "text/plain": [
       "DecisionTreeRegressor()"
      ]
     },
     "execution_count": 12,
     "metadata": {},
     "output_type": "execute_result"
    }
   ],
   "source": [
    "import numpy as np\n",
    "from sklearn.model_selection import train_test_split\n",
    "import matplotlib.pyplot as plt\n",
    "from sklearn.tree import DecisionTreeRegressor\n",
    "from sklearn.metrics import mean_squared_error, mean_absolute_error\n",
    "\n",
    "######################################################################\n",
    "dataset = np.loadtxt('stpv_pv_20k.csv', delimiter=',')\n",
    "feature_names = ['d1', 'd2', 'd3', 'd4', 'am_absorb', 'swir_emit']\n",
    "\n",
    "X = dataset[:,0:4]\n",
    "y1 = dataset[:,4]\n",
    "y2 = dataset[:,5]\n",
    "\n",
    "# split into train and test datasets\n",
    "X_train, X_test, y_train, y_test = train_test_split(X, y1, test_size=0.33)\n",
    "\n",
    "\n",
    "############################################################\n",
    "### Decision tree\n",
    "tree = DecisionTreeRegressor()\n",
    "tree.fit(X_train, y_train)\n",
    "\n"
   ]
  },
  {
   "cell_type": "code",
   "execution_count": 21,
   "id": "5e3c5025",
   "metadata": {},
   "outputs": [
    {
     "name": "stdout",
     "output_type": "stream",
     "text": [
      "getting solar spectrum\n",
      " Your spectra have been computed! 😎 \n",
      " Your spectra have been computed! 🔥 \n",
      "6.56263602124357  W / s / m^2 emitted\n",
      "288.4765013494398  W / s / m^2 transmitted\n",
      "10.200643508913217  W / s / m^2 emitted\n",
      "461.7291630999993  W / s / m^2 transmitted\n"
     ]
    }
   ],
   "source": [
    "import wpspecdev\n",
    "# define a test structure\n",
    "test_args = {\n",
    "    \"therml\": True,\n",
    "    'TeMperature' : 440,\n",
    "    \"wavelength_list\": [300e-9, 20300e-9, 1001],\n",
    "    \"material_list\": ['Air', 'SiO2', 'Al', 'SiO2', 'Ta2O5', 'polystyrene', 'SiO2', 'Al', 'SiO2', 'Ta2O5', 'Air'], \n",
    "    \"thickness_list\": [0, 2.64e-07, 1.5e-09, 2.64e-07, 3.73e-07,  0.001, 3.80e-07, 1.5e-09, 3.80e-07, 5.31e-07, 0]\n",
    "}\n",
    "\n",
    "\n",
    "sf = wpspecdev.SpectrumFactory()  \n",
    "\n",
    "# create instance of class\n",
    "ts = sf.spectrum_factory(\"Tmm\", test_args)\n",
    "\n",
    "# want to create a step function so that we can only integrate\n",
    "# a subinterval of the entire reflectivity function up to 760 nm\n",
    "target_pv = 760e-9 * np.ones_like(ts.wavelength_array)\n",
    "stop_idx = np.argmin(np.abs( target_pv - ts.wavelength_array) )\n",
    "\n",
    "# step function to cut off at \\lambda_bg of the PV\n",
    "step_pv = np.zeros_like(ts.wavelength_array)\n",
    "step_pv[:stop_idx] = 1.\n",
    "\n",
    "# do the same for the to create a step function between 1000 and 3500 nm\n",
    "target_min = 1000e-9 * np.ones_like(ts.wavelength_array)\n",
    "target_max = 3500e-9 * np.ones_like(ts.wavelength_array)\n",
    "\n",
    "min_idx = np.argmin(np.abs( target_min - ts.wavelength_array))\n",
    "max_idx = np.argmin(np.abs( target_max - ts.wavelength_array))\n",
    "\n",
    "step_swir = np.zeros_like(ts.wavelength_array)\n",
    "step_swir[min_idx:max_idx] = 1.\n",
    "\n",
    "\n",
    "### Integrate the above-gap solar flux transmitted through optic\n",
    "AM_transmit_power = np.trapz(ts._solar_spectrum * step_pv *  ts.transmissivity_array, ts.wavelength_array)\n",
    "### Integrate the thermal emission of the optic in the SWIR\n",
    "SWIR_emit_power = np.trapz(ts.thermal_emission_array * step_swir, ts.wavelength_array)\n",
    "\n",
    "### Integrate the total above-gap solar flux\n",
    "AM_above_gap = np.trapz(ts._solar_spectrum * step_pv, ts.wavelength_array)\n",
    "### Integrate the total BB emission at 440 K in the SWIR\n",
    "SWIR_power = np.trapz(ts.blackbody_spectrum * step_swir, ts.wavelength_array)\n",
    "\n",
    "\n",
    "print(SWIR_emit_power,  \" W / s / m^2 emitted\")\n",
    "print(AM_transmit_power,\" W / s / m^2 transmitted\")\n",
    "\n",
    "print(SWIR_power,  \" W / s / m^2 emitted\")\n",
    "print(AM_above_gap,\" W / s / m^2 transmitted\")\n"
   ]
  },
  {
   "cell_type": "code",
   "execution_count": 76,
   "id": "fea7f802",
   "metadata": {},
   "outputs": [],
   "source": [
    "import random\n",
    "def update_multilayer(SP, AP, d):\n",
    "    # scale d so that each entry is in range [0, 700nm)\n",
    "    ts.thickness_array[3] = d[0] * 700e-9\n",
    "    ts.thickness_array[4] = d[1] * 700e-9\n",
    "    ts.thickness_array[8] = d[2] * 700e-9\n",
    "    ts.thickness_array[9] = d[3] * 700e-9\n",
    "    \n",
    "    # update spectra\n",
    "    ts.compute_spectrum()\n",
    "    ts._compute_therml_spectrum(ts.wavelength_array, ts.emissivity_array)\n",
    "    AM_transmit_power = np.trapz(ts._solar_spectrum * step_pv *  ts.transmissivity_array, ts.wavelength_array)\n",
    "    ### Integrate the thermal emission of the optic in the SWIR\n",
    "    SWIR_emit_power = np.trapz(ts.thermal_emission_array * step_swir, ts.wavelength_array)\n",
    "    return AM_transmit_power/AP, SWIR_emit_power/SP"
   ]
  },
  {
   "cell_type": "code",
   "execution_count": 77,
   "id": "82b526fd",
   "metadata": {},
   "outputs": [],
   "source": [
    "def objective_exact(x0):\n",
    "    print(x0)\n",
    "    a, b = update_multilayer(SWIR_power, AM_above_gap, x0)\n",
    "    return -a\n",
    "\n",
    "def objective_ml(x0):\n",
    "    print(x0)\n",
    "    x_test = x0.reshape(1, -1)\n",
    "    print(x_test)\n",
    "    a = tree.predict(x_test)\n",
    "    return -a[0]\n",
    "\n",
    "    \n",
    "    "
   ]
  },
  {
   "cell_type": "code",
   "execution_count": 83,
   "id": "78027dd8",
   "metadata": {},
   "outputs": [
    {
     "name": "stdout",
     "output_type": "stream",
     "text": [
      "[0.9795551  0.9411697  0.13897678 0.1824032 ]\n"
     ]
    }
   ],
   "source": [
    "d = np.random.rand(4)\n",
    "print(d)\n"
   ]
  },
  {
   "cell_type": "code",
   "execution_count": 84,
   "id": "95ef87b8",
   "metadata": {},
   "outputs": [
    {
     "name": "stdout",
     "output_type": "stream",
     "text": [
      "[0.9795551  0.9411697  0.13897678 0.1824032 ]\n",
      "-0.6037389389707041\n"
     ]
    }
   ],
   "source": [
    "print(objective_exact(d))"
   ]
  },
  {
   "cell_type": "code",
   "execution_count": 85,
   "id": "46167df2",
   "metadata": {},
   "outputs": [
    {
     "name": "stdout",
     "output_type": "stream",
     "text": [
      "[0.9795551  0.9411697  0.13897678 0.1824032 ]\n",
      "[[0.9795551  0.9411697  0.13897678 0.1824032 ]]\n",
      "-0.6060185303044683\n"
     ]
    }
   ],
   "source": [
    "print(objective_ml(d))"
   ]
  },
  {
   "cell_type": "code",
   "execution_count": 86,
   "id": "af7ceb47",
   "metadata": {},
   "outputs": [
    {
     "name": "stdout",
     "output_type": "stream",
     "text": [
      "[0.9795551  0.9411697  0.13897678 0.1824032 ]\n",
      "[0.97955511 0.9411697  0.13897678 0.1824032 ]\n",
      "[0.9795551  0.94116971 0.13897678 0.1824032 ]\n",
      "[0.9795551  0.9411697  0.13897679 0.1824032 ]\n",
      "[0.9795551  0.9411697  0.13897678 0.18240321]\n",
      "[1.         1.         0.75305529 0.79648171]\n",
      "[0.99999999 1.         0.75305529 0.79648171]\n",
      "[1.         0.99999999 0.75305529 0.79648171]\n",
      "[1.         1.         0.7530553  0.79648171]\n",
      "[1.         1.         0.75305529 0.79648172]\n",
      "[0.98058675 0.97044268 0.5916779  0.63510432]\n",
      "[0.98058676 0.97044268 0.5916779  0.63510432]\n",
      "[0.98058675 0.97044269 0.5916779  0.63510432]\n",
      "[0.98058675 0.97044268 0.59167791 0.63510432]\n",
      "[0.98058675 0.97044268 0.5916779  0.63510433]\n",
      "[0.99538463 0.99297294 0.71468887 0.75811529]\n",
      "[0.99538464 0.99297294 0.71468887 0.75811529]\n",
      "[0.99538463 0.99297295 0.71468887 0.75811529]\n",
      "[0.99538463 0.99297294 0.71468888 0.75811529]\n",
      "[0.99538463 0.99297294 0.71468887 0.7581153 ]\n",
      "[0.9975804  0.99631607 0.73294176 0.77636818]\n",
      "[0.99758041 0.99631607 0.73294176 0.77636818]\n",
      "[0.9975804  0.99631608 0.73294176 0.77636818]\n",
      "[0.9975804  0.99631607 0.73294177 0.77636818]\n",
      "[0.9975804  0.99631607 0.73294176 0.77636819]\n",
      "[0.99126605 0.98970282 0.72855715 0.77198357]\n",
      "[0.99126606 0.98970282 0.72855715 0.77198357]\n",
      "[0.99126605 0.98970283 0.72855715 0.77198357]\n",
      "[0.99126605 0.98970282 0.72855716 0.77198357]\n",
      "[0.99126605 0.98970282 0.72855715 0.77198358]\n",
      "[0.99068637 0.98938608 0.73281008 0.7762365 ]\n",
      "[0.99068638 0.98938608 0.73281008 0.7762365 ]\n",
      "[0.99068637 0.98938609 0.73281008 0.7762365 ]\n",
      "[0.99068637 0.98938608 0.73281009 0.7762365 ]\n",
      "[0.99068637 0.98938608 0.73281008 0.77623651]\n",
      "[0.98756178 0.98645015 0.73603647 0.77946289]\n",
      "[0.98756179 0.98645015 0.73603647 0.77946289]\n",
      "[0.98756178 0.98645016 0.73603647 0.77946289]\n",
      "[0.98756178 0.98645015 0.73603648 0.77946289]\n",
      "[0.98756178 0.98645015 0.73603647 0.7794629 ]\n",
      "[0.98674566 0.98565569 0.73643635 0.77986277]\n",
      "[0.98674567 0.98565569 0.73643635 0.77986277]\n",
      "[0.98674566 0.9856557  0.73643635 0.77986277]\n",
      "[0.98674566 0.98565569 0.73643636 0.77986277]\n",
      "[0.98674566 0.98565569 0.73643635 0.77986278]\n",
      "[0.98688727 0.98579661 0.73641615 0.77984256]\n",
      "[0.98688728 0.98579661 0.73641615 0.77984256]\n",
      "[0.98688727 0.98579662 0.73641615 0.77984256]\n",
      "[0.98688727 0.98579661 0.73641616 0.77984256]\n",
      "[0.98688727 0.98579661 0.73641615 0.77984257]\n",
      "[0.98688392 0.9857933  0.73641705 0.77984347]\n",
      "[0.98688393 0.9857933  0.73641705 0.77984347]\n",
      "[0.98688392 0.98579331 0.73641705 0.77984347]\n",
      "[0.98688392 0.9857933  0.73641706 0.77984347]\n",
      "[0.98688392 0.9857933  0.73641705 0.77984348]\n",
      "Status : CONVERGENCE: NORM_OF_PROJECTED_GRADIENT_<=_PGTOL\n",
      "Total Evaluations: 55\n",
      "[0.98688392 0.9857933  0.73641705 0.77984347]\n",
      "Solution: f([0.98688392 0.9857933  0.73641705 0.77984347]) = -0.62264\n"
     ]
    }
   ],
   "source": [
    "from scipy.optimize import minimize\n",
    " \n",
    "bfgs_xmin = np.ones(4) * 0.001428\n",
    "bfgs_xmax = np.ones(4)\n",
    "\n",
    "# rewrite the bounds in the way required by L-BFGS-B\n",
    "bfgs_bounds = [(low, high) for low, high in zip(bfgs_xmin, bfgs_xmax)]\n",
    "\n",
    "# perform the search\n",
    "result = minimize(objective_exact, d, method='L-BFGS-B', jac=False, bounds=bfgs_bounds)\n",
    "# summarize the result\n",
    "print('Status : %s' % result['message'])\n",
    "print('Total Evaluations: %d' % result['nfev'])\n",
    "# evaluate solution\n",
    "solution = result['x']\n",
    "evaluation = objective_exact(solution)\n",
    "print('Solution: f(%s) = %.5f' % (solution, evaluation))"
   ]
  },
  {
   "cell_type": "code",
   "execution_count": 87,
   "id": "eddee4ed",
   "metadata": {},
   "outputs": [
    {
     "name": "stdout",
     "output_type": "stream",
     "text": [
      "[0.9795551  0.9411697  0.13897678 0.1824032 ]\n",
      "[[0.9795551  0.9411697  0.13897678 0.1824032 ]]\n",
      "[0.97955511 0.9411697  0.13897678 0.1824032 ]\n",
      "[[0.97955511 0.9411697  0.13897678 0.1824032 ]]\n",
      "[0.9795551  0.94116971 0.13897678 0.1824032 ]\n",
      "[[0.9795551  0.94116971 0.13897678 0.1824032 ]]\n",
      "[0.9795551  0.9411697  0.13897679 0.1824032 ]\n",
      "[[0.9795551  0.9411697  0.13897679 0.1824032 ]]\n",
      "[0.9795551  0.9411697  0.13897678 0.18240321]\n",
      "[[0.9795551  0.9411697  0.13897678 0.18240321]]\n",
      "Status : CONVERGENCE: NORM_OF_PROJECTED_GRADIENT_<=_PGTOL\n",
      "Total Evaluations: 5\n",
      "[0.9795551  0.9411697  0.13897678 0.1824032 ]\n",
      "[[0.9795551  0.9411697  0.13897678 0.1824032 ]]\n",
      "Solution: f([0.9795551  0.9411697  0.13897678 0.1824032 ]) = -0.60602\n"
     ]
    }
   ],
   "source": [
    "# perform the search\n",
    "result = minimize(objective_ml, d, method='l-bfgs-b', jac=False, bounds=bfgs_bounds)\n",
    "# summarize the result\n",
    "print('Status : %s' % result['message'])\n",
    "print('Total Evaluations: %d' % result['nfev'])\n",
    "# evaluate solution\n",
    "solution = result['x']\n",
    "evaluation = objective_ml(solution)\n",
    "print('Solution: f(%s) = %.5f' % (solution, evaluation))"
   ]
  },
  {
   "cell_type": "code",
   "execution_count": null,
   "id": "0bf86d54",
   "metadata": {},
   "outputs": [],
   "source": []
  }
 ],
 "metadata": {
  "kernelspec": {
   "display_name": "Python 3",
   "language": "python",
   "name": "python3"
  },
  "language_info": {
   "codemirror_mode": {
    "name": "ipython",
    "version": 3
   },
   "file_extension": ".py",
   "mimetype": "text/x-python",
   "name": "python",
   "nbconvert_exporter": "python",
   "pygments_lexer": "ipython3",
   "version": "3.7.10"
  }
 },
 "nbformat": 4,
 "nbformat_minor": 5
}
