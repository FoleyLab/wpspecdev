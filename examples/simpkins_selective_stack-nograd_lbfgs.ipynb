{
 "cells": [
  {
   "cell_type": "markdown",
   "id": "4c75256a",
   "metadata": {},
   "source": [
    "# Objective\n",
    "We're interested in a mirror that is reflective in the mid-IR (reflective\n",
    "band centered 1550 - 2200 cm-1 depending on exact system, with reflectivity\n",
    "band width of ~200 cm-1 or more) and as transmissive as possible in the\n",
    "upper visible (roughly from 350-700 nm)\n",
    "\n",
    "Potential materials include: Ag, Si3N4, SiO2, TiO2, Al2O3, Ta2O5, ZrO2\n",
    "\n",
    "\n",
    "\n",
    "# Can a DBR work?\n",
    "If we center the reflection band in the mid-IR, can we get lucky enough to have high transmissivity in \n",
    "the visible band?  We can start with a guess structure based on this concept and\n",
    "try to optimize the thicknesses from there.  \n",
    "\n",
    "We will base the guess thicknesses on using SiO2 ($n \\approx 1.5$) and Al2O3 ($n \\approx 1.85$) using\n",
    "$$ nd=\\frac{\\lambda}{4} \\rightarrow d = \\frac{\\lambda}{4n}$$\n",
    "\n",
    "with $\\lambda = 5 \\mu m$."
   ]
  },
  {
   "cell_type": "code",
   "execution_count": 1,
   "id": "a7abd296",
   "metadata": {},
   "outputs": [],
   "source": [
    "import wptherml\n",
    "from matplotlib import pyplot as plt\n",
    "import numpy as np\n",
    "import time"
   ]
  },
  {
   "cell_type": "code",
   "execution_count": 2,
   "id": "92c88b6b",
   "metadata": {},
   "outputs": [
    {
     "name": "stdout",
     "output_type": "stream",
     "text": [
      "Trial thickness of glass layer is 8.333e-07 m\n",
      "Trial thickness of alumina layer is 6.757e-07 m\n"
     ]
    }
   ],
   "source": [
    "# guess thickness for glass\n",
    "d1 = 5000e-9 / (4 * 1.5)\n",
    "# guess thickness for Al2O3\n",
    "d2 = 5000e-9 / (4 * 1.85)\n",
    "\n",
    "print(F\"Trial thickness of glass layer is {d1:.3e} m\")\n",
    "print(F\"Trial thickness of alumina layer is {d2:.3e} m\")"
   ]
  },
  {
   "cell_type": "markdown",
   "id": "3556eaa5",
   "metadata": {},
   "source": [
    "We will set up a structure with 13 periods of alternating SiO2 and Al2O3 (26 layers total).\n",
    "\n",
    "The spectra will be computed in the wavelength range $300 \\: nm - 6000 \\: nm$.\n",
    "\n",
    "We will set the desired window of high reflectivity to be between $2000 \\: cm^{-1} - 2400 \\: cm^{-1}$\n",
    "(equivalently, $4166 \\: nm - 5000 \\: nm$.)\n",
    "\n",
    "We will compute two different figures of merit that we will call the transmission efficiency ($\\eta_T$)\n",
    "and the reflection efficiency ($\\eta_R$).\n",
    "\n",
    "We will define the transmission efficiency as \n",
    "\n",
    "$$ \\eta_T = \\frac{\\int_{\\lambda_1}^{\\lambda_2} \\Pi_T(\\lambda) T(\\lambda) d\\lambda }{\\int_{\\lambda_1}^{\\lambda_2} \\Pi_T(\\lambda) d\\lambda} $$\n",
    "where $T(\\lambda)$ is the transmission spectrum of the stack and $\\Pi_T(\\lambda)$ is the desired \n",
    "transmission envelope (defined to be 1 in the range specified by the `transmissive_window_nm` keyword and 0 elsewhere; note the user specifies this in units of nanometers.  The default is 350 - 700 nm).\n",
    "\n",
    "The reflection efficiency can be defined as\n",
    "$$ \\eta_R = \\frac{\\int_{\\lambda_1}^{\\lambda_2} \\Pi_R(\\lambda) R(\\lambda) d\\lambda }{\\int_{\\lambda_1}^{\\lambda_2} R(\\lambda) d\\lambda} $$\n",
    "where $R(\\lambda)$ is the reflection spectrum of the stack and $\\Pi_R(\\lambda)$ is the desired \n",
    "reflection envelope (defined to be 1 in the range specified by the `reflective_window_wn` keyword and 0 elsewhere,\n",
    "note the user speciies this in units of inverse centimeters.  The default is 2000 - 2400 $cm^{-1}$).\n",
    "\n",
    "The wavelength range of the spectra and integral are set by the `wavelength_list` keywords.\n",
    "\n",
    "The structure composition is set by the `Material_List` keyword; you can subsitute any of the\n",
    "central layers by changing the chemical formula.  The materials you listed (Ag, Si3N4, SiO2, TiO2, Al2O3, Ta2O5, ZrO2) are all supported and can be specified by those strings in the Material_List.  The terminal layers (first and last) should remain \"Air\" and their thickness should be fixed at 0 for all calculation.\n",
    "\n",
    "The structure geometry is set by the `Thickness_List` keyword.\n",
    "\n",
    "The block below will create an instance of a DBR that we will call `test`.  \n",
    "\n",
    "We will call the method `test.compute_selective_mirror_fom()` to compute $\\eta_T$ and $\\eta_R$, as well as a \n",
    "composite figure of merit called `test.selective_mirror_fom` defined as $f = \\frac{1}{2} \\left( \\eta_T + \\eta_R \\right)$"
   ]
  },
  {
   "cell_type": "code",
   "execution_count": 3,
   "id": "50fcfdd5",
   "metadata": {},
   "outputs": [
    {
     "name": "stdout",
     "output_type": "stream",
     "text": [
      " Your spectra have been computed! 😎 \n",
      "Reflection Efficiency is 42.78 %\n",
      "Transmission Efficiency is 75.87 %\n",
      "Composite FOM is 59.33 %\n",
      "Reflection Efficiency is 42.78 %\n",
      "Transmission Efficiency is 75.88 %\n",
      "Composite FOM is 59.33 %\n",
      "91422.90434444034\n",
      "475947.5777127431\n",
      "91423.19732179915\n",
      "475950.00644465844\n"
     ]
    }
   ],
   "source": [
    "# guess thickness for glass\n",
    "d1 = 5000e-9 / (4 * 1.5)\n",
    "# guess thickness for Al2O3\n",
    "d2 = 5000e-9 / (4 * 1.85)\n",
    "\n",
    "test_args = {\n",
    "    \"wavelength_list\": [300e-9, 6000e-9, 1000],\n",
    "    \"Material_List\": [\"Air\",\"SiO2\", \"Al2O3\", \"SiO2\", \"ZrO2\",\"SiO2\", \"Al2O3\", \"SiO2\", \"Al2O3\",\"SiO2\", \"Al2O3\", \"SiO2\", \"Al2O3\",\"SiO2\", \"Al2O3\",\"SiO2\", \"Al2O3\", \"SiO2\", \"Al2O3\",\"SiO2\", \"Al2O3\", \"SiO2\", \"Al2O3\" ,\"SiO2\", \"Al2O3\", \"SiO2\", \"Al2O3\" , \"Air\"],\n",
    "    \"Thickness_List\": [0,d1, d2, d1, d2,d1, d2, d1, d2, d1, d2, d1, d2, d1, d2,d1, d2, d1, d2, d1, d2, d1, d2, d1, d2, d1, d2, 0],\n",
    "    \"reflective_window_wn\" : [2000, 2400],\n",
    "    \"transmissive_window_nm\" : [350, 700],\n",
    " }\n",
    "\n",
    "sf = wptherml.SpectrumFactory()\n",
    "\n",
    "\n",
    "# create an instance of the DBR called test\n",
    "test = sf.spectrum_factory('Tmm', test_args)\n",
    "dx = 0.1e-9\n",
    "\n",
    "\n",
    "# compute the foms\n",
    "test.compute_selective_mirror_fom()\n",
    "test.compute_selective_mirror_fom_gradient()\n",
    "\n",
    "print(F'Reflection Efficiency is {100 * test.reflection_efficiency:.2f} %')\n",
    "print(F'Transmission Efficiency is {100 * test.transmission_efficiency:.2f} %')\n",
    "print(F'Composite FOM is {100 * test.selective_mirror_fom:.2f} %')\n",
    "\n",
    "\n",
    "test.thickness_array[1] += dx\n",
    "\n",
    "test.compute_spectrum()\n",
    "test.compute_selective_mirror_fom()\n",
    "\n",
    "r_fom_f = test.reflection_efficiency\n",
    "t_fom_f = test.transmission_efficiency\n",
    "\n",
    "print(F'Reflection Efficiency is {100 * test.reflection_efficiency:.2f} %')\n",
    "print(F'Transmission Efficiency is {100 * test.transmission_efficiency:.2f} %')\n",
    "print(F'Composite FOM is {100 * test.selective_mirror_fom:.2f} %')\n",
    "\n",
    "\n",
    "test.thickness_array[1] -= 2 * dx\n",
    "\n",
    "test.compute_spectrum()\n",
    "test.compute_selective_mirror_fom()\n",
    "\n",
    "r_fom_b = test.reflection_efficiency\n",
    "t_fom_b = test.transmission_efficiency\n",
    "\n",
    "\n",
    "#print(test2.thickness_array)\n",
    "r_grad = (r_fom_f - r_fom_b) / (2 * dx)\n",
    "t_grad = (t_fom_f - t_fom_b) / (2 * dx)\n",
    "print(r_grad)\n",
    "print(t_grad)\n",
    "print(test.reflection_efficiency_gradient[0])\n",
    "print(test.transmission_efficiency_gradient[0])\n"
   ]
  },
  {
   "cell_type": "code",
   "execution_count": 4,
   "id": "4fdd6166",
   "metadata": {},
   "outputs": [
    {
     "name": "stdout",
     "output_type": "stream",
     "text": [
      " Your spectra have been computed! 😎 \n",
      " Your spectra have been computed! 😎 \n"
     ]
    },
    {
     "data": {
      "text/plain": [
       "[<matplotlib.lines.Line2D at 0x15ad52be0>]"
      ]
     },
     "execution_count": 4,
     "metadata": {},
     "output_type": "execute_result"
    },
    {
     "data": {
      "image/png": "[encoded data removed]",
      "text/plain": [
       "<Figure size 640x480 with 1 Axes>"
      ]
     },
     "metadata": {},
     "output_type": "display_data"
    }
   ],
   "source": [
    "\n",
    "test_args = {\n",
    "\"wavelength_list\": [300e-9, 6000e-9, 1000],\n",
    "\"Material_List\": [\"Air\",\"SiO2\", \"Al2O3\", \"Air\"],\n",
    "\"Thickness_List\": [0, 300e-9, 600e-9, 0],\n",
    "\"reflective_window_wn\" : [2000, 2400],\n",
    "\"transmissive_window_nm\" : [350, 700],\n",
    "}\n",
    "\n",
    "test_args2 = {\n",
    "\"wavelength_list\": [300e-9, 6000e-9, 1000],\n",
    "\"Material_List\": [\"Air\",\"SiO2_udm\", \"Al2O3_udm\", \"Air\"],\n",
    "\"Thickness_List\": [0, 300e-9, 600e-9, 0],\n",
    "\"reflective_window_wn\" : [2000, 2400],\n",
    "\"transmissive_window_nm\" : [350, 700],\n",
    "}\n",
    "\n",
    "sf = wptherml.SpectrumFactory()\n",
    "\n",
    "# create an instance of the DBR called test\n",
    "test = sf.spectrum_factory('Tmm', test_args)\n",
    "testu = sf.spectrum_factory('Tmm', test_args2)\n",
    "\n",
    "\n",
    "\n",
    "plt.plot(test.wavelength_array, test.transmissivity_array, label='T')\n",
    "plt.plot(test.wavelength_array, test.reflectivity_array, label='R')\n",
    "plt.plot(testu.wavelength_array, testu.transmissivity_array, 'r--', label='Tu')\n",
    "plt.plot(testu.wavelength_array, testu.reflectivity_array, 'b--', label='Ru')\n",
    "\n"
   ]
  },
  {
   "cell_type": "markdown",
   "id": "0be91508",
   "metadata": {},
   "source": [
    "We can plot the spectra on a wavenumber and wavelength axis, respectively, to visualize the behavior:"
   ]
  },
  {
   "cell_type": "code",
   "execution_count": null,
   "id": "d41858f6",
   "metadata": {},
   "outputs": [],
   "source": [
    "\n",
    "plt.plot(test.wavenumber_array * 1e-2, test.transmissive_envelope, label='T window')\n",
    "plt.plot(test.wavenumber_array * 1e-2, test.reflective_envelope, label='R window')\n",
    "plt.plot(test.wavenumber_array * 1e-2, test.transmissivity_array, label='T')\n",
    "plt.plot(test.wavenumber_array * 1e-2, test.reflectivity_array, label='R')\n",
    "plt.plot(test.wavenumber_array * 1e-2, test.emissivity_array, label='A')\n",
    "plt.legend()"
   ]
  },
  {
   "cell_type": "code",
   "execution_count": null,
   "id": "80a44f05",
   "metadata": {},
   "outputs": [],
   "source": [
    "plt.plot(test.wavelength_array, test.transmissive_envelope, label='T window')\n",
    "plt.plot(test.wavelength_array, test.reflective_envelope, label='R window')\n",
    "plt.plot(test.wavelength_array, test.transmissivity_array, label='T')\n",
    "plt.plot(test.wavelength_array, test.reflectivity_array, label='R')\n",
    "plt.plot(test.wavelength_array, test.emissivity_array, label='A')\n",
    "plt.legend()\n",
    "\n"
   ]
  },
  {
   "cell_type": "markdown",
   "id": "9c2dcf3d",
   "metadata": {},
   "source": [
    "We can now attempt to optimize the layer thicknesses to improve $\\eta_T$, $\\eta_R$, or some weighted average\n",
    "of the two.  We are going to use the built-in BFGS optimizer in scipy that will attempt to find the minimimum \n",
    "of some objective `f(x)` given the variable(s) `x`.  \n",
    "\n",
    "We will create two helper functions: `update_multilayer(x)` will take\n",
    "an array of thicknesses (in nanometers) for the stack and recompute the figures of merit at this geometry, and\n",
    "`superFunc(x)` will be a function that passes an updated `x` from the BFGS routine to the `update_multilayer(x)` \n",
    "function and return the `f(x)` value to the BFGS routine.  For now, we will not rely on gradients ($f'(x)$),\n",
    "we will let the BFGS estimate then numerically, but if we add this functionality, it can be called upon and\n",
    "passed back to BFGS by `superFunc`.\n",
    "\n",
    "**Note 1** Because BFGS will want to minimize, we will actually have `superFunc` return the negative of our objectives so that BFGS will minimize the negative of our objective, which will yield a maximum of our objetive.\n",
    "\n",
    "**Note 2** We don't want to accidentally go to ridiculous value of the thickness, so we can set bounds on the\n",
    "BFGS (which is actually provided by a variant of the BFGS routine called L-BFGS-B).  We will set the lower bound \n",
    "to be 1 nm and the upper bound to be 1000 nm. You can experiment with this!\n",
    "\n"
   ]
  },
  {
   "cell_type": "code",
   "execution_count": null,
   "id": "649c9803",
   "metadata": {},
   "outputs": [],
   "source": [
    "# library containing L-BFGS-B\n",
    "from scipy.optimize import minimize\n",
    "\n",
    "# this is a library for global optimization - can try later! from scipy.optimize import basinhopping\n",
    "import time\n",
    "\n",
    "# using the same DBR structure plotted above as a starting point - you can modify \n",
    "# this starting guess, just make sure to adjust the guess vector (xs) accordingly...\n",
    "# i.e. if you end up adding or removing layers, adjust the number of elements in xs\n",
    "# and if you want to start from dramatically different geometries, make sure you make\n",
    "# adjustements in xs.  The compositions can be swapped out and this does not necessarily \n",
    "# require changing xs\n",
    "test_args = {\n",
    "    \"wavelength_list\": [300e-9, 6000e-9, 1000],\n",
    "    \"Material_List\": [\"Air\",\"SiO2\", \"Al2O3\", \"SiO2\", \"ZrO2\",\"SiO2\", \"Al2O3\", \"SiO2\", \"Al2O3\",\"SiO2\", \"Al2O3\", \"SiO2\", \"Al2O3\",\"SiO2\", \"Al2O3\",\"SiO2\", \"Al2O3\", \"SiO2\", \"Al2O3\",\"SiO2\", \"Al2O3\", \"SiO2\", \"Al2O3\" ,\"SiO2\", \"Al2O3\", \"SiO2\", \"Al2O3\" , \"Air\"],\n",
    "    \"Thickness_List\": [0,d1, d2, d1, d2,d1, d2, d1, d2, d1, d2, d1, d2, d1, d2,d1, d2, d1, d2, d1, d2, d1, d2, d1, d2, d1, d2, 0],\n",
    "    \"reflective_window_wn\" : [2000, 2400],\n",
    "    \"transmissive_window_nm\" : [350, 700],\n",
    " }\n",
    "\n",
    "\n",
    "# start the spectrum driver\n",
    "sf = wptherml.SpectrumFactory()\n",
    "# create an instance using the TMM with the structure defined as above\n",
    "test = sf.spectrum_factory('Tmm', test_args)\n",
    "\n",
    "\n",
    "def SuperFunc(x0):\n",
    "    \"\"\" function to update the thicknesses of each layer given an\n",
    "        array of thicknesses stored in x, recompute FOM, and return\"\"\"\n",
    "    test.thickness_array[1:test.number_of_layers-1] = x0 * 1e-9\n",
    "    test.compute_spectrum()\n",
    "    test.compute_selective_mirror_fom()\n",
    "    \n",
    "    # We have three choices for what to define our FOM as \n",
    "    # choice 1: \\eta_R\n",
    "    fom = test.reflection_efficiency\n",
    "    \n",
    "    #choice 2: \\eta_T\n",
    "    #fom = test.transmission_efficiency\n",
    "    \n",
    "    # choice 3: average of \\eta_R + \\eta_T\n",
    "    #fom = test.selective_mirror_fom\n",
    "    \n",
    "    # return negative of fom\n",
    "    return -1 * fom\n",
    "\n",
    "\n",
    "# the bounds for L-BFGS-B updates\n",
    "# minimum layer thickness is 1 nm\n",
    "bfgs_xmin = np.ones(test.number_of_layers-2)\n",
    "\n",
    "# maximum layer thickness is 1000 nm\n",
    "bfgs_xmax = 1000*np.ones(test.number_of_layers-2)\n",
    "\n",
    "# rewrite the bounds in the way required by L-BFGS-B\n",
    "bfgs_bounds = [(low, high) for low, high in zip(bfgs_xmin, bfgs_xmax)]\n",
    "\n",
    "# define d1 and d2 in nanometers based on the trial values from first cell\n",
    "d1nm = 835\n",
    "d2nm = 675\n",
    "\n",
    "# define trial x array - only specifiy the central layers that\n",
    "# are being varied and specify their thickness in nanometers, not meters\n",
    "xs = np.array([d1nm, d2nm, d1nm, d2nm, d1nm, d2nm, d1nm, \n",
    "               d2nm, d1nm, d2nm, d1nm, d2nm, d1nm, d2nm,\n",
    "               d1nm, d2nm, d1nm, d2nm, d1nm, d2nm, d1nm, \n",
    "               d2nm, d1nm, d2nm, d1nm, d2nm])\n",
    "\n",
    "print(\"xs is \")\n",
    "print(xs)\n",
    "fom = SuperFunc(xs)\n",
    "print(\"initial FOM is \", fom)\n",
    "\n",
    "### run l-bfgs-b algorithm, jac=False means L-BFGS-B will estimate gradients numerically\n",
    "ret = minimize(SuperFunc, xs, method=\"L-BFGS-B\", jac=False, bounds=bfgs_bounds)\n",
    "\n",
    "### print optimal solution and its efficiency!\n",
    "print(\"Optimal Structure\")\n",
    "print(ret.x)\n",
    "print(\"Optimal FOM\")\n",
    "print(SuperFunc(ret.x))"
   ]
  },
  {
   "cell_type": "code",
   "execution_count": null,
   "id": "13993380",
   "metadata": {},
   "outputs": [],
   "source": [
    "print(test.thickness_array)"
   ]
  },
  {
   "cell_type": "code",
   "execution_count": null,
   "id": "a964e457",
   "metadata": {},
   "outputs": [],
   "source": [
    "\n",
    "plt.plot(test.wavenumber_array * 1e-2, test.transmissive_envelope, label='T window')\n",
    "plt.plot(test.wavenumber_array * 1e-2, test.reflective_envelope, label='R window')\n",
    "plt.plot(test.wavenumber_array * 1e-2, test.transmissivity_array, label='T')\n",
    "plt.plot(test.wavenumber_array * 1e-2, test.reflectivity_array, label='R')\n",
    "plt.plot(test.wavenumber_array * 1e-2, test.emissivity_array, label='A')\n",
    "plt.legend()"
   ]
  },
  {
   "cell_type": "code",
   "execution_count": null,
   "id": "74d49cc5",
   "metadata": {},
   "outputs": [],
   "source": [
    "plt.plot(test.wavelength_array, test.transmissive_envelope, label='T window')\n",
    "plt.plot(test.wavelength_array, test.reflective_envelope, label='R window')\n",
    "plt.plot(test.wavelength_array, test.transmissivity_array, label='T')\n",
    "plt.plot(test.wavelength_array, test.reflectivity_array, label='R')\n",
    "plt.plot(test.wavelength_array, test.emissivity_array, label='A')\n",
    "plt.legend()"
   ]
  },
  {
   "cell_type": "code",
   "execution_count": null,
   "id": "ddab6e91",
   "metadata": {},
   "outputs": [],
   "source": []
  },
  {
   "cell_type": "code",
   "execution_count": null,
   "id": "ce726d1c",
   "metadata": {},
   "outputs": [],
   "source": []
  }
 ],
 "metadata": {
  "kernelspec": {
   "display_name": "Python 3 (ipykernel)",
   "language": "python",
   "name": "python3"
  },
  "language_info": {
   "codemirror_mode": {
    "name": "ipython",
    "version": 3
   },
   "file_extension": ".py",
   "mimetype": "text/x-python",
   "name": "python",
   "nbconvert_exporter": "python",
   "pygments_lexer": "ipython3",
   "version": "3.8.13"
  }
 },
 "nbformat": 4,
 "nbformat_minor": 5
}
