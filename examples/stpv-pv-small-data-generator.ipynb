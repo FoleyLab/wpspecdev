{
 "cells": [
  {
   "cell_type": "code",
   "execution_count": 1,
   "id": "120df311",
   "metadata": {},
   "outputs": [],
   "source": [
    "import wpspecdev\n",
    "from matplotlib import pyplot as plt\n",
    "import numpy as np\n",
    "\n",
    "# define a test structure\n",
    "test_args = {\n",
    "    \"therml\": True,\n",
    "    'TeMperature' : 440,\n",
    "    \"wavelength_list\": [300e-9, 20300e-9, 1001],\n",
    "    \"material_list\": ['Air', 'SiO2', 'Al', 'SiO2', 'Ta2O5', 'polystyrene', 'SiO2', 'Al', 'SiO2', 'Ta2O5', 'Air'], \n",
    "    \"thickness_list\": [0, 2.6422605026007024e-07, 1.5e-09, 2.6422605026007024e-07, 3.733648095151694e-07,  0.001, 3.8014616788692957e-07, 1.5e-09, 3.8014616788692957e-07, 5.311796118517261e-07, 0]\n",
    "}\n",
    "\n",
    "\n"
   ]
  },
  {
   "cell_type": "markdown",
   "id": "b3332bb3",
   "metadata": {},
   "source": [
    "We are going to compute the transmissivity of the above structure to the AM1.5 solar spectrum that falls below the bandgap wavelength (assumed to be $\\lambda_{bg} = 760$ nm (see [here](https://journals.aps.org/prb/abstract/10.1103/PhysRevB.92.045414)\n",
    "and [here](https://pubs.acs.org/doi/10.1021/acs.nanolett.6b03114))\n",
    "and the thermal emission in the SWIR ($\\lambda_{min} = 1000$ nm  and $\\lambda_{max} =  3500$ nm) assuming an emitter temperature of $T_E = 440 K$.\n",
    "\n",
    "In particular, we will compute\n",
    "\n",
    "$$ T_{AM1.5} = \\int_0^{\\lambda_{bg}} I_{AM1.5}(\\lambda) T(\\lambda) d\\lambda $$\n",
    "\n",
    "and\n",
    "\n",
    "$$ \\epsilon_{SWIR} = \\int_{\\lambda_{min}}^{\\lambda_{max}} B(\\lambda, T_E) \\epsilon(\\lambda) d\\lambda $$"
   ]
  },
  {
   "cell_type": "code",
   "execution_count": 2,
   "id": "63f8e692",
   "metadata": {},
   "outputs": [
    {
     "name": "stdout",
     "output_type": "stream",
     "text": [
      "getting solar spectrum\n",
      " Your spectra have been computed! 😎 \n",
      " Your spectra have been computed! 🔥 \n",
      "time required\n",
      "0.18879103660583496\n",
      "6.564638766531808  W / s / m^2 emitted\n",
      "288.56400577320585  W / s / m^2 transmitted\n",
      "10.200643508913217  W / s / m^2 emitted\n",
      "461.7291630999993  W / s / m^2 transmitted\n"
     ]
    }
   ],
   "source": [
    "import time\n",
    "start = time.time()\n",
    "\n",
    "sf = wpspecdev.SpectrumFactory()  \n",
    "# create instance of class\n",
    "ts = sf.spectrum_factory(\"Tmm\", test_args)\n",
    "\n",
    "# want to create a step function so that we can only integrate\n",
    "# a subinterval of the entire reflectivity function up to 760 nm\n",
    "target_pv = 760e-9 * np.ones_like(ts.wavelength_array)\n",
    "stop_idx = np.argmin(np.abs( target_pv - ts.wavelength_array) )\n",
    "\n",
    "# step function to cut off at \\lambda_bg of the PV\n",
    "step_pv = np.zeros_like(ts.wavelength_array)\n",
    "step_pv[:stop_idx] = 1.\n",
    "\n",
    "# do the same for the to create a step function between 1000 and 3500 nm\n",
    "target_min = 1000e-9 * np.ones_like(ts.wavelength_array)\n",
    "target_max = 3500e-9 * np.ones_like(ts.wavelength_array)\n",
    "\n",
    "min_idx = np.argmin(np.abs( target_min - ts.wavelength_array))\n",
    "max_idx = np.argmin(np.abs( target_max - ts.wavelength_array))\n",
    "\n",
    "step_swir = np.zeros_like(ts.wavelength_array)\n",
    "step_swir[min_idx:max_idx] = 1.\n",
    "\n",
    "\n",
    "### Integrate the above-gap solar flux transmitted through optic\n",
    "AM_transmit_power = np.trapz(ts._solar_spectrum * step_pv *  ts.transmissivity_array, ts.wavelength_array)\n",
    "### Integrate the thermal emission of the optic in the SWIR\n",
    "SWIR_emit_power = np.trapz(ts.thermal_emission_array * step_swir, ts.wavelength_array)\n",
    "\n",
    "### Integrate the total above-gap solar flux\n",
    "AM_above_gap = np.trapz(ts._solar_spectrum * step_pv, ts.wavelength_array)\n",
    "### Integrate the total BB emission at 440 K in the SWIR\n",
    "SWIR_power = np.trapz(ts.blackbody_spectrum * step_swir, ts.wavelength_array)\n",
    "\n",
    "end = time.time()\n",
    "print(\"time required\")\n",
    "print(end-start)\n",
    "print(SWIR_emit_power,  \" W / s / m^2 emitted\")\n",
    "print(AM_transmit_power,\" W / s / m^2 transmitted\")\n",
    "\n",
    "print(SWIR_power,  \" W / s / m^2 emitted\")\n",
    "print(AM_above_gap,\" W / s / m^2 transmitted\")\n",
    "\n",
    "\n"
   ]
  },
  {
   "cell_type": "code",
   "execution_count": 3,
   "id": "8eb8f937",
   "metadata": {},
   "outputs": [],
   "source": [
    "import random\n",
    "def update_multilayer(SP, AP):\n",
    "    d3 = random.uniform(1, 700)\n",
    "    d4 = random.uniform(1, 700)\n",
    "    d8 = random.uniform(1, 700)\n",
    "    d9 = random.uniform(1, 700)\n",
    "\n",
    "    ts.thickness_array[3] = d3 * 1e-9\n",
    "    ts.thickness_array[4] = d4 * 1e-9\n",
    "    ts.thickness_array[8] = d8 * 1e-9\n",
    "    ts.thickness_array[9] = d9 * 1e-9\n",
    "\n",
    "    ts.compute_spectrum()\n",
    "    ts._compute_therml_spectrum(ts.wavelength_array, ts.emissivity_array)\n",
    "    AM_transmit_power = np.trapz(ts._solar_spectrum * step_pv *  ts.transmissivity_array, ts.wavelength_array)\n",
    "    ### Integrate the thermal emission of the optic in the SWIR\n",
    "    SWIR_emit_power = np.trapz(ts.thermal_emission_array * step_swir, ts.wavelength_array)\n",
    "    d = np.array([d3, d4, d8, d9])\n",
    "    return d/700, AM_transmit_power/AP, SWIR_emit_power/SP\n",
    "    "
   ]
  },
  {
   "cell_type": "code",
   "execution_count": 4,
   "id": "23abe26e",
   "metadata": {},
   "outputs": [
    {
     "name": "stdout",
     "output_type": "stream",
     "text": [
      "(array([0.04173619, 0.45772897, 0.50224754, 0.57996831]), 0.594827604062982, 0.620384652126976)\n",
      "\n"
     ]
    }
   ],
   "source": [
    "print(update_multilayer(SWIR_power,AM_above_gap ))\n",
    "print()"
   ]
  },
  {
   "cell_type": "markdown",
   "id": "86da16d4",
   "metadata": {},
   "source": [
    "Want to call update_multilayer() 100,000 times, print each thicnkess / 700 (so that is maxes out at 1), and print AM_transmit_power / AM_above_gap, SWIR_emit_power / SWIR_power to a file."
   ]
  },
  {
   "cell_type": "code",
   "execution_count": 5,
   "id": "deb2c658",
   "metadata": {},
   "outputs": [],
   "source": [
    "dim = 5000\n",
    "\n",
    "f = open('stpv_pv_5kb.csv', 'w')\n",
    "for i in range(0, dim):\n",
    "    d, T_AM, E_SWIR = update_multilayer(SWIR_power, AM_above_gap)\n",
    "    #print(d1, d2, d3, d4, pv_2l.conversion_efficiency_val)\n",
    "    pr_str = str(d[0]) + \", \" + str(d[1]) + \", \" + str(d[2]) + \", \"\n",
    "    pr_str += str(d[3]) + \", \" + str(T_AM) + \", \" + str(E_SWIR)\n",
    "    pr_str += \"\\n\"\n",
    "    f.write(pr_str)\n",
    "    \n",
    "f.close()\n",
    "        "
   ]
  },
  {
   "cell_type": "code",
   "execution_count": null,
   "id": "f71ad065",
   "metadata": {},
   "outputs": [],
   "source": [
    "dim = 5000\n",
    "\n",
    "f = open('stpv_pv_5kc.csv', 'w')\n",
    "for i in range(0, dim):\n",
    "    d, T_AM, E_SWIR = update_multilayer(SWIR_power, AM_above_gap)\n",
    "    #print(d1, d2, d3, d4, pv_2l.conversion_efficiency_val)\n",
    "    pr_str = str(d[0]) + \", \" + str(d[1]) + \", \" + str(d[2]) + \", \"\n",
    "    pr_str += str(d[3]) + \", \" + str(T_AM) + \", \" + str(E_SWIR)\n",
    "    pr_str += \"\\n\"\n",
    "    f.write(pr_str)\n",
    "    \n",
    "f.close()"
   ]
  }
 ],
 "metadata": {
  "kernelspec": {
   "display_name": "Python 3",
   "language": "python",
   "name": "python3"
  },
  "language_info": {
   "codemirror_mode": {
    "name": "ipython",
    "version": 3
   },
   "file_extension": ".py",
   "mimetype": "text/x-python",
   "name": "python",
   "nbconvert_exporter": "python",
   "pygments_lexer": "ipython3",
   "version": "3.7.10"
  }
 },
 "nbformat": 4,
 "nbformat_minor": 5
}
