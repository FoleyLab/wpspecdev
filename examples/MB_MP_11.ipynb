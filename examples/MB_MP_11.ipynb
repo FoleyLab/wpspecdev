{
 "cells": [
  {
   "cell_type": "code",
   "execution_count": null,
   "id": "5157dbb8",
   "metadata": {},
   "outputs": [],
   "source": [
    "import wptherml\n",
    "from matplotlib import pyplot as plt\n",
    "import numpy as np\n",
    "import os\n",
    "from scipy import interpolate\n",
    "import glob\n",
    "import colour\n",
    "from colour.plotting import *\n",
    "\n",
    "# create a tungsten incandescent object at 1700 K\n",
    "tungsten_values = {\n",
    "    \"wavelength_list\": [400e-9, 700e-9, 200],\n",
    "    \"Material_List\": [\"Air\",  \"W\", \"Air\"],\n",
    "    \"Thickness_List\": [0, 900e-9, 0],\n",
    "    \"temperature\": 1700,\n",
    "    \"therml\": True\n",
    "}\n",
    "\n",
    "\n",
    "sf = wptherml.SpectrumFactory()\n",
    "w = sf.spectrum_factory('Tmm', tungsten_values)\n"
   ]
  },
  {
   "cell_type": "markdown",
   "id": "a9d0df74",
   "metadata": {},
   "source": [
    "Read in the emission spectra data from the Meth_and_Propoxy_TTz folder!"
   ]
  },
  {
   "cell_type": "code",
   "execution_count": null,
   "id": "733a0d2f",
   "metadata": {},
   "outputs": [],
   "source": [
    "file_mb = os.path.join('Meth_and_Butoxy_TTz','1.1.txt')\n",
    "file_mp = os.path.join('Meth_and_Propoxy_TTz', '1.1.txt')\n",
    "\n",
    "data_mb = np.loadtxt(file_mb)\n",
    "data_mp = np.loadtxt(file_mp)"
   ]
  },
  {
   "cell_type": "markdown",
   "id": "b3fb7449",
   "metadata": {},
   "source": [
    "Now read in the emission spectra from each file, compute the CIE and RGB values for each spectrum, print\n",
    "the filename and CIE values, and store the RGB values to a list.  We will use that RGB list subsequently to plot the values on the CIE color gamut."
   ]
  },
  {
   "cell_type": "code",
   "execution_count": null,
   "id": "3d546aa0",
   "metadata": {},
   "outputs": [],
   "source": [
    "\n",
    "e_spline_mb = interpolate.interp1d(data_mb[:,0], data_mb[:,1])\n",
    "e_spline_mp = interpolate.interp1d(data_mp[:,0], data_mp[:,1])\n",
    "\n",
    "# make sure this spline is good!\n",
    "assert np.allclose(e_spline_mb(data_mb[:,0]), data_mb[:,1], 1e-4)\n",
    "assert np.allclose(e_spline_mp(data_mb[:,0]), data_mp[:,1], 1e-4)\n",
    "\n",
    "\n",
    "e_prediction_mb = e_spline_mb(w.wavelength_array * 1e9) \n",
    "e_prediction_mp = e_spline_mp(w.wavelength_array * 1e9) \n",
    "\n",
    "cie_mb = w.compute_cie(e_prediction_mb)\n",
    "rgb_mb = w.compute_rgb(e_prediction_mb)\n",
    "\n",
    "cie_mp = w.compute_cie(e_prediction_mp)\n",
    "rgb_mp = w.compute_rgb(e_prediction_mp)\n",
    "\n",
    "rgb_list = []\n",
    "rgb_list.append(rgb_mb)\n",
    "rgb_list.append(rgb_mp)\n",
    "\n",
    "print(F\"{file_mb}, {cie_mb[0]}, {cie_mb[1]}, {cie_mb[2]}\")\n",
    "print(F\"{file_mp}, {cie_mp[0]}, {cie_mp[1]}, {cie_mp[2]}\")"
   ]
  },
  {
   "cell_type": "code",
   "execution_count": null,
   "id": "063304fc",
   "metadata": {},
   "outputs": [],
   "source": [
    "plot_RGB_chromaticities_in_chromaticity_diagram_CIE1931(rgb_list, c='black')"
   ]
  },
  {
   "cell_type": "code",
   "execution_count": null,
   "id": "67412fd2",
   "metadata": {},
   "outputs": [],
   "source": []
  }
 ],
 "metadata": {
  "kernelspec": {
   "display_name": "Python 3 (ipykernel)",
   "language": "python",
   "name": "python3"
  },
  "language_info": {
   "codemirror_mode": {
    "name": "ipython",
    "version": 3
   },
   "file_extension": ".py",
   "mimetype": "text/x-python",
   "name": "python",
   "nbconvert_exporter": "python",
   "pygments_lexer": "ipython3",
   "version": "3.8.13"
  }
 },
 "nbformat": 4,
 "nbformat_minor": 5
}
