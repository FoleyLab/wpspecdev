{
 "cells": [
  {
   "cell_type": "code",
   "execution_count": null,
   "id": "e73ddf0d",
   "metadata": {},
   "outputs": [],
   "source": [
    "import wptherml\n",
    "from matplotlib import pyplot as plt\n",
    "import numpy as np\n",
    "\n",
    "# guess thickness for glass\n",
    "d1 = 5000e-9 / (4 * 1.5)\n",
    "# guess thickness for Al2O3\n",
    "d2 = 5000e-9 / (4 * 1.85)\n",
    "\n",
    "test_args = {\n",
    "    \"wavelength_list\": [300e-9, 6000e-9, 1000],\n",
    "    \"Material_List\": [\"Air\",\"SiO2\", \"Al2O3\", \"SiO2\",\"Al2O3\" , \"Air\"],\n",
    "    \"Thickness_List\": [0,d1, d2, d1, d2, 0],\n",
    "    \"reflective_window_wn\" : [2000, 2400],\n",
    "    \"transmissive_window_nm\" : [350, 700],\n",
    " }\n",
    "# the top-level driver class is called \"SpectrumFactory\" - create an instance of it\n",
    "sf = wptherml.SpectrumFactory()  \n",
    "\n",
    "# the spectrum factory can be used to create an instance of a multilayer\n",
    "# that will automatically have attributes related to the materials and geometry\n",
    "# of the multilayer, along with the reflectivity, transmissivity, and absorptivity/emissivity spectra\n",
    "#ts = sf.spectrum_factory(\"Opt\", test_args)\n"
   ]
  },
  {
   "cell_type": "code",
   "execution_count": null,
   "id": "1386e864",
   "metadata": {},
   "outputs": [],
   "source": [
    "test = sf.spectrum_factory('Tmm', test_args)\n",
    "ts = sf.spectrum_factory(\"Opt\", test_args)"
   ]
  },
  {
   "cell_type": "code",
   "execution_count": null,
   "id": "91bc935a",
   "metadata": {},
   "outputs": [],
   "source": [
    "ts.optimize_basin_hopping()"
   ]
  },
  {
   "cell_type": "code",
   "execution_count": null,
   "id": "ca64d282",
   "metadata": {},
   "outputs": [],
   "source": []
  }
 ],
 "metadata": {
  "kernelspec": {
   "display_name": "Python 3 (ipykernel)",
   "language": "python",
   "name": "python3"
  },
  "language_info": {
   "codemirror_mode": {
    "name": "ipython",
    "version": 3
   },
   "file_extension": ".py",
   "mimetype": "text/x-python",
   "name": "python",
   "nbconvert_exporter": "python",
   "pygments_lexer": "ipython3",
   "version": "3.8.13"
  }
 },
 "nbformat": 4,
 "nbformat_minor": 5
}
