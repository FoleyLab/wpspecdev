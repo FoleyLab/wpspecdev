{
 "cells": [
  {
   "cell_type": "code",
   "execution_count": 2,
   "id": "50acc079",
   "metadata": {},
   "outputs": [],
   "source": [
    "import wptherml\n",
    "from matplotlib import pyplot as plt\n",
    "import numpy as np"
   ]
  },
  {
   "cell_type": "code",
   "execution_count": 13,
   "id": "34fb316c",
   "metadata": {},
   "outputs": [
    {
     "name": "stdout",
     "output_type": "stream",
     "text": [
      " Your spectra have been computed! 😎 \n",
      " Your spectra have been computed! 😎 \n",
      " A  1e-06  m air layer has been inserted into layer numbe  4\n",
      " Use the `material_X( 4 ) command to define the material of this new layer!\n",
      " A  1e-06  m air layer has been inserted into layer numbe  4\n",
      " Use the `material_X( 4 ) command to define the material of this new layer!\n"
     ]
    },
    {
     "data": {
      "image/png": "[encoded data removed]",
      "text/plain": [
       "<Figure size 640x480 with 1 Axes>"
      ]
     },
     "metadata": {},
     "output_type": "display_data"
    },
    {
     "name": "stdout",
     "output_type": "stream",
     "text": [
      "381938936.44233865\n"
     ]
    }
   ],
   "source": [
    "\"\"\"unit test for the computation of the gradients of stpv quantities\n",
    "    including the stpv_power_density and the spectral_efficiency\"\"\"\n",
    "test_args = {\n",
    "    \"wavelength_list\": [300e-9, 1000e-9, 1000],\n",
    "    \"material_list\": [\"Air\", \"SiO2\", \"Al2O3\", \"Polystyrene\", \"Air\"],\n",
    "    \"thickness_list\": [0, 200.1e-9, 300e-9, 1000e-9, 0],\n",
    "    \"temperature\": 440,\n",
    "    \"pv_bandgap_wavelength\" : 540e-9\n",
    "}\n",
    "sf = wptherml.SpectrumFactory()\n",
    "test = sf.spectrum_factory(\"Tmm\", test_args)\n",
    "\n",
    "test2_args = {\n",
    "    \"wavelength_list\": [300e-9, 1000e-9, 1000],\n",
    "    \"material_list\": [\"Air\", \"SiO2\", \"Al2O3\", \"Polystyrene\", \"Air\"],\n",
    "    \"thickness_list\": [0, 199.9e-9, 300e-9, 1000e-9, 0],\n",
    "    \"temperature\": 440,\n",
    "    \"pv_bandgap_wavelength\" : 540e-9\n",
    "}\n",
    "sf = wptherml.SpectrumFactory()\n",
    "test2 = sf.spectrum_factory(\"Tmm\", test2_args)\n",
    "\n",
    "\n",
    "_ln = len(test.thickness_array) - 1\n",
    "# insert thick active layer as the bottom-most layer\n",
    "test.insert_layer(_ln, 1000e-9)\n",
    "# make sure the active layer has RI of 2D perovskite\n",
    "test.material_2D_HOIP(_ln)\n",
    "test.compute_spectrum()\n",
    "#test.compute_pv_stpv_gradient()\n",
    "\n",
    "# insert thick active layer as the bottom-most layer\n",
    "test2.insert_layer(_ln, 1000e-9)\n",
    "# make sure the active layer has RI of 2D perovskite\n",
    "test2.material_2D_HOIP(_ln)\n",
    "test2.compute_spectrum()\n",
    "\n",
    "# scale AM by \\lambda / \\lambda_bg\n",
    "# compute the useful power density spectrum\n",
    "power_density_array_1 = (\n",
    "    test._solar_spectrum * test.emissivity_array * test.wavelength_array / test.pv_lambda_bandgap\n",
    ")\n",
    "\n",
    "power_density_array_2 = (\n",
    "    test._solar_spectrum * test2.emissivity_array * test.wavelength_array / test.pv_lambda_bandgap\n",
    ")\n",
    "\n",
    "bg_idx = np.abs(test.wavelength_array - test.pv_lambda_bandgap).argmin()\n",
    "\n",
    "env = np.zeros_like(test.wavelength_array)\n",
    "\n",
    "env[:bg_idx] = test.wavelength_array[:bg_idx] / test.pv_lambda_bandgap\n",
    "\n",
    "pd1_integrand = test._solar_spectrum * test.emissivity_array * env\n",
    "pd2_integrand = test._solar_spectrum * test2.emissivity_array * env\n",
    "\n",
    "#pv_stpv_jsc = np.pi * np.trapz(\n",
    "#    power_density_array[:bg_idx], self.wavelength_array[:bg_idx]\n",
    "#)\n",
    "\n",
    "#plt.plot(test.wavelength_array, test.emissivity_array, label=\"A\")\n",
    "#plt.plot(test.wavelength_array, test._solar_spectrum/1.4e9, label=\"AM\")\n",
    "#plt.plot(test.wavelength_array, env, label=\"env\")\n",
    "plt.plot(test.wavelength_array, power_density_array_1, label=\"1\")\n",
    "plt.plot(test.wavelength_array, power_density_array_2, label=\"2\")\n",
    "plt.plot(test.wavelength_array, pd1_integrand, label=\"Int1\")\n",
    "plt.plot(test.wavelength_array, pd2_integrand, label=\"Int2\")\n",
    "\n",
    "\n",
    "plt.plot()\n",
    "#plt.plot(test.wavelength_array, test.reflectivity_array, label=\"R\")\n",
    "#plt.plot(test.wavelength_array, test.transmissivity_array, label=\"T\")\n",
    "plt.legend()\n",
    "plt.show()\n",
    "\n",
    "\n",
    "pd1 = np.pi * np.trapz(power_density_array_1, test.wavelength_array)\n",
    "pd2 = np.pi * np.trapz(power_density_array_2, test.wavelength_array)\n",
    "\n",
    "pd1p = np.pi * np.trapz(pd1_integrand, test.wavelength_array)\n",
    "pd2p = np.pi * np.trapz(pd2_integrand, test.wavelength_array)\n",
    "\n",
    "grad = (pd1p - pd2p) / (2 * .1e-9)\n",
    "print(grad)"
   ]
  },
  {
   "cell_type": "code",
   "execution_count": null,
   "id": "ae042095",
   "metadata": {},
   "outputs": [],
   "source": [
    "\n",
    "_ln = len(test.thickness_array) - 1\n",
    "# insert thick active layer as the bottom-most layer\n",
    "test.insert_layer(_ln, 1000e-9)\n",
    "# make sure the active layer has RI of 2D perovskite\n",
    "test.material_2D_HOIP(_ln)\n",
    "test.compute_spectrum()\n",
    "#test.compute_pv_stpv_gradient()\n",
    "\n",
    "# insert thick active layer as the bottom-most layer\n",
    "test2.insert_layer(_ln, 1000e-9)\n",
    "# make sure the active layer has RI of 2D perovskite\n",
    "test2.material_2D_HOIP(_ln)\n",
    "test2.compute_spectrum()\n",
    "\n",
    "plt.plot(test.wavelength_array, test.emissivity_array, 'blue', label=\"A\")\n",
    "plt.plot(test2.wavelength_array, test2.emissivity_array, 'red', label=\"A2\")\n",
    "#plt.plot(test.wavelength_array, test.reflectivity_array, label=\"R\")\n",
    "#plt.plot(test.wavelength_array, test.transmissivity_array, label=\"T\")\n",
    "plt.legend()\n",
    "plt.show()\n",
    "\n",
    "diff = np.abs(test.emissivity_array - test2.emissivity_array)\n",
    "sum_abs = np.sum(diff)\n",
    "print(sum_abs)"
   ]
  },
  {
   "cell_type": "code",
   "execution_count": 3,
   "id": "a33a58ec",
   "metadata": {},
   "outputs": [
    {
     "name": "stdout",
     "output_type": "stream",
     "text": [
      " A  1e-06  m air layer has been inserted into layer numbe  4\n",
      " Use the `material_X( 4 ) command to define the material of this new layer!\n",
      " A  1e-06  m air layer has been inserted into layer numbe  4\n",
      " Use the `material_X( 4 ) command to define the material of this new layer!\n",
      "forward jsc 979.5691011008975\n",
      "backward jsc 979.5691011008975\n",
      "difference 0.0\n"
     ]
    }
   ],
   "source": [
    "test.compute_pv_stpv_jsc()\n",
    "_jsc_b = test.pv_stpv_jsc\n",
    "\n",
    "test2.compute_pv_stpv_jsc()\n",
    "_jsc_f = test2.pv_stpv_jsc\n",
    "\n",
    "print(\"forward jsc\", _jsc_f)\n",
    "print(\"backward jsc\", _jsc_b)\n",
    "print(\"difference\", _jsc_f - _jsc_b)\n"
   ]
  },
  {
   "cell_type": "code",
   "execution_count": 8,
   "id": "e73a5041",
   "metadata": {},
   "outputs": [
    {
     "name": "stdout",
     "output_type": "stream",
     "text": [
      " Your spectra have been computed! 😎 \n",
      " A  1e-06  m air layer has been inserted into layer numbe  4\n",
      " Use the `material_X( 4 ) command to define the material of this new layer!\n",
      " Your spectra have been computed! 😎 \n",
      " A  1e-06  m air layer has been inserted into layer numbe  4\n",
      " Use the `material_X( 4 ) command to define the material of this new layer!\n",
      "433.9981428987724\n",
      "381978110.02589786\n"
     ]
    }
   ],
   "source": [
    "\"\"\"unit test for the computation of the gradients of stpv quantities\n",
    "including the stpv_power_density and the spectral_efficiency\"\"\"\n",
    "test_args = {\n",
    "    \"wavelength_list\": [300e-9, 1000e-9, 1000],\n",
    "    \"material_list\": [\"Air\", \"SiO2\", \"Al2O3\", \"Polystyrene\", \"Air\"],\n",
    "    \"thickness_list\": [0, 200e-9, 300e-9, 1000e-9, 0],\n",
    "    \"temperature\": 440,\n",
    "    \"pv_bandgap_wavelength\" : 540e-9\n",
    "}\n",
    "sf = wptherml.SpectrumFactory()\n",
    "test = sf.spectrum_factory(\"Tmm\", test_args)\n",
    "\n",
    "\n",
    "# define a displacement in thickness of SiO2\n",
    "_delta_d_sio2 = 0.1e-9\n",
    "# take forward step and store quantities\n",
    "test.thickness_array[1] += _delta_d_sio2\n",
    "# update R, T, and \\epsilon\n",
    "test.compute_spectrum()\n",
    "# use updated \\epsilon to compute jsc\n",
    "test.compute_pv_stpv_jsc()\n",
    "_jsc_f = test.pv_stpv_jsc\n",
    "\n",
    "# create a new instance of the stack using test_args so that\n",
    "# the stack only contains the AR + Polystyrene layer\n",
    "test = sf.spectrum_factory(\"Tmm\", test_args)\n",
    "\n",
    "# take backward step and store quantities\n",
    "test.thickness_array[1] -= _delta_d_sio2\n",
    "test.compute_spectrum()\n",
    "test.compute_pv_stpv_jsc()\n",
    "_jsc_b = test.pv_stpv_jsc\n",
    "\n",
    "print(_jsc_f)\n",
    "_numeric_sio2_layer_gradient = (_jsc_f - _jsc_b) / (2 * _delta_d_sio2)\n",
    "print(_numeric_sio2_layer_gradient)"
   ]
  },
  {
   "cell_type": "code",
   "execution_count": null,
   "id": "77ac8d7b",
   "metadata": {},
   "outputs": [],
   "source": []
  }
 ],
 "metadata": {
  "kernelspec": {
   "display_name": "Python 3 (ipykernel)",
   "language": "python",
   "name": "python3"
  },
  "language_info": {
   "codemirror_mode": {
    "name": "ipython",
    "version": 3
   },
   "file_extension": ".py",
   "mimetype": "text/x-python",
   "name": "python",
   "nbconvert_exporter": "python",
   "pygments_lexer": "ipython3",
   "version": "3.8.13"
  }
 },
 "nbformat": 4,
 "nbformat_minor": 5
}
