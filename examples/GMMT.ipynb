{
 "cells": [
  {
   "cell_type": "markdown",
   "metadata": {
    "id": "I4Uup55javQW"
   },
   "source": [
    "### Mie Theory"
   ]
  },
  {
   "cell_type": "code",
   "execution_count": null,
   "metadata": {
    "id": "pOPKfgI9EQVd"
   },
   "outputs": [],
   "source": []
  },
  {
   "cell_type": "markdown",
   "metadata": {
    "id": "240LEfTfXqdk"
   },
   "source": [
    "### Mie theory coefficients and Bessell functions (JJF)"
   ]
  },
  {
   "cell_type": "markdown",
   "metadata": {
    "id": "GAZdCOlJZ1Ur"
   },
   "source": [
    "There are 4 types of coefficients for the Mie theory expansion for the electric field in the vicinity of a spherical particle: $a_n$ and $b_n$ for the scattered fields (external to the particle), and $c_n$ and $d_n$ for the fields inside the particle (internal fields).  These coefficients can be expressed as follows:\n",
    "\\begin{equation}\n",
    "a_n = \\frac{m^2 j_n(mx)[x j_n(x)]' - \\mu_1 j_n(x) [mxj_n (mx)]'}{m^2 j_n(mx)[x h_n^{(1)}(x)]' - \\mu_1 h_n^{(1)}(x) [mxj_n (mx)]'} \\\\\n",
    "\\end{equation}\n",
    "\n",
    "\\begin{equation}\n",
    "b_n = \\frac{\\mu_1 j_n(mx)[x j_n(x)]' - j_n(x) [mxj_n (mx)]'}\n",
    "{\\mu_1 j_n(mx)[x h_n^{(1)}(x)]' -  h_n^{(1)}(x) [mxj_n (mx)]'}  \\\\\n",
    "\\end{equation}\n",
    "\n",
    "\\begin{equation}\n",
    "c_n = \\frac{\\mu_1 j_n(mx)[x h_n^{(1)}(x)]' - \\mu_1 h_n^{(1)}(x) [xj_n (mx)]'}{\\mu_1 j_n(mx)[x h_n^{(1)}(x)]' - h_n^{(1)}(x) [mxj_n (mx)]'} \\\\\n",
    "\\end{equation}\n",
    "\n",
    "\\begin{equation}\n",
    "d_n = \\frac{\\mu_1 m j_n(mx)[x h_n^{(1)}(x)]' - \\mu_1 m h_n^{(1)}(x) [mxj_n (mx)]'}\n",
    "{m^2 j_n(mx)[x h_n^{(1)}(x)]' - \\mu_1 h_n^{(1)}(x) [mxj_n (mx)]'} \\\\\n",
    "\\end{equation}.\n",
    "\n",
    "In the above, $m = n_{sphere}/n_{medium}$ represents the refractive index of the spherical particle divided by the refractive index of the surrounding, $x = 2\\pi r/\\lambda$ is the size parameter of the sphere, where $r$ is the radius of the sphere and $\\lambda$ is the wavelength of light, and $\\mu_1 = \\mu_{sphere}/\\mu_{medium}$ represents the magnetic permiability of the spherical particle divided by the permeability of the medium.  The functions $j_n(z)$ and $h_n^{(1)}(z) = j_n(z) + iy_n(z)$ are the spherical Bessel functions.  The spherical Bessel functions are defined in terms of the Bessel functions of the first kind\n",
    "\\begin{equation}\n",
    "j_n(z) = \\sqrt{\\frac{\\pi}{2z}} J_{n+0.5}(z)\n",
    "\\end{equation}\n",
    "and second kind\n",
    "\\begin{equation}\n",
    "y_n(z) = \\sqrt{\\frac{\\pi}{2z}} Y_{n+0.5}(z).\n",
    "\\end{equation}\n",
    "The derivative terms are defined as\n",
    "\\begin{equation}\n",
    "[z j_n(z)]' = zj_{n-1}(z) - nj_n(z)\n",
    "\\end{equation}\n",
    "and\n",
    "\\begin{equation}\n",
    "[zh_n^{(1)}(z)]' = zh_{n-1}^{(1)}(z) - nh_{n}^{(1)}(z).\n",
    "\\end{equation}\n",
    "\n",
    "\n",
    "Let's test the Bessel and Spherical Bessel functions using the relations here and the built-in functions in scipy.\n",
    "\n"
   ]
  },
  {
   "cell_type": "markdown",
   "metadata": {
    "id": "04Yy6NB-sKJW"
   },
   "source": []
  },
  {
   "cell_type": "code",
   "execution_count": 1,
   "metadata": {
    "id": "G5ODTkLslopE"
   },
   "outputs": [],
   "source": [
    "### Start running here!\n",
    "from scipy.special import spherical_jn\n",
    "from scipy.special import spherical_yn\n",
    "from scipy.special import jv\n",
    "from scipy.special import yv\n",
    "import numpy as np\n",
    "#import miepython\n",
    "from matplotlib import pyplot as plt\n",
    "\n",
    "### define size parameter\n",
    "# radius = 10 nm\n",
    "r = 100e-9\n",
    "# wavelength = 500 nm\n",
    "lam = 500e-9\n",
    "\n",
    "# ri of sphere\n",
    "ns = 1.5\n",
    "# ri of medium\n",
    "nm = 1.0\n",
    "# mu of sphere\n",
    "mus = 1.0\n",
    "# mu of surrounding\n",
    "mum = 1.0\n",
    "\n",
    "### parameters\n",
    "m = ns/nm \n",
    "mu = mus/mum\n",
    "x = 2*np.pi*r/lam"
   ]
  },
  {
   "cell_type": "markdown",
   "metadata": {
    "id": "61oC9wjQl3Ny"
   },
   "source": [
    "Let's define the Spherical Bessel functions and also the derivative terms here!"
   ]
  },
  {
   "cell_type": "code",
   "execution_count": 2,
   "metadata": {
    "id": "FQ_2bUbWl0Y9"
   },
   "outputs": [],
   "source": [
    "\n",
    "def s_jn(n,z):\n",
    "  ''' Compute the spherical bessel function from the Bessel function\n",
    "      of the first kind\n",
    "  '''\n",
    "  ns = n+0.5\n",
    "  return np.sqrt(np.pi/(2*z)) * jv(ns, z)\n",
    "\n",
    "def s_yn(n,z):\n",
    "  ''' Compute the spherical bessel function from the Bessel function\n",
    "      of the second kind\n",
    "  '''\n",
    "  ns = n+0.5\n",
    "  return np.sqrt(np.pi/(2*z)) * yv(ns, z)\n",
    "\n",
    "def s_hn(n, z):\n",
    "  ''' Compute the spherical bessel function h_n^{(1)} '''\n",
    "  ci = 0+1j\n",
    "  return spherical_jn(n, z) + ci*spherical_yn(n, z)\n",
    "\n",
    "def z_jn_prime(n,z):\n",
    "  ''' Compute derivative of z*j_n(z) using recurrence relations '''\n",
    "  return z*spherical_jn(n-1, z)-n*spherical_jn(n,z)\n",
    "\n",
    "def z_hn_prime(n,z):\n",
    "  ''' Compute derivative of z*h_n^{(1)}(z) using recurrence relations '''\n",
    "  return z*s_hn(n-1,z) -n*s_hn(n,z)\n",
    "\n",
    "def mie_coeff(n, m, mu, x):\n",
    "  ''' computes the Mie theory a, b, c, and d coefficients for a\n",
    "      given order n, relative refractive index m, relative permeability mu, and\n",
    "      size parameter x.  Returns coefficients as an array. '''\n",
    "  \n",
    "  ### pre-compute the different Bessel function terms that will be used over and over again\n",
    "  ## jnx <==> j_n(x)\n",
    "  jnx = spherical_jn(n,x)\n",
    "  ## jnmx <==> j_n(mx)\n",
    "  jnmx = spherical_jn(n,m*x)\n",
    "  ## hnx <==> h_n^{(1)}(x)\n",
    "  hnx = s_hn(n, x)\n",
    "  ## xjnxp <==> [x*j_n(x)]'\n",
    "  xjnxp = z_jn_prime(n, x)\n",
    "  ## mxjnmxp <==> [mx*j_n(mx)]'\n",
    "  mxjnmxp = z_jn_prime(n, m*x)\n",
    "  ## xhnxp <==> [x*h_n^{(1)}(x)]'\n",
    "  xhnxp = z_hn_prime(n, x)\n",
    "\n",
    "  ### now use pre-computed values to compute coefficients!\n",
    "  ## a_n first\n",
    "  a_num = m**2 * jnmx * xjnxp - mu * jnx * mxjnmxp \n",
    "  a_den = m**2 * jnmx * xhnxp - mu * hnx * mxjnmxp\n",
    "  a_n = a_num / a_den\n",
    "\n",
    "  ## b_n second\n",
    "  b_num = mu * jnmx * xjnxp - jnx * mxjnmxp \n",
    "  b_den = mu * jnmx * xhnxp - hnx * mxjnmxp\n",
    "  b_n = b_num / b_den\n",
    "\n",
    "  ## c_n third\n",
    "  c_num = mu * jnx * xhnxp - mu * hnx * xjnxp\n",
    "  c_den = mu * jnmx * xhnxp - hnx * mxjnmxp\n",
    "  c_n = c_num / c_den\n",
    "\n",
    "  ## d_n fourth\n",
    "  d_num = mu * m * jnx * xhnxp - mu * m * hnx * xjnxp \n",
    "  d_den = m**2 * jnmx * xhnxp - mu * hnx * mxjnmxp\n",
    "  d_n = d_num / d_den\n",
    "  return [a_n, b_n, c_n, d_n]"
   ]
  },
  {
   "cell_type": "code",
   "execution_count": 3,
   "metadata": {},
   "outputs": [
    {
     "name": "stdout",
     "output_type": "stream",
     "text": [
      "[1 2 3 4 5 6 7]\n"
     ]
    }
   ],
   "source": [
    "# make an array of coefficients consistent \n",
    "# with the glass sphere of radius 100e-9 m in air \n",
    "# illuminated with lambda = 500e-9 m light\n",
    "_n_max = int(x + 4*x**(1/3.)+2)\n",
    "_n_array = np.copy( np.linspace(1, _n_max, _n_max, dtype=int) )\n",
    "\n",
    "\n",
    "print(_n_array)\n",
    "\n",
    "#print(s_jn(_n_array, x))\n",
    "\n",
    "#print(s_yn(_n_array, x))\n",
    "\n",
    "#print(s_hn(n, x))\n",
    "\n",
    "\n",
    "#print(z_jn_prime(n, x))\n",
    "\n",
    "#print(z_hn_prime(n, x))\n",
    "\n",
    "#print(mie_coeff(n, m, mu, x))\n"
   ]
  },
  {
   "cell_type": "code",
   "execution_count": null,
   "metadata": {},
   "outputs": [],
   "source": []
  }
 ],
 "metadata": {
  "colab": {
   "collapsed_sections": [],
   "name": "Mie_Theory.ipynb",
   "provenance": []
  },
  "interpreter": {
   "hash": "203e32220328bfee8d55603c61f510c933418437ca2fb9ba4a735d68ed0f019e"
  },
  "kernelspec": {
   "display_name": "Python 3",
   "language": "python",
   "name": "python3"
  },
  "language_info": {
   "codemirror_mode": {
    "name": "ipython",
    "version": 3
   },
   "file_extension": ".py",
   "mimetype": "text/x-python",
   "name": "python",
   "nbconvert_exporter": "python",
   "pygments_lexer": "ipython3",
   "version": "3.7.10"
  }
 },
 "nbformat": 4,
 "nbformat_minor": 1
}
