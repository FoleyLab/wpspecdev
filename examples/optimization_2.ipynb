{
 "cells": [
  {
   "cell_type": "code",
   "execution_count": 1,
   "metadata": {},
   "outputs": [],
   "source": [
    "%load_ext autoreload\n",
    "%autoreload 2"
   ]
  },
  {
   "cell_type": "code",
   "execution_count": null,
   "metadata": {},
   "outputs": [],
   "source": [
    "# guess thickness for glass\n",
    "d1 = 5000e-9 / (4 * 1.5)\n",
    "# guess thickness for Al2O3\n",
    "d2 = 5000e-9 / (4 * 1.85)\n",
    "\n",
    "print(d1)\n",
    "print(d2)"
   ]
  },
  {
   "cell_type": "code",
   "execution_count": null,
   "metadata": {},
   "outputs": [],
   "source": [
    "import wptherml\n",
    "from matplotlib import pyplot as plt\n",
    "import numpy as np\n",
    "\n",
    "# guess thickness for glass\n",
    "d1 = 5000e-9 / (4 * 1.5)\n",
    "# guess thickness for Al2O3\n",
    "d2 = 5000e-9 / (4 * 1.85)\n",
    "\n",
    "\n",
    "test_args = {\n",
    "    \"wavelength_list\": [300e-9, 6000e-9, 1000],\n",
    "    \"Material_List\": [\"Air\",\"SiO2\", \"Al2O3\", \"SiO2\", \"ZrO2\",\"SiO2\", \"Al2O3\", \"SiO2\", \"Al2O3\",\"SiO2\", \"Al2O3\", \"SiO2\", \"Al2O3\",\"SiO2\", \"Al2O3\",\"SiO2\", \"Al2O3\", \"SiO2\", \"Al2O3\",\"SiO2\", \"Al2O3\", \"SiO2\", \"Al2O3\" , \"Air\"],\n",
    "    \"Thickness_List\": [0,d1, d2, d1, d2,d1, d2, d1, d2, d1, d2, d1, d2, d1, d2,d1, d2, d1, d2, d1, d2, d1, d2, 0],\n",
    "    \"reflective_window_wn\" : [2000, 2400],\n",
    "    \"transmissive_window_nm\" : [350, 700],\n",
    " }\n",
    "# the top-level driver class is called \"SpectrumFactory\" - create an instance of it\n",
    "sf = wptherml.SpectrumFactory()  \n",
    "\n",
    "# the spectrum factory can be used to create an instance of a multilayer\n",
    "# that will automatically have attributes related to the materials and geometry\n",
    "# of the multilayer, along with the reflectivity, transmissivity, and absorptivity/emissivity spectra\n",
    "ts = sf.spectrum_factory(\"Opt\", test_args)\n",
    "\n",
    "ts.optimize()\n",
    "        \n",
    "#x = learning_loop_structure_optimization(test_args=test_args, optimization_dict=optimization_dict, fom_func=fom_function)\n",
    "#x.learning_loop(num_to_train=5, num_iterations=10000)\n",
    "\n"
   ]
  },
  {
   "cell_type": "code",
   "execution_count": null,
   "metadata": {},
   "outputs": [],
   "source": [
    "\"\"\"\n",
    "'SiO2', 'Al2O3', 'Al2O3', 'Al2O3', 'Al2O3', 'Al2O3', 'Al2O3', 'Al2O3', 'Al2O3', 'Al2O3', 'SiO2', 'Al2O3', 'SiO2', 'Al2O3', 'SiO2', 'Al2O3', 'SiO2', 'Al2O3', 'SiO2', 'Al2O3'], -0.47950853775871827]\n",
    "\n",
    "'SiO2', 'Al2O3', 'Al2O3', 'Al2O3', 'Al2O3', 'Al2O3', 'AlN', 'AlN', 'Al2O3', 'Al2O3', 'SiO2', 'Al2O3', 'SiO2', 'Al2O3', 'SiO2', 'Al2O3', 'SiO2', 'Al2O3', 'SiO2', 'Al2O3'], -0.4748182178093249]\n",
    "\n",
    "\"\"\""
   ]
  }
 ],
 "metadata": {
  "kernelspec": {
   "display_name": "Python 3.11.3 ('wptherml')",
   "language": "python",
   "name": "python3"
  },
  "language_info": {
   "codemirror_mode": {
    "name": "ipython",
    "version": 3
   },
   "file_extension": ".py",
   "mimetype": "text/x-python",
   "name": "python",
   "nbconvert_exporter": "python",
   "pygments_lexer": "ipython3",
   "version": "3.11.3"
  },
  "orig_nbformat": 4,
  "vscode": {
   "interpreter": {
    "hash": "76730e3f30f362cfebf11a96a5d6338d4be4fb4f70c6c5908b972c3de29eb12b"
   }
  }
 },
 "nbformat": 4,
 "nbformat_minor": 2
}
