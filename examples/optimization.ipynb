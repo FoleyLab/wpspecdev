{
 "cells": [
  {
   "cell_type": "code",
   "execution_count": 1,
   "metadata": {},
   "outputs": [],
   "source": [
    "%load_ext autoreload\n",
    "%autoreload 2"
   ]
  },
  {
   "cell_type": "code",
   "execution_count": null,
   "metadata": {},
   "outputs": [],
   "source": [
    "import wptherml\n",
    "from matplotlib import pyplot as plt\n",
    "import numpy as np\n",
    "\n",
    "# guess thickness for glass\n",
    "d1 = (5000e-9 / (4 * 1.5))\n",
    "# guess thickness for Al2O3\n",
    "d2 = (5000e-9 / (4 * 1.85))\n",
    "\n",
    "optimization_dict =         {\n",
    "            (1,2,3,4,5,6,7,8,9,10,11,12,13,14,15,16,17,18,19,20): (\"SiO2\", \"Al2O3\", \"TiO2\", \"AlN\"),\n",
    "        }\n",
    "\n",
    "test_args = {\n",
    "    \"wavelength_list\": [300e-9, 6000e-9, 1000],\n",
    "    \"Material_List\": [\"Air\",\"SiO2\", \"Al2O3\", \"SiO2\", \"ZrO2\",\"SiO2\", \"Al2O3\", \"SiO2\", \"Al2O3\",\"SiO2\", \"Al2O3\", \"SiO2\", \"Al2O3\",\"SiO2\", \"Al2O3\",\"SiO2\", \"Al2O3\", \"SiO2\", \"Al2O3\",\"SiO2\", \"Al2O3\", \"SiO2\", \"Al2O3\" , \"Air\"],\n",
    "    \"Thickness_List\": [0,d1, d2, d1, d2,d1, d2, d1, d2, d1, d2, d1, d2, d1, d2,d1, d2, d1, d2, d1, d2, d1, d2, 0],\n",
    "    \"reflective_window_wn\" : [2000, 2400],\n",
    "    \"transmissive_window_nm\" : [350, 700],\n",
    "    \"combinatorial_optimization\": True,\n",
    "    \"optimization_dictionary\": optimization_dict\n",
    " }\n",
    "# the top-level driver class is called \"SpectrumFactory\" - create an instance of it\n",
    "sf = wptherml.SpectrumFactory()  \n",
    "\n",
    "# the spectrum factory can be used to create an instance of a multilayer\n",
    "# that will automatically have attributes related to the materials and geometry\n",
    "# of the multilayer, along with the reflectivity, transmissivity, and absorptivity/emissivity spectra\n",
    "ts = sf.spectrum_factory(\"Opt\", test_args)\n",
    "\n",
    "def fom_func( sfobj):\n",
    "        sfobj.compute_spectrum()\n",
    "        sfobj.compute_selective_mirror_fom()\n",
    "\n",
    "\n",
    "        return -sfobj.reflection_efficiency\n",
    "\n",
    "\n",
    "\n",
    "\n",
    "ts.optimize_qubo(fom_func)\n",
    "        \n",
    "\n",
    "\"\"\"\n",
    "[[0, 0, 0, 1, 0, 1, 0, 1, 0, 1, 0, 1, 1, 1, 1, 1, 0, 1, 0, 1, 0, 0, 0, 1, 0, 0, 0, 1, 0, 0, 0, 1, 0, 0, 0, 1, 0, 0, 0, 1], ['SiO2', 'Al2O3', 'Al2O3', 'Al2O3', 'Al2O3', 'Al2O3', 'AlN', 'AlN', 'Al2O3', 'Al2O3', 'SiO2', 'Al2O3', 'SiO2', 'Al2O3', 'SiO2', 'Al2O3', 'SiO2', 'Al2O3', 'SiO2', 'Al2O3'], -0.4748182178093249]\n",
    "(40, 5)\n",
    "[[0, 0, 0, 1, 0, 1, 0, 1, 0, 1, 0, 1, 1, 1, 1, 1, 0, 1, 0, 1, 0, 0, 0, 1, 0, 0, 0, 1, 0, 0, 0, 1, 0, 0, 0, 1, 0, 0, 0, 1], ['SiO2', 'Al2O3', 'Al2O3', 'Al2O3', 'Al2O3', 'Al2O3', 'AlN', 'AlN', 'Al2O3', 'Al2O3', 'SiO2', 'Al2O3', 'SiO2', 'Al2O3', 'SiO2', 'Al2O3', 'SiO2', 'Al2O3', 'SiO2', 'Al2O3'], -0.4748182178093249]\n",
    "\n",
    "\"\"\"\n"
   ]
  },
  {
   "cell_type": "code",
   "execution_count": null,
   "metadata": {},
   "outputs": [],
   "source": [
    "import wptherml\n",
    "from matplotlib import pyplot as plt\n",
    "import numpy as np\n",
    "\n",
    "# guess thickness for glass\n",
    "d1 = (5000e-9 / (4 * 1.5))/2\n",
    "# guess thickness for Al2O3\n",
    "d2 = (5000e-9 / (4 * 1.85))/2\n",
    "\n",
    "optimization_dict =         {\n",
    "            (1,2,3,4,5,6,7,8,9,10,11,12,13,14,15,16,17,18,19,20,21,22,23,24,25,26,27,28,29,30,31,32,33,34,35,36,37,38,39,40): (\"SiO2\", \"Al2O3\", \"TiO2\", \"AlN\"),\n",
    "        }\n",
    "\n",
    "test_args = {\n",
    "    \"wavelength_list\": [300e-9, 6000e-9, 1000],\n",
    "    \"Material_List\": [\"Air\",\"SiO2\", \"Al2O3\", \"SiO2\", \"ZrO2\",\"SiO2\", \"Al2O3\", \"SiO2\", \"Al2O3\",\"SiO2\", \"Al2O3\", \"SiO2\", \"Al2O3\",\"SiO2\", \"Al2O3\",\"SiO2\", \"Al2O3\", \"SiO2\", \"Al2O3\",\"SiO2\", \"Al2O3\", \"SiO2\", \"Al2O3\" ,\"SiO2\", \"Al2O3\", \"SiO2\", \"ZrO2\",\"SiO2\", \"Al2O3\", \"SiO2\", \"Al2O3\",\"SiO2\", \"Al2O3\", \"SiO2\", \"Al2O3\",\"SiO2\", \"Al2O3\",\"SiO2\", \"Al2O3\", \"SiO2\", \"Al2O3\",\"SiO2\", \"Al2O3\", \"SiO2\", \"Al2O3\" ,  \"Air\"],\n",
    "    \"Thickness_List\": [0,d1, d2, d1, d2,d1, d2, d1, d2, d1, d2, d1, d2, d1, d2,d1, d2, d1, d2, d1, d2, d1, d2, d1, d2, d1, d2,d1, d2, d1, d2, d1, d2, d1, d2, d1, d2,d1, d2, d1, d2, d1, d2, d1, d2,0],\n",
    "    \"reflective_window_wn\" : [2000, 2400],\n",
    "    \"transmissive_window_nm\" : [350, 700],\n",
    "    \"combinatorial_optimization\": True,\n",
    "    \"optimization_dictionary\": optimization_dict\n",
    " }\n",
    "# the top-level driver class is called \"SpectrumFactory\" - create an instance of it\n",
    "sf = wptherml.SpectrumFactory()  \n",
    "\n",
    "# the spectrum factory can be used to create an instance of a multilayer\n",
    "# that will automatically have attributes related to the materials and geometry\n",
    "# of the multilayer, along with the reflectivity, transmissivity, and absorptivity/emissivity spectra\n",
    "ts = sf.spectrum_factory(\"Opt\", test_args)\n",
    "\n",
    "def fom_func(sfobj):\n",
    "        sfobj.compute_spectrum()\n",
    "        sfobj.compute_selective_mirror_fom()\n",
    "\n",
    "\n",
    "        return -sfobj.reflection_efficiency\n",
    "\n",
    "\n",
    "\n",
    "\n",
    "ts.optimize_qubo(fom_func)\n",
    "        "
   ]
  }
 ],
 "metadata": {
  "kernelspec": {
   "display_name": "Python 3.11.3 ('wptherml')",
   "language": "python",
   "name": "python3"
  },
  "language_info": {
   "codemirror_mode": {
    "name": "ipython",
    "version": 3
   },
   "file_extension": ".py",
   "mimetype": "text/x-python",
   "name": "python",
   "nbconvert_exporter": "python",
   "pygments_lexer": "ipython3",
   "version": "3.11.3"
  },
  "orig_nbformat": 4,
  "vscode": {
   "interpreter": {
    "hash": "76730e3f30f362cfebf11a96a5d6338d4be4fb4f70c6c5908b972c3de29eb12b"
   }
  }
 },
 "nbformat": 4,
 "nbformat_minor": 2
}
