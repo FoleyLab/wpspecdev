{
 "cells": [
  {
   "cell_type": "markdown",
   "id": "4c75256a",
   "metadata": {},
   "source": [
    "# Random structure generation and analysis\n",
    "\n",
    "We can also try generating random multilayers and sorting good performing ones for further optimization.\n",
    "Since we are considering two different objectives, $\\eta_T$ and $\\eta_R$, we might imagine that \n",
    "some [Pareto front](https://en.wikipedia.org/wiki/Pareto_front) might be of value.  We will define \n",
    "a function `is_dominated()` will take an array containing $\\eta_T$ and $\\eta_R$ values \n",
    "arising from a set of randomly-generated structures and will identify all structures that are dominated by other structures.  This is essentially the complementary list of structures that are Pareto optimal; namely this will identify all structures that **do not** lie on the Pareto front.  We can then create the Pareto front as the complement list and choose to investigate structures from this list.\n",
    "\n",
    "The function `is_dominated` sorts out the indices of dominated structures."
   ]
  },
  {
   "cell_type": "code",
   "execution_count": null,
   "id": "aa8c1bb3",
   "metadata": {},
   "outputs": [],
   "source": [
    "def is_dominated(eta_T, eta_R):\n",
    "    '''Pareto optimal: structure x with transmission efficiency \\eta_T(x) and\n",
    "       reflection efficiency \\eta_R(x) is pareto optimal if for all y \\neq x\n",
    "       \\eta_T(x) ≥ \\eta_T(y) and \\eta_R(x) ≥ \\eta_R(y)\n",
    "       and \\eta_T(x) > \\eta_T(y) or \\eta_R(x) > \\eta_R(y)'''\n",
    "    _N = len(eta_T)\n",
    "    _is_dominated = []\n",
    "    for i in range(0, _N):\n",
    "        _eta_T_x = eta_T[i]\n",
    "        _eta_R_x = eta_R[i]\n",
    "        for j in range(0, _N):\n",
    "            if j != i:\n",
    "                _eta_T_y = eta_T[j]\n",
    "                _eta_R_y = eta_R[j]\n",
    "                if _eta_T_y >= _eta_T_x and _eta_R_y >= _eta_R_x:\n",
    "                    if _eta_T_y > _eta_T_x or _eta_R_y > _eta_R_x:\n",
    "                        _is_dominated.append(i)\n",
    "                        break\n",
    "    return _is_dominated\n",
    "             \n",
    "    "
   ]
  },
  {
   "cell_type": "markdown",
   "id": "d0b69d82",
   "metadata": {},
   "source": [
    "Next we will create a base structure with 5 transparent layers on top of a thin silver film\n",
    "using `\"Material_List\": [\"Air\",\"Ta2O5\", \"SiO2\", \"Al2O3\", \"SiO2\", \"Al2O3\", \"Ag\", \"Air\"]` and\n",
    "`\"Thickness_List\": [0, 70e-9, 85e-9, 70e-9, 85e-9, 500e-9, 2e-9, 0]`.\n",
    "We will specify that layers 1 through 5 can be randomly modified in thickness and composition\n",
    "using the lines\n",
    "`\"random_material_layers\" : [1, 2, 3, 4, 5]` and `\"random_thickness_layers\" : [1, 2, 3, 4, 5]`.\n",
    "Finally, the materials from which the composition can be randmoly selected is specified \n",
    "in `\"possible_random_materials\" : [\"SiO2\", \"Al2O3\", \"Ta2O5\", \"TiO2\", \"ZrO2\", \"Si3N4\"]`.\n",
    "\n",
    "The structure will be instantiated as the Ta2O45, SiO2, Al2O3, SiO2, Al2O3, Ag structure as specified below,\n",
    "and we will randomly modify the layers in a subsequent cell."
   ]
  },
  {
   "cell_type": "code",
   "execution_count": null,
   "id": "50fcfdd5",
   "metadata": {},
   "outputs": [],
   "source": [
    "import wptherml\n",
    "from matplotlib import pyplot as plt\n",
    "import numpy as np\n",
    "\n",
    "test_args = {\n",
    "    \"wavelength_list\": [300e-9, 6000e-9, 1000],\n",
    "    \"Material_List\": [\"Air\",\"Ta2O5\", \"SiO2\", \"Al2O3\", \"SiO2\", \"Al2O3\", \"Ag\", \"Air\"],\n",
    "    \"Thickness_List\": [0, 70e-9, 85e-9, 70e-9, 85e-9, 500e-9, 2e-9, 0],\n",
    "    \"reflective_window_wn\" : [2000, 2400],\n",
    "    \"transmissive_window_nm\" : [350, 700],\n",
    "    \"random_material_layers\" : [1, 2, 3, 4, 5],\n",
    "    \"random_thickness_layers\" : [1, 2, 3, 4, 5],\n",
    "    \"possible_random_materials\" : [\"SiO2\", \"Al2O3\", \"Ta2O5\", \"TiO2\", \"ZrO2\", \"Si3N4\"]\n",
    " }\n",
    "\n",
    "sf = wptherml.SpectrumFactory()\n",
    "test = sf.spectrum_factory('Tmm', test_args)\n",
    "\n",
    "test.compute_selective_mirror_fom()\n",
    "print(F'Reflection Efficiency is {100 * test.reflection_efficiency:.2f} %')\n",
    "print(F'Transmission Efficiency is {100 * test.transmission_efficiency:.2f} %')\n",
    "print(F'Composite FOM is {100 * test.selective_mirror_fom:.2f} %')\n"
   ]
  },
  {
   "cell_type": "markdown",
   "id": "78052b78",
   "metadata": {},
   "source": [
    "We will plot the spectra of this initial structure along a wavenumber and wavelength axis below."
   ]
  },
  {
   "cell_type": "code",
   "execution_count": null,
   "id": "d41858f6",
   "metadata": {},
   "outputs": [],
   "source": [
    "\n",
    "\n",
    "plt.plot(test.wavenumber_array * 1e-2, test.transmissive_envelope, label='T window')\n",
    "plt.plot(test.wavenumber_array * 1e-2, test.reflective_envelope, label='R window')\n",
    "plt.plot(test.wavenumber_array * 1e-2, test.transmissivity_array, label='T')\n",
    "plt.plot(test.wavenumber_array * 1e-2, test.reflectivity_array, label='R')\n",
    "plt.plot(test.wavenumber_array * 1e-2, test.emissivity_array, label='A')\n",
    "#plt.xlim(2000,8000)\n",
    "plt.grid(True)\n",
    "plt.legend()"
   ]
  },
  {
   "cell_type": "code",
   "execution_count": null,
   "id": "80a44f05",
   "metadata": {},
   "outputs": [],
   "source": [
    "plt.plot(test.wavelength_array, test.transmissive_envelope, label='T window')\n",
    "plt.plot(test.wavelength_array, test.reflective_envelope, label='R window')\n",
    "plt.plot(test.wavelength_array, test.transmissivity_array, label='T')\n",
    "plt.plot(test.wavelength_array, test.reflectivity_array, label='R')\n",
    "plt.plot(test.wavelength_array, test.emissivity_array, label='A')\n",
    "#plt.xlim(400e-9,800e-9)\n",
    "plt.legend()\n",
    "\n",
    "\n",
    "#plt.xlim(1000, 3000)"
   ]
  },
  {
   "cell_type": "markdown",
   "id": "6b9ec3b5",
   "metadata": {},
   "source": [
    "The block below will create a number of random structures (specified by `N = 500` currently).\n",
    "The compositions and thicknesses of layers 1-5 will be randomly assigned by the lines\n",
    "`test.randomize_materials_array()` and `test.randomize_thickness_array()`, and we will compute\n",
    "and store the values of $\\eta_T$ and $\\eta_R$ for each one.  We will also store integer codes\n",
    "for the materials (these codes are just the indices corresponding to the materials from the \n",
    "`possible_random_materials` list, e.g. for `\"possible_random_materials\" : [\"SiO2\", \"Al2O3\", \"Ta2O5\", \"TiO2\", \"ZrO2\", \"Si3N4\"]`, $0 \\rightarrow {\\rm SiO2}, 1 \\rightarrow {\\rm Al2O3}, {\\rm etc}$ which will help us to store and retrieve information about the Pareto optimal structures later."
   ]
  },
  {
   "cell_type": "code",
   "execution_count": null,
   "id": "2cc0b5d5",
   "metadata": {},
   "outputs": [],
   "source": [
    "N = 500\n",
    "M = len(test.random_materials_list)\n",
    "foms = np.zeros((N, 2))\n",
    "thicknesses = np.zeros((N, test.number_of_layers))\n",
    "materials_codes = np.zeros((N, M), dtype=int)\n",
    "\n",
    "for i in range(0, N):\n",
    "    test.randomize_materials_array()\n",
    "    test.randomize_thickness_array()\n",
    "    thicknesses[i,:] = np.copy(test.thickness_array)\n",
    "    materials_codes[i,:] = np.copy(test.materials_code)\n",
    "    test.compute_spectrum()\n",
    "    test.compute_selective_mirror_fom()\n",
    "    # get objectives Pareto dominant solutions\n",
    "    foms[i,0] = test.reflection_efficiency \n",
    "    foms[i,1] = test.transmission_efficiency "
   ]
  },
  {
   "cell_type": "markdown",
   "id": "f47f903f",
   "metadata": {},
   "source": [
    "You can print all of the randomly-generated thickness and materials code lists here"
   ]
  },
  {
   "cell_type": "code",
   "execution_count": null,
   "id": "e5adefaa",
   "metadata": {},
   "outputs": [],
   "source": [
    "print(thicknesses)\n",
    "print(materials_codes)\n"
   ]
  },
  {
   "cell_type": "markdown",
   "id": "c08ecebc",
   "metadata": {},
   "source": [
    "We will now sort the dominated structures in order to create the list of Pareto optimal solutions, which \n",
    "will be plotted ($\\eta_R$ vs $\\eta_T$) along with all structures below."
   ]
  },
  {
   "cell_type": "code",
   "execution_count": null,
   "id": "5240aea6",
   "metadata": {},
   "outputs": [],
   "source": [
    "# get the indices of all solutions that are dominated by at least 1 other solution\n",
    "dominated_indices = is_dominated(foms[:,0], foms[:,1])\n",
    "\n",
    "# collect the Pareto front as the solutions which are *NOT* dominated by any others\n",
    "pareto_foms = np.delete(foms, dominated_indices, axis=0)\n",
    "pareto_materials = np.delete(materials_codes, dominated_indices, axis=0)\n",
    "pareto_thicknesses = np.delete(thicknesses, dominated_indices, axis=0)\n"
   ]
  },
  {
   "cell_type": "code",
   "execution_count": null,
   "id": "35195f95",
   "metadata": {},
   "outputs": [],
   "source": [
    "plt.plot(foms[:,0], foms[:,1], 'ro', label=\"All Solutions\")\n",
    "plt.plot(pareto_foms[:,0],  pareto_foms[:,1], 'bo', label=\"Pareto Front\")\n",
    "plt.xlabel(\"R Efficiency\")\n",
    "plt.ylabel(\"T Efficiency\")\n",
    "plt.legend()\n",
    "plt.show()"
   ]
  },
  {
   "cell_type": "markdown",
   "id": "da61e1ac",
   "metadata": {},
   "source": [
    "Let's plot the spectrum of the Pareto optimal solution that has the maximum R efficiency"
   ]
  },
  {
   "cell_type": "code",
   "execution_count": null,
   "id": "a967878c",
   "metadata": {},
   "outputs": [],
   "source": [
    "# get the index of the solution with the largest value of \\eta\n",
    "max_R_index = np.argmax(pareto_foms[:,0])\n",
    "print(max_R_index)\n",
    "max_T_index = np.argmax(pareto_foms[:,1])\n",
    "print(max_T_index)"
   ]
  },
  {
   "cell_type": "markdown",
   "id": "4a184f38",
   "metadata": {},
   "source": [
    "We can easily get the thickness list for each of these solutions, but the materials list is\n",
    "going to take slightly more work... we have the material codes (indices) and must use them along\n",
    "with the `possible_materials` and `random_materials_list` attributes "
   ]
  },
  {
   "cell_type": "code",
   "execution_count": null,
   "id": "022a6b9a",
   "metadata": {},
   "outputs": [],
   "source": [
    "# get the thickness array for the Pareto solution that maximizes R efficiency / minimizes R error\n",
    "test.thickness_array = np.copy(pareto_thicknesses[max_T_index])"
   ]
  },
  {
   "cell_type": "code",
   "execution_count": null,
   "id": "147dc800",
   "metadata": {},
   "outputs": [],
   "source": [
    "for i in range(len(pareto_materials[max_T_index])):\n",
    "    idx = pareto_materials[max_T_index, i]\n",
    "    mat_str = test.possible_materials[idx]\n",
    "    jdx = test.random_materials_list[i]\n",
    "    test.material_array[jdx] = mat_str\n",
    "print(test.material_array)"
   ]
  },
  {
   "cell_type": "code",
   "execution_count": null,
   "id": "837eabc6",
   "metadata": {},
   "outputs": [],
   "source": [
    "print(test.thickness_array)"
   ]
  },
  {
   "cell_type": "code",
   "execution_count": null,
   "id": "e2488a25",
   "metadata": {},
   "outputs": [],
   "source": [
    "test.set_refractive_index_array()\n",
    "test.compute_spectrum()\n",
    "\n",
    "plt.plot(test.wavelength_array, test.transmissive_envelope, label='T window')\n",
    "plt.plot(test.wavelength_array, test.reflective_envelope, label='R window')\n",
    "plt.plot(test.wavelength_array, test.transmissivity_array, label='T')\n",
    "plt.plot(test.wavelength_array, test.reflectivity_array, label='R')\n",
    "plt.plot(test.wavelength_array, test.emissivity_array, label='A')\n",
    "plt.legend()\n"
   ]
  }
 ],
 "metadata": {
  "kernelspec": {
   "display_name": "Python 3 (ipykernel)",
   "language": "python",
   "name": "python3"
  },
  "language_info": {
   "codemirror_mode": {
    "name": "ipython",
    "version": 3
   },
   "file_extension": ".py",
   "mimetype": "text/x-python",
   "name": "python",
   "nbconvert_exporter": "python",
   "pygments_lexer": "ipython3",
   "version": "3.8.13"
  }
 },
 "nbformat": 4,
 "nbformat_minor": 5
}
