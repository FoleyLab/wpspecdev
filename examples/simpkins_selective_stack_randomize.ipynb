{
 "cells": [
  {
   "cell_type": "markdown",
   "id": "4c75256a",
   "metadata": {},
   "source": [
    "We're interested in a mirror that is reflective in the mid-IR (reflective\n",
    "band centered 1550 - 2200 cm-1 depending on exact system, with reflectivity\n",
    "band width of ~200 cm-1 or more) and as transmissive as possible in the\n",
    "upper visible (roughly from 320-700 nm, but we could settle for a smaller\n",
    "range).\n",
    "\n",
    "There are quite a few materials at our disposal either in-house or through a\n",
    "vendor.  I could list them all but I suppose we could start with the most\n",
    "common.\n",
    "Ag\n",
    "Si3N4\n",
    "SiO2\n",
    "TiO2\n",
    "Al2O3\n",
    "Ta2O5\n",
    "ZrO2\n",
    "\n",
    "*from Michael*\n",
    "\n",
    "\n",
    "I also think it could be desirable if the near-UV to visible is transparent, the mid-IR from ~4000 cm^-1 to 500 cm^-1 is completely reflective,\n",
    "\n",
    "*from Blake* \n",
    "While it is true that the width of the reflective region in the mid-IR would \"ideally\" be somewhat narrow (this would remove unintended couplings), I'd say that is a secondary concern.  Broadly speaking, we're not too concerned about what happens between ~2200cm-1 and 700nm.\n",
    "\n",
    "\n",
    "$$ nd=\\frac{\\lambda}{4} \\rightarrow d = \\frac{\\lambda}{4n}$$"
   ]
  },
  {
   "cell_type": "code",
   "execution_count": null,
   "id": "a7abd296",
   "metadata": {},
   "outputs": [],
   "source": [
    "import wptherml\n",
    "from matplotlib import pyplot as plt\n",
    "import numpy as np\n",
    "_possible_materials = [\"SiO2\", \"Al2O3\", \"TiO2\", \"Ag\", \"Au\", \"Ta2O5\"]\n",
    "\n",
    "d1 = 5000e-9 / (4 * 1.55)\n",
    "d2 = 5000e-9 / (4 * 1.85)\n",
    "print(d1, d2)"
   ]
  },
  {
   "cell_type": "code",
   "execution_count": null,
   "id": "aa8c1bb3",
   "metadata": {},
   "outputs": [],
   "source": [
    "def is_dominated(eta, rho):\n",
    "    '''Pareto optimal: structure x with useful power density \\rho(x) and\n",
    "       spectral efficiency \\eta(x) is pareto optimal if for all y \\neq x\n",
    "       \\rho(x) ≥ \\rho(y) and \\eta(x) ≥ \\eta(y)\n",
    "       and \\rho(x) > \\rho(y) or \\eta(x) > \\eta(y)'''\n",
    "    _N = len(eta)\n",
    "    _is_dominated = []\n",
    "    for i in range(0, _N):\n",
    "        _rho_x = rho[i]\n",
    "        _eta_x = eta[i]\n",
    "        for j in range(0, _N):\n",
    "            if j != i:\n",
    "                _rho_y = rho[j]\n",
    "                _eta_y = eta[j]\n",
    "                if _rho_y >= _rho_x and _eta_y >= _eta_x:\n",
    "                    if _rho_y > _rho_x or _eta_y > _eta_x:\n",
    "                        _is_dominated.append(i)\n",
    "                        break\n",
    "    return _is_dominated\n",
    "             \n",
    "    "
   ]
  },
  {
   "cell_type": "code",
   "execution_count": null,
   "id": "50fcfdd5",
   "metadata": {},
   "outputs": [],
   "source": [
    "test_args = {\n",
    "    \"wavelength_list\": [300e-9, 6000e-9, 1000],\n",
    "    \"Material_List\": [\"Air\",\"ta2o5\", \"SiO2\", \"Al2O3\", \"SiO2\", \"Al2O3\", \"Ag\", \"Air\"],\n",
    "    \"Thickness_List\": [0, 70e-9, 85e-9, 70e-9, 85e-9, 500e-9, 5e-9, 0],\n",
    "    \"reflective_window_wn\" : [2000, 2400],\n",
    "    \"transmissive_window_nm\" : [350, 700],\n",
    "    \"random_material_layers\" : [1, 2, 3, 4, 5],\n",
    "    \"random_thickness_layers\" : [1, 2, 3, 4, 5],\n",
    "    \"possible_random_materials\" : [\"SiO2\", \"Al2O3\", \"Ta2O5\", \"TiO2\"]\n",
    " }"
   ]
  },
  {
   "cell_type": "code",
   "execution_count": null,
   "id": "347d805b",
   "metadata": {},
   "outputs": [],
   "source": [
    "test_args = {\n",
    "    \"wavelength_list\": [300e-9, 6000e-9, 1000],\n",
    "    \"Material_List\": [\"Air\",\"SiO2\", \"ZrO2\", \"SiO2\", \"Si3N4\",\"SiO2\", \"Al2O3\",\"SiO2\", \"Al2O3\", \"SiO2\", \"Al2O3\",\"SiO2\", \"Al2O3\", \"SiO2\", \"Al2O3\" ,\"SiO2\", \"Al2O3\", \"SiO2\", \"Al2O3\" , \"Air\"],\n",
    "    \"Thickness_List\": [0, 100e-9, d2, d1, d2, d1, d2,d1, d2, d1, d2, d1, d2, d1, d2, d1, d2, d1, d2, 0],\n",
    "    \"reflective_window_wn\" : [2000, 2400],\n",
    "    \"transmissive_window_nm\" : [350, 700],\n",
    "    \"random_material_layers\" : [1, 2, 3, 4, 5],\n",
    "    \"random_thickness_layers\" : [1, 2, 3, 4, 5],\n",
    "    \"possible_random_materials\" : [\"SiO2\", \"Al2O3\", \"Ta2O5\", \"TiO2\"]\n",
    " }"
   ]
  },
  {
   "cell_type": "code",
   "execution_count": null,
   "id": "f6afa5e4",
   "metadata": {},
   "outputs": [],
   "source": [
    "sf = wptherml.SpectrumFactory()\n",
    "test = sf.spectrum_factory('Tmm', test_args)\n"
   ]
  },
  {
   "cell_type": "code",
   "execution_count": null,
   "id": "d41858f6",
   "metadata": {},
   "outputs": [],
   "source": [
    "#te = _compute_transmission_envelope(test.wavelength_array)\n",
    "#re = _compute_reflection_envelope(test.wavelength_array, 2200, 200)\n",
    "\n",
    "\n",
    "plt.plot(test.wavenumber_array * 1e-2, test.transmissive_envelope, label='T window')\n",
    "plt.plot(test.wavenumber_array * 1e-2, test.reflective_envelope, label='R window')\n",
    "plt.plot(test.wavenumber_array * 1e-2, test.transmissivity_array, label='T')\n",
    "plt.plot(test.wavenumber_array * 1e-2, test.reflectivity_array, label='R')\n",
    "plt.plot(test.wavenumber_array * 1e-2, test.emissivity_array, label='A')\n",
    "#plt.xlim(2000,8000)\n",
    "plt.grid(True)\n",
    "plt.legend()"
   ]
  },
  {
   "cell_type": "code",
   "execution_count": null,
   "id": "80a44f05",
   "metadata": {},
   "outputs": [],
   "source": [
    "plt.plot(test.wavelength_array, test.transmissive_envelope, label='T window')\n",
    "plt.plot(test.wavelength_array, test.reflective_envelope, label='R window')\n",
    "plt.plot(test.wavelength_array, test.transmissivity_array, label='T')\n",
    "plt.plot(test.wavelength_array, test.reflectivity_array, label='R')\n",
    "plt.plot(test.wavelength_array, test.emissivity_array, label='A')\n",
    "plt.xlim(400e-9,800e-9)\n",
    "plt.legend()\n",
    "\n",
    "\n",
    "#plt.xlim(1000, 3000)"
   ]
  },
  {
   "cell_type": "code",
   "execution_count": null,
   "id": "b57f2284",
   "metadata": {},
   "outputs": [],
   "source": [
    "test.compute_selective_mirror_fom()\n",
    "print(test.reflection_efficiency)\n",
    "print(test.transmission_efficiency)\n",
    "print(test.selective_mirror_fom)"
   ]
  },
  {
   "cell_type": "code",
   "execution_count": null,
   "id": "2cc0b5d5",
   "metadata": {},
   "outputs": [],
   "source": [
    "\n",
    "\n",
    "N = 500\n",
    "M = len(test.random_materials_list)\n",
    "foms = np.zeros((N, 2))\n",
    "thicknesses = np.zeros((N, test.number_of_layers))\n",
    "materials_codes = np.zeros((N, M), dtype=int)\n",
    "\n",
    "for i in range(0, N):\n",
    "    test.randomize_materials_array()\n",
    "    test.randomize_thickness_array()\n",
    "    thicknesses[i,:] = np.copy(test.thickness_array)\n",
    "    materials_codes[i,:] = np.copy(test.materials_code)\n",
    "    test.compute_spectrum()\n",
    "    test.compute_selective_mirror_fom()\n",
    "    # get objectives Pareto dominant solutions\n",
    "    foms[i,0] = test.reflection_efficiency #1-test.mean_scaled_squared_reflectivity_error\n",
    "    foms[i,1] = test.transmission_efficiency #1-test.mean_scaled_squared_transmissivity_error\n",
    "\n"
   ]
  },
  {
   "cell_type": "code",
   "execution_count": null,
   "id": "e5adefaa",
   "metadata": {},
   "outputs": [],
   "source": [
    "print(thicknesses)\n",
    "print(materials_codes)\n"
   ]
  },
  {
   "cell_type": "code",
   "execution_count": null,
   "id": "5240aea6",
   "metadata": {},
   "outputs": [],
   "source": [
    "# get the indices of all solutions that are dominated by at least 1 other solution\n",
    "dominated_indices = is_dominated(foms[:,0], foms[:,1])\n",
    "\n",
    "# collect the Pareto front as the solutions which are *NOT* dominated by any others\n",
    "pareto_foms = np.delete(foms, dominated_indices, axis=0)\n",
    "pareto_materials = np.delete(materials_codes, dominated_indices, axis=0)\n",
    "pareto_thicknesses = np.delete(thicknesses, dominated_indices, axis=0)\n"
   ]
  },
  {
   "cell_type": "code",
   "execution_count": null,
   "id": "35195f95",
   "metadata": {},
   "outputs": [],
   "source": [
    "plt.plot(foms[:,0], foms[:,1], 'ro', label=\"All Solutions\")\n",
    "plt.plot(pareto_foms[:,0],  pareto_foms[:,1], 'bo', label=\"Pareto Front\")\n",
    "plt.xlabel(\"R Efficiency\")\n",
    "plt.ylabel(\"T Efficiency\")\n",
    "plt.legend()\n",
    "plt.show()"
   ]
  },
  {
   "cell_type": "markdown",
   "id": "da61e1ac",
   "metadata": {},
   "source": [
    "Let's plot the spectrum of the Pareto optimal solution that has the maximum R efficiency"
   ]
  },
  {
   "cell_type": "code",
   "execution_count": null,
   "id": "a967878c",
   "metadata": {},
   "outputs": [],
   "source": [
    "# get the index of the solution with the largest value of \\eta\n",
    "max_R_index = np.argmax(pareto_foms[:,0])\n",
    "print(max_R_index)\n",
    "max_T_index = np.argmax(pareto_foms[:,1])\n",
    "print(max_T_index)"
   ]
  },
  {
   "cell_type": "markdown",
   "id": "4a184f38",
   "metadata": {},
   "source": [
    "We can easily get the thickness list for each of these solutions, but the materials list is\n",
    "going to take slightly more work... we have the material codes (indices) and must use them along\n",
    "with the `possible_materials` and `random_materials_list` attributes "
   ]
  },
  {
   "cell_type": "code",
   "execution_count": null,
   "id": "022a6b9a",
   "metadata": {},
   "outputs": [],
   "source": [
    "# get the thickness array for the Pareto solution that maximizes R efficiency / minimizes R error\n",
    "test.thickness_array = np.copy(pareto_thicknesses[max_T_index])"
   ]
  },
  {
   "cell_type": "code",
   "execution_count": null,
   "id": "147dc800",
   "metadata": {},
   "outputs": [],
   "source": [
    "print(test.material_array)\n",
    "for i in range(len(pareto_materials[max_T_index])):\n",
    "    idx = pareto_materials[max_T_index, i]\n",
    "    mat_str = test.possible_materials[idx]\n",
    "    jdx = test.random_materials_list[i]\n",
    "    print(jdx)\n",
    "    print(mat_str)\n",
    "    test.material_array[jdx] = mat_str\n",
    "print(test.material_array)"
   ]
  },
  {
   "cell_type": "code",
   "execution_count": null,
   "id": "837eabc6",
   "metadata": {},
   "outputs": [],
   "source": [
    "print(test.thickness_array)"
   ]
  },
  {
   "cell_type": "code",
   "execution_count": null,
   "id": "e2488a25",
   "metadata": {},
   "outputs": [],
   "source": [
    "test.set_refractive_index_array()\n",
    "test.compute_spectrum()\n",
    "\n",
    "plt.plot(test.wavelength_array, test.transmissive_envelope, label='T window')\n",
    "plt.plot(test.wavelength_array, test.reflective_envelope, label='R window')\n",
    "plt.plot(test.wavelength_array, test.transmissivity_array, label='T')\n",
    "plt.plot(test.wavelength_array, test.reflectivity_array, label='R')\n",
    "plt.plot(test.wavelength_array, test.emissivity_array, label='A')\n",
    "plt.legend()\n"
   ]
  },
  {
   "cell_type": "code",
   "execution_count": null,
   "id": "9753911e",
   "metadata": {},
   "outputs": [],
   "source": [
    "from scipy.optimize import minimize\n",
    "from scipy.optimize import basinhopping\n",
    "import time\n",
    "\n",
    "test_args = {\n",
    "    \"wavelength_list\": [300e-9, 6000e-9, 1000],\n",
    "    \"Material_List\": [\"Air\",\"Al2O3\", \"SiO2\", \"Al2O3\", \"SiO2\", \"Al2O3\", \"Ag\", \"Air\"],\n",
    "    \"Thickness_List\": [0, 409e-9,  55e-9, 322e-9, 494e-9,  97e-9,   5e-9, 0],\n",
    "}\n",
    "\n",
    "# start the spectrum driver\n",
    "sf = wptherml.SpectrumFactory()\n",
    "# create an instance using the TMM with the structure defined as above\n",
    "test = sf.spectrum_factory('Tmm', test_args)\n",
    "\n",
    "def update_multilayer(x):\n",
    "    \"\"\" function to update the thicknesses of each layer given an\n",
    "        array of thicknesses stored in x\"\"\"\n",
    "    \n",
    "    rfom, tfom = figure_of_merit(test, x, 2200, 200)\n",
    "    comp_fom = 0.5 * (rfom + tfom)\n",
    "\n",
    "    ### return negative of cooling power - minimize functions want \n",
    "    ### to minimize, so trick them by passing negative of the objective you\n",
    "    ### want to maximize\n",
    "    return -comp_fom\n",
    "\n",
    "### given an array of thicknesses of the coating, update\n",
    "### the structure and compute the gradient vector of conversion efficiency wrt layer thicknesses\n",
    "#def analytic_grad(x0):\n",
    "#    cur = update_multilayer(x0)\n",
    "#    cool_ml.compute_cooling_gradient()\n",
    "#\n",
    "#    g = cool_ml.net_cooling_power_gradient\n",
    "#    ### scale gradient to be in nm^-1 rather than over m^-1\n",
    "#    return -g*1e-9\n",
    "\n",
    "### Function that gets the negative of the efficiency and the \n",
    "### negative of the gradient for use in the l-bfgs-b algorithm\n",
    "### also prints out the time for timing purposes!\n",
    "def SuperFunc(x0):\n",
    "    en = update_multilayer(x0)\n",
    "    #c_time = time.time()\n",
    "    #if en<0:\n",
    "    #    print(\" This structure is net cooling with net power out being\",-en)\n",
    "    #else:\n",
    "    #    print(\" This structure is net warming with net poer in being\",-en)\n",
    "    #gr = analytic_grad(x0)\n",
    "    return en\n",
    "\n",
    "# the bounds for L-BFGS-B updates!\n",
    "# minimum layer thickness is 1 nm\n",
    "bfgs_xmin = np.ones(test.number_of_layers-2)\n",
    "# maximum layer thickness is 400 nm\n",
    "bfgs_xmax = 400*np.ones(test.number_of_layers-2)\n",
    "\n",
    "# rewrite the bounds in the way required by L-BFGS-B\n",
    "bfgs_bounds = [(low, high) for low, high in zip(bfgs_xmin, bfgs_xmax)]\n",
    "\n",
    "### initialize the solution vector xs to be the thicknesses from \n",
    "### Raman et al. paper\n",
    "xs = np.array([409,  55, 322, 494,  97,   5])\n",
    "### print out initial solution vector and initial efficiency\n",
    "print(\"xs is \")\n",
    "print(xs)\n",
    "pflux = -update_multilayer(xs)\n",
    "if pflux>0:\n",
    "    print(\" This structure is net cooling with net power out being\",pflux)   \n",
    "else:\n",
    "    print(\" This structure is net warming with net poer in being\",pflux)\n",
    "\n",
    "\n",
    "### run l-bfgs-b algorithm!\n",
    "ret = minimize(SuperFunc, xs, method=\"L-BFGS-B\", jac=False, bounds=bfgs_bounds)\n",
    "\n",
    "### print optimal solution and its efficiency!\n",
    "print(ret.x)\n",
    "print(-update_multilayer(ret.x))"
   ]
  },
  {
   "cell_type": "code",
   "execution_count": null,
   "id": "50abb1ca",
   "metadata": {},
   "outputs": [],
   "source": [
    "rfom, tfom = figure_of_merit(test, ret.x, 2200, 200)\n",
    "print(rfom, tfom)"
   ]
  },
  {
   "cell_type": "code",
   "execution_count": null,
   "id": "38d89028",
   "metadata": {},
   "outputs": [],
   "source": [
    "N_layer = 3\n",
    "lists = np.linspace(1, N_layer, N_layer, dtype=int)\n",
    "print(lists)"
   ]
  },
  {
   "cell_type": "code",
   "execution_count": null,
   "id": "ffbb2810",
   "metadata": {},
   "outputs": [],
   "source": []
  }
 ],
 "metadata": {
  "kernelspec": {
   "display_name": "Python 3 (ipykernel)",
   "language": "python",
   "name": "python3"
  },
  "language_info": {
   "codemirror_mode": {
    "name": "ipython",
    "version": 3
   },
   "file_extension": ".py",
   "mimetype": "text/x-python",
   "name": "python",
   "nbconvert_exporter": "python",
   "pygments_lexer": "ipython3",
   "version": "3.8.13"
  }
 },
 "nbformat": 4,
 "nbformat_minor": 5
}
