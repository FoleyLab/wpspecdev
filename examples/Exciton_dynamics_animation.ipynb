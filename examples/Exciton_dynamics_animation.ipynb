{
 "cells": [
  {
   "cell_type": "markdown",
   "id": "18532380",
   "metadata": {},
   "source": [
    "We will instantiate the ExcitonDriver class as an array of 5 monomers spaced along the x-axis.\n",
    "Each monomer will have an exciton energy of 1.5 and a transition dipole moment along z with a magnitude of 0.5."
   ]
  },
  {
   "cell_type": "code",
   "execution_count": 1,
   "id": "c8e38d33",
   "metadata": {},
   "outputs": [],
   "source": [
    "import wptherml\n",
    "from matplotlib import pyplot as plt\n",
    "import numpy as np\n",
    "import math\n",
    "\n",
    "from matplotlib import animation, rc\n",
    "from IPython.display import HTML\n",
    "#from PIL import Image as \n",
    "\n",
    "\n",
    "args = {  \n",
    "'exciton_energy': 1.5,\n",
    "'number_of_monomers' : 2,\n",
    "'displacement_between_monomers' : np.array([1, 0, 0]), \n",
    "'transition_dipole_moment' : np.array([0, 0, 0.5]) \n",
    "}  \n",
    "\n",
    "sf = wptherml.SpectrumFactory()  \n",
    "test = sf.spectrum_factory('Frenkel', args)\n",
    "test.build_exciton_hamiltonian()\n"
   ]
  },
  {
   "cell_type": "markdown",
   "id": "c0eb3ba3",
   "metadata": {},
   "source": [
    "We will call the `compute_exciton_wavefunction_site_basis()`, which \n",
    "will evaluate the wavefunctions localized along the sites of each monomer as follows:\n",
    "\n",
    "$$ \\phi_n(x) = a \\: {\\rm exp}\\left( -\\frac{(x-x_n)^2}{2c^2} \\right) $$\n",
    "\n",
    "where $x_n$ is x-coordinate for the center of mass of exciton on site $n$."
   ]
  },
  {
   "cell_type": "code",
   "execution_count": 2,
   "id": "b8cfbd5b",
   "metadata": {},
   "outputs": [],
   "source": [
    "test.compute_exciton_wavefunction_site_basis()"
   ]
  },
  {
   "cell_type": "markdown",
   "id": "1bbc6b7f",
   "metadata": {},
   "source": [
    "Calling this method also create a grid of $x$ values spanning values between `.x_min` and `.x_max`, which are derived\n",
    "from the `.number_of_monomers` and `.displacement_between_monomers` attributes."
   ]
  },
  {
   "cell_type": "code",
   "execution_count": 3,
   "id": "a44bf47f",
   "metadata": {},
   "outputs": [],
   "source": [
    "# First set up the figure, the axis, and the plot element we want to animate\n",
    "fig, ax = plt.subplots()\n",
    "plt.close()\n",
    "\n",
    "### parameters for plot\n",
    "ax.set_xlim((test.x_min, test.x_max))\n",
    "ax.set_ylim((-2, 2))\n",
    "\n",
    "line, = ax.plot([], [], lw=2)\n",
    "\n",
    "# initialization function: plot the background of each frame\n",
    "def init():\n",
    "    line.set_data([], [])\n",
    "    return (line,)\n",
    "plt.show()\n",
    "#plt.savefig(\"exciton_plot.png\")"
   ]
  },
  {
   "cell_type": "markdown",
   "id": "512c8fbe",
   "metadata": {},
   "source": [
    "We can plot a few of these exciton wavefunctions as follows:"
   ]
  },
  {
   "cell_type": "code",
   "execution_count": 4,
   "id": "793a8dd6",
   "metadata": {},
   "outputs": [
    {
     "ename": "IndexError",
     "evalue": "index 2 is out of bounds for axis 1 with size 2",
     "output_type": "error",
     "traceback": [
      "\u001b[0;31m---------------------------------------------------------------------------\u001b[0m",
      "\u001b[0;31mIndexError\u001b[0m                                Traceback (most recent call last)",
      "Input \u001b[0;32mIn [4]\u001b[0m, in \u001b[0;36m<cell line: 3>\u001b[0;34m()\u001b[0m\n\u001b[1;32m      1\u001b[0m plt\u001b[38;5;241m.\u001b[39mplot(test\u001b[38;5;241m.\u001b[39mx, test\u001b[38;5;241m.\u001b[39mphi[:,\u001b[38;5;241m0\u001b[39m], label\u001b[38;5;241m=\u001b[39m\u001b[38;5;124m\"\u001b[39m\u001b[38;5;124m$\u001b[39m\u001b[38;5;124m\\\u001b[39m\u001b[38;5;124mphi_1(x)$\u001b[39m\u001b[38;5;124m\"\u001b[39m)\n\u001b[1;32m      2\u001b[0m plt\u001b[38;5;241m.\u001b[39mplot(test\u001b[38;5;241m.\u001b[39mx, test\u001b[38;5;241m.\u001b[39mphi[:,\u001b[38;5;241m1\u001b[39m], label\u001b[38;5;241m=\u001b[39m\u001b[38;5;124m\"\u001b[39m\u001b[38;5;124m$\u001b[39m\u001b[38;5;124m\\\u001b[39m\u001b[38;5;124mphi_2(x)$\u001b[39m\u001b[38;5;124m\"\u001b[39m)\n\u001b[0;32m----> 3\u001b[0m plt\u001b[38;5;241m.\u001b[39mplot(test\u001b[38;5;241m.\u001b[39mx, \u001b[43mtest\u001b[49m\u001b[38;5;241;43m.\u001b[39;49m\u001b[43mphi\u001b[49m\u001b[43m[\u001b[49m\u001b[43m:\u001b[49m\u001b[43m,\u001b[49m\u001b[38;5;241;43m2\u001b[39;49m\u001b[43m]\u001b[49m, label\u001b[38;5;241m=\u001b[39m\u001b[38;5;124m\"\u001b[39m\u001b[38;5;124m$\u001b[39m\u001b[38;5;124m\\\u001b[39m\u001b[38;5;124mphi_3(x)$\u001b[39m\u001b[38;5;124m\"\u001b[39m)\n\u001b[1;32m      4\u001b[0m plt\u001b[38;5;241m.\u001b[39mlegend()\n\u001b[1;32m      5\u001b[0m plt\u001b[38;5;241m.\u001b[39mshow()\n",
      "\u001b[0;31mIndexError\u001b[0m: index 2 is out of bounds for axis 1 with size 2"
     ]
    },
    {
     "data": {
      "image/png": "[encoded data removed]",
      "text/plain": [
       "<Figure size 432x288 with 1 Axes>"
      ]
     },
     "metadata": {
      "needs_background": "light"
     },
     "output_type": "display_data"
    }
   ],
   "source": [
    "plt.plot(test.x, test.phi[:,0], label=\"$\\phi_1(x)$\")\n",
    "plt.plot(test.x, test.phi[:,1], label=\"$\\phi_2(x)$\")\n",
    "plt.plot(test.x, test.phi[:,2], label=\"$\\phi_3(x)$\")\n",
    "plt.legend()\n",
    "plt.show()"
   ]
  },
  {
   "cell_type": "markdown",
   "id": "fd7410d9",
   "metadata": {},
   "source": [
    "The following animates the dynamics of a exciton wavefunction given for the chain of monomers that takes \n",
    "on the simple form\n",
    "\n",
    "$$ \\Psi(x,t) = \\sqrt{\\frac{1}{2}} {\\rm cos}\\left(\\frac{\\epsilon}{\\hbar} t \\right) \\phi_1(x) + \\sqrt{\\frac{1}{2}} {\\rm sin}\\left(\\frac{\\epsilon}{\\hbar} t \\right) \\phi_2(x) \\equiv c_1(t) \\phi_1(x) + c_2(t) \\phi_2(x) $$\n",
    "where $\\epsilon$ is the bare exciton energy.  \n",
    "\n",
    "We will want to evaluate the coefficients $c_n(t)$ by integrating the time-dependent Schrodinger equation, but otherwise the animation will follow a similar pattern."
   ]
  },
  {
   "cell_type": "code",
   "execution_count": 8,
   "id": "3213de19",
   "metadata": {},
   "outputs": [
    {
     "name": "stderr",
     "output_type": "stream",
     "text": [
      "MovieWriter ffmpeg unavailable; using Pillow instead.\n"
     ]
    }
   ],
   "source": [
    "N_time = 100\n",
    "t = np.zeros(N_time)\n",
    "\n",
    "\n",
    "# animation function. This is called sequentially  \n",
    "def animate(i):\n",
    "    t = i / 10\n",
    "    E = test._rk_exciton(0.5) #<== run your rk4 method here!\n",
    "    rho_11 = np.real( np.conj(test.c_vector[0]) * test.c_vector[0])\n",
    "    rho_22 = np.real( np.conj(test.c_vector[1]) * test.c_vector[1])\n",
    "    y = (rho_11 * test.phi[:,0] + rho_22 * test.phi[:,1]) ** 2 \n",
    "    line.set_data(test.x, y)\n",
    "    return (line,)\n",
    "  \n",
    "\n",
    "anim = animation.FuncAnimation(fig, animate, init_func=init,\n",
    "                             frames=N_time, interval=200, blit=True)\n",
    "\n",
    "# Note: below is the part which makes it work on Colab\n",
    "rc('animation', html='jshtml')\n",
    "anim\n",
    "anim.save('exciton_pd.gif')#, save_all=\"true\", loops=0)"
   ]
  },
  {
   "cell_type": "code",
   "execution_count": null,
   "id": "bb4d8960",
   "metadata": {},
   "outputs": [],
   "source": []
  }
 ],
 "metadata": {
  "kernelspec": {
   "display_name": "Python 3 (ipykernel)",
   "language": "python",
   "name": "python3"
  },
  "language_info": {
   "codemirror_mode": {
    "name": "ipython",
    "version": 3
   },
   "file_extension": ".py",
   "mimetype": "text/x-python",
   "name": "python",
   "nbconvert_exporter": "python",
   "pygments_lexer": "ipython3",
   "version": "3.9.12"
  }
 },
 "nbformat": 4,
 "nbformat_minor": 5
}
