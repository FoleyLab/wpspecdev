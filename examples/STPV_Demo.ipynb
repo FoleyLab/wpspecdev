{
 "cells": [
  {
   "cell_type": "markdown",
   "id": "a8344a83",
   "metadata": {},
   "source": [
    "The following cell will import WPTherml and set up a base structure that we will evaluate for selective thermal emission for solar thermophotovoltaic (STPV) applications.  For background information on STPV, a good (and open) review article can be found [here](https://cyberleninka.org/article/n/867899)."
   ]
  },
  {
   "cell_type": "code",
   "execution_count": 89,
   "id": "21a80046",
   "metadata": {},
   "outputs": [],
   "source": [
    "import wpspecdev\n",
    "from matplotlib import pyplot as plt\n",
    "import numpy as np\n",
    "\n",
    "test_args = {\n",
    "    \"wavelength_list\": [300e-9, 6000e-9, 1000],\n",
    "    \"Material_List\": [\"Air\", \"Al2O3\", \"SiO2\", \"TiO2\", \"SiO2\", \"Al2O3\", \"W\", \"Air\"],\n",
    "    \"Thickness_List\": [0, 20e-9, 255e-9, 150e-9, 255e-9, 10e-9, 900e-9, 0],\n",
    "    \"temperature\": 1700,\n",
    "    \"therml\": True\n",
    "}\n",
    "\n"
   ]
  },
  {
   "cell_type": "markdown",
   "id": "3903cdc5",
   "metadata": {},
   "source": [
    "The following cell will define two helper functions that we will utilize in conjuction with WPTherml for the identification of Pareto-optimal selective emitters for STPV applications as discussed in [this paper](https://onlinelibrary.wiley.com/doi/abs/10.1002/aenm.201801035).  \n",
    "In particular, we will model the top-most layer as an alloy of tungsten and aluminum oxide, and we will use the Maxwell-Garnet approximation for the effective permittivity $\\epsilon_{eff}$ of this alloy:\n",
    "\n",
    "$$ \\epsilon_{eff} = \\frac{\\epsilon_D \\left(2f \\left(\\epsilon_M - \\epsilon_D \\right) + \\epsilon_M 2\\epsilon_D \\right)}{2 \\epsilon_D + \\epsilon_M + f \\left(\\epsilon_D - \\epsilon_M \\right)}, $$\n",
    "\n",
    "where in this case we will treat $\\epsilon_M$ as the permittivity of tungsten and $\\epsilon_D$ as the permittivity aluminum oxide (each depending on frequency), and $f$ will be the volume fraction of tungsten in aluminum oxide.  The function `MaxwellGarnett()` will take the refractive index arrays that are associated with materials in WPTherml and a volume fraction as arguments and will return the refractive index of the alloy.  Note the refractive index $n$ can be defined from the permittivity $\\epsilon$ as $n = \\sqrt{\\epsilon}$.\n",
    "\n",
    "The function `is_dominated()` will take an array containing the STPV spectral efficiency $\\eta$ and the STPV useful power density $\\rho$ arising from the same set of structures and will identify all structures that are dominated by other structures.  This is essentially the complementary list of structures that are Pareto optimal.  \n",
    "    '''Pareto optimal: structure x with useful power density \\rho(x) and\n",
    "       spectral efficiency \\eta(x) is pareto optimal if for all y \\neq x\n",
    "       \\rho(x) ≥ \\rho(y) and \\eta(x) ≥ \\eta(y)\n",
    "       and \\rho(x) > \\rho(y) or \\eta(x) > \\eta(y)'''"
   ]
  },
  {
   "cell_type": "code",
   "execution_count": 90,
   "id": "8897a67b",
   "metadata": {},
   "outputs": [],
   "source": [
    "def MaxwellGarnett(ri_1, ri_2, fraction):\n",
    "    \"\"\" a function that will compute the alloy refractive\n",
    "    index between material_1 and material_2 using\n",
    "    Maxwell-Garnett theory.  \"\"\"\n",
    "    # define _eps_d as ri_1 ** 2\n",
    "    _eps_d = ri_1 * ri_1\n",
    "\n",
    "    # define _eps_m as ri_2 * ri_2\n",
    "    _eps_m = ri_2 * ri_2\n",
    "\n",
    "    # numerator of the Maxwell-Garnett model\n",
    "    _numerator = _eps_d * (2 * fraction * (_eps_m - _eps_d) + _eps_m + 2 * _eps_d)\n",
    "    # denominator of the Maxwell-Garnett model\n",
    "    _denominator = 2 * _eps_d + _eps_m + fraction * (_eps_d - _eps_m)\n",
    "\n",
    "    # _numerator / _denominator is epsilon_effective, and we want n_eff = sqrt(epsilon_eff)\n",
    "    return np.sqrt(_numerator / _denominator)\n",
    "\n",
    "def is_dominated(eta, rho):\n",
    "    '''Pareto optimal: structure x with useful power density \\rho(x) and\n",
    "       spectral efficiency \\eta(x) is pareto optimal if for all y \\neq x\n",
    "       \\rho(x) ≥ \\rho(y) and \\eta(x) ≥ \\eta(y)\n",
    "       and \\rho(x) > \\rho(y) or \\eta(x) > \\eta(y)'''\n",
    "    _N = len(eta)\n",
    "    _is_dominated = []\n",
    "    for i in range(0, _N):\n",
    "        _rho_x = rho[i]\n",
    "        _eta_x = eta[i]\n",
    "        for j in range(0, _N):\n",
    "            if j != i:\n",
    "                _rho_y = rho[j]\n",
    "                _eta_y = eta[j]\n",
    "                if _rho_y >= _rho_x and _eta_y >= _eta_x:\n",
    "                    if _rho_y > _rho_x or _eta_y > _eta_x:\n",
    "                        _is_dominated.append(i)\n",
    "                        break\n",
    "    return _is_dominated\n",
    "                        \n",
    "            \n",
    "    "
   ]
  },
  {
   "cell_type": "markdown",
   "id": "a84225b8",
   "metadata": {},
   "source": [
    "This block will create an instance of a multilayer structure called `test` that will have the STPV spectral efficiency and STPV useful power density associated with it as attributes."
   ]
  },
  {
   "cell_type": "code",
   "execution_count": 93,
   "id": "36b72de2",
   "metadata": {},
   "outputs": [
    {
     "name": "stdout",
     "output_type": "stream",
     "text": [
      " Your spectra have been computed! 😎 \n",
      " Your therml spectra have been computed! 🔥 \n",
      " STPV Spectral efficiency: 0.47964902513334884\n",
      " STPV Power Density: 27704.7560999668\n"
     ]
    }
   ],
   "source": [
    "sf = wpspecdev.SpectrumFactory()\n",
    "test = sf.spectrum_factory('Tmm', test_args)\n",
    "\n",
    "print(\" STPV Spectral efficiency:\", test.stpv_spectral_efficiency)\n",
    "print(\" STPV Power Density:\", test.stpv_power_density)"
   ]
  },
  {
   "cell_type": "code",
   "execution_count": 94,
   "id": "f66832eb",
   "metadata": {},
   "outputs": [
    {
     "name": "stdout",
     "output_type": "stream",
     "text": [
      " STPV Spectral efficiency: 0.6432743626385115\n",
      " STPV Power Density: 106023.70154558819\n"
     ]
    }
   ],
   "source": [
    "# make this layer 70% W in alumina\n",
    "n_eff = MaxwellGarnett(test._refractive_index_array[:,1], test._refractive_index_array[:,6], 0.75)\n",
    "test._refractive_index_array[:,1] = n_eff\n",
    "\n",
    "test.compute_stpv()\n",
    "print(\" STPV Spectral efficiency:\", test.stpv_spectral_efficiency)\n",
    "print(\" STPV Power Density:\", test.stpv_power_density)\n"
   ]
  },
  {
   "cell_type": "code",
   "execution_count": 98,
   "id": "193e1392",
   "metadata": {},
   "outputs": [
    {
     "name": "stdout",
     "output_type": "stream",
     "text": [
      "[[4.30000000e+02 4.38000000e+02 3.02000000e+02 5.70027806e-01\n",
      "  7.50903601e+04]\n",
      " [4.52000000e+02 4.64000000e+02 2.33000000e+02 5.70818716e-01\n",
      "  7.48105182e+04]\n",
      " [4.02000000e+02 3.84000000e+02 2.85000000e+02 5.20384431e-01\n",
      "  6.59667289e+04]\n",
      " ...\n",
      " [2.54000000e+02 8.40000000e+01 9.30000000e+01 4.84247583e-01\n",
      "  5.84800199e+04]\n",
      " [1.10000000e+02 1.66000000e+02 1.20000000e+02 4.82976046e-01\n",
      "  5.77689654e+04]\n",
      " [2.67000000e+02 4.17000000e+02 2.02000000e+02 4.89227277e-01\n",
      "  6.61171663e+04]]\n"
     ]
    }
   ],
   "source": [
    "\n",
    "n_layers = 3\n",
    "N = 5000\n",
    "thicknesses = np.random.randint(500, size=(N, n_layers))\n",
    "solutions = np.zeros((N, n_layers+2))\n",
    "\n",
    "solutions[:,:n_layers] = thicknesses\n",
    "\n",
    "for i in range(0, N):\n",
    "    test.thickness_array[2:5] = solutions[i,:3] * 1e-9\n",
    "    test.compute_stpv()\n",
    "    solutions[i,3] = test.stpv_spectral_efficiency\n",
    "    solutions[i,4] = test.stpv_power_density\n",
    "    \n",
    "print(solutions)"
   ]
  },
  {
   "cell_type": "code",
   "execution_count": 99,
   "id": "1c7055d6",
   "metadata": {},
   "outputs": [
    {
     "name": "stdout",
     "output_type": "stream",
     "text": [
      "before\n",
      "[[4.30000000e+02 4.38000000e+02 3.02000000e+02 5.70027806e-01\n",
      "  7.50903601e+04]\n",
      " [4.52000000e+02 4.64000000e+02 2.33000000e+02 5.70818716e-01\n",
      "  7.48105182e+04]\n",
      " [4.02000000e+02 3.84000000e+02 2.85000000e+02 5.20384431e-01\n",
      "  6.59667289e+04]\n",
      " ...\n",
      " [2.54000000e+02 8.40000000e+01 9.30000000e+01 4.84247583e-01\n",
      "  5.84800199e+04]\n",
      " [1.10000000e+02 1.66000000e+02 1.20000000e+02 4.82976046e-01\n",
      "  5.77689654e+04]\n",
      " [2.67000000e+02 4.17000000e+02 2.02000000e+02 4.89227277e-01\n",
      "  6.61171663e+04]]\n",
      "after\n",
      "[[1.70000000e+01 2.63000000e+02 3.98000000e+02 6.88711073e-01\n",
      "  9.96425043e+04]\n",
      " [1.53000000e+02 1.84000000e+02 2.86000000e+02 6.68458214e-01\n",
      "  1.12681609e+05]\n",
      " [4.60000000e+01 2.27000000e+02 4.02000000e+02 6.81773487e-01\n",
      "  1.02661374e+05]\n",
      " [1.85000000e+02 1.39000000e+02 3.47000000e+02 6.69575062e-01\n",
      "  1.12505334e+05]\n",
      " [3.10000000e+01 2.78000000e+02 3.65000000e+02 6.84565717e-01\n",
      "  1.02236383e+05]\n",
      " [7.20000000e+01 2.10000000e+02 3.90000000e+02 6.78313178e-01\n",
      "  1.06575463e+05]\n",
      " [1.70000000e+02 1.78000000e+02 2.71000000e+02 6.66918934e-01\n",
      "  1.12695086e+05]\n",
      " [9.00000000e+01 2.03000000e+02 4.00000000e+02 6.76406686e-01\n",
      "  1.09353877e+05]\n",
      " [1.18000000e+02 1.88000000e+02 3.43000000e+02 6.72593345e-01\n",
      "  1.11246620e+05]\n",
      " [1.60000000e+01 3.15000000e+02 3.11000000e+02 6.85430284e-01\n",
      "  9.98721456e+04]\n",
      " [1.06000000e+02 1.78000000e+02 3.94000000e+02 6.74564113e-01\n",
      "  1.09720927e+05]\n",
      " [5.50000000e+01 2.66000000e+02 3.14000000e+02 6.81231044e-01\n",
      "  1.06004579e+05]\n",
      " [9.00000000e+00 2.98000000e+02 3.49000000e+02 6.89918133e-01\n",
      "  9.94842998e+04]\n",
      " [2.10000000e+01 4.00000000e+00 2.50000000e+01 5.97154684e-01\n",
      "  1.24824126e+05]\n",
      " [7.60000000e+01 2.40000000e+02 3.42000000e+02 6.77935166e-01\n",
      "  1.08749631e+05]\n",
      " [8.30000000e+01 2.19000000e+02 3.57000000e+02 6.77485965e-01\n",
      "  1.09004759e+05]\n",
      " [8.00000000e+00 3.01000000e+02 3.33000000e+02 6.90137119e-01\n",
      "  9.94083660e+04]\n",
      " [1.00000000e+00 3.17000000e+02 3.15000000e+02 6.90591060e-01\n",
      "  9.84562251e+04]\n",
      " [1.40000000e+02 1.63000000e+02 3.81000000e+02 6.72078781e-01\n",
      "  1.12447868e+05]\n",
      " [1.60000000e+02 1.93000000e+02 2.87000000e+02 6.64917946e-01\n",
      "  1.12992752e+05]]\n"
     ]
    }
   ],
   "source": [
    "eta_vals = solutions[:,3]\n",
    "rho_vals = solutions[:,4]\n",
    "isd = is_dominated(solutions[:,3], solutions[:,4])\n",
    "\n",
    "\n",
    "print(\"before\")\n",
    "print(solutions)\n",
    "pareto_solutions = np.delete(solutions, isd, axis=0)\n",
    "print(\"after\")\n",
    "print(pareto_solutions)\n"
   ]
  },
  {
   "cell_type": "code",
   "execution_count": 100,
   "id": "ab5f470b",
   "metadata": {},
   "outputs": [
    {
     "data": {
      "image/png": "[encoded data removed]",
      "text/plain": [
       "<Figure size 432x288 with 1 Axes>"
      ]
     },
     "metadata": {
      "needs_background": "light"
     },
     "output_type": "display_data"
    }
   ],
   "source": [
    "plt.plot(solutions[:,3], solutions[:,4], 'ro')\n",
    "plt.plot(pareto_solutions[:,3], pareto_solutions[:,4], 'b*')\n",
    "plt.show()"
   ]
  },
  {
   "cell_type": "code",
   "execution_count": null,
   "id": "e06f467a",
   "metadata": {},
   "outputs": [],
   "source": [
    "print(\"updated spectral efficiency\")\n",
    "print(test.stpv_spectral_efficiency)\n",
    "\n",
    "plt.plot(test.wavelength_array, test.thermal_emission_array, 'red')\n",
    "plt.plot(test.wavelength_array, test.blackbody_spectrum, 'black')\n",
    "plt.show()\n",
    "\n",
    "\n"
   ]
  }
 ],
 "metadata": {
  "kernelspec": {
   "display_name": "Python 3",
   "language": "python",
   "name": "python3"
  },
  "language_info": {
   "codemirror_mode": {
    "name": "ipython",
    "version": 3
   },
   "file_extension": ".py",
   "mimetype": "text/x-python",
   "name": "python",
   "nbconvert_exporter": "python",
   "pygments_lexer": "ipython3",
   "version": "3.7.10"
  }
 },
 "nbformat": 4,
 "nbformat_minor": 5
}
