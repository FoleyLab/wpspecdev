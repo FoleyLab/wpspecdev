{
 "cells": [
  {
   "cell_type": "code",
   "execution_count": 1,
   "id": "3bf07188",
   "metadata": {},
   "outputs": [],
   "source": [
    "import wptherml\n",
    "from matplotlib import pyplot as plt\n",
    "import numpy as np\n",
    "\n",
    "# define a test structure\n",
    "#test_args = {\n",
    "#    \"therml\": True,\n",
    "#    'TeMperature' : 440,\n",
    "#    \"wavelength_list\": [300e-9, 20300e-9, 1001],\n",
    "#    \"material_list\": ['Air',  'SiO2', 'Ta2O5', 'SiO2', 'Ta2O5', 'SiO2', 'Ta2O5', 'SiO2', 'polystyrene', 'SiO2', 'Ta2O5', 'SiO2', 'Ta2O5', 'SiO2', 'Ta2O5', 'SiO2', 'Air'], \n",
    "#    \"thickness_list\": [0,  2.6422605026007024e-07, 3.733648095151694e-07, 5.284521005201405e-07, 3.733648095151694e-07, 5.284521005201405e-07, 3.733648095151694e-07, 0.0001, 0.001, 3.8014616788692957e-07, 5.311796118517261e-07, 7.602923357738591e-07, 5.311796118517261e-07, 7.602923357738591e-07, 5.311796118517261e-07, 0.0001, 0]\n",
    "#}\n",
    "\n",
    "test_args = {\n",
    "    \"therml\": True,\n",
    "    'TeMperature' : 440,\n",
    "    \"wavelength_list\": [300e-9, 6000e-9, 1001],\n",
    "    \"material_list\": ['Air',  'SiO2', 'AlN', 'SiO2', 'polystyrene', 'SiO2', 'AlN', 'SiO2','Air'], \n",
    "    \"thickness_list\": [0,  600e-9, 450e-9, 600e-9, 10000e-9, 600e-9, 450e-9, 600e-9, 0]\n",
    "}"
   ]
  },
  {
   "cell_type": "markdown",
   "id": "1f374d4d",
   "metadata": {},
   "source": [
    "We are going to compute the transmissivity of the above structure to the AM1.5 solar spectrum that falls below the bandgap wavelength (assumed to be $\\lambda_{bg} = 760$ nm (see [here](https://journals.aps.org/prb/abstract/10.1103/PhysRevB.92.045414),\n",
    "and [here](https://pubs.acs.org/doi/10.1021/acs.nanolett.6b03114),\n",
    "and the thermal emission in the SWIR ($\\lambda_{min} = 1000$ nm  and $\\lambda_{max} =  3500$ nm) \n",
    "assuming an emitter temperature of $T_E = 440 K$.\n",
    "\n",
    "In particular, we will compute\n",
    "    $$ T_{AM1.5} = \\int_0^{\\lambda_{bg}} I_{AM1.5}(\\lambda) T(\\lambda) d\\lambda $$\n",
    "and\n",
    "\n",
    "$$ \\epsilon_{SWIR} = \\int_{\\lambda_{min}}^{\\lambda_{max}} B(\\lambda, T_E) \\epsilon(\\lambda) d\\lambda $$"
   ]
  },
  {
   "cell_type": "code",
   "execution_count": 2,
   "id": "4654f027",
   "metadata": {},
   "outputs": [
    {
     "name": "stdout",
     "output_type": "stream",
     "text": [
      " Your spectra have been computed! 😎 \n",
      " Your therml spectra have been computed! 🔥 \n"
     ]
    }
   ],
   "source": [
    "\n",
    "import time\n",
    "start = time.time()\n",
    "\n",
    "sf = wptherml.SpectrumFactory()  \n",
    "# create instance of class\n",
    "ts = sf.spectrum_factory(\"Tmm\", test_args)\n",
    "\n"
   ]
  },
  {
   "cell_type": "code",
   "execution_count": 3,
   "id": "83e435f4",
   "metadata": {},
   "outputs": [
    {
     "data": {
      "image/png": "[encoded data removed]",
      "text/plain": [
       "<Figure size 640x480 with 1 Axes>"
      ]
     },
     "metadata": {},
     "output_type": "display_data"
    }
   ],
   "source": [
    "plt.plot(ts.wavelength_array, ts.emissivity_array)\n",
    "plt.xlim(300e-9, 2700e-9)\n",
    "plt.show()"
   ]
  },
  {
   "cell_type": "code",
   "execution_count": 4,
   "id": "90418c67",
   "metadata": {},
   "outputs": [
    {
     "name": "stdout",
     "output_type": "stream",
     "text": [
      " A  1e-06  m air layer has been inserted into layer numbe  8\n",
      " Use the `material_X( 8 ) command to define the material of this new layer!\n",
      "142.18826553154634\n",
      "48.090508009155684\n",
      "[0.0e+00 6.0e-07 4.5e-07 6.0e-07 1.0e-05 6.0e-07 4.5e-07 6.0e-07 0.0e+00]\n"
     ]
    }
   ],
   "source": [
    "ts.compute_pv_stpv()\n",
    "print(ts.pv_stpv_p_abs)\n",
    "print(ts.pv_stpv_p_split)\n",
    "print(ts.thickness_array)"
   ]
  },
  {
   "cell_type": "code",
   "execution_count": 5,
   "id": "6133ce35",
   "metadata": {},
   "outputs": [
    {
     "name": "stdout",
     "output_type": "stream",
     "text": [
      "[[173  91 312 869 868 189]\n",
      " [385 653 277  35 529 429]\n",
      " [389 703 988 142 838 462]]\n",
      "[[173.  91. 312. 869. 868. 189.   0.   0.]\n",
      " [385. 653. 277.  35. 529. 429.   0.   0.]\n",
      " [389. 703. 988. 142. 838. 462.   0.   0.]]\n",
      " A  1e-06  m air layer has been inserted into layer numbe  8\n",
      " Use the `material_X( 8 ) command to define the material of this new layer!\n",
      " A  1e-06  m air layer has been inserted into layer numbe  8\n",
      " Use the `material_X( 8 ) command to define the material of this new layer!\n",
      " A  1e-06  m air layer has been inserted into layer numbe  8\n",
      " Use the `material_X( 8 ) command to define the material of this new layer!\n"
     ]
    }
   ],
   "source": [
    "n_layers = 6\n",
    "N = 3\n",
    "thicknesses = np.random.randint(1000, size=(N, n_layers))\n",
    "solutions = np.zeros((N, n_layers+2))\n",
    "#[0.0e+00 1.0e-06 6.0e-07 4.5e-07 6.0e-07 1.0e-05 6.0e-07 4.5e-07 6.0e-07\n",
    "# 1.0e-06 0.0e+00]\n",
    "solutions[:,:3] = thicknesses[:,:3]\n",
    "solutions[:,3:6] = thicknesses[:,3:]\n",
    "print(thicknesses)\n",
    "print(solutions)\n",
    "for i in range(0, N):\n",
    "    ts.thickness_array[1:4] = solutions[i,:3] * 1e-9\n",
    "    ts.thickness_array[5:8] = solutions[i,3:6] * 1e-9\n",
    "    #print(ts.thickness_array)\n",
    "    ts.compute_pv_stpv()\n",
    "    solutions[i,6] = ts.pv_stpv_p_abs\n",
    "    solutions[i,7] = ts.pv_stpv_p_split"
   ]
  },
  {
   "cell_type": "code",
   "execution_count": 6,
   "id": "869def4c",
   "metadata": {},
   "outputs": [
    {
     "name": "stdout",
     "output_type": "stream",
     "text": [
      "[[173.          91.         312.         869.         868.\n",
      "  189.         160.38781776  39.57867272]\n",
      " [385.         653.         277.          35.         529.\n",
      "  429.         143.10985757  46.31195562]\n",
      " [389.         703.         988.         142.         838.\n",
      "  462.         147.17375968  53.16734672]]\n"
     ]
    }
   ],
   "source": [
    "print(solutions)"
   ]
  },
  {
   "cell_type": "code",
   "execution_count": null,
   "id": "43d02b6f",
   "metadata": {},
   "outputs": [],
   "source": [
    "#\"thickness_list\": [0,  600e-9, 450e-9, 600e-9, 10000e-9, 600e-9, 450e-9, 600e-9, 0]\n",
    "solutions[:,:n_layers] = thicknesses\n",
    "\n",
    "\n",
    "for i in range(0, N):\n",
    "    ts.thickness_array[2:5] = solutions[i,:3] * 1e-9\n",
    "    ts.compute_stpv()\n",
    "    solutions[i,3] = test.stpv_spectral_efficiency\n",
    "    solutions[i,4] = test.stpv_power_density"
   ]
  },
  {
   "cell_type": "code",
   "execution_count": null,
   "id": "75901376",
   "metadata": {},
   "outputs": [],
   "source": [
    "# want to create a step function so that we can only integrate\n",
    "# a subinterval of the entire reflectivity function up to 760 nm\n",
    "target_pv = 760e-9 * np.ones_like(ts.wavelength_array)\n",
    "stop_idx = np.argmin(np.abs( target_pv - ts.wavelength_array) )\n",
    "\n",
    "# step function to cut off at \\lambda_bg of the PV\n",
    "step_pv = np.zeros_like(ts.wavelength_array)\n",
    "step_pv[:stop_idx] = 1.\n",
    "\n",
    "# do the same for the to create a step function between 1000 and 3500 nm\n",
    "target_min = 1000e-9 * np.ones_like(ts.wavelength_array)\n",
    "target_max = 3500e-9 * np.ones_like(ts.wavelength_array)\n",
    "\n",
    "min_idx = np.argmin(np.abs( target_min - ts.wavelength_array))\n",
    "max_idx = np.argmin(np.abs( target_max - ts.wavelength_array))\n",
    "\n",
    "step_swir = np.zeros_like(ts.wavelength_array)\n",
    "step_swir[min_idx:max_idx] = 1.\n",
    "\n",
    "\n",
    "### Integrate the above-gap solar flux transmitted through optic\n",
    "AM_transmit_power = np.trapz(ts._solar_spectrum * step_pv *  ts.transmissivity_array, ts.wavelength_array)\n",
    "### Integrate the thermal emission of the optic in the SWIR\n",
    "SWIR_emit_power = np.trapz(ts.thermal_emission_array * step_swir, ts.wavelength_array)\n",
    "\n",
    "### Integrate the total above-gap solar flux\n",
    "AM_above_gap = np.trapz(ts._solar_spectrum * step_pv, ts.wavelength_array)\n",
    "### Integrate the total BB emission at 440 K in the SWIR\n",
    "SWIR_power = np.trapz(ts.blackbody_spectrum * step_swir, ts.wavelength_array)\n",
    "\n",
    "end = time.time()\n",
    "print(\"time required\")\n",
    "print(end-start)\n",
    "print(SWIR_emit_power,  \" W / s / m^2 emitted\")\n",
    "print(AM_transmit_power,\" W / s / m^2 transmitted\")\n",
    "\n",
    "print(SWIR_power,  \" W / s / m^2 emitted\")\n",
    "print(AM_above_gap,\" W / s / m^2 transmitted\")"
   ]
  },
  {
   "cell_type": "code",
   "execution_count": null,
   "id": "847db1b4",
   "metadata": {},
   "outputs": [],
   "source": [
    "import random\n",
    "def update_multilayer(SP, AP):\n",
    "    d1 = random.uniform(1, 700)\n",
    "    d3 = random.uniform(1, 700)\n",
    "    d4 = random.uniform(1, 700)\n",
    "    d5 = random.uniform(1, 700)\n",
    "    d6 = random.uniform(1, 700)\n",
    "    d7 = random.uniform(1, 700)\n",
    "    d8 = random.uniform(1, 700)\n",
    "    d9 = random.uniform(1, 700)\n",
    "    d11 = random.uniform(1, 700)\n",
    "    d13 = random.uniform(1, 700)\n",
    "    d14 = random.uniform(1, 700)\n",
    "    d15 = random.uniform(1, 700)\n",
    "    d16 = random.uniform(1, 700)\n",
    "    d17 = random.uniform(1, 700)\n",
    "    d18 = random.uniform(1, 700)\n",
    "    d19 = random.uniform(1, 700)\n",
    "    ts.thickness_array[1] = d1 * 1e-9\n",
    "    ts.thickness_array[3] = d3 * 1e-9\n",
    "    ts.thickness_array[4] = d4 * 1e-9\n",
    "    ts.thickness_array[5] = d5 * 1e-9\n",
    "    ts.thickness_array[6] = d6 * 1e-9\n",
    "    ts.thickness_array[7] = d7 * 1e-9\n",
    "    ts.thickness_array[8] = d8 * 1e-9\n",
    "    ts.thickness_array[9] = d9 * 1e-9\n",
    "    ts.thickness_array[11] = d11 * 1e-9\n",
    "    ts.thickness_array[13] = d13 * 1e-9\n",
    "    ts.thickness_array[14] = d14 * 1e-9\n",
    "    ts.thickness_array[15] = d15 * 1e-9\n",
    "    ts.thickness_array[16] = d16 * 1e-9\n",
    "    ts.thickness_array[17] = d17 * 1e-9\n",
    "    ts.thickness_array[18] = d18 * 1e-9\n",
    "    ts.thickness_array[19] = d19 * 1e-9\n",
    "    ts.compute_spectrum()\n",
    "    ts._compute_therml_spectrum(ts.wavelength_array, ts.emissivity_array)\n",
    "    AM_transmit_power = np.trapz(ts._solar_spectrum * step_pv *  ts.transmissivity_array, ts.wavelength_array)\n",
    "    ### Integrate the thermal emission of the optic in the SWIR\n",
    "    SWIR_emit_power = np.trapz(ts.thermal_emission_array * step_swir, ts.wavelength_array)\n",
    "    d = np.array([d1, d3, d4, d5, d6, d7, d8, d9, d11, d13, d14, d15, d16, d17, d18, d19])\n",
    "    return d/700, AM_transmit_power/AP, SWIR_emit_power/SP"
   ]
  },
  {
   "cell_type": "code",
   "execution_count": null,
   "id": "7bdb3607",
   "metadata": {},
   "outputs": [],
   "source": [
    "print(update_multilayer(SWIR_power,AM_above_gap ))"
   ]
  },
  {
   "cell_type": "markdown",
   "id": "a6f57eb3",
   "metadata": {},
   "source": [
    "Want to call update_multilayer() 100,000 times, print each thicnkess / 700 (so that is maxes out at 1), and print AM_transmit_power / AM_above_gap, SWIR_emit_power / SWIR_power to a file."
   ]
  },
  {
   "cell_type": "code",
   "execution_count": null,
   "id": "f4857661",
   "metadata": {},
   "outputs": [],
   "source": [
    "dim = 50000\n",
    "\n",
    "f = open('stpv_pv_50k.csv', 'w')\n",
    "for i in range(0, dim):\n",
    "    d, T_AM, E_SWIR = update_multilayer(SWIR_power, AM_above_gap)\n",
    "    #print(d1, d2, d3, d4, pv_2l.conversion_efficiency_val)\n",
    "    pr_str = str(d[0]) + \", \" + str(d[1]) + \", \" + str(d[2]) + \", \"\n",
    "    pr_str += str(d[3]) + \", \" + str(d[4]) + \", \" + str(d[5]) + \", \"\n",
    "    pr_str += str(d[6]) + \", \" + str(d[7]) + \", \" + str(d[8]) + \", \"\n",
    "    pr_str += str(d[9]) + \", \" + str(d[10]) + \", \" + str(d[11]) + \", \"\n",
    "    pr_str += str(d[12]) + \", \" + str(d[13]) + \", \" + str(d[14]) + \", \"\n",
    "    pr_str += str(d[15]) + \", \" +  str(T_AM) + \", \" + str(E_SWIR)\n",
    "    pr_str += \"\\n\"\n",
    "    f.write(pr_str)\n",
    "    \n",
    "f.close()\n",
    "        "
   ]
  }
 ],
 "metadata": {
  "kernelspec": {
   "display_name": "Python 3 (ipykernel)",
   "language": "python",
   "name": "python3"
  },
  "language_info": {
   "codemirror_mode": {
    "name": "ipython",
    "version": 3
   },
   "file_extension": ".py",
   "mimetype": "text/x-python",
   "name": "python",
   "nbconvert_exporter": "python",
   "pygments_lexer": "ipython3",
   "version": "3.8.13"
  }
 },
 "nbformat": 4,
 "nbformat_minor": 5
}
