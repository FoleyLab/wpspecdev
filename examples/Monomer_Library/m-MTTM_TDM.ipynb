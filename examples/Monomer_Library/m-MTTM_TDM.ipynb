{
 "cells": [
  {
   "cell_type": "code",
   "execution_count": 4,
   "id": "8b0c5d17",
   "metadata": {},
   "outputs": [],
   "source": [
    "import psi4\n",
    "import numpy as np\n",
    "from scipy.interpolate import InterpolatedUnivariateSpline\n",
    "from numpy import linalg as LA\n",
    "from psi4.driver.procrouting.response.scf_response import tdscf_excitations\n",
    "import nglview"
   ]
  },
  {
   "cell_type": "code",
   "execution_count": 5,
   "id": "93e6fbfc",
   "metadata": {},
   "outputs": [],
   "source": [
    "m_MTTM = psi4.geometry(\"\"\" \n",
    "C       -2.7479020000     -0.1996430000      4.4532200000                 \n",
    "C       -3.6493240000     -1.2936530000      4.4705740000                 \n",
    "C       -5.0403930000     -1.1313600000      4.4944100000                 \n",
    "C       -5.5617650000      0.1566690000      4.5073100000                 \n",
    "C       -4.7058100000      1.2595420000      4.4937910000                 \n",
    "C       -3.3085010000      1.0999930000      4.4660360000                 \n",
    "C       -1.2691210000     -0.4367420000      4.4263950000                 \n",
    "H       -3.2801860000     -2.3164380000      4.4670090000                 \n",
    "C       -5.9513350000     -2.3233690000      4.5062930000                 \n",
    "H       -6.6379080000      0.3138960000      4.5273950000                 \n",
    "H       -5.1673620000      2.2417010000      4.5034840000                 \n",
    "O       -2.4442970000      2.1651260000      4.4438740000                 \n",
    "C       -2.9846160000      3.4781340000      4.4848680000                 \n",
    "H       -3.5983070000      3.6801830000      3.6006650000                 \n",
    "H       -2.1499670000      4.1855670000      4.4766080000                 \n",
    "H       -3.5510930000      3.6454160000      5.4071340000                 \n",
    "H       -5.3862580000     -3.2616750000      4.4868870000                 \n",
    "H       -6.6029510000     -2.3096000000      3.6270090000                 \n",
    "H       -6.5640310000     -2.3218470000      5.4130850000                 \n",
    "N       -0.3208090000      0.4906670000      4.4897400000                 \n",
    "S       -0.6579110000     -2.0789920000      4.3007970000                 \n",
    "C        0.9412010000     -1.4525480000      4.3540490000                 \n",
    "C        0.9050300000     -0.1009920000      4.4496330000                 \n",
    "S        2.5316070000      0.5002020000      4.5008120000                 \n",
    "N        2.1495030000     -2.0554450000      4.3188810000                 \n",
    "C        3.1133620000     -1.1539480000      4.4041590000                 \n",
    "C        4.5701640000     -1.4889630000      4.4172450000                 \n",
    "C        5.5611830000     -0.4817150000      4.4010380000                 \n",
    "C        6.9318760000     -0.7871480000      4.4068500000                 \n",
    "C        7.3297910000     -2.1226000000      4.4241430000                 \n",
    "C        6.3779260000     -3.1399930000      4.4411130000                 \n",
    "C        5.0082420000     -2.8410840000      4.4409380000                 \n",
    "H        5.2805370000      0.5687350000      4.3812770000                 \n",
    "C        7.9712090000      0.2952990000      4.3936810000                 \n",
    "H        8.3863380000     -2.3823760000      4.4261720000                 \n",
    "H        6.7379430000     -4.1633360000      4.4566540000                 \n",
    "O        4.0440490000     -3.8161550000      4.4717430000                 \n",
    "C        4.4308210000     -5.1800140000      4.4731430000                 \n",
    "H        4.9877380000     -5.4354560000      3.5661610000                 \n",
    "H        3.5177990000     -5.7837250000      4.4822110000                 \n",
    "H        5.0001490000     -5.4268020000      5.3746600000                 \n",
    "H        7.5174260000      1.2912770000      4.3872970000                 \n",
    "H        8.5976270000      0.2043630000      3.5003270000                 \n",
    "H        8.6034920000      0.2197330000      5.2844870000                         \n",
    "\"\"\")"
   ]
  },
  {
   "cell_type": "code",
   "execution_count": 6,
   "id": "9673c7a5",
   "metadata": {},
   "outputs": [
    {
     "data": {
      "application/vnd.jupyter.widget-view+json": {
       "model_id": "46956aa974c349b5a76d7c03681eefa3",
       "version_major": 2,
       "version_minor": 0
      },
      "text/plain": [
       "NGLWidget()"
      ]
     },
     "metadata": {},
     "output_type": "display_data"
    }
   ],
   "source": [
    "view = nglview.show_psi4(m_MTTM)\n",
    "view"
   ]
  },
  {
   "cell_type": "code",
   "execution_count": null,
   "id": "d1307115",
   "metadata": {},
   "outputs": [],
   "source": [
    "psi4.set_options({\n",
    "    'basis':'6-311G**'\n",
    "})\n",
    "\n",
    "psi4.set_options({\n",
    "    'save_jk': True,\n",
    "    })  \n",
    "\n",
    "\n",
    "#Calculate energy and wavefunction of ground state\n",
    "e, wfn = psi4.energy(\"CAM-b3lyp/6-311G**\", return_wfn=True, molecule=m_MTTM)\n",
    "\n",
    "res = tdscf_excitations(wfn, states=1, triplets = \"NONE\")\n",
    "\n",
    "mu = [r[\"ELECTRIC DIPOLE TRANSITION MOMENT (LEN)\"] for r in res]\n",
    "\n"
   ]
  },
  {
   "cell_type": "code",
   "execution_count": null,
   "id": "e59d654a",
   "metadata": {},
   "outputs": [],
   "source": [
    "mu_debye = np.sqrt((mu[0][0] ** 2) + (mu[0][1] ** 2) + (mu[0][2] ** 2)) / 0.393456\n",
    "\n",
    "print(f' TDM_vec = {mu} au')\n",
    "print(f'TDM_mag = {mu_debye} Debye')"
   ]
  },
  {
   "cell_type": "code",
   "execution_count": null,
   "id": "4354cfbc",
   "metadata": {},
   "outputs": [],
   "source": []
  }
 ],
 "metadata": {
  "kernelspec": {
   "display_name": "Python 3 (ipykernel)",
   "language": "python",
   "name": "python3"
  },
  "language_info": {
   "codemirror_mode": {
    "name": "ipython",
    "version": 3
   },
   "file_extension": ".py",
   "mimetype": "text/x-python",
   "name": "python",
   "nbconvert_exporter": "python",
   "pygments_lexer": "ipython3",
   "version": "3.9.16"
  }
 },
 "nbformat": 4,
 "nbformat_minor": 5
}
