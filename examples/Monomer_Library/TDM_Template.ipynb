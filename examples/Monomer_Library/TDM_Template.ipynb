{
 "cells": [
  {
   "cell_type": "markdown",
   "id": "a356a68c",
   "metadata": {},
   "source": [
    "# Duplicate BEFORE adding in code!!!"
   ]
  },
  {
   "cell_type": "code",
   "execution_count": null,
   "id": "3f5faf2d",
   "metadata": {},
   "outputs": [],
   "source": [
    "import psi4\n",
    "import numpy as np\n",
    "from scipy.interpolate import InterpolatedUnivariateSpline\n",
    "from numpy import linalg as LA\n",
    "from psi4.driver.procrouting.response.scf_response import tdscf_excitations\n",
    "import nglview"
   ]
  },
  {
   "cell_type": "code",
   "execution_count": null,
   "id": "93e6fbfc",
   "metadata": {},
   "outputs": [],
   "source": [
    "# Add your monomer geometry in Cartesian Coordinates here!\n",
    "monomer = psi4.geometry(\"\"\" \n",
    "                       \n",
    "\"\"\")"
   ]
  },
  {
   "cell_type": "code",
   "execution_count": null,
   "id": "9673c7a5",
   "metadata": {},
   "outputs": [],
   "source": [
    "# The following is a visualizer for your molecule; make sure it looks as expected!\n",
    "view = nglview.show_psi4(monomer)\n",
    "view"
   ]
  },
  {
   "cell_type": "code",
   "execution_count": null,
   "id": "d1307115",
   "metadata": {},
   "outputs": [],
   "source": [
    "# This block runs the Psi4 job; currently we are using the basis set 6-311G**, but this might be a bit overkill.\n",
    "# We can play around with the level of theory later\n",
    "psi4.set_options({\n",
    "    'basis':'6-311G**'\n",
    "})\n",
    "\n",
    "psi4.set_options({\n",
    "    'save_jk': True,\n",
    "    })  \n",
    "\n",
    "\n",
    "#Calculate energy and wavefunction of ground state\n",
    "e, wfn = psi4.energy(\"CAM-b3lyp/6-311G**\", return_wfn=True, molecule=monomer)\n",
    "\n",
    "res = tdscf_excitations(wfn, states=1, triplets = \"NONE\")\n",
    "\n",
    "mu = [r[\"ELECTRIC DIPOLE TRANSITION MOMENT (LEN)\"] for r in res]\n",
    "\n"
   ]
  },
  {
   "cell_type": "code",
   "execution_count": null,
   "id": "e59d654a",
   "metadata": {},
   "outputs": [],
   "source": [
    "# The following cell prints the vector form of the TDM in au and the magnitude in Debye.\n",
    "# The vector form is what we care about!\n",
    "mu_debye = np.sqrt((mu[0][0] ** 2) + (mu[0][1] ** 2) + (mu[0][2] ** 2)) / 0.393456\n",
    "\n",
    "print(f'TDM_vec = {mu} au')\n",
    "print(f'TDM_mag = {mu_debye} Debye')"
   ]
  },
  {
   "cell_type": "code",
   "execution_count": null,
   "id": "4354cfbc",
   "metadata": {},
   "outputs": [],
   "source": []
  }
 ],
 "metadata": {
  "kernelspec": {
   "display_name": "Python 3 (ipykernel)",
   "language": "python",
   "name": "python3"
  },
  "language_info": {
   "codemirror_mode": {
    "name": "ipython",
    "version": 3
   },
   "file_extension": ".py",
   "mimetype": "text/x-python",
   "name": "python",
   "nbconvert_exporter": "python",
   "pygments_lexer": "ipython3",
   "version": "3.10.12"
  }
 },
 "nbformat": 4,
 "nbformat_minor": 5
}
