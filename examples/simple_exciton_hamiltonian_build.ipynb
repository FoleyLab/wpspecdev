{
 "cells": [
  {
   "cell_type": "code",
   "execution_count": null,
   "id": "1adc543d-8e8d-43ef-9a7b-7545df66e593",
   "metadata": {},
   "outputs": [],
   "source": [
    "import wptherml\n",
    "from matplotlib import pyplot as plt\n",
    "import numpy as np\n",
    "\n",
    "args = {  \n",
    "'exciton_energy': 1.5,\n",
    "'transition_dipole_moment' : np.array([0, 0, 0.5]),\n",
    "'aggregate_shape' : (2, 2, 1),\n",
    "}  \n",
    "\n",
    "sf = wptherml.SpectrumFactory()  \n",
    "new_instance = sf.spectrum_factory('Frenkel', args)\n",
    "\n",
    "\n",
    "print(\"coords\")\n",
    "print(new_instance.coords)\n",
    "print(\"transition dipole moment\")\n",
    "print(new_instance.transition_dipole_moment)\n",
    "\n",
    "print(new_instance.exciton_hamiltonian)\n"
   ]
  },
  {
   "cell_type": "code",
   "execution_count": null,
   "id": "62d5552a-c1d3-410d-8708-3af1f1c0f9ce",
   "metadata": {},
   "outputs": [],
   "source": []
  }
 ],
 "metadata": {
  "kernelspec": {
   "display_name": "Python 3 (ipykernel)",
   "language": "python",
   "name": "python3"
  },
  "language_info": {
   "codemirror_mode": {
    "name": "ipython",
    "version": 3
   },
   "file_extension": ".py",
   "mimetype": "text/x-python",
   "name": "python",
   "nbconvert_exporter": "python",
   "pygments_lexer": "ipython3",
   "version": "3.11.5"
  }
 },
 "nbformat": 4,
 "nbformat_minor": 5
}
