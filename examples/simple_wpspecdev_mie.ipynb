{
 "cells": [
  {
   "cell_type": "code",
   "execution_count": null,
   "metadata": {},
   "outputs": [],
   "source": [
    "import wpspecdev\n",
    "import numpy as np\n",
    "from scipy.special import spherical_jn"
   ]
  },
  {
   "cell_type": "code",
   "execution_count": null,
   "metadata": {},
   "outputs": [],
   "source": [
    "userargs = {\n",
    "    'radius': 100e-9,\n",
    "    'wavelength_list': [500e-9, 500e-9, 1]\n",
    "}\n",
    "#x = 2 * np.pi * r / lam\n",
    "#print(x)\n"
   ]
  },
  {
   "cell_type": "code",
   "execution_count": null,
   "metadata": {},
   "outputs": [],
   "source": [
    "sf = wpspecdev.SpectrumFactory()\n",
    "mt = sf.spectrum_factory('Mie', userargs)\n",
    "\n",
    "print(mt.wavelength_array)\n",
    "print(mt._size_factor_array)"
   ]
  },
  {
   "cell_type": "code",
   "execution_count": null,
   "metadata": {},
   "outputs": [],
   "source": [
    "mt._compute_mie_coeffients(ri, mu, x)"
   ]
  },
  {
   "cell_type": "code",
   "execution_count": null,
   "metadata": {},
   "outputs": [],
   "source": [
    "print(mt._an)\n",
    "        # pre-compute terms that will be used numerous times in computing coefficients\n",
    "#        _jnx = spherical_jn(1 , x)\n",
    "#        _jnmx = spherical_jn(1 , m * x)\n",
    "\n",
    "expected_an = np.array([1.51561398e-07-3.89308843e-04j, \n",
    "                            1.20867988e-13-3.47660737e-07j,\n",
    "                            2.12941403e-20-1.45925119e-10j, \n",
    "                            1.23296734e-27-3.51136346e-14j,\n",
    "                            2.97642974e-35-5.45566654e-18j, \n",
    "                            3.49894198e-43-5.91518553e-22j,\n",
    "                            2.23336769e-51-4.72585198e-26j])\n",
    "\n",
    "print(expected_an)"
   ]
  },
  {
   "cell_type": "code",
   "execution_count": null,
   "metadata": {},
   "outputs": [],
   "source": [
    "lam_array = np.linspace(500e-9, 800e-9, 10)\n",
    "for lamb in lam_array:\n",
    "    x = 2 * np.pi * r / lamb\n",
    "    mt._compute_mie_coeffients(ri, mu, x)\n",
    "    print(f'Lambda: {lamb}, len {len(mt._an)} a_n {np.real(mt._an)}')\n",
    "    "
   ]
  },
  {
   "cell_type": "code",
   "execution_count": null,
   "metadata": {},
   "outputs": [],
   "source": []
  }
 ],
 "metadata": {
  "kernelspec": {
   "display_name": "Python 3",
   "language": "python",
   "name": "python3"
  },
  "language_info": {
   "codemirror_mode": {
    "name": "ipython",
    "version": 3
   },
   "file_extension": ".py",
   "mimetype": "text/x-python",
   "name": "python",
   "nbconvert_exporter": "python",
   "pygments_lexer": "ipython3",
   "version": "3.8.5"
  }
 },
 "nbformat": 4,
 "nbformat_minor": 5
}
