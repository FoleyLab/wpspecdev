{
 "cells": [
  {
   "cell_type": "code",
   "execution_count": 1,
   "metadata": {},
   "outputs": [],
   "source": [
    "%load_ext autoreload\n",
    "%autoreload 2"
   ]
  },
  {
   "cell_type": "code",
   "execution_count": null,
   "metadata": {},
   "outputs": [],
   "source": [
    "import wptherml\n",
    "from matplotlib import pyplot as plt\n",
    "import numpy as np\n",
    "\n",
    "# guess thickness for glass\n",
    "d1 = (5000e-9 / (4 * 1.5))\n",
    "# guess thickness for Al2O3\n",
    "d2 = (5000e-9 / (4 * 1.85))\n",
    "\n",
    "optimization_dict = {\n",
    "    \"thickness_adjustment_dict\": {1:2, 2:2, 3:2, 4:2, 5:2, 6:2, 7:2, 8:2, 9:2, 10:2, 11:2, 12:2, 13:2, 14:2, 15:2, 16:2, 17:2, 18:2, 19:2, 20:2},\n",
    "    \"thickness_bit_length\": {1:10, 2:10, 3:10, 4:10, 5:10, 6:10, 7:10, 8:10, 9:10, 10:10, 11:10, 12:10, 13:10, 14:10, 15:10, 16:10, 17:10, 18:10, 19:10, 20:10},\n",
    "    \"alloy_dict\": {},\n",
    "    \"alloy_bit_length\": {}\n",
    "}\n",
    "\n",
    "test_args = {\n",
    "    \"wavelength_list\": [300e-9, 6000e-9, 1000],\n",
    "    \"Material_List\": [\"Air\",\"SiO2\", \"Al2O3\", \"SiO2\", \"ZrO2\",\"SiO2\", \"Al2O3\", \"SiO2\", \"Al2O3\",\"SiO2\", \"Al2O3\", \"SiO2\", \"Al2O3\",\"SiO2\", \"Al2O3\",\"SiO2\", \"Al2O3\", \"SiO2\", \"Al2O3\",\"SiO2\", \"Al2O3\", \"SiO2\", \"Al2O3\" , \"Air\"],\n",
    "    \"Thickness_List\": [0,d1, d2, d1, d2,d1, d2, d1, d2, d1, d2, d1, d2, d1, d2,d1, d2, d1, d2, d1, d2, d1, d2, 0],\n",
    "    \"reflective_window_wn\" : [2000, 2400],\n",
    "    \"transmissive_window_nm\" : [350, 700],\n",
    "    \"qubo_thickness_optimization\": True,\n",
    "    \"optimization_dictionary\": optimization_dict\n",
    " }\n",
    "# the top-level driver class is called \"SpectrumFactory\" - create an instance of it\n",
    "sf = wptherml.SpectrumFactory()  \n",
    "\n",
    "# the spectrum factory can be used to create an instance of a multilayer\n",
    "# that will automatically have attributes related to the materials and geometry\n",
    "# of the multilayer, along with the reflectivity, transmissivity, and absorptivity/emissivity spectra\n",
    "ts = sf.spectrum_factory(\"Opt\", test_args)\n",
    "\n",
    "def fom_func(sfobj):\n",
    "        sfobj.compute_spectrum()\n",
    "        sfobj.compute_selective_mirror_fom()\n",
    "\n",
    "\n",
    "        return -sfobj.reflection_efficiency\n",
    "\n",
    "\n",
    "ts.optimize_qubo(fom_func)\n",
    "        \n"
   ]
  }
 ],
 "metadata": {
  "kernelspec": {
   "display_name": "Python 3.11.3 ('wptherml')",
   "language": "python",
   "name": "python3"
  },
  "language_info": {
   "codemirror_mode": {
    "name": "ipython",
    "version": 3
   },
   "file_extension": ".py",
   "mimetype": "text/x-python",
   "name": "python",
   "nbconvert_exporter": "python",
   "pygments_lexer": "ipython3",
   "version": "3.11.3"
  },
  "orig_nbformat": 4,
  "vscode": {
   "interpreter": {
    "hash": "76730e3f30f362cfebf11a96a5d6338d4be4fb4f70c6c5908b972c3de29eb12b"
   }
  }
 },
 "nbformat": 4,
 "nbformat_minor": 2
}
