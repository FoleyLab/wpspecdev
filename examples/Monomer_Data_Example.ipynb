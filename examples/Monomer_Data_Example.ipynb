{
 "cells": [
  {
   "cell_type": "code",
   "execution_count": 37,
   "metadata": {},
   "outputs": [],
   "source": [
    "\n",
    "import os\n",
    "from pathlib import Path\n",
    "\n",
    "# ==> Import Psi4, json, numpy<==\n",
    "import json\n",
    "import psi4\n",
    "import numpy as np\n",
    "from psi4.driver.procrouting.response.scf_response import tdscf_excitations\n",
    "# Set Psi4 & NumPy Memory Options\n",
    "psi4.set_memory('2 GB')\n",
    "psi4.core.set_output_file('output.dat', False)\n"
   ]
  },
  {
   "cell_type": "code",
   "execution_count": 54,
   "metadata": {},
   "outputs": [
    {
     "name": "stdout",
     "output_type": "stream",
     "text": [
      "/Users/jfoley19/Code/wptherml/wptherml/data/\n"
     ]
    }
   ],
   "source": [
    "from pathlib import Path\n",
    "path_str = str(Path.cwd())\n",
    "data_str = path_str[:-8] + 'wptherml/data/'\n",
    "print(data_str)"
   ]
  },
  {
   "cell_type": "code",
   "execution_count": 55,
   "metadata": {},
   "outputs": [],
   "source": [
    "\n",
    "# rhf/cc-pVDZ optimized geometry of formaldehyde as the guess geometry\n",
    "guess_string = \"\"\"\n",
    "\n",
    "0 1\n",
    "O 0.0000000000 0.0000000000 5.91268220e-01\n",
    "C 0.0000000000 0.0000000000 -5.90400099e-01\n",
    "H 0.0000000000 9.32184336e-01 -1.17703144e+00\n",
    "H 0.0000000000 -9.32184336e-01 -1.17703144e+00\n",
    "no_reorient\n",
    "symmetry c1\n",
    "\"\"\"\n",
    "\n",
    "# options dictionary for the psi4 calculation\n",
    "options_dict = {'basis': 'cc-pVTZ',\n",
    "               'save_jk': True, \n",
    "               'scf_type': 'pk',\n",
    "               'e_convergence' : 1e-8,\n",
    "               'd_convergence' : 1e-7}\n",
    "\n",
    "# let's run a psi4 geometry optimization to get the optimal geometry\n",
    "\n",
    "# set the options\n",
    "psi4.set_options(options_dict)\n",
    "\n",
    "# first set the coordinates in guess_string as the molecule's geometry \n",
    "mol = psi4.geometry(guess_string)\n",
    "\n",
    "# now capture the psi4 geometry data with the guess coordinates\n",
    "guess_geometry_string = psi4.core.Molecule.create_psi4_string_from_molecule(mol)\n",
    "\n",
    "# run the geometry optimization\n",
    "opt_geometry = mol.geometry()\n",
    "\n",
    "# capture the psi4 geometry data from the optimization\n",
    "opt_geometry_string = psi4.core.Molecule.create_psi4_string_from_molecule(mol)\n",
    "\n",
    "# run excited-state calculations - get first 5 excited states\n",
    "n_states = 5\n",
    "\n",
    "# run psi4 TDSCF at same level of theory as geometry optimization\n",
    "psi4_rhf_e, wfn = psi4.energy(\"scf/cc-pVTZ\", return_wfn=True, molecule=mol)\n",
    "    \n",
    "# calculate the excited-state energies and save them to a dictionary called 'res'\n",
    "res = tdscf_excitations(wfn, states=n_states, triplets = \"NONE\", tda=True)\n",
    "\n",
    "# parse res for excitation energies\n",
    "psi4_excitation_e = [r[\"EXCITATION ENERGY\"] for r in res]\n",
    "\n",
    "# parse res for the transition dipole moments\n",
    "tdm = [r['ELECTRIC DIPOLE TRANSITION MOMENT (LEN)'] for r in res]"
   ]
  },
  {
   "cell_type": "code",
   "execution_count": 56,
   "metadata": {},
   "outputs": [],
   "source": [
    "# assign the dictionary - update the key names as you see fit, try to \n",
    "# make them stylistically consisten (with regard to case, under_score joining or spaces, etc)\n",
    "dictionary = {\n",
    "    \"name\": \"left-functional-group-TTz-right-functional-group\", # <== entered manually\n",
    "    \"guess_geometry\" : guess_geometry_string, #<== stored as a variable \n",
    "    \"optmized_geometry\" : opt_geometry_string, #<== strored as a variable\n",
    "    \"level_of_theory\" : \"RHF / cc-pVDZ\", #<== entered manually\n",
    "    \"S0 Energy\" : psi4_rhf_e, #<== stored as a variable\n",
    "    \"S1 Energy\" : psi4_rhf_e + psi4_excitation_e[0], #<== stored as a variable\n",
    "    \"Transition Dipole Moment\" : [tdm[0][0], tdm[0][1], tdm[0][2]] #<== stored as a variable\n",
    "}\n",
    "\n",
    " "
   ]
  },
  {
   "cell_type": "code",
   "execution_count": 57,
   "metadata": {},
   "outputs": [
    {
     "name": "stdout",
     "output_type": "stream",
     "text": [
      "{'name': 'left-functional-group-TTz-right-functional-group', 'guess_geometry': '    units Angstrom\\n    symmetry c1\\n    no_reorient\\n    0 1\\n    --\\n    0 1\\n    O                0.000000000000000     0.000000000000000     0.591268219658198\\n    C                0.000000000000000     0.000000000000000    -0.590400099341802\\n    H                0.000000000000000     0.932184336000000    -1.177031440341803\\n    H                0.000000000000000    -0.932184336000000    -1.177031440341803\\n\\n', 'optmized_geometry': '    units Angstrom\\n    symmetry c1\\n    no_reorient\\n    0 1\\n    --\\n    0 1\\n    O                0.000000000000000     0.000000000000000     0.591268219658198\\n    C                0.000000000000000     0.000000000000000    -0.590400099341802\\n    H                0.000000000000000     0.932184336000000    -1.177031440341803\\n    H                0.000000000000000    -0.932184336000000    -1.177031440341803\\n\\n', 'level_of_theory': 'RHF / cc-pVDZ', 'S0 Energy': -113.91309874926381, 'S1 Energy': -113.73865867815915, 'Transition Dipole Moment': [-8.843414361928964e-15, 2.995344835880895e-16, 2.2008412274246467e-15]}\n"
     ]
    }
   ],
   "source": [
    "print(dictionary)"
   ]
  },
  {
   "cell_type": "code",
   "execution_count": 58,
   "metadata": {},
   "outputs": [
    {
     "name": "stdout",
     "output_type": "stream",
     "text": [
      "/Users/jfoley19/Code/wptherml/wptherml/data/left-functional-group-TTz-right-functional-group.json\n"
     ]
    }
   ],
   "source": [
    "# automatically create file name for the json file - this will go \n",
    "# in the wptherml/data folder, we already have the path \n",
    "# to the wptherml/data folder from earlier blocks\n",
    "file_name = data_str + dictionary[\"name\"] + \".json\"\n",
    "print(file_name)\n",
    "\n",
    "## Writing to sample.json\n",
    "#with open(\"sample.json\", \"w\") as outfile:\n",
    "#    outfile.write(json_object)"
   ]
  },
  {
   "cell_type": "code",
   "execution_count": 59,
   "metadata": {},
   "outputs": [],
   "source": [
    "# This block writes the json file\n",
    "json_object = json.dumps(dictionary, indent=4)\n",
    "\n",
    "with open(file_name, \"w\") as outfile:\n",
    "    outfile.write(json_object)"
   ]
  },
  {
   "cell_type": "code",
   "execution_count": null,
   "metadata": {},
   "outputs": [],
   "source": []
  },
  {
   "cell_type": "code",
   "execution_count": 60,
   "metadata": {},
   "outputs": [
    {
     "name": "stdout",
     "output_type": "stream",
     "text": [
      "{'name': 'left-functional-group-TTz-right-functional-group', 'guess_geometry': '    units Angstrom\\n    symmetry c1\\n    no_reorient\\n    0 1\\n    --\\n    0 1\\n    O                0.000000000000000     0.000000000000000     0.591268219658198\\n    C                0.000000000000000     0.000000000000000    -0.590400099341802\\n    H                0.000000000000000     0.932184336000000    -1.177031440341803\\n    H                0.000000000000000    -0.932184336000000    -1.177031440341803\\n\\n', 'optmized_geometry': '    units Angstrom\\n    symmetry c1\\n    no_reorient\\n    0 1\\n    --\\n    0 1\\n    O                0.000000000000000     0.000000000000000     0.591268219658198\\n    C                0.000000000000000     0.000000000000000    -0.590400099341802\\n    H                0.000000000000000     0.932184336000000    -1.177031440341803\\n    H                0.000000000000000    -0.932184336000000    -1.177031440341803\\n\\n', 'level_of_theory': 'RHF / cc-pVDZ', 'S0 Energy': -113.91309874926381, 'S1 Energy': -113.73865867815915, 'Transition Dipole Moment': [-8.843414361928964e-15, 2.995344835880895e-16, 2.2008412274246467e-15]}\n",
      "<class 'dict'>\n"
     ]
    }
   ],
   "source": [
    " # Opening JSON file\n",
    "with open(file_name, 'r') as openfile:\n",
    " \n",
    "    # Reading from json file\n",
    "    json_object = json.load(openfile)\n",
    " \n",
    "print(json_object)\n",
    "print(type(json_object))"
   ]
  },
  {
   "cell_type": "code",
   "execution_count": 61,
   "metadata": {},
   "outputs": [
    {
     "name": "stdout",
     "output_type": "stream",
     "text": [
      "[-8.843414361928964e-15, 2.995344835880895e-16, 2.2008412274246467e-15]\n"
     ]
    }
   ],
   "source": [
    "print(json_object[\"Transition Dipole Moment\"])"
   ]
  },
  {
   "cell_type": "code",
   "execution_count": null,
   "metadata": {},
   "outputs": [],
   "source": []
  }
 ],
 "metadata": {
  "kernelspec": {
   "display_name": "Python 3 (ipykernel)",
   "language": "python",
   "name": "python3"
  },
  "language_info": {
   "codemirror_mode": {
    "name": "ipython",
    "version": 3
   },
   "file_extension": ".py",
   "mimetype": "text/x-python",
   "name": "python",
   "nbconvert_exporter": "python",
   "pygments_lexer": "ipython3",
   "version": "3.9.13"
  }
 },
 "nbformat": 4,
 "nbformat_minor": 4
}
