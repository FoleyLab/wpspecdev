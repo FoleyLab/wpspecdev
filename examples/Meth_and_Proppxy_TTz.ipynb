{
 "cells": [
  {
   "cell_type": "markdown",
   "id": "bedd0aff",
   "metadata": {},
   "source": [
    "# Computing CIE Coordinates from Spectra\n",
    "(short video demo [here](https://youtu.be/ZRFJSZF6mr0))\n",
    "\n",
    "This notebook will demonstrate the use of the WPTherml package to compute the CIE coordinates from a \n",
    "spectrum.  The general idea is described concisely in [this page](http://www.brucelindbloom.com/index.html?Eqn_Spect_to_XYZ.html).  Given an emission spectrum $I_e(\\lambda)$ the raw CIE coordinates ($X, Y,$ and $Z$) can be computed as \n",
    "\n",
    "\\begin{align}\n",
    "X = \\int_{\\lambda_1}^{\\lambda_2}  I_e(\\lambda) \\bar{x}(\\lambda) d\\lambda \\\\\n",
    "Y = \\int_{\\lambda_1}^{\\lambda_2}  I_e(\\lambda) \\bar{y}(\\lambda) d\\lambda \\\\\n",
    "Z = \\int_{\\lambda_1}^{\\lambda_2} I_e(\\lambda) \\bar{z}(\\lambda) d\\lambda\n",
    "\\end{align}\n",
    "where $\\bar{x}(\\lambda), \\bar{y}(\\lambda), \\bar{z}(\\lambda)$ are the CIE observer functions that encode the response of the color cones of the human eye.  We data from discrete samples of these observer functions\n",
    "stored in [this file](https://github.com/FoleyLab/wptherml/blob/main/wptherml/data/cie_cmf.txt).  *Note: We need\n",
    "to identify the source of this data!*\n",
    "\n",
    "We are interested in noramalized CIE values, so we define a normalization constant from the raw CIE values,\n",
    "$$ N = X + Y + Z, $$\n",
    "and report normalized coordinates as follows:\n",
    "\n",
    "\\begin{align}\n",
    "x = \\frac{X}{N} \\\\\n",
    "y = \\frac{Y}{N} \\\\\n",
    "z = \\frac{Z}{N}.\n",
    "\\end{align}\n",
    "\n",
    "With discretized samples of the emission spectra and the CIE observer functions, we can compute \n",
    "CIE coordinates through numerical integration, for example using the trapezoid rule.\n",
    "\n",
    "WPTherml has a built-in method called `compute_cie(spectrum)` for performing the integrals shown above with the correct discretized\n",
    "samples of CIE observer functions and the spectrum stored in an array called `spectrum`.  After \n",
    "reading in an emission spectrum of interest from a data file, we can deploy this `compute_cie()` method\n",
    "to compute the CIE coordinates of this spectrum.\n",
    "\n",
    "### Validating the CIE Coordinate Computation\n",
    "The concept of a [Planckian Locus](https://en.wikipedia.org/wiki/Planckian_locus) is helpful for validating the `compute_cie()` method.  The Planckian Locus forms a path of colors (and corresponding CIE coordinates) that an ideal Blackbody emitter would have as a function of temperature.  There is also a simple approximation for the Planckian Locus as a function of temperature (see the cubic equation under the **Approximation** heading in the Wikipeadia Page linked above).  The following blocks of code will import the WPTherml package, create an instance of an incandescent emitter (in this case, a simple Tungsten slab), then compute the thermal emission spectrum of this slab, along with the thermal emission of an ideal blackbody, at a range of temperatures and compare the path of CIE $x$ and $y$ coordinates with those that lie along the Planckian locus.  The CIE coordinates of the Tungsten emitter should be close, though not necessarily on the Planckian locus, while the Blackbody values should exactly match (to within numerical roundoff error) the Planckian locus if our `compute_cie()` method is working properly."
   ]
  },
  {
   "cell_type": "code",
   "execution_count": 1,
   "id": "5157dbb8",
   "metadata": {},
   "outputs": [
    {
     "name": "stdout",
     "output_type": "stream",
     "text": [
      " Your spectra have been computed! 😎 \n",
      " Your therml spectra have been computed! 🔥 \n"
     ]
    },
    {
     "data": {
      "image/png": "[encoded data removed]",
      "text/plain": [
       "<Figure size 432x288 with 1 Axes>"
      ]
     },
     "metadata": {
      "needs_background": "light"
     },
     "output_type": "display_data"
    }
   ],
   "source": [
    "import wptherml\n",
    "from matplotlib import pyplot as plt\n",
    "import numpy as np\n",
    "\n",
    "# create a tungsten incandescent object at 1700 K\n",
    "tungsten_values = {\n",
    "    \"wavelength_list\": [400e-9, 700e-9, 200],\n",
    "    \"Material_List\": [\"Air\",  \"W\", \"Air\"],\n",
    "    \"Thickness_List\": [0, 900e-9, 0],\n",
    "    \"temperature\": 1700,\n",
    "    \"therml\": True\n",
    "}\n",
    "\n",
    "\n",
    "sf = wptherml.SpectrumFactory()\n",
    "w = sf.spectrum_factory('Tmm', tungsten_values)\n",
    "\n",
    "\n",
    "plt.plot(w.wavelength_array * 1e9, w.thermal_emission_array, 'red', label=\"W Emission at 1700 K\")\n",
    "plt.plot(w.wavelength_array * 1e9, w.blackbody_spectrum, 'black', label=\"Blackbody emission at 1700 K\")\n",
    "plt.legend()\n",
    "plt.show()\n"
   ]
  },
  {
   "cell_type": "markdown",
   "id": "06d0df6d",
   "metadata": {},
   "source": [
    "We can use the `compute_cie()` method to compute the CIE values of both the tungsten emitter\n",
    "and the ideal blackbody emitter at 1700 K.  Because we have created this object with the name `w`, we\n",
    "will utilize this method using the \"dot notation\" as follows:\n",
    "\n",
    "`w.compute_cie(w.thermal_emission_array)`\n",
    "\n",
    "`w.compute_cie(w.blackbody_spectrum)`\n",
    "\n",
    "where the first call computes the CIE values of the actual thermal emission spectrum of tungsten at 1700 K, while\n",
    "the second compute the CIE values of the ideal blackbody spectrum at 1700 K.  Both `thermal_emission_array` and \n",
    "`blackbody_spectrum` are attributes of the object named `w`, and `compute_cie` is a method of the object named `w`.  This is a concept in object oriented programming that is a little counterintuitive at first, but some good discription can be found [here](https://livebook.manning.com/concept/python/dot-notation).\n",
    "\n",
    "Note that the `compute_cie()` method returns an array of CIE values (`[x, y, z]`), so the following\n",
    "code block will store the CIE values of the ideal blackbody in an array called `bb_cie` and\n",
    "the CIE values of tungsten in array called `w_cie`."
   ]
  },
  {
   "cell_type": "code",
   "execution_count": 2,
   "id": "bbaffc3a",
   "metadata": {},
   "outputs": [],
   "source": [
    "bb_cie = w.compute_cie(w.blackbody_spectrum)\n",
    "w_cie = w.compute_cie(w.thermal_emission_array)"
   ]
  },
  {
   "cell_type": "markdown",
   "id": "49c9919e",
   "metadata": {},
   "source": [
    "Let's print these arrays to see how similar/different they are from each other.  We expect they will\n",
    "be similar, though not identical.  Remember incandescent bulbs use tungsten filaments, so we do expect\n",
    "thermal emission to be similar to a blackbody source."
   ]
  },
  {
   "cell_type": "code",
   "execution_count": 3,
   "id": "dbbef3ff",
   "metadata": {},
   "outputs": [
    {
     "name": "stdout",
     "output_type": "stream",
     "text": [
      "CIE Coordinates for W at 1700 K:                  [0.5567357482651879, 0.4062569179395491, 0.037007333795263025]\n",
      "CIE Coordinates for an ideal blackbody at 1700 K: [0.5600855610920833, 0.40505713590886977, 0.03485730299904705]\n"
     ]
    }
   ],
   "source": [
    "print(F'CIE Coordinates for W at 1700 K:                  {w_cie}')\n",
    "print(F'CIE Coordinates for an ideal blackbody at 1700 K: {bb_cie}')"
   ]
  },
  {
   "cell_type": "markdown",
   "id": "12f1f28e",
   "metadata": {},
   "source": [
    "Now we can compare the numerically computed values to the Planckian locus.  WPTherml has a built-in function\n",
    "called `compute_planckian_locus()` that will compute the CIE coordinates on the Planckian locus utilizing the value of the temperature attribute of your class instance.  Again working with the class instance called `w`, we can use this function using the dot notation (`w.compute_planckian_locus()` and the relevant temperature value will be the temperature attribute of\n",
    "the `w` class (`w.temperature` which we set to 1700 K in the first block).  \n",
    "    \n"
   ]
  },
  {
   "cell_type": "code",
   "execution_count": 4,
   "id": "68f0d166",
   "metadata": {},
   "outputs": [],
   "source": [
    "planck_cie = w.compute_planckian_locus()"
   ]
  },
  {
   "cell_type": "code",
   "execution_count": 5,
   "id": "aff46139",
   "metadata": {},
   "outputs": [
    {
     "name": "stdout",
     "output_type": "stream",
     "text": [
      "CIE Coordinates for an ideal blackbody at 1700 K: [0.5609411935680847, 0.4043036207558297, 0.0347551856760856]\n"
     ]
    }
   ],
   "source": [
    "print(F'CIE Coordinates for an ideal blackbody at 1700 K: {planck_cie}')"
   ]
  },
  {
   "cell_type": "markdown",
   "id": "d090fe9b",
   "metadata": {},
   "source": [
    "We can visually inspect that all values from the Planckian locus are close to the values we computed\n",
    "numerically from the Blackbody spectrum.  However, we can also have the computer make this check for us.  \n",
    "There are a number of ways to do this, but one important method is to utilize an `assert` statement followed by a numerical comparison operation.  A powerful set of numerical comparison tools are provided by the numpy library,\n",
    "with one example being `isclose(value1, value2, threshold)` for when you want to compare two scalar values and\n",
    "see if they agree to within some numerical threshold, and another being `allclose(array1, array2, threshold)` for\n",
    "when you want to see if the values of one array match the corresponding values of another array to within a numerical threshold.  This second is most appropriate here because we have two arrays of CIE values (one computed numerically, one computed from the Planckian locus), and we want to compare the values of these arrays."
   ]
  },
  {
   "cell_type": "code",
   "execution_count": 6,
   "id": "3f432067",
   "metadata": {},
   "outputs": [],
   "source": [
    "assert np.allclose(planck_cie, bb_cie, 5e-3)"
   ]
  },
  {
   "cell_type": "markdown",
   "id": "cc54ebaf",
   "metadata": {},
   "source": [
    "Finally, let's visualize the Planckian locus as obtained from the `compute_planckian_locus()` function (which should be basically exact) with the locus as obtained by calling `compute_cie(w.blackbody_spectrum)`\n",
    "and `compute_cie(w.thermal_emission_array)`at a series of temperatures ranging from 1700 - 4000 K.  Hopefully the blackbody curve should be virtually indiscernible from the exact Planckian locus, and the W should look close but distinct.  These loci are typically plotted as a series of $x$ and $y$ values vs temperature, so that is what we will do."
   ]
  },
  {
   "cell_type": "code",
   "execution_count": 7,
   "id": "a374f95e",
   "metadata": {},
   "outputs": [
    {
     "data": {
      "image/png": "[encoded data removed]",
      "text/plain": [
       "<Figure size 432x288 with 1 Axes>"
      ]
     },
     "metadata": {
      "needs_background": "light"
     },
     "output_type": "display_data"
    }
   ],
   "source": [
    "# Let's test our CIE calculator against the Planckian locus calculation\n",
    "T_list = np.linspace(1700, 4000, 30)\n",
    "\n",
    "# array to hold x-values of the Planckian locus, the blackbody, and the W emission for each temperature\n",
    "planck_x = []\n",
    "bb_x = []\n",
    "w_x = []\n",
    "\n",
    "# array to hold x-values of the Planckian locus, the blackbody, and the W emission for each temperature\n",
    "planck_y = []\n",
    "bb_y = []\n",
    "w_y = []\n",
    "\n",
    "for temp in T_list:\n",
    "    # update the temperature attribute with the current value of temp\n",
    "    w.temperature = temp\n",
    "    \n",
    "    # get Planckian locus at this temperature, store to planck_x and planck_y arrays \n",
    "    temp_cie = w.compute_planckian_locus()\n",
    "    planck_x.append(temp_cie[0])\n",
    "    planck_y.append(temp_cie[1])\n",
    "    \n",
    "    # numerically get blackbody locus at this temperature... need to update blackbody curve first\n",
    "    w._compute_therml_spectrum(w.wavelength_array, w.emissivity_array)\n",
    "    temp_cie = w.compute_cie(w.blackbody_spectrum)\n",
    "    bb_x.append(temp_cie[0])\n",
    "    bb_y.append(temp_cie[1])\n",
    "    \n",
    "    # get W emitter locus at this temperature, its thermal emission was updated when _compute_therml_spectrum\n",
    "    # was called above\n",
    "    temp_cie = w.compute_cie(w.thermal_emission_array)\n",
    "    w_x.append(temp_cie[0])\n",
    "    w_y.append(temp_cie[1])\n",
    "\n",
    "    \n",
    "\n",
    "plt.plot(planck_x, planck_y, 'b--', label='Exact Planckian Locus')\n",
    "plt.plot(bb_x, bb_y, 'ro', label='Numerical Blackbody Locus')\n",
    "plt.plot(w_x, w_y, 'g*', label='Numerical Tungsten Locus')\n",
    "plt.xlabel(\"CIE x Value\")\n",
    "plt.ylabel(\"CIE y Value\")\n",
    "plt.legend()\n",
    "plt.show()\n"
   ]
  },
  {
   "cell_type": "markdown",
   "id": "717d58b1",
   "metadata": {},
   "source": [
    "# Items to-do:\n",
    "\n",
    "1. Need to write a block that parses spectra files that Abhishek provides and stores these results to a wavelength array and an emission spectrum array.  \n",
    "- These data are in a folder called `Meth_and_Butoxy_TTz` and have file extensions `.txt`.  I think we can use the glob library for this!\n",
    "\n",
    "2. Make sure spectral data from Abhishek's file and the CIE observer functions are on the same wavelength grid... think about ways to do this that are elegant / robust\n",
    "- The data are on a wavelength grid from 400-790 nm.  We can fit a spline to this data using scipy's interpolation capabilities e.g. \n",
    "`emission_spline = InterpolatedUnivariateSpline(wavelength_data, emission_data, k=1)`\n",
    "\n",
    "\n",
    "3. Feed his spectra to compute_cie(spectra) and store values to return to him\n",
    "\n",
    "### Bonus to-do:\n",
    "\n",
    "1. Can we write a function that takes a few parameters (e.g. peak wavelengths, spectral widths, and peak intensities) for several dyes and approximates the total emission as a sum of gaussians and computes the CIE value from that approximation?"
   ]
  },
  {
   "cell_type": "code",
   "execution_count": 8,
   "id": "b052a36c",
   "metadata": {},
   "outputs": [],
   "source": [
    "import os\n",
    "from scipy import interpolate\n",
    "import glob"
   ]
  },
  {
   "cell_type": "code",
   "execution_count": null,
   "id": "8b793a15",
   "metadata": {},
   "outputs": [],
   "source": []
  },
  {
   "cell_type": "code",
   "execution_count": 12,
   "id": "733a0d2f",
   "metadata": {},
   "outputs": [
    {
     "name": "stdout",
     "output_type": "stream",
     "text": [
      "['Meth_and Propoxy_TTz/2.4.txt', 'Meth_and Propoxy_TTz/4.2.txt', 'Meth_and Propoxy_TTz/6.1.txt', 'Meth_and Propoxy_TTz/4.3.txt', 'Meth_and Propoxy_TTz/2.5.txt', 'Meth_and Propoxy_TTz/4.1.txt', 'Meth_and Propoxy_TTz/6.3.txt', 'Meth_and Propoxy_TTz/6.2.txt', 'Meth_and Propoxy_TTz/2.2.txt', 'Meth_and Propoxy_TTz/2.3.txt', 'Meth_and Propoxy_TTz/2.1.txt', 'Meth_and Propoxy_TTz/5.1.txt', 'Meth_and Propoxy_TTz/5.2.txt', 'Meth_and Propoxy_TTz/3.4.txt', 'Meth_and Propoxy_TTz/5.3.txt', 'Meth_and Propoxy_TTz/3.1.txt', 'Meth_and Propoxy_TTz/1.3.txt', 'Meth_and Propoxy_TTz/1.2.txt', 'Meth_and Propoxy_TTz/3.2.txt', 'Meth_and Propoxy_TTz/1.1.txt', 'Meth_and Propoxy_TTz/3.3.txt', 'Meth_and Propoxy_TTz/11.3.txt', 'Meth_and Propoxy_TTz/11.2.txt', 'Meth_and Propoxy_TTz/11.1.txt']\n"
     ]
    }
   ],
   "source": [
    "file_location = os.path.join('Meth_and Propoxy_TTz','*.txt')\n",
    "filenames = glob.glob(file_location)\n",
    "print(filenames)"
   ]
  },
  {
   "cell_type": "code",
   "execution_count": 13,
   "id": "3d546aa0",
   "metadata": {},
   "outputs": [
    {
     "name": "stdout",
     "output_type": "stream",
     "text": [
      "cie for file Meth_and Propoxy_TTz/2.4.txt is [0.2827360667594332, 0.3108054974078876, 0.40645843583267915]\n",
      "cie for file Meth_and Propoxy_TTz/4.2.txt is [0.19107447793487395, 0.21517468720671137, 0.5937508348584146]\n",
      "cie for file Meth_and Propoxy_TTz/6.1.txt is [0.18039229659854733, 0.21914647511369542, 0.6004612282877573]\n",
      "cie for file Meth_and Propoxy_TTz/4.3.txt is [0.19341548257478117, 0.21963504558354607, 0.5869494718416727]\n",
      "cie for file Meth_and Propoxy_TTz/2.5.txt is [0.2682341304283071, 0.2953190091646528, 0.43644686040704006]\n",
      "cie for file Meth_and Propoxy_TTz/4.1.txt is [0.20159135235774875, 0.23001455170367574, 0.5683940959385755]\n",
      "cie for file Meth_and Propoxy_TTz/6.3.txt is [0.1766239554547258, 0.2156102874678522, 0.6077657570774221]\n",
      "cie for file Meth_and Propoxy_TTz/6.2.txt is [0.1824843962499014, 0.21836812427759314, 0.5991474794725055]\n",
      "cie for file Meth_and Propoxy_TTz/2.2.txt is [0.27418725784287196, 0.30583562905045386, 0.4199771131066742]\n",
      "cie for file Meth_and Propoxy_TTz/2.3.txt is [0.23496017765944704, 0.26462773627000424, 0.5004120860705488]\n",
      "cie for file Meth_and Propoxy_TTz/2.1.txt is [0.2650680583610174, 0.29392987233746976, 0.44100206930151287]\n",
      "cie for file Meth_and Propoxy_TTz/5.1.txt is [0.18424535746139817, 0.2110255460378567, 0.6047290965007451]\n",
      "cie for file Meth_and Propoxy_TTz/5.2.txt is [0.18885356555416072, 0.2160019648702298, 0.5951444695756096]\n",
      "cie for file Meth_and Propoxy_TTz/3.4.txt is [0.23092955215678385, 0.26043579940175543, 0.5086346484414607]\n",
      "cie for file Meth_and Propoxy_TTz/5.3.txt is [0.18322144222724648, 0.21508592887429506, 0.6016926288984584]\n",
      "cie for file Meth_and Propoxy_TTz/3.1.txt is [0.21921023225300185, 0.24544275309281244, 0.5353470146541858]\n",
      "cie for file Meth_and Propoxy_TTz/1.3.txt is [0.4084393595564959, 0.43160896020523326, 0.15995168023827078]\n",
      "cie for file Meth_and Propoxy_TTz/1.2.txt is [0.4009464710476836, 0.43218498011755413, 0.1668685488347623]\n",
      "cie for file Meth_and Propoxy_TTz/3.2.txt is [0.22906223316580954, 0.2570060218508415, 0.5139317449833489]\n",
      "cie for file Meth_and Propoxy_TTz/1.1.txt is [0.4080781084479074, 0.4298825922303384, 0.16203929932175426]\n",
      "cie for file Meth_and Propoxy_TTz/3.3.txt is [0.22014586889590276, 0.24448485796948008, 0.5353692731346172]\n",
      "cie for file Meth_and Propoxy_TTz/11.3.txt is [0.16771018194255055, 0.22303149924427002, 0.6092583188131795]\n",
      "cie for file Meth_and Propoxy_TTz/11.2.txt is [0.16744204188506412, 0.21856819666803573, 0.6139897614469003]\n",
      "cie for file Meth_and Propoxy_TTz/11.1.txt is [0.16754614601698023, 0.21953547184700203, 0.6129183821360176]\n"
     ]
    }
   ],
   "source": [
    "for file in filenames:\n",
    "    data = np.loadtxt(file)\n",
    "    emission_spline = interpolate.interp1d(data[:,0], data[:,1])\n",
    "    emission_prediction = emission_spline(w.wavelength_array * 1e9)   \n",
    "    cie = w.compute_cie(emission_prediction)\n",
    "    print(F\"cie for file {file} is {cie}\")\n",
    "# data[:,0] -> wavelengths in nm\n",
    "# data[:,1] -> emission intensity\n",
    "#print(data)"
   ]
  },
  {
   "cell_type": "code",
   "execution_count": null,
   "id": "063304fc",
   "metadata": {},
   "outputs": [],
   "source": []
  },
  {
   "cell_type": "code",
   "execution_count": 14,
   "id": "40688640",
   "metadata": {},
   "outputs": [
    {
     "data": {
      "image/png": "[encoded data removed]",
      "text/plain": [
       "<Figure size 432x288 with 1 Axes>"
      ]
     },
     "metadata": {
      "needs_background": "light"
     },
     "output_type": "display_data"
    }
   ],
   "source": [
    "plt.plot(data[:,0], data[:,1], label=\"Abhishek's Emission\")\n",
    "plt.plot(w.wavelength_array * 1e9, emission_prediction, label=\"prediction\")\n",
    "plt.legend()\n",
    "plt.show()"
   ]
  },
  {
   "cell_type": "code",
   "execution_count": 15,
   "id": "4a75dc6a",
   "metadata": {},
   "outputs": [],
   "source": [
    "abhishek_cie_51 = w.compute_cie(emission_prediction)"
   ]
  },
  {
   "cell_type": "code",
   "execution_count": 16,
   "id": "0e8fa7a0",
   "metadata": {},
   "outputs": [
    {
     "name": "stdout",
     "output_type": "stream",
     "text": [
      "[0.16754614601698023, 0.21953547184700203, 0.6129183821360176]\n"
     ]
    }
   ],
   "source": [
    "print(abhishek_cie_51)"
   ]
  },
  {
   "cell_type": "code",
   "execution_count": null,
   "id": "67412fd2",
   "metadata": {},
   "outputs": [],
   "source": []
  }
 ],
 "metadata": {
  "kernelspec": {
   "display_name": "Python 3 (ipykernel)",
   "language": "python",
   "name": "python3"
  },
  "language_info": {
   "codemirror_mode": {
    "name": "ipython",
    "version": 3
   },
   "file_extension": ".py",
   "mimetype": "text/x-python",
   "name": "python",
   "nbconvert_exporter": "python",
   "pygments_lexer": "ipython3",
   "version": "3.9.12"
  }
 },
 "nbformat": 4,
 "nbformat_minor": 5
}
