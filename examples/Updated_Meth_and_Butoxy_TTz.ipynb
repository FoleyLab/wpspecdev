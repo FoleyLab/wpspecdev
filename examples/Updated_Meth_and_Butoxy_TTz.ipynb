{
 "cells": [
  {
   "cell_type": "code",
   "execution_count": null,
   "id": "5157dbb8",
   "metadata": {},
   "outputs": [],
   "source": [
    "import wptherml\n",
    "from matplotlib import pyplot as plt\n",
    "import numpy as np\n",
    "import os\n",
    "from scipy import interpolate\n",
    "import scipy\n",
    "import glob\n",
    "import colour\n",
    "from colour.plotting import *\n",
    "\n",
    "# create a tungsten incandescent object at 1700 K\n",
    "tungsten_values = {\n",
    "    \"wavelength_list\": [400e-9, 700e-9, 200],\n",
    "    \"Material_List\": [\"Air\",  \"W\", \"Air\"],\n",
    "    \"Thickness_List\": [0, 900e-9, 0],\n",
    "    \"temperature\": 1700,\n",
    "    \"therml\": True\n",
    "}\n",
    "\n",
    "\n",
    "sf = wptherml.SpectrumFactory()\n",
    "w = sf.spectrum_factory('Tmm', tungsten_values)\n"
   ]
  },
  {
   "cell_type": "markdown",
   "id": "a9d0df74",
   "metadata": {},
   "source": [
    "Read in the emission spectra data from the Meth_and_Propoxy_TTz folder!"
   ]
  },
  {
   "cell_type": "code",
   "execution_count": null,
   "id": "733a0d2f",
   "metadata": {},
   "outputs": [],
   "source": [
    "file_location = os.path.join('Meth_and_Butoxy_TTz_sub','*.txt')\n",
    "filenames = glob.glob(file_location)\n",
    "print(filenames)"
   ]
  },
  {
   "cell_type": "markdown",
   "id": "b3fb7449",
   "metadata": {},
   "source": [
    "Now read in the emission spectra from each file, compute the CIE and RGB values for each spectrum, print\n",
    "the filename and CIE values, and store the RGB values to a list.  We will use that RGB list subsequently to plot the values on the CIE color gamut."
   ]
  },
  {
   "cell_type": "code",
   "execution_count": null,
   "id": "3d546aa0",
   "metadata": {},
   "outputs": [],
   "source": [
    "cie_x = []\n",
    "cie_y = []\n",
    "rgb_list = []\n",
    "for file in filenames:\n",
    "    data = np.loadtxt(file)\n",
    "    emission_spline = interpolate.interp1d(data[:,0], data[:,1])\n",
    "    # make sure this spline is good!\n",
    "    assert np.allclose(emission_spline(data[:,0]), data[:,1], 1e-4)\n",
    "    emission_prediction = emission_spline(w.wavelength_array * 1e9)   \n",
    "    cie = w.compute_cie(emission_prediction)\n",
    "    cie_x.append(cie[0])\n",
    "    cie_y.append(cie[1])\n",
    "    rgb = w.compute_rgb(emission_prediction)\n",
    "    rgb_list.append(rgb)\n",
    "    print(F\"{file[20:]}, {cie[0]}, {cie[1]}, {cie[2]}\")"
   ]
  },
  {
   "cell_type": "markdown",
   "id": "9f1ae98e",
   "metadata": {},
   "source": [
    "Notes to Lane: \n",
    "1. I found some syntax that allows plotting multiple layers on the CIE diagram, which allows us to plot the CIE values directly (i.e. no more mapping them to RGB values), and will also allow us to plot a line of best fit.\n",
    "\n",
    "2. Right now, I am plotting both a scatter plot and a line through all the points (rather than a line of best fit) with the following code:\n",
    "\n",
    "`plt.scatter(cie_x, cie_y)\n",
    "plt.plot(cie_x, cie_y, 'black')`\n",
    "\n",
    "You can find a line of best fit using the scipy.stats function `linregress` as follows:\n",
    "\n",
    "`slope, intercept, r, p, se = scipy.stats.linregress(cie_x, cie_y)`\n",
    "\n",
    "and then define a line of best fit along the actual CIE x values simply as \n",
    "\n",
    "`y_fit = slope * cie_x`\n",
    "\n",
    "You can then change the one `plt.plot()` command to \n",
    "`plt.plot(cie_x, cie_y, 'black')`\n",
    "and hopefully that will plot the line of best fit on top of the actual CIE values.\n",
    "\n"
   ]
  },
  {
   "cell_type": "code",
   "execution_count": null,
   "id": "2fa62209",
   "metadata": {},
   "outputs": [],
   "source": [
    "# ==> Add line to compute slope, etc, using scipy.stats.linregress here! <=="
   ]
  },
  {
   "cell_type": "code",
   "execution_count": null,
   "id": "67412fd2",
   "metadata": {},
   "outputs": [],
   "source": [
    "colour.plotting.plot_chromaticity_diagram_CIE1931(standalone=False)\n",
    "plt.scatter(cie_x, cie_y)\n",
    "# ==> Change the plt.plot() line below so that it is plotting the y-vales associated\n",
    "# ==> with the slope * cie_x where slope comes from scipy.stats.linregress\n",
    "plt.plot(cie_x, cie_y, 'black') \n",
    "plt.title(\"\")\n",
    "colour.plotting.render(\n",
    "    standalone=True,\n",
    "    bounding_box = (-0.1, 0.9, -0.1, 0.9)\n",
    ")"
   ]
  }
 ],
 "metadata": {
  "kernelspec": {
   "display_name": "Python 3 (ipykernel)",
   "language": "python",
   "name": "python3"
  },
  "language_info": {
   "codemirror_mode": {
    "name": "ipython",
    "version": 3
   },
   "file_extension": ".py",
   "mimetype": "text/x-python",
   "name": "python",
   "nbconvert_exporter": "python",
   "pygments_lexer": "ipython3",
   "version": "3.8.13"
  }
 },
 "nbformat": 4,
 "nbformat_minor": 5
}
