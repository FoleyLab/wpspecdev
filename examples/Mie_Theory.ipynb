{
 "cells": [
  {
   "cell_type": "markdown",
   "metadata": {
    "id": "I4Uup55javQW"
   },
   "source": [
    "### Mie Theory"
   ]
  },
  {
   "cell_type": "code",
   "execution_count": null,
   "metadata": {
    "id": "pOPKfgI9EQVd"
   },
   "outputs": [],
   "source": []
  },
  {
   "cell_type": "markdown",
   "metadata": {
    "id": "240LEfTfXqdk"
   },
   "source": [
    "### Mie theory coefficients and Bessell functions (JJF)"
   ]
  },
  {
   "cell_type": "markdown",
   "metadata": {
    "id": "GAZdCOlJZ1Ur"
   },
   "source": [
    "There are 4 types of coefficients for the Mie theory expansion for the electric field in the vicinity of a spherical particle: $a_n$ and $b_n$ for the scattered fields (external to the particle), and $c_n$ and $d_n$ for the fields inside the particle (internal fields).  These coefficients can be expressed as follows:\n",
    "\\begin{equation}\n",
    "a_n = \\frac{m^2 j_n(mx)[x j_n(x)]' - \\mu_1 j_n(x) [mxj_n (mx)]'}{m^2 j_n(mx)[x h_n^{(1)}(x)]' - \\mu_1 h_n^{(1)}(x) [mxj_n (mx)]'} \\\\\n",
    "\\end{equation}\n",
    "\n",
    "\\begin{equation}\n",
    "b_n = \\frac{\\mu_1 j_n(mx)[x j_n(x)]' - j_n(x) [mxj_n (mx)]'}\n",
    "{\\mu_1 j_n(mx)[x h_n^{(1)}(x)]' -  h_n^{(1)}(x) [mxj_n (mx)]'}  \\\\\n",
    "\\end{equation}\n",
    "\n",
    "\\begin{equation}\n",
    "c_n = \\frac{\\mu_1 j_n(mx)[x h_n^{(1)}(x)]' - \\mu_1 h_n^{(1)}(x) [xj_n (mx)]'}{\\mu_1 j_n(mx)[x h_n^{(1)}(x)]' - h_n^{(1)}(x) [mxj_n (mx)]'} \\\\\n",
    "\\end{equation}\n",
    "\n",
    "\\begin{equation}\n",
    "d_n = \\frac{\\mu_1 m j_n(mx)[x h_n^{(1)}(x)]' - \\mu_1 m h_n^{(1)}(x) [mxj_n (mx)]'}\n",
    "{m^2 j_n(mx)[x h_n^{(1)}(x)]' - \\mu_1 h_n^{(1)}(x) [mxj_n (mx)]'} \\\\\n",
    "\\end{equation}.\n",
    "\n",
    "In the above, $m = n_{sphere}/n_{medium}$ represents the refractive index of the spherical particle divided by the refractive index of the surrounding, $x = 2\\pi r/\\lambda$ is the size parameter of the sphere, where $r$ is the radius of the sphere and $\\lambda$ is the wavelength of light, and $\\mu_1 = \\mu_{sphere}/\\mu_{medium}$ represents the magnetic permiability of the spherical particle divided by the permeability of the medium.  The functions $j_n(z)$ and $h_n^{(1)}(z) = j_n(z) + iy_n(z)$ are the spherical Bessel functions.  The spherical Bessel functions are defined in terms of the Bessel functions of the first kind\n",
    "\\begin{equation}\n",
    "j_n(z) = \\sqrt{\\frac{\\pi}{2z}} J_{n+0.5}(z)\n",
    "\\end{equation}\n",
    "and second kind\n",
    "\\begin{equation}\n",
    "y_n(z) = \\sqrt{\\frac{\\pi}{2z}} Y_{n+0.5}(z).\n",
    "\\end{equation}\n",
    "The derivative terms are defined as\n",
    "\\begin{equation}\n",
    "[z j_n(z)]' = zj_{n-1}(z) - nj_n(z)\n",
    "\\end{equation}\n",
    "and\n",
    "\\begin{equation}\n",
    "[zh_n^{(1)}(z)]' = zh_{n-1}^{(1)}(z) - nh_{n}^{(1)}(z).\n",
    "\\end{equation}\n",
    "\n",
    "\n",
    "Let's test the Bessel and Spherical Bessel functions using the relations here and the built-in functions in scipy.\n",
    "\n"
   ]
  },
  {
   "cell_type": "markdown",
   "metadata": {
    "id": "04Yy6NB-sKJW"
   },
   "source": []
  },
  {
   "cell_type": "code",
   "execution_count": 10,
   "metadata": {
    "colab": {
     "base_uri": "https://localhost:8080/"
    },
    "id": "yKqZ0iKVFUXn",
    "outputId": "a2dceb1e-cc09-4e3b-f0c3-9be6f112c4ec"
   },
   "outputs": [
    {
     "data": {
      "text/plain": [
       "\" do not run these locally! This will run on collab.\\n!pip install miepython\\n!pip install wptherml==1.11b0\\n\\nfrom wptherml.wpml import multilayer\\nfrom matplotlib import pyplot as plt\\n\\n### dictionary that stores basic properties \\n### of the multilayer structure you want to simulate\\nstructure = {\\n        'Material_List': ['Air', 'SiO2', 'Air'],\\n        'Thickness_List': [0, 20e-9,  0],\\n        'Lambda_List': [100e-9, 800e-9, 200]\\n        }\\n\\n### create the instance called coated_au_film\\nau = multilayer(structure)\\nn_au = au.layer_ri(1)\\n\\n\""
      ]
     },
     "execution_count": 10,
     "metadata": {},
     "output_type": "execute_result"
    }
   ],
   "source": [
    "\"\"\" do not run these locally! This will run on collab.\n",
    "!pip install miepython\n",
    "!pip install wptherml==1.11b0\n",
    "\n",
    "from wptherml.wpml import multilayer\n",
    "from matplotlib import pyplot as plt\n",
    "\n",
    "### dictionary that stores basic properties \n",
    "### of the multilayer structure you want to simulate\n",
    "structure = {\n",
    "        'Material_List': ['Air', 'SiO2', 'Air'],\n",
    "        'Thickness_List': [0, 20e-9,  0],\n",
    "        'Lambda_List': [100e-9, 800e-9, 200]\n",
    "        }\n",
    "\n",
    "### create the instance called coated_au_film\n",
    "au = multilayer(structure)\n",
    "n_au = au.layer_ri(1)\n",
    "\n",
    "\"\"\"\n"
   ]
  },
  {
   "cell_type": "code",
   "execution_count": 27,
   "metadata": {
    "id": "G5ODTkLslopE"
   },
   "outputs": [],
   "source": [
    "### Start running here!\n",
    "from scipy.special import spherical_jn\n",
    "from scipy.special import spherical_yn\n",
    "from scipy.special import jv\n",
    "from scipy.special import yv\n",
    "import numpy as np\n",
    "#import miepython\n",
    "from matplotlib import pyplot as plt\n",
    "\n",
    "### define size parameter\n",
    "# radius = 10 nm\n",
    "r = 100e-9\n",
    "# wavelength = 500 nm\n",
    "lam = 500e-9\n",
    "\n",
    "# ri of sphere\n",
    "ns = 1.5\n",
    "# ri of medium\n",
    "nm = 1.0\n",
    "# mu of sphere\n",
    "mus = 1.0\n",
    "# mu of surrounding\n",
    "mum = 1.0\n",
    "\n",
    "### parameters\n",
    "m = ns/nm \n",
    "mu = mus/mum\n",
    "x = 2*np.pi*r/lam"
   ]
  },
  {
   "cell_type": "markdown",
   "metadata": {
    "id": "61oC9wjQl3Ny"
   },
   "source": [
    "Let's define the Spherical Bessel functions and also the derivative terms here!"
   ]
  },
  {
   "cell_type": "code",
   "execution_count": 28,
   "metadata": {
    "id": "FQ_2bUbWl0Y9"
   },
   "outputs": [],
   "source": [
    "\n",
    "def s_jn(n,z):\n",
    "  ''' Compute the spherical bessel function from the Bessel function\n",
    "      of the first kind\n",
    "  '''\n",
    "  ns = n+0.5\n",
    "  return np.sqrt(np.pi/(2*z)) * jv(ns, z)\n",
    "\n",
    "def s_yn(n,z):\n",
    "  ''' Compute the spherical bessel function from the Bessel function\n",
    "      of the second kind\n",
    "  '''\n",
    "  ns = n+0.5\n",
    "  return np.sqrt(np.pi/(2*z)) * yv(ns, z)\n",
    "\n",
    "def s_hn(n, z):\n",
    "  ''' Compute the spherical bessel function h_n^{(1)} '''\n",
    "  ci = 0+1j\n",
    "  return spherical_jn(n, z) + ci*spherical_yn(n, z)\n",
    "\n",
    "def z_jn_prime(n,z):\n",
    "  ''' Compute derivative of z*j_n(z) using recurrence relations '''\n",
    "  return z*spherical_jn(n-1, z)-n*spherical_jn(n,z)\n",
    "\n",
    "def z_hn_prime(n,z):\n",
    "  ''' Compute derivative of z*h_n^{(1)}(z) using recurrence relations '''\n",
    "  return z*s_hn(n-1,z) -n*s_hn(n,z)\n",
    "\n",
    "def mie_coeff(n, m, mu, x):\n",
    "  ''' computes the Mie theory a, b, c, and d coefficients for a\n",
    "      given order n, relative refractive index m, relative permeability mu, and\n",
    "      size parameter x.  Returns coefficients as an array. '''\n",
    "  \n",
    "  ### pre-compute the different Bessel function terms that will be used over and over again\n",
    "  ## jnx <==> j_n(x)\n",
    "  jnx = spherical_jn(n,x)\n",
    "  ## jnmx <==> j_n(mx)\n",
    "  jnmx = spherical_jn(n,m*x)\n",
    "  ## hnx <==> h_n^{(1)}(x)\n",
    "  hnx = s_hn(n, x)\n",
    "  ## xjnxp <==> [x*j_n(x)]'\n",
    "  xjnxp = z_jn_prime(n, x)\n",
    "  ## mxjnmxp <==> [mx*j_n(mx)]'\n",
    "  mxjnmxp = z_jn_prime(n, m*x)\n",
    "  ## xhnxp <==> [x*h_n^{(1)}(x)]'\n",
    "  xhnxp = z_hn_prime(n, x)\n",
    "\n",
    "  ### now use pre-computed values to compute coefficients!\n",
    "  ## a_n first\n",
    "  a_num = m**2 * jnmx * xjnxp - mu * jnx * mxjnmxp \n",
    "  a_den = m**2 * jnmx * xhnxp - mu * hnx * mxjnmxp\n",
    "  a_n = a_num / a_den\n",
    "\n",
    "  ## b_n second\n",
    "  b_num = mu * jnmx * xjnxp - jnx * mxjnmxp \n",
    "  b_den = mu * jnmx * xhnxp - hnx * mxjnmxp\n",
    "  b_n = b_num / b_den\n",
    "\n",
    "  ## c_n third\n",
    "  c_num = mu * jnx * xhnxp - mu * hnx * xjnxp\n",
    "  c_den = mu * jnmx * xhnxp - hnx * mxjnmxp\n",
    "  c_n = c_num / c_den\n",
    "\n",
    "  ## d_n fourth\n",
    "  d_num = mu * m * jnx * xhnxp - mu * m * hnx * xjnxp \n",
    "  d_den = m**2 * jnmx * xhnxp - mu * hnx * mxjnmxp\n",
    "  d_n = d_num / d_den\n",
    "  return [a_n, b_n, c_n, d_n]"
   ]
  },
  {
   "cell_type": "code",
   "execution_count": 29,
   "metadata": {},
   "outputs": [
    {
     "name": "stdout",
     "output_type": "stream",
     "text": [
      "[1 2 3 4 5 6 7]\n"
     ]
    }
   ],
   "source": [
    "# make an array of coefficients consistent \n",
    "# with the glass sphere of radius 100e-9 m in air \n",
    "# illuminated with lambda = 500e-9 m light\n",
    "_n_max = int(x + 4*x**(1/3.)+2)\n",
    "_n_array = np.copy( np.linspace(1, _n_max, _n_max, dtype=int) )\n",
    "\n",
    "\n",
    "print(_n_array)\n",
    "\n",
    "#print(s_jn(_n_array, x))\n",
    "\n",
    "#print(s_yn(_n_array, x))\n",
    "\n",
    "#print(s_hn(n, x))\n",
    "\n",
    "\n",
    "#print(z_jn_prime(n, x))\n",
    "\n",
    "#print(z_hn_prime(n, x))\n",
    "\n",
    "#print(mie_coeff(n, m, mu, x))\n"
   ]
  },
  {
   "cell_type": "code",
   "execution_count": 30,
   "metadata": {
    "colab": {
     "base_uri": "https://localhost:8080/"
    },
    "id": "ZGsHYeWyvDoz",
    "outputId": "9d6c4703-cb1a-4cf2-ca36-be1ab23786da"
   },
   "outputs": [
    {
     "name": "stdout",
     "output_type": "stream",
     "text": [
      "[1.09393760e-01-3.12132609e-01j 9.58682444e-04-3.09477523e-02j\n",
      " 1.63054752e-06-1.27692790e-03j 9.66113753e-10-3.10823704e-05j]\n",
      "[1.09393760e-01-3.12132609e-01j 9.58682444e-04-3.09477523e-02j\n",
      " 1.63054752e-06-1.27692790e-03j 9.66113753e-10-3.10823704e-05j\n",
      " 2.39854703e-13-4.89749633e-07j 2.88856083e-17-5.37453331e-09j\n",
      " 1.88087968e-21-4.33691097e-11j]\n"
     ]
    }
   ],
   "source": [
    "\n",
    "### define size parameter\n",
    "# radius = 10 nm\n",
    "r = 100e-9\n",
    "# wavelength = 500 nm\n",
    "lam = 500e-9\n",
    "\n",
    "# ri of sphere\n",
    "ns = 1.5\n",
    "# ri of medium\n",
    "nm = 1.0\n",
    "# mu of sphere\n",
    "mus = 1.0\n",
    "# mu of surrounding\n",
    "mum = 1.0\n",
    "\n",
    "### parameters\n",
    "m = ns/nm \n",
    "mu = mus/mum\n",
    "x = 2*np.pi*r/lam\n",
    "\n",
    "c_1 = mie_coeff(1, ns, mus, x)\n",
    "c_2 = mie_coeff(2, ns, mus, x)\n",
    "c_3 = mie_coeff(3, ns, mus, x)\n",
    "c_4 = mie_coeff(4, ns, mus, x)\n",
    "c_ft = np.array([c_1[0], c_2[0], c_3[0], c_4[0]])\n",
    "print(c_ft)\n",
    "\n",
    "n_a = np.array([1,2, 3, 4, 5, 6, 7])\n",
    "c = mie_coeff(n_a, ns, mus, x)\n",
    "print(c[0])"
   ]
  },
  {
   "cell_type": "markdown",
   "metadata": {
    "id": "QJQZUQlIX2Re"
   },
   "source": [
    "### Mie efficiencies and cross sections (AL)"
   ]
  },
  {
   "cell_type": "code",
   "execution_count": 31,
   "metadata": {
    "colab": {
     "base_uri": "https://localhost:8080/",
     "height": 297
    },
    "id": "wrE9Bi55X8JA",
    "outputId": "356f4d1a-397e-4e77-901e-9be00629c1c3"
   },
   "outputs": [
    {
     "ename": "NameError",
     "evalue": "name 'miepython' is not defined",
     "output_type": "error",
     "traceback": [
      "\u001b[0;31m---------------------------------------------------------------------------\u001b[0m",
      "\u001b[0;31mNameError\u001b[0m                                 Traceback (most recent call last)",
      "\u001b[0;32m<ipython-input-31-2c26fb7fe487>\u001b[0m in \u001b[0;36m<module>\u001b[0;34m\u001b[0m\n\u001b[1;32m     60\u001b[0m   \u001b[0mext_list\u001b[0m\u001b[0;34m[\u001b[0m\u001b[0mi\u001b[0m\u001b[0;34m]\u001b[0m \u001b[0;34m=\u001b[0m \u001b[0mq_extinction\u001b[0m\u001b[0;34m(\u001b[0m\u001b[0mn_au\u001b[0m\u001b[0;34m[\u001b[0m\u001b[0mi\u001b[0m\u001b[0;34m]\u001b[0m\u001b[0;34m,\u001b[0m \u001b[0mau\u001b[0m\u001b[0;34m.\u001b[0m\u001b[0mlambda_array\u001b[0m\u001b[0;34m[\u001b[0m\u001b[0mi\u001b[0m\u001b[0;34m]\u001b[0m\u001b[0;34m,\u001b[0m \u001b[0mr\u001b[0m\u001b[0;34m)\u001b[0m\u001b[0;34m\u001b[0m\u001b[0;34m\u001b[0m\u001b[0m\n\u001b[1;32m     61\u001b[0m   \u001b[0mabs_list\u001b[0m\u001b[0;34m[\u001b[0m\u001b[0mi\u001b[0m\u001b[0;34m]\u001b[0m \u001b[0;34m=\u001b[0m \u001b[0mext_list\u001b[0m\u001b[0;34m[\u001b[0m\u001b[0mi\u001b[0m\u001b[0;34m]\u001b[0m \u001b[0;34m-\u001b[0m \u001b[0mscat_list\u001b[0m\u001b[0;34m[\u001b[0m\u001b[0mi\u001b[0m\u001b[0;34m]\u001b[0m\u001b[0;34m\u001b[0m\u001b[0;34m\u001b[0m\u001b[0m\n\u001b[0;32m---> 62\u001b[0;31m   \u001b[0mqext\u001b[0m\u001b[0;34m,\u001b[0m \u001b[0mqsca\u001b[0m\u001b[0;34m,\u001b[0m \u001b[0mqback\u001b[0m\u001b[0;34m,\u001b[0m \u001b[0mg\u001b[0m \u001b[0;34m=\u001b[0m \u001b[0mmiepython\u001b[0m\u001b[0;34m.\u001b[0m\u001b[0mmie\u001b[0m\u001b[0;34m(\u001b[0m\u001b[0mnp\u001b[0m\u001b[0;34m.\u001b[0m\u001b[0mconj\u001b[0m\u001b[0;34m(\u001b[0m\u001b[0mn_au\u001b[0m\u001b[0;34m[\u001b[0m\u001b[0mi\u001b[0m\u001b[0;34m]\u001b[0m\u001b[0;34m)\u001b[0m\u001b[0;34m,\u001b[0m\u001b[0mx\u001b[0m\u001b[0;34m)\u001b[0m\u001b[0;34m\u001b[0m\u001b[0;34m\u001b[0m\u001b[0m\n\u001b[0m\u001b[1;32m     63\u001b[0m   \u001b[0mmp_qscat\u001b[0m\u001b[0;34m[\u001b[0m\u001b[0mi\u001b[0m\u001b[0;34m]\u001b[0m \u001b[0;34m=\u001b[0m \u001b[0mqsca\u001b[0m\u001b[0;34m\u001b[0m\u001b[0;34m\u001b[0m\u001b[0m\n\u001b[1;32m     64\u001b[0m   \u001b[0mmp_qext\u001b[0m\u001b[0;34m[\u001b[0m\u001b[0mi\u001b[0m\u001b[0;34m]\u001b[0m \u001b[0;34m=\u001b[0m \u001b[0mqext\u001b[0m\u001b[0;34m\u001b[0m\u001b[0;34m\u001b[0m\u001b[0m\n",
      "\u001b[0;31mNameError\u001b[0m: name 'miepython' is not defined"
     ]
    }
   ],
   "source": [
    "\n",
    "### Functions for Mie theory efficiencies and cross sections goes here!\n",
    "def q_scattering(m, lam, r):\n",
    "    ''' computes the mie theory scattering effeciency (q_sca) using n_max and\n",
    "    the function mie_coeff(c) to acquire an and bn, and size parameter x''' \n",
    "    x = 2 * np.pi * r/lam\n",
    "    # n_max needs to be defined\n",
    "    n_max_raw = x + 4*x**(1/3) + 2\n",
    "    n_max = int(n_max_raw)\n",
    "    # q_sca needs to be initialized\n",
    "    q_sca = 0\n",
    "    # hard-code magnetic permeability to be 1\n",
    "    mu  = 1+0j\n",
    "    for n in range(1,n_max):\n",
    "        ### mie_coeff function returns an array of \n",
    "        ### mie coefficients for a given order n, relative refractive index m,\n",
    "        ### relative permeability mu, and size parameter x\n",
    "        c = mie_coeff(n, m, mu, x)\n",
    "        ### a_n is the 0th element of c\n",
    "        an = c[0]\n",
    "        ### b)n is the 1st element of c\n",
    "        bn = c[1]\n",
    "        \n",
    "        q_sca = q_sca + 2/x**2 * (2*n + 1) * (np.abs(an)**2 + np.abs(bn)**2)\n",
    "        \n",
    "    return q_sca\n",
    "\n",
    "def q_extinction(m, lam, r):\n",
    "    ''' computes mie theory extinction theory (q_ext) using n_max and\n",
    "    the function mie_coeff (c) to acquire an and bn, and size parameter x'''\n",
    "    x = 2 * np.pi * r/lam\n",
    "    n_max_raw = x + 4*x**(1/3) + 2\n",
    "    n_max = int(n_max_raw)\n",
    "    # initialize q_extinction\n",
    "    q_ext = 0\n",
    "    # hard-code magnetic permeability to be 1\n",
    "    mu = 1+0j\n",
    "    for n in range(1, n_max):\n",
    "        c = mie_coeff(n, m, mu, x)\n",
    "        an = c[0]\n",
    "        bn = c[1]\n",
    "        \n",
    "        q_ext = q_ext + 2/x**2 * (2*n+1) * np.real(an + bn)\n",
    "    return q_ext\n",
    "\n",
    "\n",
    "ext_list = np.zeros_like(au.lambda_array)\n",
    "scat_list = np.zeros_like(au.lambda_array)\n",
    "abs_list = np.zeros_like(au.lambda_array)\n",
    "\n",
    "mp_qext = np.zeros_like(au.lambda_array)\n",
    "mp_qscat = np.zeros_like(au.lambda_array)\n",
    "mp_qabs = np.zeros_like(au.lambda_array)\n",
    "\n",
    "r = 40e-9\n",
    "\n",
    "for i in range(0,len(au.lambda_array)):\n",
    "  x = 2*np.pi * r / au.lambda_array[i]\n",
    "\n",
    "  scat_list[i] = q_scattering(n_au[i], au.lambda_array[i], r)\n",
    "  ext_list[i] = q_extinction(n_au[i], au.lambda_array[i], r)\n",
    "  abs_list[i] = ext_list[i] - scat_list[i]\n",
    "  qext, qsca, qback, g = miepython.mie(np.conj(n_au[i]),x)\n",
    "  mp_qscat[i] = qsca\n",
    "  mp_qext[i] = qext \n",
    "  mp_qabs[i] = qext - qsca\n",
    "\n",
    "\n",
    "plt.plot(au.lambda_array, abs_list, 'red', label='Ours' )\n",
    "plt.plot(au.lambda_array, mp_qabs, 'b--', label='miepython')\n",
    "plt.xlabel('Wavelength (m)')\n",
    "plt.legend()\n",
    "plt.show()\n",
    "\n",
    "print('test')\n",
    "\n"
   ]
  },
  {
   "cell_type": "markdown",
   "metadata": {
    "id": "nSlx0yoVYBCd"
   },
   "source": [
    "### Scattered and Far Field Equations (JB)"
   ]
  },
  {
   "cell_type": "code",
   "execution_count": null,
   "metadata": {
    "id": "wvv-s0pMYEsy"
   },
   "outputs": [],
   "source": [
    "### Functions for Scattered and Far Field computations go here!"
   ]
  },
  {
   "cell_type": "code",
   "execution_count": null,
   "metadata": {
    "id": "LzRvxYEBFEsh"
   },
   "outputs": [],
   "source": [
    "### functions for Pi_sub_n and Tau_sub_n\n",
    "def pi_n(n, theta):\n",
    "  '''Provides pi_n functions from n = 0 to n = 4'''\n",
    "  for i in theta:\n",
    "    pi_2 = 3*np.cos(theta)\n",
    "    pi_3 = (2*3-1)/(3-1) * np.cos(theta) * 3*np.cos(theta) - (3)/(3-1)* 1\n",
    "    pi_4 = (2*4-1)/(4-1)* pi_3 - (3)/(3-1)*3*np.cos(theta)\n",
    "  \n",
    "  if n == 0:   \n",
    "    return 0 \n",
    "  elif n == 1:\n",
    "    return 1\n",
    "  elif n == 2: \n",
    "    return pi_2\n",
    "  elif n == 3:\n",
    "    return pi_3\n",
    "  elif n == 4:\n",
    "    return pi_4\n",
    "  return print(\"Pick 'n' as an integer 1-4\")\n",
    "\n",
    "\n",
    "def tau_n(n, theta):\n",
    "  for i in theta:\n",
    "    tau_1 = np.cos(theta)\n",
    "    tau_2 = 3*np.cos(2*theta)\n",
    "    tau_3 = 3*np.cos(theta) - (3+1)* tau_2\n",
    "    tau_4 = 4*np.cos(theta) - (4+1)* tau_3\n",
    "  if n == 0:\n",
    "    return 0\n",
    "  elif n == 1:\n",
    "    return tau_1\n",
    "  elif n == 2:\n",
    "    return tau_2\n",
    "  elif n == 3:\n",
    "    return tau_3\n",
    "  elif n == 4 :\n",
    "    return tau_4\n",
    "\n",
    "  return print(\"Pick 'n' as an integer 1-4\" )\n"
   ]
  },
  {
   "cell_type": "code",
   "execution_count": null,
   "metadata": {
    "colab": {
     "base_uri": "https://localhost:8080/",
     "height": 231
    },
    "id": "RdQHPx1Lcg_I",
    "outputId": "84a98dd5-2d58-4051-cffc-f0336e29d8a3"
   },
   "outputs": [
    {
     "ename": "NameError",
     "evalue": "ignored",
     "output_type": "error",
     "traceback": [
      "\u001b[0;31m---------------------------------------------------------------------------\u001b[0m",
      "\u001b[0;31mNameError\u001b[0m                                 Traceback (most recent call last)",
      "\u001b[0;32m<ipython-input-9-49ad2f13ba1f>\u001b[0m in \u001b[0;36m<module>\u001b[0;34m()\u001b[0m\n\u001b[1;32m      5\u001b[0m \u001b[0;34m\u001b[0m\u001b[0m\n\u001b[1;32m      6\u001b[0m \u001b[0;34m\u001b[0m\u001b[0m\n\u001b[0;32m----> 7\u001b[0;31m \u001b[0man\u001b[0m \u001b[0;34m=\u001b[0m \u001b[0;34m(\u001b[0m\u001b[0ma_n\u001b[0m \u001b[0;34m*\u001b[0m \u001b[0mn2\u001b[0m\u001b[0;34m)\u001b[0m\u001b[0;34m\u001b[0m\u001b[0;34m\u001b[0m\u001b[0m\n\u001b[0m\u001b[1;32m      8\u001b[0m \u001b[0mbn\u001b[0m \u001b[0;34m=\u001b[0m \u001b[0;34m(\u001b[0m\u001b[0mb_n\u001b[0m \u001b[0;34m*\u001b[0m \u001b[0mn2\u001b[0m\u001b[0;34m)\u001b[0m\u001b[0;34m\u001b[0m\u001b[0;34m\u001b[0m\u001b[0m\n\u001b[1;32m      9\u001b[0m \u001b[0mk0\u001b[0m \u001b[0;34m=\u001b[0m \u001b[0;36m500e-9\u001b[0m \u001b[0;31m#nm\u001b[0m\u001b[0;34m\u001b[0m\u001b[0;34m\u001b[0m\u001b[0m\n",
      "\u001b[0;31mNameError\u001b[0m: name 'a_n' is not defined"
     ]
    }
   ],
   "source": [
    "### This is the block of code is for the S1 and S2 functions\n",
    "## for complex refractive index m=m'+im\",   \n",
    "## size parameter x=k0*a, and u=cos(scattering angle),  \n",
    "## where k0=vacuum wave number, a=sphere radius;\n",
    "\n",
    "\n",
    "an = (a_n * n2)\n",
    "bn = (b_n * n2)\n",
    "k0 = 500e-9 #nm\n",
    "a = 10e-9\n",
    "\n",
    "x = k0 * a \n",
    "\n",
    "nmax = round((2+x+4*x^(1/3)))\n",
    "\n",
    "p_n = pi_n(1,)\n",
    "t_n = tau_n(1,)\n",
    "\n",
    "\n",
    "n = (1,nmax)\n",
    "n2=(2*n+1)/(n(n+1))\n",
    "\n",
    "Pi_n = n2 * p_n\n",
    "Tau_n = n2 * t_n\n",
    "\n",
    "def S_1(an,bn,pi_n,tau_n):\n",
    "  S1 = ((an*Pi_n) +(bn*Tau_n))\n",
    "  return S1 \n",
    "\n",
    "def S_2(an,bn,pi_n,tau_n):\n",
    "  S2 = ((an * Tau_n) + (bn * Pi_n))\n",
    "  return S2 \n",
    "\n"
   ]
  },
  {
   "cell_type": "code",
   "execution_count": null,
   "metadata": {
    "id": "xBHo58arFTLW"
   },
   "outputs": [],
   "source": [
    "### This block of Code will pertain to the final Es Coordinate system\n",
    "i = \n",
    "k = \n",
    "r = 10e-9\n",
    "\n",
    "def Es_theta(i,k,r,S2,theta):\n",
    "  Es_0 = (((e**(i*r*k))/(-i*k*r))* cos(theta))\n",
    "  return Es_0\n",
    "\n",
    "def Es_pho(i,k,r,S1,theta):\n",
    "  Es_p = (((e**(i*r*k))/(i*k*r))* sin(theta))\n",
    "\n"
   ]
  },
  {
   "cell_type": "markdown",
   "metadata": {
    "id": "CflUTBqWYIEC"
   },
   "source": [
    "### Internal field and computation of the absorption efficiency (JFV)"
   ]
  },
  {
   "cell_type": "code",
   "execution_count": null,
   "metadata": {
    "id": "SXxhl8a1YZIk"
   },
   "outputs": [],
   "source": []
  },
  {
   "cell_type": "markdown",
   "metadata": {
    "id": "XezE13Y0tv2q"
   },
   "source": [
    "\n",
    "\n",
    "$$E_1 = \\sum_{n=1}^{\\infty}\\frac{(2n+1)}{(n(n+1)}(c_nM_{oln}^{(1)} - d_nN_{oln}^{(1)})$$\n",
    "\n"
   ]
  },
  {
   "cell_type": "code",
   "execution_count": null,
   "metadata": {
    "id": "mlQ-pfmMsuNi"
   },
   "outputs": [],
   "source": [
    "\n"
   ]
  },
  {
   "cell_type": "code",
   "execution_count": null,
   "metadata": {
    "id": "OPlGmnGrYMOE"
   },
   "outputs": [],
   "source": [
    "### Functions for internal field and absorption efficiency go here!\n",
    "### m is refractive index\n",
    "### x = ka where a is radius denoted as r\n",
    "### k = 2pi/lam\n",
    "###J_n(z) is a bessel function\n",
    "\n",
    "import numpy as np\n",
    "\n",
    "def pi_n(n, theta):\n",
    "  '''Provides pi_n functions from n = 0 to n = 4'''\n",
    "  for i in theta:\n",
    "    pi_2 = 3*np.cos(theta)\n",
    "    pi_3 = (2*3-1)/(3-1) * np.cos(theta) * 3*np.cos(theta) - (3)/(3-1)* 1\n",
    "    pi_4 = (2*4-1)/(4-1)* pi_3 - (3)/(3-1)*3*np.cos(theta)\n",
    "  \n",
    "  if n == 0:   \n",
    "    return 0 \n",
    "  elif n == 1:\n",
    "    return 1\n",
    "  elif n == 2: \n",
    "    return pi_2\n",
    "  elif n == 3:\n",
    "    return pi_3\n",
    "  elif n == 4:\n",
    "    return pi_4\n",
    "  return print(\"Pick 'n' as an integer 1-4\")\n",
    "\n",
    "\n",
    "def tau_n(n, theta):\n",
    "  for i in theta:\n",
    "    tau_1 = np.cos(theta)\n",
    "    tau_2 = 3*np.cos(2*theta)\n",
    "    tau_3 = 3*np.cos(theta) - (3+1)* tau_2\n",
    "    tau_4 = 4*np.cos(theta) - (4+1)* tau_3\n",
    "  if n == 0:\n",
    "    return 0\n",
    "  elif n == 1:\n",
    "    return tau_1\n",
    "  elif n == 2:\n",
    "    return tau_2\n",
    "  elif n == 3:\n",
    "    return tau_3\n",
    "  elif n == 4 :\n",
    "    return tau_4\n",
    "\n",
    "  return print(\"Pick 'n' as an integer 1-4\" )\n",
    "\n",
    "def n_max(x):\n",
    "  return np.round(x+4*x**(1/3)+2)\n",
    "\n",
    "\n",
    "\n",
    "\n",
    "def build_M(n, theta, phi,r, m, lam):\n",
    "  k = 2*pi/lam\n",
    "  x = k*r\n",
    "\n",
    "  M = np.array([[0],\n",
    "       [np.cos(phi)*pi_n(n, theta)*np.cos(theta)*s_jn(n,z)],\n",
    "       [-1*np.sin(phi)*tau_n(n, Theta)*np.cos(theta)*s_jn(n,z)]])\n",
    "  return M\n",
    "\n",
    "\n",
    "def build_N(n, theta, phi,r, m, lam):\n",
    "  k = 2*pi/lam\n",
    "  x = k*r\n",
    "\n",
    "  N=[[n*n+1*np.cos(phi)*np.sin(theta)*pi_n(n, theta)*np.cos(theta)*(s_jn(n,z)/r*m*x)]\n",
    "     [np.cos(theta)* tau_n(n, theta)*np.cos(theta)*(r*m*x*s_jn(n,z)/r*m*x)]\n",
    "     [-1*np.sin(phi)*pi_n*np.cos(theta)*(r*m*x*s_jn(n,z)/r*m*x)]]\n",
    "\n",
    "  return N \n",
    "\n",
    "def internal_field(n, m, mu, x, theta, phi,r):\n",
    "  '''calculates internal field of a sphere.\n",
    "  '''\n",
    "  mc_1 = mie_coeff(n, m, mu, x)\n",
    "  c_1 = mc_1[2]\n",
    "  d_1 = mc_1[3]\n",
    "\n",
    "  #build_M(n, theta, phi,r, m, lam, pi_n, tau_n)\n",
    "  M =Build_M(n, theta, phi,r, m, lam)\n",
    "  #build_N(n, theta, phi,r, m, lam, pi_n, tau_n)\n",
    "  N =Build_N(n, theta, phi,r, m, lam)\n",
    "\n",
    "  for i in lam:\n",
    "    a = (2*n+1)/n*(n+1)\n",
    "    int_field = a * (c_1 * M[i]) * ( d_1 * N[i])\n",
    "\n",
    "  return int_field\n",
    "\n",
    "def Q_abs(n,z,x, m , mu, eps_imaginary):\n",
    "  n_max = n_max(x)\n",
    "  #x_prime is also equal to r*k \n",
    "  x_prime = z/m\n",
    "  m_n = 2*n*(2*n+1)\n",
    "  n_n = 2*n *(2*n+1) * ((2*n+1)*np.abs(s_jn(n,z)/z)**2 * np.abs(z_jn_prime(n,z)/z)**2)\n",
    "\n",
    "\n",
    "  mc_1 = mie_coeff(n, m, mu, x)\n",
    "  c_1 = mc_1[2]\n",
    "  d_1 = mc_1[3]\n",
    "  som = 0\n",
    "  for n in range(1, n_max):\n",
    "    multiply = m_n[n] * c_1 + n_n * d_1\n",
    "    som = multiply + som\n",
    "    as_electric_field = 1/4*som\n",
    "  \n",
    "  coeff = 4 * eps_imaginary / x**2\n",
    "\n",
    "  Q_abs =  coeff * np.trapz(as_electric_field, x=None, dx=.001)\n",
    "  return Q_abs\n",
    "\n",
    "\n",
    "\n",
    "\n",
    "\n"
   ]
  }
 ],
 "metadata": {
  "colab": {
   "collapsed_sections": [],
   "name": "Mie_Theory.ipynb",
   "provenance": []
  },
  "interpreter": {
   "hash": "203e32220328bfee8d55603c61f510c933418437ca2fb9ba4a735d68ed0f019e"
  },
  "kernelspec": {
   "display_name": "Python 3",
   "language": "python",
   "name": "python3"
  },
  "language_info": {
   "codemirror_mode": {
    "name": "ipython",
    "version": 3
   },
   "file_extension": ".py",
   "mimetype": "text/x-python",
   "name": "python",
   "nbconvert_exporter": "python",
   "pygments_lexer": "ipython3",
   "version": "3.7.10"
  }
 },
 "nbformat": 4,
 "nbformat_minor": 1
}
