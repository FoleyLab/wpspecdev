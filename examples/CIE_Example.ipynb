{
 "cells": [
  {
   "cell_type": "markdown",
   "id": "bedd0aff",
   "metadata": {},
   "source": [
    "# Computing CIE Coordinates from Spectra\n",
    "(short video demo [here](https://youtu.be/ZRFJSZF6mr0))\n",
    "\n",
    "This notebook will demonstrate the use of the WPTherml package to compute the CIE coordinates from a \n",
    "spectrum.  The general idea is described concisely in [this page](http://www.brucelindbloom.com/index.html?Eqn_Spect_to_XYZ.html).  Given an emission spectrum $I_e(\\lambda)$ the raw CIE coordinates ($X, Y,$ and $Z$) can be computed as \n",
    "\n",
    "\\begin{align}\n",
    "X = \\int_{\\lambda_1}^{\\lambda_2}  I_e(\\lambda) \\bar{x}(\\lambda) d\\lambda \\\\\n",
    "Y = \\int_{\\lambda_1}^{\\lambda_2}  I_e(\\lambda) \\bar{y}(\\lambda) d\\lambda \\\\\n",
    "Z = \\int_{\\lambda_1}^{\\lambda_2} I_e(\\lambda) \\bar{z}(\\lambda) d\\lambda\n",
    "\\end{align}\n",
    "where $\\bar{x}(\\lambda), \\bar{y}(\\lambda), \\bar{z}(\\lambda)$ are the CIE observer functions that encode the response of the color cones of the human eye.  We data from discrete samples of these observer functions\n",
    "stored in [this file](https://github.com/FoleyLab/wptherml/blob/main/wptherml/data/cie_cmf.txt).  *Note: We need\n",
    "to identify the source of this data!*\n",
    "\n",
    "We are interested in noramalized CIE values, so we define a normalization constant from the raw CIE values,\n",
    "$$ N = X + Y + Z, $$\n",
    "and report normalized coordinates as follows:\n",
    "\n",
    "\\begin{align}\n",
    "x = \\frac{X}{N} \\\\\n",
    "y = \\frac{Y}{N} \\\\\n",
    "z = \\frac{Z}{N}.\n",
    "\\end{align}\n",
    "\n",
    "With discretized samples of the emission spectra and the CIE observer functions, we can compute \n",
    "CIE coordinates through numerical integration, for example using the trapezoid rule.\n",
    "\n",
    "WPTherml has a built-in method called `compute_cie(spectrum)` for performing the integrals shown above with the correct discretized\n",
    "samples of CIE observer functions and the spectrum stored in an array called `spectrum`.  After \n",
    "reading in an emission spectrum of interest from a data file, we can deploy this `compute_cie()` method\n",
    "to compute the CIE coordinates of this spectrum.\n",
    "\n",
    "### Validating the CIE Coordinate Computation\n",
    "The concept of a [Planckian Locus](https://en.wikipedia.org/wiki/Planckian_locus) is helpful for validating the `compute_cie()` method.  The Planckian Locus forms a path of colors (and corresponding CIE coordinates) that an ideal Blackbody emitter would have as a function of temperature.  There is also a simple approximation for the Planckian Locus as a function of temperature (see the cubic equation under the **Approximation** heading in the Wikipeadia Page linked above).  The following blocks of code will import the WPTherml package, create an instance of an incandescent emitter (in this case, a simple Tungsten slab), then compute the thermal emission spectrum of this slab, along with the thermal emission of an ideal blackbody, at a range of temperatures and compare the path of CIE $x$ and $y$ coordinates with those that lie along the Planckian locus.  The CIE coordinates of the Tungsten emitter should be close, though not necessarily on the Planckian locus, while the Blackbody values should exactly match (to within numerical roundoff error) the Planckian locus if our `compute_cie()` method is working properly."
   ]
  },
  {
   "cell_type": "code",
   "execution_count": null,
   "id": "5157dbb8",
   "metadata": {},
   "outputs": [],
   "source": [
    "import wptherml\n",
    "from matplotlib import pyplot as plt\n",
    "import numpy as np\n",
    "\n",
    "# create a tungsten incandescent object at 1700 K\n",
    "tungsten_values = {\n",
    "    \"wavelength_list\": [300e-9, 6000e-9, 2000],\n",
    "    \"Material_List\": [\"Air\",  \"W\", \"Air\"],\n",
    "    \"Thickness_List\": [0, 900e-9, 0],\n",
    "    \"temperature\": 1700,\n",
    "    \"therml\": True\n",
    "}\n",
    "\n",
    "\n",
    "sf = wptherml.SpectrumFactory()\n",
    "w = sf.spectrum_factory('Tmm', tungsten_values)\n",
    "\n",
    "\n",
    "plt.plot(w.wavelength_array * 1e9, w.thermal_emission_array, 'red', label=\"W Emission at 1700 K\")\n",
    "plt.plot(w.wavelength_array * 1e9, w.blackbody_spectrum, 'black', label=\"Blackbody emission at 1700 K\")\n",
    "plt.legend()\n",
    "plt.show()"
   ]
  },
  {
   "cell_type": "markdown",
   "id": "06d0df6d",
   "metadata": {},
   "source": [
    "We can use the `compute_cie()` method to compute the CIE values of both the tungsten emitter\n",
    "and the ideal blackbody emitter at 1700 K.  Because we have created this object with the name `w`, we\n",
    "will utilize this method using the \"dot notation\" as follows:\n",
    "\n",
    "`w.compute_cie(w.thermal_emission_array)`\n",
    "\n",
    "`w.compute_cie(w.blackbody_spectrum)`\n",
    "\n",
    "where the first call computes the CIE values of the actual thermal emission spectrum of tungsten at 1700 K, while\n",
    "the second compute the CIE values of the ideal blackbody spectrum at 1700 K.  Both `thermal_emission_array` and \n",
    "`blackbody_spectrum` are attributes of the object named `w`, and `compute_cie` is a method of the object named `w`.  This is a concept in object oriented programming that is a little counterintuitive at first, but some good discription can be found [here](https://livebook.manning.com/concept/python/dot-notation).\n",
    "\n",
    "Note that the `compute_cie()` method returns an array of CIE values (`[x, y, z]`), so the following\n",
    "code block will store the CIE values of the ideal blackbody in an array called `bb_cie` and\n",
    "the CIE values of tungsten in array called `w_cie`."
   ]
  },
  {
   "cell_type": "code",
   "execution_count": null,
   "id": "bbaffc3a",
   "metadata": {},
   "outputs": [],
   "source": [
    "bb_cie = w.compute_cie(w.blackbody_spectrum)\n",
    "w_cie = w.compute_cie(w.thermal_emission_array)"
   ]
  },
  {
   "cell_type": "markdown",
   "id": "49c9919e",
   "metadata": {},
   "source": [
    "Let's print these arrays to see how similar/different they are from each other.  We expect they will\n",
    "be similar, though not identical.  Remember incandescent bulbs use tungsten filaments, so we do expect\n",
    "thermal emission to be similar to a blackbody source."
   ]
  },
  {
   "cell_type": "code",
   "execution_count": null,
   "id": "dbbef3ff",
   "metadata": {},
   "outputs": [],
   "source": [
    "print(F'CIE Coordinates for W at 1700 K:                  {w_cie}')\n",
    "print(F'CIE Coordinates for an ideal blackbody at 1700 K: {bb_cie}')"
   ]
  },
  {
   "cell_type": "markdown",
   "id": "12f1f28e",
   "metadata": {},
   "source": [
    "Now we can compare the numerically computed values to the Planckian locus.  WPTherml has a built-in function\n",
    "called `compute_planckian_locus()` that will compute the CIE coordinates on the Planckian locus utilizing the value of the temperature attribute of your class instance.  Again working with the class instance called `w`, we can use this function using the dot notation (`w.compute_planckian_locus()` and the relevant temperature value will be the temperature attribute of\n",
    "the `w` class (`w.temperature` which we set to 1700 K in the first block).  \n",
    "    \n"
   ]
  },
  {
   "cell_type": "code",
   "execution_count": null,
   "id": "68f0d166",
   "metadata": {},
   "outputs": [],
   "source": [
    "planck_cie = w.compute_planckian_locus()"
   ]
  },
  {
   "cell_type": "code",
   "execution_count": null,
   "id": "aff46139",
   "metadata": {},
   "outputs": [],
   "source": [
    "print(F'CIE Coordinates for an ideal blackbody at 1700 K: {planck_cie}')"
   ]
  },
  {
   "cell_type": "markdown",
   "id": "d090fe9b",
   "metadata": {},
   "source": [
    "We can visually inspect that all values from the Planckian locus are close to the values we computed\n",
    "numerically from the Blackbody spectrum.  However, we can also have the computer make this check for us.  \n",
    "There are a number of ways to do this, but one important method is to utilize an `assert` statement followed by a numerical comparison operation.  A powerful set of numerical comparison tools are provided by the numpy library,\n",
    "with one example being `isclose(value1, value2, threshold)` for when you want to compare two scalar values and\n",
    "see if they agree to within some numerical threshold, and another being `allclose(array1, array2, threshold)` for\n",
    "when you want to see if the values of one array match the corresponding values of another array to within a numerical threshold.  This second is most appropriate here because we have two arrays of CIE values (one computed numerically, one computed from the Planckian locus), and we want to compare the values of these arrays."
   ]
  },
  {
   "cell_type": "code",
   "execution_count": null,
   "id": "3f432067",
   "metadata": {},
   "outputs": [],
   "source": [
    "assert np.allclose(planck_cie, bb_cie, 5e-3)"
   ]
  },
  {
   "cell_type": "markdown",
   "id": "cc54ebaf",
   "metadata": {},
   "source": [
    "Finally, let's visualize the Planckian locus as obtained from the `compute_planckian_locus()` function (which should be basically exact) with the locus as obtained by calling `compute_cie(w.blackbody_spectrum)`\n",
    "and `compute_cie(w.thermal_emission_array)`at a series of temperatures ranging from 1700 - 4000 K.  Hopefully the blackbody curve should be virtually indiscernible from the exact Planckian locus, and the W should look close but distinct.  These loci are typically plotted as a series of $x$ and $y$ values vs temperature, so that is what we will do."
   ]
  },
  {
   "cell_type": "code",
   "execution_count": null,
   "id": "a374f95e",
   "metadata": {},
   "outputs": [],
   "source": [
    "# Let's test our CIE calculator against the Planckian locus calculation\n",
    "T_list = np.linspace(1700, 4000, 30)\n",
    "\n",
    "# array to hold x-values of the Planckian locus, the blackbody, and the W emission for each temperature\n",
    "planck_x = []\n",
    "bb_x = []\n",
    "w_x = []\n",
    "\n",
    "# array to hold x-values of the Planckian locus, the blackbody, and the W emission for each temperature\n",
    "planck_y = []\n",
    "bb_y = []\n",
    "w_y = []\n",
    "\n",
    "for temp in T_list:\n",
    "    # update the temperature attribute with the current value of temp\n",
    "    w.temperature = temp\n",
    "    \n",
    "    # get Planckian locus at this temperature, store to planck_x and planck_y arrays \n",
    "    temp_cie = w.compute_planckian_locus()\n",
    "    planck_x.append(temp_cie[0])\n",
    "    planck_y.append(temp_cie[1])\n",
    "    \n",
    "    # numerically get blackbody locus at this temperature... need to update blackbody curve first\n",
    "    w._compute_therml_spectrum(w.wavelength_array, w.emissivity_array)\n",
    "    temp_cie = w.compute_cie(w.blackbody_spectrum)\n",
    "    bb_x.append(temp_cie[0])\n",
    "    bb_y.append(temp_cie[1])\n",
    "    \n",
    "    # get W emitter locus at this temperature, its thermal emission was updated when _compute_therml_spectrum\n",
    "    # was called above\n",
    "    temp_cie = w.compute_cie(w.thermal_emission_array)\n",
    "    w_x.append(temp_cie[0])\n",
    "    w_y.append(temp_cie[1])\n",
    "\n",
    "    \n",
    "\n",
    "plt.plot(planck_x, planck_y, 'b--', label='Exact Planckian Locus')\n",
    "plt.plot(bb_x, bb_y, 'ro', label='Numerical Blackbody Locus')\n",
    "plt.plot(w_x, w_y, 'g*', label='Numerical Tungsten Locus')\n",
    "plt.xlabel(\"CIE x Value\")\n",
    "plt.ylabel(\"CIE y Value\")\n",
    "plt.legend()\n",
    "plt.show()\n"
   ]
  }
 ],
 "metadata": {
  "kernelspec": {
   "display_name": "Python 3 (ipykernel)",
   "language": "python",
   "name": "python3"
  },
  "language_info": {
   "codemirror_mode": {
    "name": "ipython",
    "version": 3
   },
   "file_extension": ".py",
   "mimetype": "text/x-python",
   "name": "python",
   "nbconvert_exporter": "python",
   "pygments_lexer": "ipython3",
   "version": "3.8.13"
  }
 },
 "nbformat": 4,
 "nbformat_minor": 5
}
