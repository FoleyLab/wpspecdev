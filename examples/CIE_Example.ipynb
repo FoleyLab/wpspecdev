{
 "cells": [
  {
   "cell_type": "markdown",
   "id": "bedd0aff",
   "metadata": {},
   "source": [
    "# Computing CIE Coordinates from Spectra\n",
    "(short video demo [here](https://youtu.be/ZRFJSZF6mr0))\n",
    "\n",
    "This notebook will demonstrate the use of the WPTherml package to compute the CIE coordinates from a \n",
    "spectrum.  The general idea is described concisely in [this page](http://www.brucelindbloom.com/index.html?Eqn_Spect_to_XYZ.html).  Given an emission spectrum $I_e(\\lambda)$ the raw CIE coordinates ($X, Y,$ and $Z$) can be computed as \n",
    "\n",
    "\\begin{align}\n",
    "X = \\int_{\\lambda_1}^{\\lambda_2}  I_e(\\lambda) \\bar{x}(\\lambda) d\\lambda \\\\\n",
    "Y = \\int_{\\lambda_1}^{\\lambda_2}  I_e(\\lambda) \\bar{y}(\\lambda) d\\lambda \\\\\n",
    "Z = \\int_{\\lambda_1}^{\\lambda_2} I_e(\\lambda) \\bar{z}(\\lambda) d\\lambda\n",
    "\\end{align}\n",
    "where $\\bar{x}(\\lambda), \\bar{y}(\\lambda), \\bar{z}(\\lambda)$ are the CIE observer functions that encode the response of the color cones of the human eye.  We data from discrete samples of these observer functions\n",
    "stored in [this file](https://github.com/FoleyLab/wptherml/blob/main/wptherml/data/cie_cmf.txt).  *Note: We need\n",
    "to identify the source of this data!*\n",
    "\n",
    "We are interested in noramalized CIE values, so we define a normalization constant from the raw CIE values,\n",
    "$$ N = X + Y + Z, $$\n",
    "and report normalized coordinates as follows:\n",
    "\n",
    "\\begin{align}\n",
    "x = \\frac{X}{N} \\\\\n",
    "y = \\frac{Y}{N} \\\\\n",
    "z = \\frac{Z}{N}.\n",
    "\\end{align}\n",
    "\n",
    "With discretized samples of the emission spectra and the CIE observer functions, we can compute \n",
    "CIE coordinates through numerical integration, for example using the trapezoid rule.\n",
    "\n",
    "WPTherml has a built-in method called `compute_cie(spectrum)` for performing the integrals shown above with the correct discretized\n",
    "samples of CIE observer functions and the spectrum stored in an array called `spectrum`.  After \n",
    "reading in an emission spectrum of interest from a data file, we can deploy this `compute_cie()` method\n",
    "to compute the CIE coordinates of this spectrum.\n",
    "\n",
    "### Validating the CIE Coordinate Computation\n",
    "The concept of a [Planckian Locus](https://en.wikipedia.org/wiki/Planckian_locus) is helpful for validating the `compute_cie()` method.  The Planckian Locus forms a path of colors (and corresponding CIE coordinates) that an ideal Blackbody emitter would have as a function of temperature.  There is also a simple approximation for the Planckian Locus as a function of temperature (see the cubic equation under the **Approximation** heading in the Wikipeadia Page linked above).  The following blocks of code will import the WPTherml package, create an instance of an incandescent emitter (in this case, a simple Tungsten slab), then compute the thermal emission spectrum of this slab, along with the thermal emission of an ideal blackbody, at a range of temperatures and compare the path of CIE $x$ and $y$ coordinates with those that lie along the Planckian locus.  The CIE coordinates of the Tungsten emitter should be close, though not necessarily on the Planckian locus, while the Blackbody values should exactly match (to within numerical roundoff error) the Planckian locus if our `compute_cie()` method is working properly."
   ]
  },
  {
   "cell_type": "code",
   "execution_count": 57,
   "id": "5157dbb8",
   "metadata": {},
   "outputs": [
    {
     "name": "stdout",
     "output_type": "stream",
     "text": [
      " Your spectra have been computed! 😎 \n",
      " Your therml spectra have been computed! 🔥 \n"
     ]
    },
    {
     "data": {
      "image/png": "[encoded data removed]",
      "text/plain": [
       "<Figure size 432x288 with 1 Axes>"
      ]
     },
     "metadata": {
      "needs_background": "light"
     },
     "output_type": "display_data"
    }
   ],
   "source": [
    "import wptherml\n",
    "from matplotlib import pyplot as plt\n",
    "import numpy as np\n",
    "\n",
    "# create a tungsten incandescent object at 1700 K\n",
    "tungsten_values = {\n",
    "    \"wavelength_list\": [400e-9, 700e-9, 200],\n",
    "    \"Material_List\": [\"Air\",  \"W\", \"Air\"],\n",
    "    \"Thickness_List\": [0, 900e-9, 0],\n",
    "    \"temperature\": 1700,\n",
    "    \"therml\": True\n",
    "}\n",
    "\n",
    "\n",
    "sf = wptherml.SpectrumFactory()\n",
    "w = sf.spectrum_factory('Tmm', tungsten_values)\n",
    "\n",
    "\n",
    "plt.plot(w.wavelength_array * 1e9, w.thermal_emission_array, 'red', label=\"W Emission at 1700 K\")\n",
    "plt.plot(w.wavelength_array * 1e9, w.blackbody_spectrum, 'black', label=\"Blackbody emission at 1700 K\")\n",
    "plt.legend()\n",
    "plt.show()"
   ]
  },
  {
   "cell_type": "markdown",
   "id": "06d0df6d",
   "metadata": {},
   "source": [
    "We can use the `compute_cie()` method to compute the CIE values of both the tungsten emitter\n",
    "and the ideal blackbody emitter at 1700 K.  Because we have created this object with the name `w`, we\n",
    "will utilize this method using the \"dot notation\" as follows:\n",
    "\n",
    "`w.compute_cie(w.thermal_emission_array)`\n",
    "\n",
    "`w.compute_cie(w.blackbody_spectrum)`\n",
    "\n",
    "where the first call computes the CIE values of the actual thermal emission spectrum of tungsten at 1700 K, while\n",
    "the second compute the CIE values of the ideal blackbody spectrum at 1700 K.  Both `thermal_emission_array` and \n",
    "`blackbody_spectrum` are attributes of the object named `w`, and `compute_cie` is a method of the object named `w`.  This is a concept in object oriented programming that is a little counterintuitive at first, but some good discription can be found [here](https://livebook.manning.com/concept/python/dot-notation).\n",
    "\n",
    "Note that the `compute_cie()` method returns an array of CIE values (`[x, y, z]`), so the following\n",
    "code block will store the CIE values of the ideal blackbody in an array called `bb_cie` and\n",
    "the CIE values of tungsten in array called `w_cie`."
   ]
  },
  {
   "cell_type": "code",
   "execution_count": 58,
   "id": "bbaffc3a",
   "metadata": {},
   "outputs": [],
   "source": [
    "bb_cie = w.compute_cie(w.blackbody_spectrum)\n",
    "w_cie = w.compute_cie(w.thermal_emission_array)"
   ]
  },
  {
   "cell_type": "markdown",
   "id": "49c9919e",
   "metadata": {},
   "source": [
    "Let's print these arrays to see how similar/different they are from each other.  We expect they will\n",
    "be similar, though not identical.  Remember incandescent bulbs use tungsten filaments, so we do expect\n",
    "thermal emission to be similar to a blackbody source."
   ]
  },
  {
   "cell_type": "code",
   "execution_count": 59,
   "id": "dbbef3ff",
   "metadata": {},
   "outputs": [
    {
     "name": "stdout",
     "output_type": "stream",
     "text": [
      "CIE Coordinates for W at 1700 K:                  [0.5567357482651879, 0.4062569179395491, 0.037007333795263025]\n",
      "CIE Coordinates for an ideal blackbody at 1700 K: [0.5600855610920833, 0.40505713590886977, 0.03485730299904705]\n"
     ]
    }
   ],
   "source": [
    "print(F'CIE Coordinates for W at 1700 K:                  {w_cie}')\n",
    "print(F'CIE Coordinates for an ideal blackbody at 1700 K: {bb_cie}')"
   ]
  },
  {
   "cell_type": "markdown",
   "id": "12f1f28e",
   "metadata": {},
   "source": [
    "Now we can compare the numerically computed values to the Planckian locus.  WPTherml has a built-in function\n",
    "called `compute_planckian_locus()` that will compute the CIE coordinates on the Planckian locus utilizing the value of the temperature attribute of your class instance.  Again working with the class instance called `w`, we can use this function using the dot notation (`w.compute_planckian_locus()` and the relevant temperature value will be the temperature attribute of\n",
    "the `w` class (`w.temperature` which we set to 1700 K in the first block).  \n",
    "    \n"
   ]
  },
  {
   "cell_type": "code",
   "execution_count": 60,
   "id": "68f0d166",
   "metadata": {},
   "outputs": [],
   "source": [
    "planck_cie = w.compute_planckian_locus()"
   ]
  },
  {
   "cell_type": "code",
   "execution_count": 61,
   "id": "aff46139",
   "metadata": {},
   "outputs": [
    {
     "name": "stdout",
     "output_type": "stream",
     "text": [
      "CIE Coordinates for an ideal blackbody at 1700 K: [0.5609411935680847, 0.4043036207558297, 0.0347551856760856]\n"
     ]
    }
   ],
   "source": [
    "print(F'CIE Coordinates for an ideal blackbody at 1700 K: {planck_cie}')"
   ]
  },
  {
   "cell_type": "markdown",
   "id": "d090fe9b",
   "metadata": {},
   "source": [
    "We can visually inspect that all values from the Planckian locus are close to the values we computed\n",
    "numerically from the Blackbody spectrum.  However, we can also have the computer make this check for us.  \n",
    "There are a number of ways to do this, but one important method is to utilize an `assert` statement followed by a numerical comparison operation.  A powerful set of numerical comparison tools are provided by the numpy library,\n",
    "with one example being `isclose(value1, value2, threshold)` for when you want to compare two scalar values and\n",
    "see if they agree to within some numerical threshold, and another being `allclose(array1, array2, threshold)` for\n",
    "when you want to see if the values of one array match the corresponding values of another array to within a numerical threshold.  This second is most appropriate here because we have two arrays of CIE values (one computed numerically, one computed from the Planckian locus), and we want to compare the values of these arrays."
   ]
  },
  {
   "cell_type": "code",
   "execution_count": 62,
   "id": "3f432067",
   "metadata": {},
   "outputs": [],
   "source": [
    "assert np.allclose(planck_cie, bb_cie, 5e-3)"
   ]
  },
  {
   "cell_type": "markdown",
   "id": "cc54ebaf",
   "metadata": {},
   "source": [
    "Finally, let's visualize the Planckian locus as obtained from the `compute_planckian_locus()` function (which should be basically exact) with the locus as obtained by calling `compute_cie(w.blackbody_spectrum)`\n",
    "and `compute_cie(w.thermal_emission_array)`at a series of temperatures ranging from 1700 - 4000 K.  Hopefully the blackbody curve should be virtually indiscernible from the exact Planckian locus, and the W should look close but distinct.  These loci are typically plotted as a series of $x$ and $y$ values vs temperature, so that is what we will do."
   ]
  },
  {
   "cell_type": "code",
   "execution_count": 63,
   "id": "a374f95e",
   "metadata": {},
   "outputs": [
    {
     "data": {
      "image/png": "[encoded data removed]",
      "text/plain": [
       "<Figure size 432x288 with 1 Axes>"
      ]
     },
     "metadata": {
      "needs_background": "light"
     },
     "output_type": "display_data"
    }
   ],
   "source": [
    "# Let's test our CIE calculator against the Planckian locus calculation\n",
    "T_list = np.linspace(1700, 4000, 30)\n",
    "\n",
    "# array to hold x-values of the Planckian locus, the blackbody, and the W emission for each temperature\n",
    "planck_x = []\n",
    "bb_x = []\n",
    "w_x = []\n",
    "\n",
    "# array to hold x-values of the Planckian locus, the blackbody, and the W emission for each temperature\n",
    "planck_y = []\n",
    "bb_y = []\n",
    "w_y = []\n",
    "\n",
    "for temp in T_list:\n",
    "    # update the temperature attribute with the current value of temp\n",
    "    w.temperature = temp\n",
    "    \n",
    "    # get Planckian locus at this temperature, store to planck_x and planck_y arrays \n",
    "    temp_cie = w.compute_planckian_locus()\n",
    "    planck_x.append(temp_cie[0])\n",
    "    planck_y.append(temp_cie[1])\n",
    "    \n",
    "    # numerically get blackbody locus at this temperature... need to update blackbody curve first\n",
    "    w._compute_therml_spectrum(w.wavelength_array, w.emissivity_array)\n",
    "    temp_cie = w.compute_cie(w.blackbody_spectrum)\n",
    "    bb_x.append(temp_cie[0])\n",
    "    bb_y.append(temp_cie[1])\n",
    "    \n",
    "    # get W emitter locus at this temperature, its thermal emission was updated when _compute_therml_spectrum\n",
    "    # was called above\n",
    "    temp_cie = w.compute_cie(w.thermal_emission_array)\n",
    "    w_x.append(temp_cie[0])\n",
    "    w_y.append(temp_cie[1])\n",
    "\n",
    "    \n",
    "\n",
    "plt.plot(planck_x, planck_y, 'b--', label='Exact Planckian Locus')\n",
    "plt.plot(bb_x, bb_y, 'ro', label='Numerical Blackbody Locus')\n",
    "plt.plot(w_x, w_y, 'g*', label='Numerical Tungsten Locus')\n",
    "plt.xlabel(\"CIE x Value\")\n",
    "plt.ylabel(\"CIE y Value\")\n",
    "plt.legend()\n",
    "plt.show()\n"
   ]
  },
  {
   "cell_type": "markdown",
   "id": "717d58b1",
   "metadata": {},
   "source": [
    "# Items to-do:\n",
    "\n",
    "1. Need to write a block that parses spectra files that Abhishek provides and stores these results to a wavelength array and an emission spectrum array.  \n",
    "- These data are in a folder called `Meth_and_Butoxy_TTz` and have file extensions `.txt`.  I think we can use the glob library for this!\n",
    "\n",
    "2. Make sure spectral data from Abhishek's file and the CIE observer functions are on the same wavelength grid... think about ways to do this that are elegant / robust\n",
    "- The data are on a wavelength grid from 400-790 nm.  We can fit a spline to this data using scipy's interpolation capabilities e.g. \n",
    "`emission_spline = InterpolatedUnivariateSpline(wavelength_data, emission_data, k=1)`\n",
    "\n",
    "\n",
    "3. Feed his spectra to compute_cie(spectra) and store values to return to him\n",
    "\n",
    "### Bonus to-do:\n",
    "\n",
    "1. Can we write a function that takes a few parameters (e.g. peak wavelengths, spectral widths, and peak intensities) for several dyes and approximates the total emission as a sum of gaussians and computes the CIE value from that approximation?"
   ]
  },
  {
   "cell_type": "code",
   "execution_count": 86,
   "id": "b052a36c",
   "metadata": {},
   "outputs": [],
   "source": [
    "import os\n",
    "from scipy import interpolate\n",
    "import glob"
   ]
  },
  {
   "cell_type": "code",
   "execution_count": null,
   "id": "8b793a15",
   "metadata": {},
   "outputs": [],
   "source": []
  },
  {
   "cell_type": "code",
   "execution_count": 88,
   "id": "46d2f4c9",
   "metadata": {},
   "outputs": [
    {
     "name": "stdout",
     "output_type": "stream",
     "text": [
      "['Meth_and_Butoxy_TTz/4.2.txt', 'Meth_and_Butoxy_TTz/6.1.txt', 'Meth_and_Butoxy_TTz/4.3.txt', 'Meth_and_Butoxy_TTz/4.1.txt', 'Meth_and_Butoxy_TTz/6.3.txt', 'Meth_and_Butoxy_TTz/6.2.txt', 'Meth_and_Butoxy_TTz/2.2.txt', 'Meth_and_Butoxy_TTz/2.3.txt', 'Meth_and_Butoxy_TTz/2.1.txt', 'Meth_and_Butoxy_TTz/7.3.txt', 'Meth_and_Butoxy_TTz/5.1.txt', 'Meth_and_Butoxy_TTz/7.2.txt', 'Meth_and_Butoxy_TTz/5.2.txt', 'Meth_and_Butoxy_TTz/5.3.txt', 'Meth_and_Butoxy_TTz/7.1.txt', 'Meth_and_Butoxy_TTz/3.1.txt', 'Meth_and_Butoxy_TTz/1.3.txt', 'Meth_and_Butoxy_TTz/1.2.txt', 'Meth_and_Butoxy_TTz/3.2.txt', 'Meth_and_Butoxy_TTz/1.1.txt', 'Meth_and_Butoxy_TTz/3.3.txt', 'Meth_and_Butoxy_TTz/11.3.txt', 'Meth_and_Butoxy_TTz/11.2.txt', 'Meth_and_Butoxy_TTz/11.1.txt', 'Meth_and_Butoxy_TTz/9.3.txt', 'Meth_and_Butoxy_TTz/9.2.txt', 'Meth_and_Butoxy_TTz/9.1.txt', 'Meth_and_Butoxy_TTz/10.1.txt', 'Meth_and_Butoxy_TTz/10.3.txt', 'Meth_and_Butoxy_TTz/10.2.txt', 'Meth_and_Butoxy_TTz/8.1.txt', 'Meth_and_Butoxy_TTz/8.3.txt', 'Meth_and_Butoxy_TTz/8.2.txt']\n"
     ]
    }
   ],
   "source": [
    "file_location = os.path.join('Meth_and_Butoxy_TTz','*.txt')\n",
    "filenames = glob.glob(file_location)\n",
    "print(filenames)"
   ]
  },
  {
   "cell_type": "code",
   "execution_count": 89,
   "id": "3185c10d",
   "metadata": {},
   "outputs": [
    {
     "name": "stdout",
     "output_type": "stream",
     "text": [
      "cie for file Meth_and_Butoxy_TTz/4.2.txt is [0.2376624562792153, 0.26428103133240893, 0.4980565123883757]\n",
      "cie for file Meth_and_Butoxy_TTz/6.1.txt is [0.1843644027307847, 0.18990891565547152, 0.6257266816137438]\n",
      "cie for file Meth_and_Butoxy_TTz/4.3.txt is [0.21462838170558254, 0.24162551834020488, 0.5437460999542126]\n",
      "cie for file Meth_and_Butoxy_TTz/4.1.txt is [0.21965342704682286, 0.23303945573895693, 0.5473071172142202]\n",
      "cie for file Meth_and_Butoxy_TTz/6.3.txt is [0.1832648942595531, 0.1896346940991123, 0.6271004116413347]\n",
      "cie for file Meth_and_Butoxy_TTz/6.2.txt is [0.18391588030623102, 0.19053152986459568, 0.6255525898291733]\n",
      "cie for file Meth_and_Butoxy_TTz/2.2.txt is [0.37289520272863225, 0.42387606094673796, 0.20322873632462984]\n",
      "cie for file Meth_and_Butoxy_TTz/2.3.txt is [0.3708359654800134, 0.42738276672322967, 0.2017812677967569]\n",
      "cie for file Meth_and_Butoxy_TTz/2.1.txt is [0.36845249732223373, 0.42620482507908974, 0.2053426775986765]\n",
      "cie for file Meth_and_Butoxy_TTz/7.3.txt is [0.17811217611837069, 0.19407825453905256, 0.6278095693425768]\n",
      "cie for file Meth_and_Butoxy_TTz/5.1.txt is [0.190305991044037, 0.1966850220478991, 0.6130089869080639]\n",
      "cie for file Meth_and_Butoxy_TTz/7.2.txt is [0.18134992394052243, 0.19449835915974825, 0.6241517168997291]\n",
      "cie for file Meth_and_Butoxy_TTz/5.2.txt is [0.19186844821671334, 0.19918352297941874, 0.6089480288038679]\n",
      "cie for file Meth_and_Butoxy_TTz/5.3.txt is [0.19172113804228666, 0.20173929277574315, 0.6065395691819703]\n",
      "cie for file Meth_and_Butoxy_TTz/7.1.txt is [0.17908327966489399, 0.19289506925584712, 0.628021651079259]\n",
      "cie for file Meth_and_Butoxy_TTz/3.1.txt is [0.29638444631058547, 0.3397604746235261, 0.36385507906588843]\n",
      "cie for file Meth_and_Butoxy_TTz/1.3.txt is [0.38765294793108723, 0.4358806035232374, 0.17646644854567542]\n",
      "cie for file Meth_and_Butoxy_TTz/1.2.txt is [0.39458948629202734, 0.4435930650163875, 0.16181744869158518]\n",
      "cie for file Meth_and_Butoxy_TTz/3.2.txt is [0.26260388402958146, 0.2989146171407987, 0.43848149882961984]\n",
      "cie for file Meth_and_Butoxy_TTz/1.1.txt is [0.3937901234204826, 0.44235503852292124, 0.16385483805659623]\n",
      "cie for file Meth_and_Butoxy_TTz/3.3.txt is [0.25580985943927104, 0.2850116477785543, 0.4591784927821746]\n",
      "cie for file Meth_and_Butoxy_TTz/11.3.txt is [0.159450452090115, 0.16590045531755984, 0.6746490925923252]\n",
      "cie for file Meth_and_Butoxy_TTz/11.2.txt is [0.15922976823225787, 0.16249691678070383, 0.6782733149870384]\n",
      "cie for file Meth_and_Butoxy_TTz/11.1.txt is [0.15935959115952603, 0.16016270816602066, 0.6804777006744533]\n",
      "cie for file Meth_and_Butoxy_TTz/9.3.txt is [0.1794045315841297, 0.21495368258919467, 0.6056417858266757]\n",
      "cie for file Meth_and_Butoxy_TTz/9.2.txt is [0.1801028788657044, 0.2166012558293067, 0.6032958653049889]\n",
      "cie for file Meth_and_Butoxy_TTz/9.1.txt is [0.17929291847152232, 0.2160159286255461, 0.6046911529029315]\n",
      "cie for file Meth_and_Butoxy_TTz/10.1.txt is [0.1847845624591943, 0.2387492034532581, 0.5764662340875475]\n",
      "cie for file Meth_and_Butoxy_TTz/10.3.txt is [0.18059857453573444, 0.22384238744744103, 0.5955590380168245]\n",
      "cie for file Meth_and_Butoxy_TTz/10.2.txt is [0.17566860945149146, 0.21044191587046024, 0.6138894746780482]\n",
      "cie for file Meth_and_Butoxy_TTz/8.1.txt is [0.17486109532074098, 0.1890258531212124, 0.6361130515580466]\n",
      "cie for file Meth_and_Butoxy_TTz/8.3.txt is [0.17314815230509203, 0.1864857586979302, 0.6403660889969779]\n",
      "cie for file Meth_and_Butoxy_TTz/8.2.txt is [0.17562048643269382, 0.19293352935258903, 0.6314459842147172]\n"
     ]
    }
   ],
   "source": [
    "for file in filenames:\n",
    "    data = np.loadtxt(file)\n",
    "    emission_spline = interpolate.interp1d(data[:,0], data[:,1])\n",
    "    emission_prediction = emission_spline(w.wavelength_array * 1e9)   \n",
    "    cie = w.compute_cie(emission_prediction)\n",
    "    print(F\"cie for file {file} is {cie}\")\n",
    "# data[:,0] -> wavelengths in nm\n",
    "# data[:,1] -> emission intensity\n",
    "#print(data)"
   ]
  },
  {
   "cell_type": "code",
   "execution_count": 82,
   "id": "19fab014",
   "metadata": {},
   "outputs": [],
   "source": []
  },
  {
   "cell_type": "code",
   "execution_count": 83,
   "id": "28986842",
   "metadata": {},
   "outputs": [
    {
     "data": {
      "image/png": "[encoded data removed]",
      "text/plain": [
       "<Figure size 432x288 with 1 Axes>"
      ]
     },
     "metadata": {
      "needs_background": "light"
     },
     "output_type": "display_data"
    }
   ],
   "source": [
    "plt.plot(data[:,0], data[:,1], label=\"Abhishek's Emission\")\n",
    "plt.plot(w.wavelength_array * 1e9, emission_prediction, label=\"prediction\")\n",
    "plt.legend()\n",
    "plt.show()"
   ]
  },
  {
   "cell_type": "code",
   "execution_count": 84,
   "id": "0da3146d",
   "metadata": {},
   "outputs": [],
   "source": [
    "abhishek_cie_51 = w.compute_cie(emission_prediction)"
   ]
  },
  {
   "cell_type": "code",
   "execution_count": 85,
   "id": "789148e6",
   "metadata": {},
   "outputs": [
    {
     "name": "stdout",
     "output_type": "stream",
     "text": [
      "[0.190305991044037, 0.1966850220478991, 0.6130089869080639]\n"
     ]
    }
   ],
   "source": [
    "print(abhishek_cie_51)"
   ]
  },
  {
   "cell_type": "code",
   "execution_count": null,
   "id": "55dc35b2",
   "metadata": {},
   "outputs": [],
   "source": []
  }
 ],
 "metadata": {
  "kernelspec": {
   "display_name": "Python 3 (ipykernel)",
   "language": "python",
   "name": "python3"
  },
  "language_info": {
   "codemirror_mode": {
    "name": "ipython",
    "version": 3
   },
   "file_extension": ".py",
   "mimetype": "text/x-python",
   "name": "python",
   "nbconvert_exporter": "python",
   "pygments_lexer": "ipython3",
   "version": "3.9.12"
  }
 },
 "nbformat": 4,
 "nbformat_minor": 5
}
