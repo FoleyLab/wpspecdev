{
 "cells": [
  {
   "cell_type": "code",
   "execution_count": 8,
   "metadata": {},
   "outputs": [],
   "source": [
    "from wptherml.wpml import multilayer\n",
    "from matplotlib import pyplot as plt\n",
    "import numpy as np\n"
   ]
  },
  {
   "cell_type": "code",
   "execution_count": 14,
   "metadata": {},
   "outputs": [
    {
     "name": "stdout",
     "output_type": "stream",
     "text": [
      "  Gradient will be taken with respect to all layers! \n",
      " Temperature not specified!\n",
      " Proceeding with default T = 300 K\n",
      "break\n",
      "\n",
      "\n",
      "\n",
      "\n",
      "\n",
      "\n",
      "\n",
      "[0.28365834 0.28574605 0.28801178]\n",
      "[0.37124197 0.37053201 0.36973719]\n",
      "[0.34509969 0.34372194 0.34225103]\n"
     ]
    }
   ],
   "source": [
    "structure = {\n",
    "        ### actual materials the structure is made from... note terminal layers are air and\n",
    "   \t### top-side layer (layer upon which light is incident) is SiO2.\n",
    "        ### Refractive index values are stored in the attribute self.n\n",
    "        'Material_List': [\"Air\", \"TiO2\", \"SiO2\", \"Ag\", \"Au\", \"Pt\", \"AlN\", \"Al2O3\", \"Air\"],\n",
    "        ### thickness of each layer... terminal layers must be set to zero\n",
    "        ### values are stored in attribute self.d\n",
    "        'Thickness_List': [0, 200e-9, 100e-9, 5e-9, 6e-9, 7e-9, 100e-9, 201e-9, 0],\n",
    "         ### range of wavelengths optical properties will be calculated for\n",
    "         ### values are stored in the array self.lam\n",
    "        'Lambda_List': [500e-9, 502e-9, 3]\n",
    "        }\n",
    "\n",
    "### create the instance called coated_au_film\n",
    "test = multilayer(structure)\n",
    "test.layer_static_ri(1,2.47960735+6.15938472e-07j)\n",
    "test.layer_static_ri(2,1.46227852+0.00000000e+00j)\n",
    "test.layer_static_ri(3,0.04997774+3.14242568e+00j)\n",
    "test.layer_static_ri(4,0.94744365+1.87688826e+00j)\n",
    "test.layer_static_ri(5,1.96239071+3.43186847e+00j)\n",
    "test.layer_static_ri(6,2.16736866+0.00000000e+00j)\n",
    "test.layer_static_ri(7,1.73984286+0.00000000e+00j)\n",
    "print(\"break\\n\\n\\n\\n\\n\\n\\n\")\n",
    "\n",
    "test.pol = 'p'\n",
    "test.theta = 55 * np.pi / 180\n",
    "test.fresnel()\n",
    "print(test.reflectivity_array)\n",
    "print(test.transmissivity_array)\n",
    "print(test.emissivity_array)"
   ]
  },
  {
   "cell_type": "code",
   "execution_count": 4,
   "metadata": {},
   "outputs": [
    {
     "name": "stdout",
     "output_type": "stream",
     "text": [
      "[0.0798722  0.00937256 0.14728703 0.0065643  0.11280357 0.11737882\n",
      " 0.00423059 0.05803204 0.14127024 0.12906124]\n"
     ]
    }
   ],
   "source": [
    "print(coated_au_film.reflectivity_array)"
   ]
  },
  {
   "cell_type": "code",
   "execution_count": null,
   "metadata": {},
   "outputs": [],
   "source": []
  }
 ],
 "metadata": {
  "kernelspec": {
   "display_name": "Python 3",
   "language": "python",
   "name": "python3"
  },
  "language_info": {
   "codemirror_mode": {
    "name": "ipython",
    "version": 3
   },
   "file_extension": ".py",
   "mimetype": "text/x-python",
   "name": "python",
   "nbconvert_exporter": "python",
   "pygments_lexer": "ipython3",
   "version": "3.8.5"
  }
 },
 "nbformat": 4,
 "nbformat_minor": 5
}
